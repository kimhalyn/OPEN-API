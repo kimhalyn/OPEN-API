{
  "nbformat": 4,
  "nbformat_minor": 0,
  "metadata": {
    "colab": {
      "name": "hourwal.ipynb",
      "provenance": [],
      "collapsed_sections": [],
      "mount_file_id": "1vrT-QMb3hZ-cwzgRbhMFSYUgkhNm5-om",
      "authorship_tag": "ABX9TyPI9iHju+BDf3xxDKlvL+Dj",
      "include_colab_link": true
    },
    "kernelspec": {
      "name": "python3",
      "display_name": "Python 3"
    },
    "language_info": {
      "name": "python"
    }
  },
  "cells": [
    {
      "cell_type": "markdown",
      "metadata": {
        "id": "view-in-github",
        "colab_type": "text"
      },
      "source": [
        "<a href=\"https://colab.research.google.com/github/kimhalyn/OPEN-API/blob/main/hourwal.ipynb\" target=\"_parent\"><img src=\"https://colab.research.google.com/assets/colab-badge.svg\" alt=\"Open In Colab\"/></a>"
      ]
    },
    {
      "cell_type": "code",
      "metadata": {
        "colab": {
          "base_uri": "https://localhost:8080/"
        },
        "id": "AOjHZTTeoGwb",
        "outputId": "eb7583db-eb8c-4007-a572-a822a1673bf5"
      },
      "source": [
        "# 라이브러리\n",
        "# colab에 xmltodict 라이브러리가 기본 설치되지 않으므로 별도 설치(외부 라이브러리)\n",
        "!pip install xmltodict \n",
        "from urllib.request import urlopen, Request\n",
        "from urllib.parse import urlencode, unquote, quote_plus\n",
        "from bs4 import BeautifulSoup\n",
        "import pandas as pd\n",
        "import requests, xmltodict, json\n",
        "from xml.etree.ElementTree import Element, SubElement, ElementTree\n",
        "import xml.etree.ElementTree as ET\n",
        "import pickle\n",
        "import numpy as np"
      ],
      "execution_count": 2,
      "outputs": [
        {
          "output_type": "stream",
          "name": "stdout",
          "text": [
            "Collecting xmltodict\n",
            "  Downloading xmltodict-0.12.0-py2.py3-none-any.whl (9.2 kB)\n",
            "Installing collected packages: xmltodict\n",
            "Successfully installed xmltodict-0.12.0\n"
          ]
        }
      ]
    },
    {
      "cell_type": "code",
      "metadata": {
        "colab": {
          "base_uri": "https://localhost:8080/"
        },
        "id": "Ic1MXA0oobda",
        "outputId": "51f183f2-4a84-4ccf-fd52-153c7f49cb24"
      },
      "source": [
        "from google.colab import drive\n",
        "drive.mount('/content/drive')"
      ],
      "execution_count": 4,
      "outputs": [
        {
          "output_type": "stream",
          "name": "stdout",
          "text": [
            "Drive already mounted at /content/drive; to attempt to forcibly remount, call drive.mount(\"/content/drive\", force_remount=True).\n"
          ]
        }
      ]
    },
    {
      "cell_type": "code",
      "metadata": {
        "colab": {
          "base_uri": "https://localhost:8080/"
        },
        "id": "G4BF3JXrowHR",
        "outputId": "c9175cf2-a50e-4d3b-c2f8-b7f47c3bb735"
      },
      "source": [
        "import requests, bs4\n",
        "import pandas as pd\n",
        "from lxml import html\n",
        "from urllib.request import Request, urlopen\n",
        "from urllib.parse import urlencode, quote_plus, unquote\n",
        "from time import sleep\n",
        "import csv\n",
        "\n",
        "url = 'http://opendata.kwater.or.kr/openapi-data/service/pubd/dam/excllncobsrvt/hourwal/list' #!!!url 주의\n",
        "key = 'tMF2MGGUmsNNPf15Nr91+UA4YVQiWXVjLS7R0odxGSR0yfNjcHFkdRpCT6hXbILlBP1T+TnDJYz1kkDjiaIiQg=='\n",
        " \n",
        "api_key = requests.utils.unquote(key) #디코딩\n",
        "\n",
        "# 댐코드 및 수위 관측소 코드 불러오기\n",
        "data1 = pd.read_csv('/content/drive/MyDrive/water_resource_csv/walcode.csv') \n",
        "data2 = pd.read_csv('/content/drive/MyDrive/water_resource_csv/walcode.csv') \n",
        "\n",
        "# 댐코드 및 수위 관측소 코드 조회(!!!!코드 열 지정 주의하기)\n",
        "damcode = data1.iloc[0:5, 1] \n",
        "walcode = data2.iloc[0:5, 3]\n",
        "xmlrows = []\n",
        "\n",
        "\n",
        "for code1 in damcode:\n",
        "  for code2 in walcode:\n",
        "\n",
        "    Params = '?' + urlencode({quote_plus('ServiceKey') : api_key,\n",
        "                                  quote_plus('sdate') : \"2020-01-01\",\n",
        "                                  quote_plus('stime') : \"00\",\n",
        "                                  quote_plus('edate') : \"2020-01-01\",\n",
        "                                  quote_plus('etime') : \"24\",\n",
        "                                  quote_plus('damcode') : code1, #댐코드\n",
        "                                  quote_plus('wal') : code2, #수위 관측소 코드\n",
        "                                  quote_plus('numOfRows') : \"800000\",\n",
        "                                  quote_plus('pageNo') : \"1\"})\n",
        "    \n",
        "#  print(Params)\n",
        "  \n",
        "  res = requests.get(url + Params).text.encode('utf-8') # 요청에 대한 응답내용(.encode빼기도 함)\n",
        "  sleep(0.5)\n",
        "  print(res) \n",
        "  \n",
        "  xmlobj = bs4.BeautifulSoup(res, 'lxml') #lxml 파서(구문분석)  'lxml-xml'\n",
        "  print(xmlobj)\n",
        "  \n",
        "  #item 태그 분리\n",
        "  rows = xmlobj.findAll('item') # 매치되는 문자열을 리스트로 리턴\n",
        "  xmlrows.append(rows)\n",
        "\n",
        "print (xmlrows)\n"
      ],
      "execution_count": 5,
      "outputs": [
        {
          "output_type": "stream",
          "name": "stdout",
          "text": [
            "b'<?xml version=\"1.0\" encoding=\"UTF-8\" standalone=\"yes\"?><response><header><resultCode>00</resultCode><resultMsg>NORMAL SERVICE.</resultMsg></header><body><items><item><flux>0</flux><hourwal>0.04</hourwal><no>24</no><obsrdt>2020-01-01 01:00</obsrdt></item><item><flux>0</flux><hourwal>0.04</hourwal><no>23</no><obsrdt>2020-01-01 02:00</obsrdt></item><item><flux>0</flux><hourwal>0.04</hourwal><no>22</no><obsrdt>2020-01-01 03:00</obsrdt></item><item><flux>0</flux><hourwal>0.04</hourwal><no>21</no><obsrdt>2020-01-01 04:00</obsrdt></item><item><flux>0</flux><hourwal>0.2</hourwal><no>20</no><obsrdt>2020-01-01 05:00</obsrdt></item><item><flux>0</flux><hourwal>0.21</hourwal><no>19</no><obsrdt>2020-01-01 06:00</obsrdt></item><item><flux>0</flux><hourwal>0.21</hourwal><no>18</no><obsrdt>2020-01-01 07:00</obsrdt></item><item><flux>0</flux><hourwal>0.21</hourwal><no>17</no><obsrdt>2020-01-01 08:00</obsrdt></item><item><flux>0</flux><hourwal>0.23</hourwal><no>16</no><obsrdt>2020-01-01 09:00</obsrdt></item><item><flux>0</flux><hourwal>0.23</hourwal><no>15</no><obsrdt>2020-01-01 10:00</obsrdt></item><item><flux>0</flux><hourwal>0.22</hourwal><no>14</no><obsrdt>2020-01-01 11:00</obsrdt></item><item><flux>0</flux><hourwal>0.22</hourwal><no>13</no><obsrdt>2020-01-01 12:00</obsrdt></item><item><flux>0</flux><hourwal>0.06</hourwal><no>12</no><obsrdt>2020-01-01 13:00</obsrdt></item><item><flux>0</flux><hourwal>0.06</hourwal><no>11</no><obsrdt>2020-01-01 14:00</obsrdt></item><item><flux>0</flux><hourwal>0.06</hourwal><no>10</no><obsrdt>2020-01-01 15:00</obsrdt></item><item><flux>0</flux><hourwal>0.05</hourwal><no>9</no><obsrdt>2020-01-01 16:00</obsrdt></item><item><flux>0</flux><hourwal>0.05</hourwal><no>8</no><obsrdt>2020-01-01 17:00</obsrdt></item><item><flux>0</flux><hourwal>0.04</hourwal><no>7</no><obsrdt>2020-01-01 18:00</obsrdt></item><item><flux>0</flux><hourwal>0.04</hourwal><no>6</no><obsrdt>2020-01-01 19:00</obsrdt></item><item><flux>0</flux><hourwal>0.04</hourwal><no>5</no><obsrdt>2020-01-01 20:00</obsrdt></item><item><flux>0</flux><hourwal>0.04</hourwal><no>4</no><obsrdt>2020-01-01 21:00</obsrdt></item><item><flux>0</flux><hourwal>0.04</hourwal><no>3</no><obsrdt>2020-01-01 22:00</obsrdt></item><item><flux>0</flux><hourwal>0.03</hourwal><no>2</no><obsrdt>2020-01-01 23:00</obsrdt></item><item><flux>0</flux><hourwal>0.03</hourwal><no>1</no><obsrdt>2020-01-01 24:00</obsrdt></item></items><numOfRows>800000</numOfRows><pageNo>1</pageNo><totalCount>24</totalCount></body></response>'\n",
            "<?xml version=\"1.0\" encoding=\"UTF-8\" standalone=\"yes\"?><html><body><response><header><resultcode>00</resultcode><resultmsg>NORMAL SERVICE.</resultmsg></header><items><item><flux>0</flux><hourwal>0.04</hourwal><no>24</no><obsrdt>2020-01-01 01:00</obsrdt></item><item><flux>0</flux><hourwal>0.04</hourwal><no>23</no><obsrdt>2020-01-01 02:00</obsrdt></item><item><flux>0</flux><hourwal>0.04</hourwal><no>22</no><obsrdt>2020-01-01 03:00</obsrdt></item><item><flux>0</flux><hourwal>0.04</hourwal><no>21</no><obsrdt>2020-01-01 04:00</obsrdt></item><item><flux>0</flux><hourwal>0.2</hourwal><no>20</no><obsrdt>2020-01-01 05:00</obsrdt></item><item><flux>0</flux><hourwal>0.21</hourwal><no>19</no><obsrdt>2020-01-01 06:00</obsrdt></item><item><flux>0</flux><hourwal>0.21</hourwal><no>18</no><obsrdt>2020-01-01 07:00</obsrdt></item><item><flux>0</flux><hourwal>0.21</hourwal><no>17</no><obsrdt>2020-01-01 08:00</obsrdt></item><item><flux>0</flux><hourwal>0.23</hourwal><no>16</no><obsrdt>2020-01-01 09:00</obsrdt></item><item><flux>0</flux><hourwal>0.23</hourwal><no>15</no><obsrdt>2020-01-01 10:00</obsrdt></item><item><flux>0</flux><hourwal>0.22</hourwal><no>14</no><obsrdt>2020-01-01 11:00</obsrdt></item><item><flux>0</flux><hourwal>0.22</hourwal><no>13</no><obsrdt>2020-01-01 12:00</obsrdt></item><item><flux>0</flux><hourwal>0.06</hourwal><no>12</no><obsrdt>2020-01-01 13:00</obsrdt></item><item><flux>0</flux><hourwal>0.06</hourwal><no>11</no><obsrdt>2020-01-01 14:00</obsrdt></item><item><flux>0</flux><hourwal>0.06</hourwal><no>10</no><obsrdt>2020-01-01 15:00</obsrdt></item><item><flux>0</flux><hourwal>0.05</hourwal><no>9</no><obsrdt>2020-01-01 16:00</obsrdt></item><item><flux>0</flux><hourwal>0.05</hourwal><no>8</no><obsrdt>2020-01-01 17:00</obsrdt></item><item><flux>0</flux><hourwal>0.04</hourwal><no>7</no><obsrdt>2020-01-01 18:00</obsrdt></item><item><flux>0</flux><hourwal>0.04</hourwal><no>6</no><obsrdt>2020-01-01 19:00</obsrdt></item><item><flux>0</flux><hourwal>0.04</hourwal><no>5</no><obsrdt>2020-01-01 20:00</obsrdt></item><item><flux>0</flux><hourwal>0.04</hourwal><no>4</no><obsrdt>2020-01-01 21:00</obsrdt></item><item><flux>0</flux><hourwal>0.04</hourwal><no>3</no><obsrdt>2020-01-01 22:00</obsrdt></item><item><flux>0</flux><hourwal>0.03</hourwal><no>2</no><obsrdt>2020-01-01 23:00</obsrdt></item><item><flux>0</flux><hourwal>0.03</hourwal><no>1</no><obsrdt>2020-01-01 24:00</obsrdt></item></items><numofrows>800000</numofrows><pageno>1</pageno><totalcount>24</totalcount></response></body></html>\n",
            "b'<?xml version=\"1.0\" encoding=\"UTF-8\" standalone=\"yes\"?><response><header><resultCode>00</resultCode><resultMsg>NORMAL SERVICE.</resultMsg></header><body><items><item><flux>0</flux><hourwal>0.04</hourwal><no>24</no><obsrdt>2020-01-01 01:00</obsrdt></item><item><flux>0</flux><hourwal>0.04</hourwal><no>23</no><obsrdt>2020-01-01 02:00</obsrdt></item><item><flux>0</flux><hourwal>0.04</hourwal><no>22</no><obsrdt>2020-01-01 03:00</obsrdt></item><item><flux>0</flux><hourwal>0.04</hourwal><no>21</no><obsrdt>2020-01-01 04:00</obsrdt></item><item><flux>0</flux><hourwal>0.2</hourwal><no>20</no><obsrdt>2020-01-01 05:00</obsrdt></item><item><flux>0</flux><hourwal>0.21</hourwal><no>19</no><obsrdt>2020-01-01 06:00</obsrdt></item><item><flux>0</flux><hourwal>0.21</hourwal><no>18</no><obsrdt>2020-01-01 07:00</obsrdt></item><item><flux>0</flux><hourwal>0.21</hourwal><no>17</no><obsrdt>2020-01-01 08:00</obsrdt></item><item><flux>0</flux><hourwal>0.23</hourwal><no>16</no><obsrdt>2020-01-01 09:00</obsrdt></item><item><flux>0</flux><hourwal>0.23</hourwal><no>15</no><obsrdt>2020-01-01 10:00</obsrdt></item><item><flux>0</flux><hourwal>0.22</hourwal><no>14</no><obsrdt>2020-01-01 11:00</obsrdt></item><item><flux>0</flux><hourwal>0.22</hourwal><no>13</no><obsrdt>2020-01-01 12:00</obsrdt></item><item><flux>0</flux><hourwal>0.06</hourwal><no>12</no><obsrdt>2020-01-01 13:00</obsrdt></item><item><flux>0</flux><hourwal>0.06</hourwal><no>11</no><obsrdt>2020-01-01 14:00</obsrdt></item><item><flux>0</flux><hourwal>0.06</hourwal><no>10</no><obsrdt>2020-01-01 15:00</obsrdt></item><item><flux>0</flux><hourwal>0.05</hourwal><no>9</no><obsrdt>2020-01-01 16:00</obsrdt></item><item><flux>0</flux><hourwal>0.05</hourwal><no>8</no><obsrdt>2020-01-01 17:00</obsrdt></item><item><flux>0</flux><hourwal>0.04</hourwal><no>7</no><obsrdt>2020-01-01 18:00</obsrdt></item><item><flux>0</flux><hourwal>0.04</hourwal><no>6</no><obsrdt>2020-01-01 19:00</obsrdt></item><item><flux>0</flux><hourwal>0.04</hourwal><no>5</no><obsrdt>2020-01-01 20:00</obsrdt></item><item><flux>0</flux><hourwal>0.04</hourwal><no>4</no><obsrdt>2020-01-01 21:00</obsrdt></item><item><flux>0</flux><hourwal>0.04</hourwal><no>3</no><obsrdt>2020-01-01 22:00</obsrdt></item><item><flux>0</flux><hourwal>0.03</hourwal><no>2</no><obsrdt>2020-01-01 23:00</obsrdt></item><item><flux>0</flux><hourwal>0.03</hourwal><no>1</no><obsrdt>2020-01-01 24:00</obsrdt></item></items><numOfRows>800000</numOfRows><pageNo>1</pageNo><totalCount>24</totalCount></body></response>'\n",
            "<?xml version=\"1.0\" encoding=\"UTF-8\" standalone=\"yes\"?><html><body><response><header><resultcode>00</resultcode><resultmsg>NORMAL SERVICE.</resultmsg></header><items><item><flux>0</flux><hourwal>0.04</hourwal><no>24</no><obsrdt>2020-01-01 01:00</obsrdt></item><item><flux>0</flux><hourwal>0.04</hourwal><no>23</no><obsrdt>2020-01-01 02:00</obsrdt></item><item><flux>0</flux><hourwal>0.04</hourwal><no>22</no><obsrdt>2020-01-01 03:00</obsrdt></item><item><flux>0</flux><hourwal>0.04</hourwal><no>21</no><obsrdt>2020-01-01 04:00</obsrdt></item><item><flux>0</flux><hourwal>0.2</hourwal><no>20</no><obsrdt>2020-01-01 05:00</obsrdt></item><item><flux>0</flux><hourwal>0.21</hourwal><no>19</no><obsrdt>2020-01-01 06:00</obsrdt></item><item><flux>0</flux><hourwal>0.21</hourwal><no>18</no><obsrdt>2020-01-01 07:00</obsrdt></item><item><flux>0</flux><hourwal>0.21</hourwal><no>17</no><obsrdt>2020-01-01 08:00</obsrdt></item><item><flux>0</flux><hourwal>0.23</hourwal><no>16</no><obsrdt>2020-01-01 09:00</obsrdt></item><item><flux>0</flux><hourwal>0.23</hourwal><no>15</no><obsrdt>2020-01-01 10:00</obsrdt></item><item><flux>0</flux><hourwal>0.22</hourwal><no>14</no><obsrdt>2020-01-01 11:00</obsrdt></item><item><flux>0</flux><hourwal>0.22</hourwal><no>13</no><obsrdt>2020-01-01 12:00</obsrdt></item><item><flux>0</flux><hourwal>0.06</hourwal><no>12</no><obsrdt>2020-01-01 13:00</obsrdt></item><item><flux>0</flux><hourwal>0.06</hourwal><no>11</no><obsrdt>2020-01-01 14:00</obsrdt></item><item><flux>0</flux><hourwal>0.06</hourwal><no>10</no><obsrdt>2020-01-01 15:00</obsrdt></item><item><flux>0</flux><hourwal>0.05</hourwal><no>9</no><obsrdt>2020-01-01 16:00</obsrdt></item><item><flux>0</flux><hourwal>0.05</hourwal><no>8</no><obsrdt>2020-01-01 17:00</obsrdt></item><item><flux>0</flux><hourwal>0.04</hourwal><no>7</no><obsrdt>2020-01-01 18:00</obsrdt></item><item><flux>0</flux><hourwal>0.04</hourwal><no>6</no><obsrdt>2020-01-01 19:00</obsrdt></item><item><flux>0</flux><hourwal>0.04</hourwal><no>5</no><obsrdt>2020-01-01 20:00</obsrdt></item><item><flux>0</flux><hourwal>0.04</hourwal><no>4</no><obsrdt>2020-01-01 21:00</obsrdt></item><item><flux>0</flux><hourwal>0.04</hourwal><no>3</no><obsrdt>2020-01-01 22:00</obsrdt></item><item><flux>0</flux><hourwal>0.03</hourwal><no>2</no><obsrdt>2020-01-01 23:00</obsrdt></item><item><flux>0</flux><hourwal>0.03</hourwal><no>1</no><obsrdt>2020-01-01 24:00</obsrdt></item></items><numofrows>800000</numofrows><pageno>1</pageno><totalcount>24</totalcount></response></body></html>\n",
            "b'<?xml version=\"1.0\" encoding=\"UTF-8\" standalone=\"yes\"?><response><header><resultCode>00</resultCode><resultMsg>NORMAL SERVICE.</resultMsg></header><body><items><item><flux>0</flux><hourwal>0.04</hourwal><no>24</no><obsrdt>2020-01-01 01:00</obsrdt></item><item><flux>0</flux><hourwal>0.04</hourwal><no>23</no><obsrdt>2020-01-01 02:00</obsrdt></item><item><flux>0</flux><hourwal>0.04</hourwal><no>22</no><obsrdt>2020-01-01 03:00</obsrdt></item><item><flux>0</flux><hourwal>0.04</hourwal><no>21</no><obsrdt>2020-01-01 04:00</obsrdt></item><item><flux>0</flux><hourwal>0.2</hourwal><no>20</no><obsrdt>2020-01-01 05:00</obsrdt></item><item><flux>0</flux><hourwal>0.21</hourwal><no>19</no><obsrdt>2020-01-01 06:00</obsrdt></item><item><flux>0</flux><hourwal>0.21</hourwal><no>18</no><obsrdt>2020-01-01 07:00</obsrdt></item><item><flux>0</flux><hourwal>0.21</hourwal><no>17</no><obsrdt>2020-01-01 08:00</obsrdt></item><item><flux>0</flux><hourwal>0.23</hourwal><no>16</no><obsrdt>2020-01-01 09:00</obsrdt></item><item><flux>0</flux><hourwal>0.23</hourwal><no>15</no><obsrdt>2020-01-01 10:00</obsrdt></item><item><flux>0</flux><hourwal>0.22</hourwal><no>14</no><obsrdt>2020-01-01 11:00</obsrdt></item><item><flux>0</flux><hourwal>0.22</hourwal><no>13</no><obsrdt>2020-01-01 12:00</obsrdt></item><item><flux>0</flux><hourwal>0.06</hourwal><no>12</no><obsrdt>2020-01-01 13:00</obsrdt></item><item><flux>0</flux><hourwal>0.06</hourwal><no>11</no><obsrdt>2020-01-01 14:00</obsrdt></item><item><flux>0</flux><hourwal>0.06</hourwal><no>10</no><obsrdt>2020-01-01 15:00</obsrdt></item><item><flux>0</flux><hourwal>0.05</hourwal><no>9</no><obsrdt>2020-01-01 16:00</obsrdt></item><item><flux>0</flux><hourwal>0.05</hourwal><no>8</no><obsrdt>2020-01-01 17:00</obsrdt></item><item><flux>0</flux><hourwal>0.04</hourwal><no>7</no><obsrdt>2020-01-01 18:00</obsrdt></item><item><flux>0</flux><hourwal>0.04</hourwal><no>6</no><obsrdt>2020-01-01 19:00</obsrdt></item><item><flux>0</flux><hourwal>0.04</hourwal><no>5</no><obsrdt>2020-01-01 20:00</obsrdt></item><item><flux>0</flux><hourwal>0.04</hourwal><no>4</no><obsrdt>2020-01-01 21:00</obsrdt></item><item><flux>0</flux><hourwal>0.04</hourwal><no>3</no><obsrdt>2020-01-01 22:00</obsrdt></item><item><flux>0</flux><hourwal>0.03</hourwal><no>2</no><obsrdt>2020-01-01 23:00</obsrdt></item><item><flux>0</flux><hourwal>0.03</hourwal><no>1</no><obsrdt>2020-01-01 24:00</obsrdt></item></items><numOfRows>800000</numOfRows><pageNo>1</pageNo><totalCount>24</totalCount></body></response>'\n",
            "<?xml version=\"1.0\" encoding=\"UTF-8\" standalone=\"yes\"?><html><body><response><header><resultcode>00</resultcode><resultmsg>NORMAL SERVICE.</resultmsg></header><items><item><flux>0</flux><hourwal>0.04</hourwal><no>24</no><obsrdt>2020-01-01 01:00</obsrdt></item><item><flux>0</flux><hourwal>0.04</hourwal><no>23</no><obsrdt>2020-01-01 02:00</obsrdt></item><item><flux>0</flux><hourwal>0.04</hourwal><no>22</no><obsrdt>2020-01-01 03:00</obsrdt></item><item><flux>0</flux><hourwal>0.04</hourwal><no>21</no><obsrdt>2020-01-01 04:00</obsrdt></item><item><flux>0</flux><hourwal>0.2</hourwal><no>20</no><obsrdt>2020-01-01 05:00</obsrdt></item><item><flux>0</flux><hourwal>0.21</hourwal><no>19</no><obsrdt>2020-01-01 06:00</obsrdt></item><item><flux>0</flux><hourwal>0.21</hourwal><no>18</no><obsrdt>2020-01-01 07:00</obsrdt></item><item><flux>0</flux><hourwal>0.21</hourwal><no>17</no><obsrdt>2020-01-01 08:00</obsrdt></item><item><flux>0</flux><hourwal>0.23</hourwal><no>16</no><obsrdt>2020-01-01 09:00</obsrdt></item><item><flux>0</flux><hourwal>0.23</hourwal><no>15</no><obsrdt>2020-01-01 10:00</obsrdt></item><item><flux>0</flux><hourwal>0.22</hourwal><no>14</no><obsrdt>2020-01-01 11:00</obsrdt></item><item><flux>0</flux><hourwal>0.22</hourwal><no>13</no><obsrdt>2020-01-01 12:00</obsrdt></item><item><flux>0</flux><hourwal>0.06</hourwal><no>12</no><obsrdt>2020-01-01 13:00</obsrdt></item><item><flux>0</flux><hourwal>0.06</hourwal><no>11</no><obsrdt>2020-01-01 14:00</obsrdt></item><item><flux>0</flux><hourwal>0.06</hourwal><no>10</no><obsrdt>2020-01-01 15:00</obsrdt></item><item><flux>0</flux><hourwal>0.05</hourwal><no>9</no><obsrdt>2020-01-01 16:00</obsrdt></item><item><flux>0</flux><hourwal>0.05</hourwal><no>8</no><obsrdt>2020-01-01 17:00</obsrdt></item><item><flux>0</flux><hourwal>0.04</hourwal><no>7</no><obsrdt>2020-01-01 18:00</obsrdt></item><item><flux>0</flux><hourwal>0.04</hourwal><no>6</no><obsrdt>2020-01-01 19:00</obsrdt></item><item><flux>0</flux><hourwal>0.04</hourwal><no>5</no><obsrdt>2020-01-01 20:00</obsrdt></item><item><flux>0</flux><hourwal>0.04</hourwal><no>4</no><obsrdt>2020-01-01 21:00</obsrdt></item><item><flux>0</flux><hourwal>0.04</hourwal><no>3</no><obsrdt>2020-01-01 22:00</obsrdt></item><item><flux>0</flux><hourwal>0.03</hourwal><no>2</no><obsrdt>2020-01-01 23:00</obsrdt></item><item><flux>0</flux><hourwal>0.03</hourwal><no>1</no><obsrdt>2020-01-01 24:00</obsrdt></item></items><numofrows>800000</numofrows><pageno>1</pageno><totalcount>24</totalcount></response></body></html>\n",
            "b'<?xml version=\"1.0\" encoding=\"UTF-8\" standalone=\"yes\"?><response><header><resultCode>00</resultCode><resultMsg>NORMAL SERVICE.</resultMsg></header><body><items><item><flux>0</flux><hourwal>0.04</hourwal><no>24</no><obsrdt>2020-01-01 01:00</obsrdt></item><item><flux>0</flux><hourwal>0.04</hourwal><no>23</no><obsrdt>2020-01-01 02:00</obsrdt></item><item><flux>0</flux><hourwal>0.04</hourwal><no>22</no><obsrdt>2020-01-01 03:00</obsrdt></item><item><flux>0</flux><hourwal>0.04</hourwal><no>21</no><obsrdt>2020-01-01 04:00</obsrdt></item><item><flux>0</flux><hourwal>0.2</hourwal><no>20</no><obsrdt>2020-01-01 05:00</obsrdt></item><item><flux>0</flux><hourwal>0.21</hourwal><no>19</no><obsrdt>2020-01-01 06:00</obsrdt></item><item><flux>0</flux><hourwal>0.21</hourwal><no>18</no><obsrdt>2020-01-01 07:00</obsrdt></item><item><flux>0</flux><hourwal>0.21</hourwal><no>17</no><obsrdt>2020-01-01 08:00</obsrdt></item><item><flux>0</flux><hourwal>0.23</hourwal><no>16</no><obsrdt>2020-01-01 09:00</obsrdt></item><item><flux>0</flux><hourwal>0.23</hourwal><no>15</no><obsrdt>2020-01-01 10:00</obsrdt></item><item><flux>0</flux><hourwal>0.22</hourwal><no>14</no><obsrdt>2020-01-01 11:00</obsrdt></item><item><flux>0</flux><hourwal>0.22</hourwal><no>13</no><obsrdt>2020-01-01 12:00</obsrdt></item><item><flux>0</flux><hourwal>0.06</hourwal><no>12</no><obsrdt>2020-01-01 13:00</obsrdt></item><item><flux>0</flux><hourwal>0.06</hourwal><no>11</no><obsrdt>2020-01-01 14:00</obsrdt></item><item><flux>0</flux><hourwal>0.06</hourwal><no>10</no><obsrdt>2020-01-01 15:00</obsrdt></item><item><flux>0</flux><hourwal>0.05</hourwal><no>9</no><obsrdt>2020-01-01 16:00</obsrdt></item><item><flux>0</flux><hourwal>0.05</hourwal><no>8</no><obsrdt>2020-01-01 17:00</obsrdt></item><item><flux>0</flux><hourwal>0.04</hourwal><no>7</no><obsrdt>2020-01-01 18:00</obsrdt></item><item><flux>0</flux><hourwal>0.04</hourwal><no>6</no><obsrdt>2020-01-01 19:00</obsrdt></item><item><flux>0</flux><hourwal>0.04</hourwal><no>5</no><obsrdt>2020-01-01 20:00</obsrdt></item><item><flux>0</flux><hourwal>0.04</hourwal><no>4</no><obsrdt>2020-01-01 21:00</obsrdt></item><item><flux>0</flux><hourwal>0.04</hourwal><no>3</no><obsrdt>2020-01-01 22:00</obsrdt></item><item><flux>0</flux><hourwal>0.03</hourwal><no>2</no><obsrdt>2020-01-01 23:00</obsrdt></item><item><flux>0</flux><hourwal>0.03</hourwal><no>1</no><obsrdt>2020-01-01 24:00</obsrdt></item></items><numOfRows>800000</numOfRows><pageNo>1</pageNo><totalCount>24</totalCount></body></response>'\n",
            "<?xml version=\"1.0\" encoding=\"UTF-8\" standalone=\"yes\"?><html><body><response><header><resultcode>00</resultcode><resultmsg>NORMAL SERVICE.</resultmsg></header><items><item><flux>0</flux><hourwal>0.04</hourwal><no>24</no><obsrdt>2020-01-01 01:00</obsrdt></item><item><flux>0</flux><hourwal>0.04</hourwal><no>23</no><obsrdt>2020-01-01 02:00</obsrdt></item><item><flux>0</flux><hourwal>0.04</hourwal><no>22</no><obsrdt>2020-01-01 03:00</obsrdt></item><item><flux>0</flux><hourwal>0.04</hourwal><no>21</no><obsrdt>2020-01-01 04:00</obsrdt></item><item><flux>0</flux><hourwal>0.2</hourwal><no>20</no><obsrdt>2020-01-01 05:00</obsrdt></item><item><flux>0</flux><hourwal>0.21</hourwal><no>19</no><obsrdt>2020-01-01 06:00</obsrdt></item><item><flux>0</flux><hourwal>0.21</hourwal><no>18</no><obsrdt>2020-01-01 07:00</obsrdt></item><item><flux>0</flux><hourwal>0.21</hourwal><no>17</no><obsrdt>2020-01-01 08:00</obsrdt></item><item><flux>0</flux><hourwal>0.23</hourwal><no>16</no><obsrdt>2020-01-01 09:00</obsrdt></item><item><flux>0</flux><hourwal>0.23</hourwal><no>15</no><obsrdt>2020-01-01 10:00</obsrdt></item><item><flux>0</flux><hourwal>0.22</hourwal><no>14</no><obsrdt>2020-01-01 11:00</obsrdt></item><item><flux>0</flux><hourwal>0.22</hourwal><no>13</no><obsrdt>2020-01-01 12:00</obsrdt></item><item><flux>0</flux><hourwal>0.06</hourwal><no>12</no><obsrdt>2020-01-01 13:00</obsrdt></item><item><flux>0</flux><hourwal>0.06</hourwal><no>11</no><obsrdt>2020-01-01 14:00</obsrdt></item><item><flux>0</flux><hourwal>0.06</hourwal><no>10</no><obsrdt>2020-01-01 15:00</obsrdt></item><item><flux>0</flux><hourwal>0.05</hourwal><no>9</no><obsrdt>2020-01-01 16:00</obsrdt></item><item><flux>0</flux><hourwal>0.05</hourwal><no>8</no><obsrdt>2020-01-01 17:00</obsrdt></item><item><flux>0</flux><hourwal>0.04</hourwal><no>7</no><obsrdt>2020-01-01 18:00</obsrdt></item><item><flux>0</flux><hourwal>0.04</hourwal><no>6</no><obsrdt>2020-01-01 19:00</obsrdt></item><item><flux>0</flux><hourwal>0.04</hourwal><no>5</no><obsrdt>2020-01-01 20:00</obsrdt></item><item><flux>0</flux><hourwal>0.04</hourwal><no>4</no><obsrdt>2020-01-01 21:00</obsrdt></item><item><flux>0</flux><hourwal>0.04</hourwal><no>3</no><obsrdt>2020-01-01 22:00</obsrdt></item><item><flux>0</flux><hourwal>0.03</hourwal><no>2</no><obsrdt>2020-01-01 23:00</obsrdt></item><item><flux>0</flux><hourwal>0.03</hourwal><no>1</no><obsrdt>2020-01-01 24:00</obsrdt></item></items><numofrows>800000</numofrows><pageno>1</pageno><totalcount>24</totalcount></response></body></html>\n",
            "b'<?xml version=\"1.0\" encoding=\"UTF-8\" standalone=\"yes\"?><response><header><resultCode>00</resultCode><resultMsg>NORMAL SERVICE.</resultMsg></header><body><items><item><flux>0</flux><hourwal>0.04</hourwal><no>24</no><obsrdt>2020-01-01 01:00</obsrdt></item><item><flux>0</flux><hourwal>0.04</hourwal><no>23</no><obsrdt>2020-01-01 02:00</obsrdt></item><item><flux>0</flux><hourwal>0.04</hourwal><no>22</no><obsrdt>2020-01-01 03:00</obsrdt></item><item><flux>0</flux><hourwal>0.04</hourwal><no>21</no><obsrdt>2020-01-01 04:00</obsrdt></item><item><flux>0</flux><hourwal>0.2</hourwal><no>20</no><obsrdt>2020-01-01 05:00</obsrdt></item><item><flux>0</flux><hourwal>0.21</hourwal><no>19</no><obsrdt>2020-01-01 06:00</obsrdt></item><item><flux>0</flux><hourwal>0.21</hourwal><no>18</no><obsrdt>2020-01-01 07:00</obsrdt></item><item><flux>0</flux><hourwal>0.21</hourwal><no>17</no><obsrdt>2020-01-01 08:00</obsrdt></item><item><flux>0</flux><hourwal>0.23</hourwal><no>16</no><obsrdt>2020-01-01 09:00</obsrdt></item><item><flux>0</flux><hourwal>0.23</hourwal><no>15</no><obsrdt>2020-01-01 10:00</obsrdt></item><item><flux>0</flux><hourwal>0.22</hourwal><no>14</no><obsrdt>2020-01-01 11:00</obsrdt></item><item><flux>0</flux><hourwal>0.22</hourwal><no>13</no><obsrdt>2020-01-01 12:00</obsrdt></item><item><flux>0</flux><hourwal>0.06</hourwal><no>12</no><obsrdt>2020-01-01 13:00</obsrdt></item><item><flux>0</flux><hourwal>0.06</hourwal><no>11</no><obsrdt>2020-01-01 14:00</obsrdt></item><item><flux>0</flux><hourwal>0.06</hourwal><no>10</no><obsrdt>2020-01-01 15:00</obsrdt></item><item><flux>0</flux><hourwal>0.05</hourwal><no>9</no><obsrdt>2020-01-01 16:00</obsrdt></item><item><flux>0</flux><hourwal>0.05</hourwal><no>8</no><obsrdt>2020-01-01 17:00</obsrdt></item><item><flux>0</flux><hourwal>0.04</hourwal><no>7</no><obsrdt>2020-01-01 18:00</obsrdt></item><item><flux>0</flux><hourwal>0.04</hourwal><no>6</no><obsrdt>2020-01-01 19:00</obsrdt></item><item><flux>0</flux><hourwal>0.04</hourwal><no>5</no><obsrdt>2020-01-01 20:00</obsrdt></item><item><flux>0</flux><hourwal>0.04</hourwal><no>4</no><obsrdt>2020-01-01 21:00</obsrdt></item><item><flux>0</flux><hourwal>0.04</hourwal><no>3</no><obsrdt>2020-01-01 22:00</obsrdt></item><item><flux>0</flux><hourwal>0.03</hourwal><no>2</no><obsrdt>2020-01-01 23:00</obsrdt></item><item><flux>0</flux><hourwal>0.03</hourwal><no>1</no><obsrdt>2020-01-01 24:00</obsrdt></item></items><numOfRows>800000</numOfRows><pageNo>1</pageNo><totalCount>24</totalCount></body></response>'\n",
            "<?xml version=\"1.0\" encoding=\"UTF-8\" standalone=\"yes\"?><html><body><response><header><resultcode>00</resultcode><resultmsg>NORMAL SERVICE.</resultmsg></header><items><item><flux>0</flux><hourwal>0.04</hourwal><no>24</no><obsrdt>2020-01-01 01:00</obsrdt></item><item><flux>0</flux><hourwal>0.04</hourwal><no>23</no><obsrdt>2020-01-01 02:00</obsrdt></item><item><flux>0</flux><hourwal>0.04</hourwal><no>22</no><obsrdt>2020-01-01 03:00</obsrdt></item><item><flux>0</flux><hourwal>0.04</hourwal><no>21</no><obsrdt>2020-01-01 04:00</obsrdt></item><item><flux>0</flux><hourwal>0.2</hourwal><no>20</no><obsrdt>2020-01-01 05:00</obsrdt></item><item><flux>0</flux><hourwal>0.21</hourwal><no>19</no><obsrdt>2020-01-01 06:00</obsrdt></item><item><flux>0</flux><hourwal>0.21</hourwal><no>18</no><obsrdt>2020-01-01 07:00</obsrdt></item><item><flux>0</flux><hourwal>0.21</hourwal><no>17</no><obsrdt>2020-01-01 08:00</obsrdt></item><item><flux>0</flux><hourwal>0.23</hourwal><no>16</no><obsrdt>2020-01-01 09:00</obsrdt></item><item><flux>0</flux><hourwal>0.23</hourwal><no>15</no><obsrdt>2020-01-01 10:00</obsrdt></item><item><flux>0</flux><hourwal>0.22</hourwal><no>14</no><obsrdt>2020-01-01 11:00</obsrdt></item><item><flux>0</flux><hourwal>0.22</hourwal><no>13</no><obsrdt>2020-01-01 12:00</obsrdt></item><item><flux>0</flux><hourwal>0.06</hourwal><no>12</no><obsrdt>2020-01-01 13:00</obsrdt></item><item><flux>0</flux><hourwal>0.06</hourwal><no>11</no><obsrdt>2020-01-01 14:00</obsrdt></item><item><flux>0</flux><hourwal>0.06</hourwal><no>10</no><obsrdt>2020-01-01 15:00</obsrdt></item><item><flux>0</flux><hourwal>0.05</hourwal><no>9</no><obsrdt>2020-01-01 16:00</obsrdt></item><item><flux>0</flux><hourwal>0.05</hourwal><no>8</no><obsrdt>2020-01-01 17:00</obsrdt></item><item><flux>0</flux><hourwal>0.04</hourwal><no>7</no><obsrdt>2020-01-01 18:00</obsrdt></item><item><flux>0</flux><hourwal>0.04</hourwal><no>6</no><obsrdt>2020-01-01 19:00</obsrdt></item><item><flux>0</flux><hourwal>0.04</hourwal><no>5</no><obsrdt>2020-01-01 20:00</obsrdt></item><item><flux>0</flux><hourwal>0.04</hourwal><no>4</no><obsrdt>2020-01-01 21:00</obsrdt></item><item><flux>0</flux><hourwal>0.04</hourwal><no>3</no><obsrdt>2020-01-01 22:00</obsrdt></item><item><flux>0</flux><hourwal>0.03</hourwal><no>2</no><obsrdt>2020-01-01 23:00</obsrdt></item><item><flux>0</flux><hourwal>0.03</hourwal><no>1</no><obsrdt>2020-01-01 24:00</obsrdt></item></items><numofrows>800000</numofrows><pageno>1</pageno><totalcount>24</totalcount></response></body></html>\n",
            "[[<item><flux>0</flux><hourwal>0.04</hourwal><no>24</no><obsrdt>2020-01-01 01:00</obsrdt></item>, <item><flux>0</flux><hourwal>0.04</hourwal><no>23</no><obsrdt>2020-01-01 02:00</obsrdt></item>, <item><flux>0</flux><hourwal>0.04</hourwal><no>22</no><obsrdt>2020-01-01 03:00</obsrdt></item>, <item><flux>0</flux><hourwal>0.04</hourwal><no>21</no><obsrdt>2020-01-01 04:00</obsrdt></item>, <item><flux>0</flux><hourwal>0.2</hourwal><no>20</no><obsrdt>2020-01-01 05:00</obsrdt></item>, <item><flux>0</flux><hourwal>0.21</hourwal><no>19</no><obsrdt>2020-01-01 06:00</obsrdt></item>, <item><flux>0</flux><hourwal>0.21</hourwal><no>18</no><obsrdt>2020-01-01 07:00</obsrdt></item>, <item><flux>0</flux><hourwal>0.21</hourwal><no>17</no><obsrdt>2020-01-01 08:00</obsrdt></item>, <item><flux>0</flux><hourwal>0.23</hourwal><no>16</no><obsrdt>2020-01-01 09:00</obsrdt></item>, <item><flux>0</flux><hourwal>0.23</hourwal><no>15</no><obsrdt>2020-01-01 10:00</obsrdt></item>, <item><flux>0</flux><hourwal>0.22</hourwal><no>14</no><obsrdt>2020-01-01 11:00</obsrdt></item>, <item><flux>0</flux><hourwal>0.22</hourwal><no>13</no><obsrdt>2020-01-01 12:00</obsrdt></item>, <item><flux>0</flux><hourwal>0.06</hourwal><no>12</no><obsrdt>2020-01-01 13:00</obsrdt></item>, <item><flux>0</flux><hourwal>0.06</hourwal><no>11</no><obsrdt>2020-01-01 14:00</obsrdt></item>, <item><flux>0</flux><hourwal>0.06</hourwal><no>10</no><obsrdt>2020-01-01 15:00</obsrdt></item>, <item><flux>0</flux><hourwal>0.05</hourwal><no>9</no><obsrdt>2020-01-01 16:00</obsrdt></item>, <item><flux>0</flux><hourwal>0.05</hourwal><no>8</no><obsrdt>2020-01-01 17:00</obsrdt></item>, <item><flux>0</flux><hourwal>0.04</hourwal><no>7</no><obsrdt>2020-01-01 18:00</obsrdt></item>, <item><flux>0</flux><hourwal>0.04</hourwal><no>6</no><obsrdt>2020-01-01 19:00</obsrdt></item>, <item><flux>0</flux><hourwal>0.04</hourwal><no>5</no><obsrdt>2020-01-01 20:00</obsrdt></item>, <item><flux>0</flux><hourwal>0.04</hourwal><no>4</no><obsrdt>2020-01-01 21:00</obsrdt></item>, <item><flux>0</flux><hourwal>0.04</hourwal><no>3</no><obsrdt>2020-01-01 22:00</obsrdt></item>, <item><flux>0</flux><hourwal>0.03</hourwal><no>2</no><obsrdt>2020-01-01 23:00</obsrdt></item>, <item><flux>0</flux><hourwal>0.03</hourwal><no>1</no><obsrdt>2020-01-01 24:00</obsrdt></item>], [<item><flux>0</flux><hourwal>0.04</hourwal><no>24</no><obsrdt>2020-01-01 01:00</obsrdt></item>, <item><flux>0</flux><hourwal>0.04</hourwal><no>23</no><obsrdt>2020-01-01 02:00</obsrdt></item>, <item><flux>0</flux><hourwal>0.04</hourwal><no>22</no><obsrdt>2020-01-01 03:00</obsrdt></item>, <item><flux>0</flux><hourwal>0.04</hourwal><no>21</no><obsrdt>2020-01-01 04:00</obsrdt></item>, <item><flux>0</flux><hourwal>0.2</hourwal><no>20</no><obsrdt>2020-01-01 05:00</obsrdt></item>, <item><flux>0</flux><hourwal>0.21</hourwal><no>19</no><obsrdt>2020-01-01 06:00</obsrdt></item>, <item><flux>0</flux><hourwal>0.21</hourwal><no>18</no><obsrdt>2020-01-01 07:00</obsrdt></item>, <item><flux>0</flux><hourwal>0.21</hourwal><no>17</no><obsrdt>2020-01-01 08:00</obsrdt></item>, <item><flux>0</flux><hourwal>0.23</hourwal><no>16</no><obsrdt>2020-01-01 09:00</obsrdt></item>, <item><flux>0</flux><hourwal>0.23</hourwal><no>15</no><obsrdt>2020-01-01 10:00</obsrdt></item>, <item><flux>0</flux><hourwal>0.22</hourwal><no>14</no><obsrdt>2020-01-01 11:00</obsrdt></item>, <item><flux>0</flux><hourwal>0.22</hourwal><no>13</no><obsrdt>2020-01-01 12:00</obsrdt></item>, <item><flux>0</flux><hourwal>0.06</hourwal><no>12</no><obsrdt>2020-01-01 13:00</obsrdt></item>, <item><flux>0</flux><hourwal>0.06</hourwal><no>11</no><obsrdt>2020-01-01 14:00</obsrdt></item>, <item><flux>0</flux><hourwal>0.06</hourwal><no>10</no><obsrdt>2020-01-01 15:00</obsrdt></item>, <item><flux>0</flux><hourwal>0.05</hourwal><no>9</no><obsrdt>2020-01-01 16:00</obsrdt></item>, <item><flux>0</flux><hourwal>0.05</hourwal><no>8</no><obsrdt>2020-01-01 17:00</obsrdt></item>, <item><flux>0</flux><hourwal>0.04</hourwal><no>7</no><obsrdt>2020-01-01 18:00</obsrdt></item>, <item><flux>0</flux><hourwal>0.04</hourwal><no>6</no><obsrdt>2020-01-01 19:00</obsrdt></item>, <item><flux>0</flux><hourwal>0.04</hourwal><no>5</no><obsrdt>2020-01-01 20:00</obsrdt></item>, <item><flux>0</flux><hourwal>0.04</hourwal><no>4</no><obsrdt>2020-01-01 21:00</obsrdt></item>, <item><flux>0</flux><hourwal>0.04</hourwal><no>3</no><obsrdt>2020-01-01 22:00</obsrdt></item>, <item><flux>0</flux><hourwal>0.03</hourwal><no>2</no><obsrdt>2020-01-01 23:00</obsrdt></item>, <item><flux>0</flux><hourwal>0.03</hourwal><no>1</no><obsrdt>2020-01-01 24:00</obsrdt></item>], [<item><flux>0</flux><hourwal>0.04</hourwal><no>24</no><obsrdt>2020-01-01 01:00</obsrdt></item>, <item><flux>0</flux><hourwal>0.04</hourwal><no>23</no><obsrdt>2020-01-01 02:00</obsrdt></item>, <item><flux>0</flux><hourwal>0.04</hourwal><no>22</no><obsrdt>2020-01-01 03:00</obsrdt></item>, <item><flux>0</flux><hourwal>0.04</hourwal><no>21</no><obsrdt>2020-01-01 04:00</obsrdt></item>, <item><flux>0</flux><hourwal>0.2</hourwal><no>20</no><obsrdt>2020-01-01 05:00</obsrdt></item>, <item><flux>0</flux><hourwal>0.21</hourwal><no>19</no><obsrdt>2020-01-01 06:00</obsrdt></item>, <item><flux>0</flux><hourwal>0.21</hourwal><no>18</no><obsrdt>2020-01-01 07:00</obsrdt></item>, <item><flux>0</flux><hourwal>0.21</hourwal><no>17</no><obsrdt>2020-01-01 08:00</obsrdt></item>, <item><flux>0</flux><hourwal>0.23</hourwal><no>16</no><obsrdt>2020-01-01 09:00</obsrdt></item>, <item><flux>0</flux><hourwal>0.23</hourwal><no>15</no><obsrdt>2020-01-01 10:00</obsrdt></item>, <item><flux>0</flux><hourwal>0.22</hourwal><no>14</no><obsrdt>2020-01-01 11:00</obsrdt></item>, <item><flux>0</flux><hourwal>0.22</hourwal><no>13</no><obsrdt>2020-01-01 12:00</obsrdt></item>, <item><flux>0</flux><hourwal>0.06</hourwal><no>12</no><obsrdt>2020-01-01 13:00</obsrdt></item>, <item><flux>0</flux><hourwal>0.06</hourwal><no>11</no><obsrdt>2020-01-01 14:00</obsrdt></item>, <item><flux>0</flux><hourwal>0.06</hourwal><no>10</no><obsrdt>2020-01-01 15:00</obsrdt></item>, <item><flux>0</flux><hourwal>0.05</hourwal><no>9</no><obsrdt>2020-01-01 16:00</obsrdt></item>, <item><flux>0</flux><hourwal>0.05</hourwal><no>8</no><obsrdt>2020-01-01 17:00</obsrdt></item>, <item><flux>0</flux><hourwal>0.04</hourwal><no>7</no><obsrdt>2020-01-01 18:00</obsrdt></item>, <item><flux>0</flux><hourwal>0.04</hourwal><no>6</no><obsrdt>2020-01-01 19:00</obsrdt></item>, <item><flux>0</flux><hourwal>0.04</hourwal><no>5</no><obsrdt>2020-01-01 20:00</obsrdt></item>, <item><flux>0</flux><hourwal>0.04</hourwal><no>4</no><obsrdt>2020-01-01 21:00</obsrdt></item>, <item><flux>0</flux><hourwal>0.04</hourwal><no>3</no><obsrdt>2020-01-01 22:00</obsrdt></item>, <item><flux>0</flux><hourwal>0.03</hourwal><no>2</no><obsrdt>2020-01-01 23:00</obsrdt></item>, <item><flux>0</flux><hourwal>0.03</hourwal><no>1</no><obsrdt>2020-01-01 24:00</obsrdt></item>], [<item><flux>0</flux><hourwal>0.04</hourwal><no>24</no><obsrdt>2020-01-01 01:00</obsrdt></item>, <item><flux>0</flux><hourwal>0.04</hourwal><no>23</no><obsrdt>2020-01-01 02:00</obsrdt></item>, <item><flux>0</flux><hourwal>0.04</hourwal><no>22</no><obsrdt>2020-01-01 03:00</obsrdt></item>, <item><flux>0</flux><hourwal>0.04</hourwal><no>21</no><obsrdt>2020-01-01 04:00</obsrdt></item>, <item><flux>0</flux><hourwal>0.2</hourwal><no>20</no><obsrdt>2020-01-01 05:00</obsrdt></item>, <item><flux>0</flux><hourwal>0.21</hourwal><no>19</no><obsrdt>2020-01-01 06:00</obsrdt></item>, <item><flux>0</flux><hourwal>0.21</hourwal><no>18</no><obsrdt>2020-01-01 07:00</obsrdt></item>, <item><flux>0</flux><hourwal>0.21</hourwal><no>17</no><obsrdt>2020-01-01 08:00</obsrdt></item>, <item><flux>0</flux><hourwal>0.23</hourwal><no>16</no><obsrdt>2020-01-01 09:00</obsrdt></item>, <item><flux>0</flux><hourwal>0.23</hourwal><no>15</no><obsrdt>2020-01-01 10:00</obsrdt></item>, <item><flux>0</flux><hourwal>0.22</hourwal><no>14</no><obsrdt>2020-01-01 11:00</obsrdt></item>, <item><flux>0</flux><hourwal>0.22</hourwal><no>13</no><obsrdt>2020-01-01 12:00</obsrdt></item>, <item><flux>0</flux><hourwal>0.06</hourwal><no>12</no><obsrdt>2020-01-01 13:00</obsrdt></item>, <item><flux>0</flux><hourwal>0.06</hourwal><no>11</no><obsrdt>2020-01-01 14:00</obsrdt></item>, <item><flux>0</flux><hourwal>0.06</hourwal><no>10</no><obsrdt>2020-01-01 15:00</obsrdt></item>, <item><flux>0</flux><hourwal>0.05</hourwal><no>9</no><obsrdt>2020-01-01 16:00</obsrdt></item>, <item><flux>0</flux><hourwal>0.05</hourwal><no>8</no><obsrdt>2020-01-01 17:00</obsrdt></item>, <item><flux>0</flux><hourwal>0.04</hourwal><no>7</no><obsrdt>2020-01-01 18:00</obsrdt></item>, <item><flux>0</flux><hourwal>0.04</hourwal><no>6</no><obsrdt>2020-01-01 19:00</obsrdt></item>, <item><flux>0</flux><hourwal>0.04</hourwal><no>5</no><obsrdt>2020-01-01 20:00</obsrdt></item>, <item><flux>0</flux><hourwal>0.04</hourwal><no>4</no><obsrdt>2020-01-01 21:00</obsrdt></item>, <item><flux>0</flux><hourwal>0.04</hourwal><no>3</no><obsrdt>2020-01-01 22:00</obsrdt></item>, <item><flux>0</flux><hourwal>0.03</hourwal><no>2</no><obsrdt>2020-01-01 23:00</obsrdt></item>, <item><flux>0</flux><hourwal>0.03</hourwal><no>1</no><obsrdt>2020-01-01 24:00</obsrdt></item>], [<item><flux>0</flux><hourwal>0.04</hourwal><no>24</no><obsrdt>2020-01-01 01:00</obsrdt></item>, <item><flux>0</flux><hourwal>0.04</hourwal><no>23</no><obsrdt>2020-01-01 02:00</obsrdt></item>, <item><flux>0</flux><hourwal>0.04</hourwal><no>22</no><obsrdt>2020-01-01 03:00</obsrdt></item>, <item><flux>0</flux><hourwal>0.04</hourwal><no>21</no><obsrdt>2020-01-01 04:00</obsrdt></item>, <item><flux>0</flux><hourwal>0.2</hourwal><no>20</no><obsrdt>2020-01-01 05:00</obsrdt></item>, <item><flux>0</flux><hourwal>0.21</hourwal><no>19</no><obsrdt>2020-01-01 06:00</obsrdt></item>, <item><flux>0</flux><hourwal>0.21</hourwal><no>18</no><obsrdt>2020-01-01 07:00</obsrdt></item>, <item><flux>0</flux><hourwal>0.21</hourwal><no>17</no><obsrdt>2020-01-01 08:00</obsrdt></item>, <item><flux>0</flux><hourwal>0.23</hourwal><no>16</no><obsrdt>2020-01-01 09:00</obsrdt></item>, <item><flux>0</flux><hourwal>0.23</hourwal><no>15</no><obsrdt>2020-01-01 10:00</obsrdt></item>, <item><flux>0</flux><hourwal>0.22</hourwal><no>14</no><obsrdt>2020-01-01 11:00</obsrdt></item>, <item><flux>0</flux><hourwal>0.22</hourwal><no>13</no><obsrdt>2020-01-01 12:00</obsrdt></item>, <item><flux>0</flux><hourwal>0.06</hourwal><no>12</no><obsrdt>2020-01-01 13:00</obsrdt></item>, <item><flux>0</flux><hourwal>0.06</hourwal><no>11</no><obsrdt>2020-01-01 14:00</obsrdt></item>, <item><flux>0</flux><hourwal>0.06</hourwal><no>10</no><obsrdt>2020-01-01 15:00</obsrdt></item>, <item><flux>0</flux><hourwal>0.05</hourwal><no>9</no><obsrdt>2020-01-01 16:00</obsrdt></item>, <item><flux>0</flux><hourwal>0.05</hourwal><no>8</no><obsrdt>2020-01-01 17:00</obsrdt></item>, <item><flux>0</flux><hourwal>0.04</hourwal><no>7</no><obsrdt>2020-01-01 18:00</obsrdt></item>, <item><flux>0</flux><hourwal>0.04</hourwal><no>6</no><obsrdt>2020-01-01 19:00</obsrdt></item>, <item><flux>0</flux><hourwal>0.04</hourwal><no>5</no><obsrdt>2020-01-01 20:00</obsrdt></item>, <item><flux>0</flux><hourwal>0.04</hourwal><no>4</no><obsrdt>2020-01-01 21:00</obsrdt></item>, <item><flux>0</flux><hourwal>0.04</hourwal><no>3</no><obsrdt>2020-01-01 22:00</obsrdt></item>, <item><flux>0</flux><hourwal>0.03</hourwal><no>2</no><obsrdt>2020-01-01 23:00</obsrdt></item>, <item><flux>0</flux><hourwal>0.03</hourwal><no>1</no><obsrdt>2020-01-01 24:00</obsrdt></item>]]\n"
          ]
        }
      ]
    },
    {
      "cell_type": "code",
      "metadata": {
        "colab": {
          "base_uri": "https://localhost:8080/"
        },
        "id": "5wpy6-kBFTsg",
        "outputId": "e34293c3-76ff-4193-c496-7835dfa39e5e"
      },
      "source": [
        "print(xmlrows)"
      ],
      "execution_count": null,
      "outputs": [
        {
          "output_type": "stream",
          "name": "stdout",
          "text": [
            "[[<item><flux>0</flux><hourwal>0.04</hourwal><no>24</no><obsrdt>2020-01-01 01:00</obsrdt></item>, <item><flux>0</flux><hourwal>0.04</hourwal><no>23</no><obsrdt>2020-01-01 02:00</obsrdt></item>, <item><flux>0</flux><hourwal>0.04</hourwal><no>22</no><obsrdt>2020-01-01 03:00</obsrdt></item>, <item><flux>0</flux><hourwal>0.04</hourwal><no>21</no><obsrdt>2020-01-01 04:00</obsrdt></item>, <item><flux>0</flux><hourwal>0.2</hourwal><no>20</no><obsrdt>2020-01-01 05:00</obsrdt></item>, <item><flux>0</flux><hourwal>0.21</hourwal><no>19</no><obsrdt>2020-01-01 06:00</obsrdt></item>, <item><flux>0</flux><hourwal>0.21</hourwal><no>18</no><obsrdt>2020-01-01 07:00</obsrdt></item>, <item><flux>0</flux><hourwal>0.21</hourwal><no>17</no><obsrdt>2020-01-01 08:00</obsrdt></item>, <item><flux>0</flux><hourwal>0.23</hourwal><no>16</no><obsrdt>2020-01-01 09:00</obsrdt></item>, <item><flux>0</flux><hourwal>0.23</hourwal><no>15</no><obsrdt>2020-01-01 10:00</obsrdt></item>, <item><flux>0</flux><hourwal>0.22</hourwal><no>14</no><obsrdt>2020-01-01 11:00</obsrdt></item>, <item><flux>0</flux><hourwal>0.22</hourwal><no>13</no><obsrdt>2020-01-01 12:00</obsrdt></item>, <item><flux>0</flux><hourwal>0.06</hourwal><no>12</no><obsrdt>2020-01-01 13:00</obsrdt></item>, <item><flux>0</flux><hourwal>0.06</hourwal><no>11</no><obsrdt>2020-01-01 14:00</obsrdt></item>, <item><flux>0</flux><hourwal>0.06</hourwal><no>10</no><obsrdt>2020-01-01 15:00</obsrdt></item>, <item><flux>0</flux><hourwal>0.05</hourwal><no>9</no><obsrdt>2020-01-01 16:00</obsrdt></item>, <item><flux>0</flux><hourwal>0.05</hourwal><no>8</no><obsrdt>2020-01-01 17:00</obsrdt></item>, <item><flux>0</flux><hourwal>0.04</hourwal><no>7</no><obsrdt>2020-01-01 18:00</obsrdt></item>, <item><flux>0</flux><hourwal>0.04</hourwal><no>6</no><obsrdt>2020-01-01 19:00</obsrdt></item>, <item><flux>0</flux><hourwal>0.04</hourwal><no>5</no><obsrdt>2020-01-01 20:00</obsrdt></item>, <item><flux>0</flux><hourwal>0.04</hourwal><no>4</no><obsrdt>2020-01-01 21:00</obsrdt></item>, <item><flux>0</flux><hourwal>0.04</hourwal><no>3</no><obsrdt>2020-01-01 22:00</obsrdt></item>, <item><flux>0</flux><hourwal>0.03</hourwal><no>2</no><obsrdt>2020-01-01 23:00</obsrdt></item>, <item><flux>0</flux><hourwal>0.03</hourwal><no>1</no><obsrdt>2020-01-01 24:00</obsrdt></item>], [<item><flux>0</flux><hourwal>0.04</hourwal><no>24</no><obsrdt>2020-01-01 01:00</obsrdt></item>, <item><flux>0</flux><hourwal>0.04</hourwal><no>23</no><obsrdt>2020-01-01 02:00</obsrdt></item>, <item><flux>0</flux><hourwal>0.04</hourwal><no>22</no><obsrdt>2020-01-01 03:00</obsrdt></item>, <item><flux>0</flux><hourwal>0.04</hourwal><no>21</no><obsrdt>2020-01-01 04:00</obsrdt></item>, <item><flux>0</flux><hourwal>0.2</hourwal><no>20</no><obsrdt>2020-01-01 05:00</obsrdt></item>, <item><flux>0</flux><hourwal>0.21</hourwal><no>19</no><obsrdt>2020-01-01 06:00</obsrdt></item>, <item><flux>0</flux><hourwal>0.21</hourwal><no>18</no><obsrdt>2020-01-01 07:00</obsrdt></item>, <item><flux>0</flux><hourwal>0.21</hourwal><no>17</no><obsrdt>2020-01-01 08:00</obsrdt></item>, <item><flux>0</flux><hourwal>0.23</hourwal><no>16</no><obsrdt>2020-01-01 09:00</obsrdt></item>, <item><flux>0</flux><hourwal>0.23</hourwal><no>15</no><obsrdt>2020-01-01 10:00</obsrdt></item>, <item><flux>0</flux><hourwal>0.22</hourwal><no>14</no><obsrdt>2020-01-01 11:00</obsrdt></item>, <item><flux>0</flux><hourwal>0.22</hourwal><no>13</no><obsrdt>2020-01-01 12:00</obsrdt></item>, <item><flux>0</flux><hourwal>0.06</hourwal><no>12</no><obsrdt>2020-01-01 13:00</obsrdt></item>, <item><flux>0</flux><hourwal>0.06</hourwal><no>11</no><obsrdt>2020-01-01 14:00</obsrdt></item>, <item><flux>0</flux><hourwal>0.06</hourwal><no>10</no><obsrdt>2020-01-01 15:00</obsrdt></item>, <item><flux>0</flux><hourwal>0.05</hourwal><no>9</no><obsrdt>2020-01-01 16:00</obsrdt></item>, <item><flux>0</flux><hourwal>0.05</hourwal><no>8</no><obsrdt>2020-01-01 17:00</obsrdt></item>, <item><flux>0</flux><hourwal>0.04</hourwal><no>7</no><obsrdt>2020-01-01 18:00</obsrdt></item>, <item><flux>0</flux><hourwal>0.04</hourwal><no>6</no><obsrdt>2020-01-01 19:00</obsrdt></item>, <item><flux>0</flux><hourwal>0.04</hourwal><no>5</no><obsrdt>2020-01-01 20:00</obsrdt></item>, <item><flux>0</flux><hourwal>0.04</hourwal><no>4</no><obsrdt>2020-01-01 21:00</obsrdt></item>, <item><flux>0</flux><hourwal>0.04</hourwal><no>3</no><obsrdt>2020-01-01 22:00</obsrdt></item>, <item><flux>0</flux><hourwal>0.03</hourwal><no>2</no><obsrdt>2020-01-01 23:00</obsrdt></item>, <item><flux>0</flux><hourwal>0.03</hourwal><no>1</no><obsrdt>2020-01-01 24:00</obsrdt></item>], [<item><flux>0</flux><hourwal>0.04</hourwal><no>24</no><obsrdt>2020-01-01 01:00</obsrdt></item>, <item><flux>0</flux><hourwal>0.04</hourwal><no>23</no><obsrdt>2020-01-01 02:00</obsrdt></item>, <item><flux>0</flux><hourwal>0.04</hourwal><no>22</no><obsrdt>2020-01-01 03:00</obsrdt></item>, <item><flux>0</flux><hourwal>0.04</hourwal><no>21</no><obsrdt>2020-01-01 04:00</obsrdt></item>, <item><flux>0</flux><hourwal>0.2</hourwal><no>20</no><obsrdt>2020-01-01 05:00</obsrdt></item>, <item><flux>0</flux><hourwal>0.21</hourwal><no>19</no><obsrdt>2020-01-01 06:00</obsrdt></item>, <item><flux>0</flux><hourwal>0.21</hourwal><no>18</no><obsrdt>2020-01-01 07:00</obsrdt></item>, <item><flux>0</flux><hourwal>0.21</hourwal><no>17</no><obsrdt>2020-01-01 08:00</obsrdt></item>, <item><flux>0</flux><hourwal>0.23</hourwal><no>16</no><obsrdt>2020-01-01 09:00</obsrdt></item>, <item><flux>0</flux><hourwal>0.23</hourwal><no>15</no><obsrdt>2020-01-01 10:00</obsrdt></item>, <item><flux>0</flux><hourwal>0.22</hourwal><no>14</no><obsrdt>2020-01-01 11:00</obsrdt></item>, <item><flux>0</flux><hourwal>0.22</hourwal><no>13</no><obsrdt>2020-01-01 12:00</obsrdt></item>, <item><flux>0</flux><hourwal>0.06</hourwal><no>12</no><obsrdt>2020-01-01 13:00</obsrdt></item>, <item><flux>0</flux><hourwal>0.06</hourwal><no>11</no><obsrdt>2020-01-01 14:00</obsrdt></item>, <item><flux>0</flux><hourwal>0.06</hourwal><no>10</no><obsrdt>2020-01-01 15:00</obsrdt></item>, <item><flux>0</flux><hourwal>0.05</hourwal><no>9</no><obsrdt>2020-01-01 16:00</obsrdt></item>, <item><flux>0</flux><hourwal>0.05</hourwal><no>8</no><obsrdt>2020-01-01 17:00</obsrdt></item>, <item><flux>0</flux><hourwal>0.04</hourwal><no>7</no><obsrdt>2020-01-01 18:00</obsrdt></item>, <item><flux>0</flux><hourwal>0.04</hourwal><no>6</no><obsrdt>2020-01-01 19:00</obsrdt></item>, <item><flux>0</flux><hourwal>0.04</hourwal><no>5</no><obsrdt>2020-01-01 20:00</obsrdt></item>, <item><flux>0</flux><hourwal>0.04</hourwal><no>4</no><obsrdt>2020-01-01 21:00</obsrdt></item>, <item><flux>0</flux><hourwal>0.04</hourwal><no>3</no><obsrdt>2020-01-01 22:00</obsrdt></item>, <item><flux>0</flux><hourwal>0.03</hourwal><no>2</no><obsrdt>2020-01-01 23:00</obsrdt></item>, <item><flux>0</flux><hourwal>0.03</hourwal><no>1</no><obsrdt>2020-01-01 24:00</obsrdt></item>], [<item><flux>0</flux><hourwal>0.04</hourwal><no>24</no><obsrdt>2020-01-01 01:00</obsrdt></item>, <item><flux>0</flux><hourwal>0.04</hourwal><no>23</no><obsrdt>2020-01-01 02:00</obsrdt></item>, <item><flux>0</flux><hourwal>0.04</hourwal><no>22</no><obsrdt>2020-01-01 03:00</obsrdt></item>, <item><flux>0</flux><hourwal>0.04</hourwal><no>21</no><obsrdt>2020-01-01 04:00</obsrdt></item>, <item><flux>0</flux><hourwal>0.2</hourwal><no>20</no><obsrdt>2020-01-01 05:00</obsrdt></item>, <item><flux>0</flux><hourwal>0.21</hourwal><no>19</no><obsrdt>2020-01-01 06:00</obsrdt></item>, <item><flux>0</flux><hourwal>0.21</hourwal><no>18</no><obsrdt>2020-01-01 07:00</obsrdt></item>, <item><flux>0</flux><hourwal>0.21</hourwal><no>17</no><obsrdt>2020-01-01 08:00</obsrdt></item>, <item><flux>0</flux><hourwal>0.23</hourwal><no>16</no><obsrdt>2020-01-01 09:00</obsrdt></item>, <item><flux>0</flux><hourwal>0.23</hourwal><no>15</no><obsrdt>2020-01-01 10:00</obsrdt></item>, <item><flux>0</flux><hourwal>0.22</hourwal><no>14</no><obsrdt>2020-01-01 11:00</obsrdt></item>, <item><flux>0</flux><hourwal>0.22</hourwal><no>13</no><obsrdt>2020-01-01 12:00</obsrdt></item>, <item><flux>0</flux><hourwal>0.06</hourwal><no>12</no><obsrdt>2020-01-01 13:00</obsrdt></item>, <item><flux>0</flux><hourwal>0.06</hourwal><no>11</no><obsrdt>2020-01-01 14:00</obsrdt></item>, <item><flux>0</flux><hourwal>0.06</hourwal><no>10</no><obsrdt>2020-01-01 15:00</obsrdt></item>, <item><flux>0</flux><hourwal>0.05</hourwal><no>9</no><obsrdt>2020-01-01 16:00</obsrdt></item>, <item><flux>0</flux><hourwal>0.05</hourwal><no>8</no><obsrdt>2020-01-01 17:00</obsrdt></item>, <item><flux>0</flux><hourwal>0.04</hourwal><no>7</no><obsrdt>2020-01-01 18:00</obsrdt></item>, <item><flux>0</flux><hourwal>0.04</hourwal><no>6</no><obsrdt>2020-01-01 19:00</obsrdt></item>, <item><flux>0</flux><hourwal>0.04</hourwal><no>5</no><obsrdt>2020-01-01 20:00</obsrdt></item>, <item><flux>0</flux><hourwal>0.04</hourwal><no>4</no><obsrdt>2020-01-01 21:00</obsrdt></item>, <item><flux>0</flux><hourwal>0.04</hourwal><no>3</no><obsrdt>2020-01-01 22:00</obsrdt></item>, <item><flux>0</flux><hourwal>0.03</hourwal><no>2</no><obsrdt>2020-01-01 23:00</obsrdt></item>, <item><flux>0</flux><hourwal>0.03</hourwal><no>1</no><obsrdt>2020-01-01 24:00</obsrdt></item>], [<item><flux>0</flux><hourwal>0.04</hourwal><no>24</no><obsrdt>2020-01-01 01:00</obsrdt></item>, <item><flux>0</flux><hourwal>0.04</hourwal><no>23</no><obsrdt>2020-01-01 02:00</obsrdt></item>, <item><flux>0</flux><hourwal>0.04</hourwal><no>22</no><obsrdt>2020-01-01 03:00</obsrdt></item>, <item><flux>0</flux><hourwal>0.04</hourwal><no>21</no><obsrdt>2020-01-01 04:00</obsrdt></item>, <item><flux>0</flux><hourwal>0.2</hourwal><no>20</no><obsrdt>2020-01-01 05:00</obsrdt></item>, <item><flux>0</flux><hourwal>0.21</hourwal><no>19</no><obsrdt>2020-01-01 06:00</obsrdt></item>, <item><flux>0</flux><hourwal>0.21</hourwal><no>18</no><obsrdt>2020-01-01 07:00</obsrdt></item>, <item><flux>0</flux><hourwal>0.21</hourwal><no>17</no><obsrdt>2020-01-01 08:00</obsrdt></item>, <item><flux>0</flux><hourwal>0.23</hourwal><no>16</no><obsrdt>2020-01-01 09:00</obsrdt></item>, <item><flux>0</flux><hourwal>0.23</hourwal><no>15</no><obsrdt>2020-01-01 10:00</obsrdt></item>, <item><flux>0</flux><hourwal>0.22</hourwal><no>14</no><obsrdt>2020-01-01 11:00</obsrdt></item>, <item><flux>0</flux><hourwal>0.22</hourwal><no>13</no><obsrdt>2020-01-01 12:00</obsrdt></item>, <item><flux>0</flux><hourwal>0.06</hourwal><no>12</no><obsrdt>2020-01-01 13:00</obsrdt></item>, <item><flux>0</flux><hourwal>0.06</hourwal><no>11</no><obsrdt>2020-01-01 14:00</obsrdt></item>, <item><flux>0</flux><hourwal>0.06</hourwal><no>10</no><obsrdt>2020-01-01 15:00</obsrdt></item>, <item><flux>0</flux><hourwal>0.05</hourwal><no>9</no><obsrdt>2020-01-01 16:00</obsrdt></item>, <item><flux>0</flux><hourwal>0.05</hourwal><no>8</no><obsrdt>2020-01-01 17:00</obsrdt></item>, <item><flux>0</flux><hourwal>0.04</hourwal><no>7</no><obsrdt>2020-01-01 18:00</obsrdt></item>, <item><flux>0</flux><hourwal>0.04</hourwal><no>6</no><obsrdt>2020-01-01 19:00</obsrdt></item>, <item><flux>0</flux><hourwal>0.04</hourwal><no>5</no><obsrdt>2020-01-01 20:00</obsrdt></item>, <item><flux>0</flux><hourwal>0.04</hourwal><no>4</no><obsrdt>2020-01-01 21:00</obsrdt></item>, <item><flux>0</flux><hourwal>0.04</hourwal><no>3</no><obsrdt>2020-01-01 22:00</obsrdt></item>, <item><flux>0</flux><hourwal>0.03</hourwal><no>2</no><obsrdt>2020-01-01 23:00</obsrdt></item>, <item><flux>0</flux><hourwal>0.03</hourwal><no>1</no><obsrdt>2020-01-01 24:00</obsrdt></item>]]\n"
          ]
        }
      ]
    },
    {
      "cell_type": "code",
      "metadata": {
        "id": "t_wpF0OIodCJ"
      },
      "source": [
        "\n",
        "filePath = '/content/drive/MyDrive/water_resource_csv/xmlrows.xml'\n",
        "\n",
        "\n",
        "with open(filePath, 'wb') as lf:\n",
        "    pickle.dump(xmlrows, lf)\n",
        "\n",
        "\n",
        "with open(filePath, 'rb') as lf:\n",
        "    readList = pickle.load(lf)\n"
      ],
      "execution_count": null,
      "outputs": []
    },
    {
      "cell_type": "code",
      "metadata": {
        "id": "Af6iBH4Yohx4"
      },
      "source": [
        "# 컬럼 생성\n",
        "rowList = []\n",
        "nameList = []\n",
        "columnList = []\n",
        "xmlrowsLen = len(xmlrows)\n",
        "target = 0\n",
        "for i in range(0, xmlrowsLen):\n",
        "    \n",
        "   \n",
        "    if len(xmlrows[i]) == 0:\n",
        "       target = target + 1\n",
        "      \n",
        "    else:\n",
        "        break \n",
        "columns = xmlrows[target][0].find_all()\n",
        "columnsLen = len(columns)\n",
        "for i in range(0, columnsLen):\n",
        "    nameList.append(columns[i].name)\n",
        "nameList = [\"Damcode\"] + [\"walobsrvtcode\"] + nameList"
      ],
      "execution_count": 6,
      "outputs": []
    },
    {
      "cell_type": "code",
      "metadata": {
        "colab": {
          "base_uri": "https://localhost:8080/"
        },
        "id": "FNJR1gazojWa",
        "outputId": "bd8a9151-99aa-4903-837c-6fe0d5f05579"
      },
      "source": [
        "xmlrows[0]"
      ],
      "execution_count": null,
      "outputs": [
        {
          "output_type": "execute_result",
          "data": {
            "text/plain": [
              "[<item><flux>0</flux><hourwal>0.04</hourwal><no>24</no><obsrdt>2020-01-01 01:00</obsrdt></item>,\n",
              " <item><flux>0</flux><hourwal>0.04</hourwal><no>23</no><obsrdt>2020-01-01 02:00</obsrdt></item>,\n",
              " <item><flux>0</flux><hourwal>0.04</hourwal><no>22</no><obsrdt>2020-01-01 03:00</obsrdt></item>,\n",
              " <item><flux>0</flux><hourwal>0.04</hourwal><no>21</no><obsrdt>2020-01-01 04:00</obsrdt></item>,\n",
              " <item><flux>0</flux><hourwal>0.2</hourwal><no>20</no><obsrdt>2020-01-01 05:00</obsrdt></item>,\n",
              " <item><flux>0</flux><hourwal>0.21</hourwal><no>19</no><obsrdt>2020-01-01 06:00</obsrdt></item>,\n",
              " <item><flux>0</flux><hourwal>0.21</hourwal><no>18</no><obsrdt>2020-01-01 07:00</obsrdt></item>,\n",
              " <item><flux>0</flux><hourwal>0.21</hourwal><no>17</no><obsrdt>2020-01-01 08:00</obsrdt></item>,\n",
              " <item><flux>0</flux><hourwal>0.23</hourwal><no>16</no><obsrdt>2020-01-01 09:00</obsrdt></item>,\n",
              " <item><flux>0</flux><hourwal>0.23</hourwal><no>15</no><obsrdt>2020-01-01 10:00</obsrdt></item>,\n",
              " <item><flux>0</flux><hourwal>0.22</hourwal><no>14</no><obsrdt>2020-01-01 11:00</obsrdt></item>,\n",
              " <item><flux>0</flux><hourwal>0.22</hourwal><no>13</no><obsrdt>2020-01-01 12:00</obsrdt></item>,\n",
              " <item><flux>0</flux><hourwal>0.06</hourwal><no>12</no><obsrdt>2020-01-01 13:00</obsrdt></item>,\n",
              " <item><flux>0</flux><hourwal>0.06</hourwal><no>11</no><obsrdt>2020-01-01 14:00</obsrdt></item>,\n",
              " <item><flux>0</flux><hourwal>0.06</hourwal><no>10</no><obsrdt>2020-01-01 15:00</obsrdt></item>,\n",
              " <item><flux>0</flux><hourwal>0.05</hourwal><no>9</no><obsrdt>2020-01-01 16:00</obsrdt></item>,\n",
              " <item><flux>0</flux><hourwal>0.05</hourwal><no>8</no><obsrdt>2020-01-01 17:00</obsrdt></item>,\n",
              " <item><flux>0</flux><hourwal>0.04</hourwal><no>7</no><obsrdt>2020-01-01 18:00</obsrdt></item>,\n",
              " <item><flux>0</flux><hourwal>0.04</hourwal><no>6</no><obsrdt>2020-01-01 19:00</obsrdt></item>,\n",
              " <item><flux>0</flux><hourwal>0.04</hourwal><no>5</no><obsrdt>2020-01-01 20:00</obsrdt></item>,\n",
              " <item><flux>0</flux><hourwal>0.04</hourwal><no>4</no><obsrdt>2020-01-01 21:00</obsrdt></item>,\n",
              " <item><flux>0</flux><hourwal>0.04</hourwal><no>3</no><obsrdt>2020-01-01 22:00</obsrdt></item>,\n",
              " <item><flux>0</flux><hourwal>0.03</hourwal><no>2</no><obsrdt>2020-01-01 23:00</obsrdt></item>,\n",
              " <item><flux>0</flux><hourwal>0.03</hourwal><no>1</no><obsrdt>2020-01-01 24:00</obsrdt></item>]"
            ]
          },
          "metadata": {},
          "execution_count": 38
        }
      ]
    },
    {
      "cell_type": "code",
      "metadata": {
        "colab": {
          "base_uri": "https://localhost:8080/"
        },
        "id": "7urm5il0Hpcd",
        "outputId": "8852f44a-dc27-4e72-a2cc-6f1e083ceb6b"
      },
      "source": [
        "print(nameList)"
      ],
      "execution_count": 7,
      "outputs": [
        {
          "output_type": "stream",
          "name": "stdout",
          "text": [
            "['Damcode', 'walobsrvtcode', 'flux', 'hourwal', 'no', 'obsrdt']\n"
          ]
        }
      ]
    },
    {
      "cell_type": "code",
      "metadata": {
        "id": "UgDNOm7Kolrh"
      },
      "source": [
        "total = []\n",
        "damcodeLen = len(damcode)\n",
        "walcodeLen = len(walcode)\n",
        "\n",
        "\n",
        "def el_code(a): \n",
        "    columnList = []\n",
        "    eachrows = xmlrows[a]\n",
        "    eachrowslen = len(eachrows)\n",
        "    for i in range(0, eachrowslen):\n",
        "        columns = eachrows[i].find_all()\n",
        "        columnsLen = len(columns)\n",
        "        for j in range(0, columnsLen):\n",
        "            eachColumn = columns[j].text \n",
        "            columnList.append(eachColumn)\n",
        "        columnList = [damcode[a]] + [walcode[a]] + columnList\n",
        "        rowList.append(columnList)\n",
        "        columnList = []\n",
        "    return rowList\n",
        "\n",
        "\n",
        "\n",
        "for a in range(0, damcodeLen, walcodeLen):\n",
        "    rowList=el_code(a)\n",
        "    total.append(rowList)\n",
        "\n",
        "result = pd.DataFrame(total[0], columns=nameList)\n",
        "\n",
        "   "
      ],
      "execution_count": 8,
      "outputs": []
    },
    {
      "cell_type": "code",
      "metadata": {
        "colab": {
          "base_uri": "https://localhost:8080/"
        },
        "id": "FI1YMXR9IdUh",
        "outputId": "7e50f5ad-85b4-46b6-c61e-8633205cbf50"
      },
      "source": [
        "print(result)"
      ],
      "execution_count": 9,
      "outputs": [
        {
          "output_type": "stream",
          "name": "stdout",
          "text": [
            "    Damcode  walobsrvtcode flux hourwal  no            obsrdt\n",
            "0   1007601        1007601    0    0.04  24  2020-01-01 01:00\n",
            "1   1007601        1007601    0    0.04  23  2020-01-01 02:00\n",
            "2   1007601        1007601    0    0.04  22  2020-01-01 03:00\n",
            "3   1007601        1007601    0    0.04  21  2020-01-01 04:00\n",
            "4   1007601        1007601    0     0.2  20  2020-01-01 05:00\n",
            "5   1007601        1007601    0    0.21  19  2020-01-01 06:00\n",
            "6   1007601        1007601    0    0.21  18  2020-01-01 07:00\n",
            "7   1007601        1007601    0    0.21  17  2020-01-01 08:00\n",
            "8   1007601        1007601    0    0.23  16  2020-01-01 09:00\n",
            "9   1007601        1007601    0    0.23  15  2020-01-01 10:00\n",
            "10  1007601        1007601    0    0.22  14  2020-01-01 11:00\n",
            "11  1007601        1007601    0    0.22  13  2020-01-01 12:00\n",
            "12  1007601        1007601    0    0.06  12  2020-01-01 13:00\n",
            "13  1007601        1007601    0    0.06  11  2020-01-01 14:00\n",
            "14  1007601        1007601    0    0.06  10  2020-01-01 15:00\n",
            "15  1007601        1007601    0    0.05   9  2020-01-01 16:00\n",
            "16  1007601        1007601    0    0.05   8  2020-01-01 17:00\n",
            "17  1007601        1007601    0    0.04   7  2020-01-01 18:00\n",
            "18  1007601        1007601    0    0.04   6  2020-01-01 19:00\n",
            "19  1007601        1007601    0    0.04   5  2020-01-01 20:00\n",
            "20  1007601        1007601    0    0.04   4  2020-01-01 21:00\n",
            "21  1007601        1007601    0    0.04   3  2020-01-01 22:00\n",
            "22  1007601        1007601    0    0.03   2  2020-01-01 23:00\n",
            "23  1007601        1007601    0    0.03   1  2020-01-01 24:00\n"
          ]
        }
      ]
    },
    {
      "cell_type": "code",
      "metadata": {
        "id": "ZOru4vFCong5"
      },
      "source": [
        "result.to_csv(\"/content/drive/MyDrive/water_resource_csv/hourwal_test2.csv\",encoding=\"utf-8-sig\")"
      ],
      "execution_count": 10,
      "outputs": []
    },
    {
      "cell_type": "code",
      "metadata": {
        "id": "YYq1xtrwopMh"
      },
      "source": [
        "result"
      ],
      "execution_count": null,
      "outputs": []
    }
  ]
}