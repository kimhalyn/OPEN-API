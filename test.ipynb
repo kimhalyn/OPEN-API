{
  "nbformat": 4,
  "nbformat_minor": 0,
  "metadata": {
    "colab": {
      "name": "test.ipynb",
      "provenance": [],
      "collapsed_sections": [],
      "mount_file_id": "1moJUh8GrIK_UHTjKzfBi3l5_DkhmcaDK",
      "authorship_tag": "ABX9TyMP1e+crFb7oyB5z1uIf2oG",
      "include_colab_link": true
    },
    "kernelspec": {
      "name": "python3",
      "display_name": "Python 3"
    },
    "language_info": {
      "name": "python"
    }
  },
  "cells": [
    {
      "cell_type": "markdown",
      "metadata": {
        "id": "view-in-github",
        "colab_type": "text"
      },
      "source": [
        "<a href=\"https://colab.research.google.com/github/kimhalyn/OPEN-API/blob/main/test.ipynb\" target=\"_parent\"><img src=\"https://colab.research.google.com/assets/colab-badge.svg\" alt=\"Open In Colab\"/></a>"
      ]
    },
    {
      "cell_type": "code",
      "metadata": {
        "colab": {
          "base_uri": "https://localhost:8080/"
        },
        "id": "mHLEgEXt-YLJ",
        "outputId": "4a583a87-3959-4bdd-c842-00d5f3f25e89"
      },
      "source": [
        "# 라이브러리\n",
        "# colab에 xmltodict 라이브러리가 기본 설치되지 않으므로 별도 설치(외부 라이브러리)\n",
        "!pip install xmltodict \n",
        "from urllib.request import urlopen\n",
        "from urllib.parse import urlencode, unquote, quote_plus\n",
        "from bs4 import BeautifulSoup\n",
        "import pandas as pd\n",
        "import requests, xmltodict, json"
      ],
      "execution_count": 1,
      "outputs": [
        {
          "output_type": "stream",
          "name": "stdout",
          "text": [
            "Collecting xmltodict\n",
            "  Downloading xmltodict-0.12.0-py2.py3-none-any.whl (9.2 kB)\n",
            "Installing collected packages: xmltodict\n",
            "Successfully installed xmltodict-0.12.0\n"
          ]
        }
      ]
    },
    {
      "cell_type": "code",
      "metadata": {
        "colab": {
          "base_uri": "https://localhost:8080/"
        },
        "id": "19_e9IU8-bfd",
        "outputId": "41177d65-f870-43ac-8c78-a0d231f3dcaa"
      },
      "source": [
        "# 판다스로 csv 파일 불러오기_iloc 사용\n",
        "data = pd.read_csv('/content/drive/MyDrive/water_resource_csv/damCode.csv')\n",
        "\n",
        "# 필요한 행,열만 추출\n",
        "damcode = data.iloc[0:5,1]\n",
        "#damcode = data.iloc[27,1]\n",
        "for code in damcode:\n",
        "  print(code)"
      ],
      "execution_count": 31,
      "outputs": [
        {
          "output_type": "stream",
          "name": "stdout",
          "text": [
            "2403201\n",
            "2011602\n",
            "1007601\n",
            "3012601\n",
            "1001210\n"
          ]
        }
      ]
    },
    {
      "cell_type": "code",
      "metadata": {
        "id": "6wlPngxVCMQF"
      },
      "source": [
        "#디코드\n",
        "tMF2MGGUmsNNPf15Nr91%2BUA4YVQiWXVjLS7R0odxGSR0yfNjcHFkdRpCT6hXbILlBP1T%2BTnDJYz1kkDjiaIiQg=="
      ],
      "execution_count": null,
      "outputs": []
    },
    {
      "cell_type": "code",
      "metadata": {
        "colab": {
          "base_uri": "https://localhost:8080/"
        },
        "id": "jnLB5sgz-dYN",
        "outputId": "2fe15bdb-396d-4051-9f28-5ffdbd771bc7"
      },
      "source": [
        "# 우량 관측소 코드 조회(3차_새 코드)\n",
        "import requests, bs4\n",
        "import pandas as pd\n",
        "from lxml import html\n",
        "from urllib.request import Request, urlopen\n",
        "from urllib.parse import urlencode, quote_plus, unquote\n",
        "from time import sleep\n",
        "import csv\n",
        "\n",
        "url = 'http://opendata.kwater.or.kr/openapi-data/service/pubd/dam/excllncobsrvt/excll/list'\n",
        "key = 'jkd4PnVjssNP+g2WeRzs8lgc4SOelLsncvuMr81/9R9nSYKkiQAcb2xt8GTYgTJSQGQ4+htuRuyIXSwRXr210w=='\n",
        "\n",
        "# 댐코드 불러오기\n",
        "data = pd.read_csv('/content/drive/MyDrive/water_resource_csv/damCode.csv')\n",
        "\n",
        "# 필요한 코드 조회\n",
        "damcode = data.iloc[0:5,1]\n",
        "\n",
        "dam = [] \n",
        "for code in damcode:\n",
        "\n",
        "  Params = '?' + urlencode({quote_plus('ServiceKey') : key,\n",
        "                                quote_plus('damcode') : code})\n",
        "  \n",
        "  print(Params)\n",
        "  \n",
        "  res = requests.get(url + Params).text.encode('utf-8') # 요청에 대한 응답내용(.encode빼기도 함)\n",
        "  sleep(0.5)\n",
        "  print(res) \n",
        "  \n",
        "  xmlobj = bs4.BeautifulSoup(res, 'lxml') #lxml 파서(구문분석)  'lxml-xml'\n",
        "  print(xmlobj)\n",
        "  \n",
        "  #item 태그 분리\n",
        "  rows = xmlobj.findAll('item') # 매치되는 문자열을 리스트로 리턴\n",
        "  print(rows)\n",
        "\n",
        "  # 반복문\n",
        "  rowList = []\n",
        "  nameList = []\n",
        "  columnList = []\n",
        "\n",
        "  rowsLen = len(rows)\n",
        "  \n",
        "  for i in range(0, rowsLen):\n",
        "\n",
        "    columns = rows[i].find_all()\n",
        "    \n",
        "    columnsLen = len(columns)\n",
        "    for j in range(0, columnsLen):      \n",
        "\n",
        "      if i == 0:\n",
        "        nameList.append(columns[j].name) # 칼럼명\n",
        "      eachColumn = columns[j].text # 칼럼값\n",
        "      columnList.append(eachColumn)\n",
        "    rowList.append(columnList)\n",
        "    columnList = []\n",
        "\n",
        "  result = pd.DataFrame(rowList, columns=nameList)\n",
        "  dam.append(result) #댐코드별 값 \n",
        "  dam\n",
        "\n",
        "# csv파일로 저장\n",
        "#with open('excll_code.csv','w') as file :\n",
        "  #write = csv.writer(file)\n",
        "    \n"
      ],
      "execution_count": 39,
      "outputs": [
        {
          "output_type": "stream",
          "name": "stdout",
          "text": [
            "?ServiceKey=jkd4PnVjssNP%2Bg2WeRzs8lgc4SOelLsncvuMr81%2F9R9nSYKkiQAcb2xt8GTYgTJSQGQ4%2BhtuRuyIXSwRXr210w%3D%3D&damcode=2403201\n",
            "b'<?xml version=\"1.0\" encoding=\"UTF-8\" standalone=\"yes\"?><response><header><resultCode>00</resultCode><resultMsg>NORMAL SERVICE.</resultMsg></header><body><items><item><excllncobsrvtcode>9000232</excllncobsrvtcode><obsrvtNm>\\xea\\xb2\\xbd\\xec\\xa3\\xbc\\xec\\x8b\\x9c(\\xea\\xb0\\x90\\xed\\x8f\\xac\\xeb\\x8c\\x90)</obsrvtNm></item></items></body></response>'\n",
            "<?xml version=\"1.0\" encoding=\"UTF-8\" standalone=\"yes\"?><html><body><response><header><resultcode>00</resultcode><resultmsg>NORMAL SERVICE.</resultmsg></header><items><item><excllncobsrvtcode>9000232</excllncobsrvtcode><obsrvtnm>경주시(감포댐)</obsrvtnm></item></items></response></body></html>\n",
            "[<item><excllncobsrvtcode>9000232</excllncobsrvtcode><obsrvtnm>경주시(감포댐)</obsrvtnm></item>]\n",
            "?ServiceKey=jkd4PnVjssNP%2Bg2WeRzs8lgc4SOelLsncvuMr81%2F9R9nSYKkiQAcb2xt8GTYgTJSQGQ4%2BhtuRuyIXSwRXr210w%3D%3D&damcode=2011602\n",
            "b'<?xml version=\"1.0\" encoding=\"UTF-8\" standalone=\"yes\"?><response><header><resultCode>00</resultCode><resultMsg>NORMAL SERVICE.</resultMsg></header><body><items/></body></response>'\n",
            "<?xml version=\"1.0\" encoding=\"UTF-8\" standalone=\"yes\"?><html><body><response><header><resultcode>00</resultcode><resultmsg>NORMAL SERVICE.</resultmsg></header><items></items></response></body></html>\n",
            "[]\n",
            "?ServiceKey=jkd4PnVjssNP%2Bg2WeRzs8lgc4SOelLsncvuMr81%2F9R9nSYKkiQAcb2xt8GTYgTJSQGQ4%2BhtuRuyIXSwRXr210w%3D%3D&damcode=1007601\n",
            "b'<?xml version=\"1.0\" encoding=\"UTF-8\" standalone=\"yes\"?><response><header><resultCode>00</resultCode><resultMsg>NORMAL SERVICE.</resultMsg></header><body><items/></body></response>'\n",
            "<?xml version=\"1.0\" encoding=\"UTF-8\" standalone=\"yes\"?><html><body><response><header><resultcode>00</resultcode><resultmsg>NORMAL SERVICE.</resultmsg></header><items></items></response></body></html>\n",
            "[]\n",
            "?ServiceKey=jkd4PnVjssNP%2Bg2WeRzs8lgc4SOelLsncvuMr81%2F9R9nSYKkiQAcb2xt8GTYgTJSQGQ4%2BhtuRuyIXSwRXr210w%3D%3D&damcode=3012601\n",
            "b'<?xml version=\"1.0\" encoding=\"UTF-8\" standalone=\"yes\"?><response><header><resultCode>00</resultCode><resultMsg>NORMAL SERVICE.</resultMsg></header><body><items/></body></response>'\n",
            "<?xml version=\"1.0\" encoding=\"UTF-8\" standalone=\"yes\"?><html><body><response><header><resultcode>00</resultcode><resultmsg>NORMAL SERVICE.</resultmsg></header><items></items></response></body></html>\n",
            "[]\n",
            "?ServiceKey=jkd4PnVjssNP%2Bg2WeRzs8lgc4SOelLsncvuMr81%2F9R9nSYKkiQAcb2xt8GTYgTJSQGQ4%2BhtuRuyIXSwRXr210w%3D%3D&damcode=1001210\n",
            "b'<?xml version=\"1.0\" encoding=\"UTF-8\" standalone=\"yes\"?><response><header><resultCode>00</resultCode><resultMsg>NORMAL SERVICE.</resultMsg></header><body><items><item><excllncobsrvtcode>9000040</excllncobsrvtcode><obsrvtNm>\\xec\\x82\\xbc\\xec\\xb2\\x99\\xec\\x8b\\x9c(\\xea\\xb4\\x91\\xeb\\x8f\\x99\\xeb\\x8c\\x90)</obsrvtNm></item><item><excllncobsrvtcode>1001452</excllncobsrvtcode><obsrvtNm>\\xed\\x83\\x9c\\xeb\\xb0\\xb1\\xec\\x8b\\x9c(\\xec\\x83\\x81\\xec\\x82\\xac\\xeb\\xaf\\xb8\\xeb\\x8f\\x99)</obsrvtNm></item></items></body></response>'\n",
            "<?xml version=\"1.0\" encoding=\"UTF-8\" standalone=\"yes\"?><html><body><response><header><resultcode>00</resultcode><resultmsg>NORMAL SERVICE.</resultmsg></header><items><item><excllncobsrvtcode>9000040</excllncobsrvtcode><obsrvtnm>삼척시(광동댐)</obsrvtnm></item><item><excllncobsrvtcode>1001452</excllncobsrvtcode><obsrvtnm>태백시(상사미동)</obsrvtnm></item></items></response></body></html>\n",
            "[<item><excllncobsrvtcode>9000040</excllncobsrvtcode><obsrvtnm>삼척시(광동댐)</obsrvtnm></item>, <item><excllncobsrvtcode>1001452</excllncobsrvtcode><obsrvtnm>태백시(상사미동)</obsrvtnm></item>]\n"
          ]
        }
      ]
    },
    {
      "cell_type": "code",
      "metadata": {
        "colab": {
          "base_uri": "https://localhost:8080/"
        },
        "id": "8HYrLtIf-2NU",
        "outputId": "fd65a3d0-6945-4abf-cae0-7f3a79917c59"
      },
      "source": [
        "dam\n",
        "#type(dam)"
      ],
      "execution_count": 46,
      "outputs": [
        {
          "output_type": "execute_result",
          "data": {
            "text/plain": [
              "[  excllncobsrvtcode  obsrvtnm\n",
              " 0           9000232  경주시(감포댐), Empty DataFrame\n",
              " Columns: []\n",
              " Index: [], Empty DataFrame\n",
              " Columns: []\n",
              " Index: [], Empty DataFrame\n",
              " Columns: []\n",
              " Index: [],   excllncobsrvtcode   obsrvtnm\n",
              " 0           9000040   삼척시(광동댐)\n",
              " 1           1001452  태백시(상사미동)]"
            ]
          },
          "metadata": {},
          "execution_count": 46
        }
      ]
    },
    {
      "cell_type": "code",
      "metadata": {
        "id": "GXQD0qX3Azzj"
      },
      "source": [
        "# csv 모듈 import하기 \n",
        "import csv \n",
        "\n",
        "# list 만들기 \n",
        "\n",
        "# csv파일로 적기 \n",
        "# newline 설정을 안하면 한줄마다 공백있는 줄이 생긴다.\n",
        "with open('excll_2.csv', 'w', newline='', encoding='utf-8-sig') as f:\n",
        "  writer = csv.writer(f)\n",
        "  writer.writerow(dam)"
      ],
      "execution_count": 50,
      "outputs": []
    },
    {
      "cell_type": "code",
      "metadata": {
        "colab": {
          "base_uri": "https://localhost:8080/"
        },
        "id": "J3bAXeAxMH8B",
        "outputId": "8b64d110-621d-48d0-b416-13a71a887641"
      },
      "source": [
        "print(result)\n",
        "type(result)\n",
        "\n",
        "sam = pd.DataFrame(result)\n",
        "sam.to_csv(\"result.csv\", encoding='utf-8-sig')"
      ],
      "execution_count": 54,
      "outputs": [
        {
          "output_type": "stream",
          "name": "stdout",
          "text": [
            "  excllncobsrvtcode   obsrvtnm\n",
            "0           9000040   삼척시(광동댐)\n",
            "1           1001452  태백시(상사미동)\n"
          ]
        }
      ]
    },
    {
      "cell_type": "code",
      "metadata": {
        "colab": {
          "base_uri": "https://localhost:8080/",
          "height": 257
        },
        "id": "_9ViH_PgYgem",
        "outputId": "650e2df1-49b8-423a-8d41-6dbee8dddc6f"
      },
      "source": [
        "#리스트 데이터프레임화\n",
        "damFrame = pd.DataFrame(dam)\n",
        "damFrame\n"
      ],
      "execution_count": 56,
      "outputs": [
        {
          "output_type": "stream",
          "name": "stderr",
          "text": [
            "/usr/local/lib/python3.7/dist-packages/pandas/core/internals/construction.py:305: VisibleDeprecationWarning: Creating an ndarray from ragged nested sequences (which is a list-or-tuple of lists-or-tuples-or ndarrays with different lengths or shapes) is deprecated. If you meant to do this, you must specify 'dtype=object' when creating the ndarray\n",
            "  values = np.array([convert(v) for v in values])\n"
          ]
        },
        {
          "output_type": "execute_result",
          "data": {
            "text/html": [
              "<div>\n",
              "<style scoped>\n",
              "    .dataframe tbody tr th:only-of-type {\n",
              "        vertical-align: middle;\n",
              "    }\n",
              "\n",
              "    .dataframe tbody tr th {\n",
              "        vertical-align: top;\n",
              "    }\n",
              "\n",
              "    .dataframe thead th {\n",
              "        text-align: right;\n",
              "    }\n",
              "</style>\n",
              "<table border=\"1\" class=\"dataframe\">\n",
              "  <thead>\n",
              "    <tr style=\"text-align: right;\">\n",
              "      <th></th>\n",
              "      <th>0</th>\n",
              "    </tr>\n",
              "  </thead>\n",
              "  <tbody>\n",
              "    <tr>\n",
              "      <th>0</th>\n",
              "      <td>excllncobsrvtcode  obsrvtnm\n",
              "0           9000...</td>\n",
              "    </tr>\n",
              "    <tr>\n",
              "      <th>1</th>\n",
              "      <td>Empty DataFrame\n",
              "Columns: []\n",
              "Index: []</td>\n",
              "    </tr>\n",
              "    <tr>\n",
              "      <th>2</th>\n",
              "      <td>Empty DataFrame\n",
              "Columns: []\n",
              "Index: []</td>\n",
              "    </tr>\n",
              "    <tr>\n",
              "      <th>3</th>\n",
              "      <td>Empty DataFrame\n",
              "Columns: []\n",
              "Index: []</td>\n",
              "    </tr>\n",
              "    <tr>\n",
              "      <th>4</th>\n",
              "      <td>excllncobsrvtcode   obsrvtnm\n",
              "0           900...</td>\n",
              "    </tr>\n",
              "  </tbody>\n",
              "</table>\n",
              "</div>"
            ],
            "text/plain": [
              "                                                   0\n",
              "0    excllncobsrvtcode  obsrvtnm\n",
              "0           9000...\n",
              "1              Empty DataFrame\n",
              "Columns: []\n",
              "Index: []\n",
              "2              Empty DataFrame\n",
              "Columns: []\n",
              "Index: []\n",
              "3              Empty DataFrame\n",
              "Columns: []\n",
              "Index: []\n",
              "4    excllncobsrvtcode   obsrvtnm\n",
              "0           900..."
            ]
          },
          "metadata": {},
          "execution_count": 56
        }
      ]
    },
    {
      "cell_type": "code",
      "metadata": {
        "id": "kUY-olR9nCo7"
      },
      "source": [
        ""
      ],
      "execution_count": null,
      "outputs": []
    }
  ]
}