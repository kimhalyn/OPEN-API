{
  "nbformat": 4,
  "nbformat_minor": 0,
  "metadata": {
    "colab": {
      "name": "test.ipynb",
      "provenance": [],
      "collapsed_sections": [],
      "mount_file_id": "1moJUh8GrIK_UHTjKzfBi3l5_DkhmcaDK",
      "authorship_tag": "ABX9TyMyfRZ0SXaSDsIovA4BVSac",
      "include_colab_link": true
    },
    "kernelspec": {
      "name": "python3",
      "display_name": "Python 3"
    },
    "language_info": {
      "name": "python"
    }
  },
  "cells": [
    {
      "cell_type": "markdown",
      "metadata": {
        "id": "view-in-github",
        "colab_type": "text"
      },
      "source": [
        "<a href=\"https://colab.research.google.com/github/kimhalyn/OPEN-API/blob/main/test.ipynb\" target=\"_parent\"><img src=\"https://colab.research.google.com/assets/colab-badge.svg\" alt=\"Open In Colab\"/></a>"
      ]
    },
    {
      "cell_type": "code",
      "metadata": {
        "colab": {
          "base_uri": "https://localhost:8080/"
        },
        "id": "mHLEgEXt-YLJ",
        "outputId": "4a583a87-3959-4bdd-c842-00d5f3f25e89"
      },
      "source": [
        "# 라이브러리\n",
        "# colab에 xmltodict 라이브러리가 기본 설치되지 않으므로 별도 설치(외부 라이브러리)\n",
        "!pip install xmltodict \n",
        "from urllib.request import urlopen\n",
        "from urllib.parse import urlencode, unquote, quote_plus\n",
        "from bs4 import BeautifulSoup\n",
        "import pandas as pd\n",
        "import requests, xmltodict, json"
      ],
      "execution_count": 1,
      "outputs": [
        {
          "output_type": "stream",
          "name": "stdout",
          "text": [
            "Collecting xmltodict\n",
            "  Downloading xmltodict-0.12.0-py2.py3-none-any.whl (9.2 kB)\n",
            "Installing collected packages: xmltodict\n",
            "Successfully installed xmltodict-0.12.0\n"
          ]
        }
      ]
    },
    {
      "cell_type": "code",
      "metadata": {
        "colab": {
          "base_uri": "https://localhost:8080/"
        },
        "id": "19_e9IU8-bfd",
        "outputId": "a701e3d1-40a2-4e35-c5f3-7c4fa7d7eb2e"
      },
      "source": [
        "# 판다스로 csv 파일 불러오기_iloc 사용\n",
        "data = pd.read_csv('/content/drive/MyDrive/water_resource_csv/damCode.csv')\n",
        "\n",
        "# 필요한 행,열만 추출\n",
        "damcode = data.iloc[0:2,1]\n",
        "#damcode = data.iloc[27,1]\n",
        "for code in damcode:\n",
        "  print(code)"
      ],
      "execution_count": 2,
      "outputs": [
        {
          "output_type": "stream",
          "name": "stdout",
          "text": [
            "2403201\n",
            "2011602\n"
          ]
        }
      ]
    },
    {
      "cell_type": "code",
      "metadata": {
        "id": "jnLB5sgz-dYN"
      },
      "source": [
        "# 우량 관측소 코드 조회(3차_새 코드)\n",
        "import requests, bs4\n",
        "import pandas as pd\n",
        "from lxml import html\n",
        "from urllib.request import Request, urlopen\n",
        "from urllib.parse import urlencode, quote_plus, unquote\n",
        "from time import sleep\n",
        "\n",
        "url = 'http://opendata.kwater.or.kr/openapi-data/service/pubd/dam/excllncobsrvt/excll/list'\n",
        "key = 'tMF2MGGUmsNNPf15Nr91%2BUA4YVQiWXVjLS7R0odxGSR0yfNjcHFkdRpCT6hXbILlBP1T%2BTnDJYz1kkDjiaIiQg=='  #디코딩 사용\n",
        "\n",
        "# 댐코드 불러오기\n",
        "data = pd.read_csv('/content/drive/MyDrive/water_resource_csv/damCode.csv')\n",
        "\n",
        "# 필요한 코드 조회\n",
        "damcode = data.iloc[0:2,1]\n",
        "\n",
        "dam = [] \n",
        "for code in damcode:\n",
        "\n",
        "  Params = '?' + urlencode({quote_plus('ServiceKey') : key,\n",
        "                                quote_plus('damcode') : code})\n",
        "  \n",
        "  #print(Params)\n",
        "  res = requests.get(url + Params).text.encode('utf-8') # 요청에 대한 응답내용(.encode빼기도 함)\n",
        "  sleep(0.5)\n",
        "  #print(res) \n",
        "  xmlobj = bs4.BeautifulSoup(res, 'lxml') #lxml 파서(구문분석)  'lxml-xml'\n",
        "\n",
        "  #item 태그 분리\n",
        "  rows = xmlobj.findAll('item') # 매치되는 문자열을 리스트로 리턴\n",
        "  #print(rows)\n",
        "\n",
        "  # 반복문\n",
        "  rowList = []\n",
        "  nameList = []\n",
        "  columnList = []\n",
        "\n",
        "  rowsLen = len(rows)\n",
        "  \n",
        "  for i in range(0, rowsLen):\n",
        "\n",
        "    columns = rows[i].find_all()\n",
        "    \n",
        "    columnsLen = len(columns)\n",
        "    for j in range(0, columnsLen):   \n",
        "\n",
        "      if i == 0:\n",
        "        nameList.append(columns[j].name) # 칼럼명\n",
        "      eachColumn = columns[j].text # 칼럼값\n",
        "      columnList.append(eachColumn)\n",
        "    rowList.append(columnList)\n",
        "    columnList = []\n",
        "\n",
        "  result = pd.DataFrame(rowList, columns=nameList)\n",
        "  dam.append(result)\n",
        "\n",
        "\n",
        "\n",
        "\n",
        "# csv파일로 저장\n",
        "# df = pd.DataFrame(rowList, columns=nameList)\n",
        "# df.to_csv(\"review.csv\", encoding='utf-8-sig')"
      ],
      "execution_count": 3,
      "outputs": []
    },
    {
      "cell_type": "code",
      "metadata": {
        "id": "8HYrLtIf-2NU"
      },
      "source": [
        "print()"
      ],
      "execution_count": null,
      "outputs": []
    },
    {
      "cell_type": "code",
      "metadata": {
        "id": "GXQD0qX3Azzj"
      },
      "source": [
        ""
      ],
      "execution_count": null,
      "outputs": []
    }
  ]
}