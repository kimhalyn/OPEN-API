{
  "nbformat": 4,
  "nbformat_minor": 0,
  "metadata": {
    "colab": {
      "name": "make_csv.ipynb",
      "provenance": [],
      "collapsed_sections": [],
      "mount_file_id": "14_uSw95_2TxTYQYG9qqLcDqqe0-9t5bE",
      "authorship_tag": "ABX9TyP7M0kbC8CDlVZYuObEbo2s",
      "include_colab_link": true
    },
    "kernelspec": {
      "name": "python3",
      "display_name": "Python 3"
    },
    "language_info": {
      "name": "python"
    }
  },
  "cells": [
    {
      "cell_type": "markdown",
      "metadata": {
        "id": "view-in-github",
        "colab_type": "text"
      },
      "source": [
        "<a href=\"https://colab.research.google.com/github/kimhalyn/OPEN-API/blob/main/make_csv.ipynb\" target=\"_parent\"><img src=\"https://colab.research.google.com/assets/colab-badge.svg\" alt=\"Open In Colab\"/></a>"
      ]
    },
    {
      "cell_type": "code",
      "metadata": {
        "id": "dduzY6-T146c"
      },
      "source": [
        "#1.부산광역시_주요도로 침수 정보\n",
        "import requests\n",
        "import pandas as pd"
      ],
      "execution_count": null,
      "outputs": []
    },
    {
      "cell_type": "code",
      "metadata": {
        "id": "xk_C9iXk1bsS"
      },
      "source": [
        "res=requests.get('http://apis.data.go.kr/6260000/BusanWaterImrsnInfoService/getWaterImrsnInfo?serviceKey=jkd4PnVjssNP%2Bg2WeRzs8lgc4SOelLsncvuMr81%2F9R9nSYKkiQAcb2xt8GTYgTJSQGQ4%2BhtuRuyIXSwRXr210w%3D%3D&numOfRows=10&pageNo=1&resultType=json')\n",
        "data=res.json()\n",
        "items=data['getWaterImrsnInfo']['item']\n",
        "df_items=pd.DataFrame(items)\n",
        "df_items.to_csv('부산광역시 주요도로 침수 정보.csv' ,encoding='utf-8-sig')"
      ],
      "execution_count": null,
      "outputs": []
    },
    {
      "cell_type": "code",
      "metadata": {
        "id": "IZJzd82LfILs"
      },
      "source": [
        "# xml 데이터 변환\n",
        "# 2.한국수자원공사_우량수위 관측정보\n",
        "#!pip install xmltodict\n",
        "import requests, xmltodict, json\n",
        "import numpy as np\n",
        "import pandas as pd\n",
        "import matplotlib.pyplot as plt\n",
        "\n",
        "# (1)우량 분강우량 조회\n",
        "res = requests.get('http://opendata.kwater.or.kr/openapi-data/service/pubd/dam/excllncobsrvt/mntrf/list?sdate=2014-12-01&stime=01&edate=2014-12-01&etime=15&excll=1012432&tms=10&numOfRows=10&pageNo=1&ServiceKey=jkd4PnVjssNP%2Bg2WeRzs8lgc4SOelLsncvuMr81%2F9R9nSYKkiQAcb2xt8GTYgTJSQGQ4%2BhtuRuyIXSwRXr210w%3D%3D')\n",
        "dict_res = xmltodict.parse(res.content)\n",
        "json_str = json.dumps(dict_res['response']['body']['items'], ensure_ascii=False)\n",
        "\n",
        "json_obj = json.loads(json_str)\n",
        "df = pd.DataFrame(json_obj['item'])\n",
        "df.to_csv('test.csv' ,encoding='utf-8-sig')"
      ],
      "execution_count": null,
      "outputs": []
    },
    {
      "cell_type": "code",
      "metadata": {
        "id": "qaqziWFEBmfg"
      },
      "source": [
        "# xml 데이터 변환\n",
        "# 2.한국수자원공사_우량수위 관측정보\n",
        "#!pip install xmltodict\n",
        "import requests, xmltodict, json\n",
        "import numpy as np\n",
        "import pandas as pd\n",
        "import matplotlib.pyplot as plt\n",
        "\n",
        "# (1)우량 분강우량 조회\n",
        "res = requests.get('http://opendata.kwater.or.kr/openapi-data/service/pubd/dam/excllncobsrvt/mntrf/list?sdate=2014-12-01&stime=01&edate=2014-12-01&etime=15&excll=1012432&tms=10&numOfRows=10&pageNo=1&ServiceKey=jkd4PnVjssNP%2Bg2WeRzs8lgc4SOelLsncvuMr81%2F9R9nSYKkiQAcb2xt8GTYgTJSQGQ4%2BhtuRuyIXSwRXr210w%3D%3D')\n",
        "dict_res = xmltodict.parse(res.content)\n",
        "json_str = json.dumps(dict_res['response']['body']['items'], ensure_ascii=False)\n",
        "\n",
        "json_obj = json.loads(json_str)\n",
        "df = pd.DataFrame(json_obj['item'])\n",
        "df.to_csv('한수원 우량수위 관측_우량 분강우량.csv' ,encoding='utf-8-sig')\n",
        "\n",
        "# (2)우량 시강우량 조회\n",
        "res = requests.get('http://opendata.kwater.or.kr/openapi-data/service/pubd/dam/excllncobsrvt/hourrf/list?sdate=2014-12-01&stime=01&edate=2014-12-01&etime=15&damcode=1012110&excll=1012432&numOfRows=10&pageNo=1&ServiceKey=jkd4PnVjssNP%2Bg2WeRzs8lgc4SOelLsncvuMr81%2F9R9nSYKkiQAcb2xt8GTYgTJSQGQ4%2BhtuRuyIXSwRXr210w%3D%3D')\n",
        "dict_res = xmltodict.parse(res.content)\n",
        "json_str = json.dumps(dict_res['response']['body']['items'], ensure_ascii=False)\n",
        "\n",
        "json_obj = json.loads(json_str)\n",
        "df = pd.DataFrame(json_obj['item'])\n",
        "df.to_csv('한수원 우량수위 관측_우량 시강우량.csv' ,encoding='utf-8-sig')\n",
        "\n",
        "# (3)수위 분강우량 조회\n",
        "res = requests.get('http://opendata.kwater.or.kr/openapi-data/service/pubd/dam/excllncobsrvt/mntwal/list?sdate=2014-12-18&stime=00&edate=2014-12-18&etime=23&damcode=1012110&wal=1010640&tms=10&numOfRows=10&pageNo=1&ServiceKey=jkd4PnVjssNP%2Bg2WeRzs8lgc4SOelLsncvuMr81%2F9R9nSYKkiQAcb2xt8GTYgTJSQGQ4%2BhtuRuyIXSwRXr210w%3D%3D')\n",
        "dict_res = xmltodict.parse(res.content)\n",
        "json_str = json.dumps(dict_res['response']['body']['items'], ensure_ascii=False)\n",
        "\n",
        "json_obj = json.loads(json_str)\n",
        "df = pd.DataFrame(json_obj['item'])\n",
        "df.to_csv('한수원 우량수위 관측_우량 분강우량.csv' ,encoding='utf-8-sig')\n",
        "\n",
        "# 수위 시강우량 조회\n",
        "res = requests.get('http://opendata.kwater.or.kr/openapi-data/service/pubd/dam/excllncobsrvt/mntrf/list?sdate=2014-12-01&stime=01&edate=2014-12-01&etime=15&excll=1012432&tms=10&numOfRows=10&pageNo=1&ServiceKey=jkd4PnVjssNP%2Bg2WeRzs8lgc4SOelLsncvuMr81%2F9R9nSYKkiQAcb2xt8GTYgTJSQGQ4%2BhtuRuyIXSwRXr210w%3D%3D')\n",
        "dict_res = xmltodict.parse(res.content)\n",
        "json_str = json.dumps(dict_res['response']['body']['items'], ensure_ascii=False)\n",
        "\n",
        "json_obj = json.loads(json_str)\n",
        "df = pd.DataFrame(json_obj['item'])\n",
        "df.to_csv('한수원 우량수위 관측_우량 분강우량.csv' ,encoding='utf-8-sig')\n",
        "\n",
        "# 우량 관측소 코드 조회\n",
        "res = requests.get('http://opendata.kwater.or.kr/openapi-data/service/pubd/dam/excllncobsrvt/mntrf/list?sdate=2014-12-01&stime=01&edate=2014-12-01&etime=15&excll=1012432&tms=10&numOfRows=10&pageNo=1&ServiceKey=jkd4PnVjssNP%2Bg2WeRzs8lgc4SOelLsncvuMr81%2F9R9nSYKkiQAcb2xt8GTYgTJSQGQ4%2BhtuRuyIXSwRXr210w%3D%3D')\n",
        "dict_res = xmltodict.parse(res.content)\n",
        "json_str = json.dumps(dict_res['response']['body']['items'], ensure_ascii=False)\n",
        "\n",
        "json_obj = json.loads(json_str)\n",
        "df = pd.DataFrame(json_obj['item'])\n",
        "df.to_csv('한수원 우량수위 관측_우량 분강우량.csv' ,encoding='utf-8-sig')\n",
        "\n",
        "# 수위 관측소 코드 조회\n",
        "res = requests.get('http://opendata.kwater.or.kr/openapi-data/service/pubd/dam/excllncobsrvt/mntrf/list?sdate=2014-12-01&stime=01&edate=2014-12-01&etime=15&excll=1012432&tms=10&numOfRows=10&pageNo=1&ServiceKey=jkd4PnVjssNP%2Bg2WeRzs8lgc4SOelLsncvuMr81%2F9R9nSYKkiQAcb2xt8GTYgTJSQGQ4%2BhtuRuyIXSwRXr210w%3D%3D')\n",
        "dict_res = xmltodict.parse(res.content)\n",
        "json_str = json.dumps(dict_res['response']['body']['items'], ensure_ascii=False)\n",
        "\n",
        "json_obj = json.loads(json_str)\n",
        "df = pd.DataFrame(json_obj['item'])\n",
        "df.to_csv('한수원 우량수위 관측_우량 분강우량.csv' ,encoding='utf-8-sig')"
      ],
      "execution_count": null,
      "outputs": []
    },
    {
      "cell_type": "code",
      "metadata": {
        "id": "fX0jtnWj9php"
      },
      "source": [
        "# 3. 부산광역시_하천 수질(자동측정망)정보 \n",
        "# 부산 하천수질(자동측정망) 측정소별 현황 조회\n",
        "res=requests.get('http://apis.data.go.kr/6260000/RiverQualityService/getRiverQualityStation?serviceKey=jkd4PnVjssNP%2Bg2WeRzs8lgc4SOelLsncvuMr81%2F9R9nSYKkiQAcb2xt8GTYgTJSQGQ4%2BhtuRuyIXSwRXr210w%3D%3D&numOfRows=5&pageNo=1&resultType=json')\n",
        "data=res.json()\n",
        "items=data['getRiverQualityStation']['item']\n",
        "df_items=pd.DataFrame(items)\n",
        "df_items.to_csv('부산광역시 하천 수질(자동측정망)정보_측정소별 현황.csv' ,encoding='utf-8-sig')\n",
        "\n",
        "# 부산 하천수질(자동측정망) 항목별 현황 조회\n",
        "res=requests.get('http://apis.data.go.kr/6260000/RiverQualityService/getRiverQualityItem?serviceKey=jkd4PnVjssNP%2Bg2WeRzs8lgc4SOelLsncvuMr81%2F9R9nSYKkiQAcb2xt8GTYgTJSQGQ4%2BhtuRuyIXSwRXr210w%3D%3D&numOfRows=5&pageNo=1&resultType=json')\n",
        "data=res.json()\n",
        "items=data['getRiverQualityItem']['item']\n",
        "df_items=pd.DataFrame(items)\n",
        "df_items.to_csv('부산광역시 하천 수질()정보_항목별 현황.csv' ,encoding='utf-8-sig')"
      ],
      "execution_count": null,
      "outputs": []
    },
    {
      "cell_type": "code",
      "metadata": {
        "id": "pEGUoXJFG3Ev"
      },
      "source": [
        "# 4. 부산광역시 하천수질(수질측정망)정보\n",
        "res=requests.get('http://apis.data.go.kr/6260000/BusanRvrwtQltyInfoService/getRvrwtQltyInfo?serviceKey=jkd4PnVjssNP%2Bg2WeRzs8lgc4SOelLsncvuMr81%2F9R9nSYKkiQAcb2xt8GTYgTJSQGQ4%2BhtuRuyIXSwRXr210w%3D%3D&numOfRows=10&pageNo=1&resultType=json')\n",
        "data=res.json()\n",
        "items=data['getRvrwtQltyInfo']['item']\n",
        "df_items=pd.DataFrame(items)\n",
        "df_items.to_csv('부산광역시 하천 수질(수질측정망)정보.csv' ,encoding='utf-8-sig')"
      ],
      "execution_count": null,
      "outputs": []
    },
    {
      "cell_type": "code",
      "metadata": {
        "id": "5EGR9ej8G2wR"
      },
      "source": [
        "# 5. 부산광역시 주요 하천 수위 정보\n",
        "res=requests.get('http://apis.data.go.kr/6260000/BusanRvrwtLevelInfoService/getRvrwtLevelInfo?serviceKey=jkd4PnVjssNP%2Bg2WeRzs8lgc4SOelLsncvuMr81%2F9R9nSYKkiQAcb2xt8GTYgTJSQGQ4%2BhtuRuyIXSwRXr210w%3D%3D&numOfRows=10&pageNo=1&resultType=json')\n",
        "data=res.json()\n",
        "items=data['getRvrwtLevelInfo']['item']\n",
        "df_items=pd.DataFrame(items)\n",
        "df_items.to_csv('부산광역시 주요 하천 수위 정보.csv' ,encoding='utf-8-sig')"
      ],
      "execution_count": null,
      "outputs": []
    },
    {
      "cell_type": "code",
      "metadata": {
        "id": "hxBV_PV294IJ"
      },
      "source": [
        "# 6. 한국국토정보공사_대피소 서비스\n",
        "# 대피소wfs 정보 조회 서비스\n",
        "\n",
        "# 대피소wms 조회 서비스\n",
        "\n",
        "# 대피소 속성 정보 조회 서비스"
      ],
      "execution_count": null,
      "outputs": []
    }
  ]
}