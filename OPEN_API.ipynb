{
  "nbformat": 4,
  "nbformat_minor": 0,
  "metadata": {
    "colab": {
      "name": "OPEN API.ipynb",
      "provenance": [],
      "collapsed_sections": [],
      "mount_file_id": "1jOBksCmM2nDGcDcp7YG3CChXAWKqUD7u",
      "authorship_tag": "ABX9TyOHsJ6hr7NXBGpirqUMbTnF",
      "include_colab_link": true
    },
    "kernelspec": {
      "name": "python3",
      "display_name": "Python 3"
    },
    "language_info": {
      "name": "python"
    }
  },
  "cells": [
    {
      "cell_type": "markdown",
      "metadata": {
        "id": "view-in-github",
        "colab_type": "text"
      },
      "source": [
        "<a href=\"https://colab.research.google.com/github/kimhalyn/OPEN-API/blob/main/OPEN_API.ipynb\" target=\"_parent\"><img src=\"https://colab.research.google.com/assets/colab-badge.svg\" alt=\"Open In Colab\"/></a>"
      ]
    },
    {
      "cell_type": "code",
      "metadata": {
        "id": "9GJnBRsRJX-Y"
      },
      "source": [
        "# 샘플 1(성공)\n",
        "#!pip install xmltodict\n",
        "import requests, xmltodict, json\n",
        "import pandas as pd\n",
        "\n",
        "res = requests.get('http://opendata.kwater.or.kr/openapi-data/service/pubd/dam/excllncobsrvt/mntrf/list?sdate=2018-01-01&stime=00&edate=2018-01-01&etime=24&excll=1012432&tms=10&numOfRows=600000&pageNo=1&ServiceKey=jkd4PnVjssNP%2Bg2WeRzs8lgc4SOelLsncvuMr81%2F9R9nSYKkiQAcb2xt8GTYgTJSQGQ4%2BhtuRuyIXSwRXr210w%3D%3D')\n",
        "dict_res = xmltodict.parse(res.content)\n",
        "json_str = json.dumps(dict_res['response']['body']['items'], ensure_ascii=False)\n",
        "\n",
        "json_obj = json.loads(json_str)\n",
        "df = pd.DataFrame(json_obj['item'])\n",
        "df.to_csv('test.csv' ,encoding='utf-8-sig')"
      ],
      "execution_count": null,
      "outputs": []
    },
    {
      "cell_type": "code",
      "metadata": {
        "id": "GjYvz8SpN9ON"
      },
      "source": [
        "# 샘플2 (성공)\n",
        "#!pip install xmltodict\n",
        "import requests, xmltodict, json\n",
        "import pandas as pd\n",
        "\n",
        "key = \"jkd4PnVjssNP%2Bg2WeRzs8lgc4SOelLsncvuMr81%2F9R9nSYKkiQAcb2xt8GTYgTJSQGQ4%2BhtuRuyIXSwRXr210w%3D%3D\"\n",
        "url = \"http://opendata.kwater.or.kr/openapi-data/service/pubd/dam/excllncobsrvt/mntrf/list?sdate=2014-12-01&stime=01&edate=2014-12-01&etime=15&excll=1012432&tms=10&numOfRows=10&pageNo=1&ServiceKey={}\".format(key)\n",
        "\n",
        "content = requests.get(url).content\n",
        "dict = xmltodict.parse(content)\n",
        "jsonString = json.dumps(dict['response']['body']['items'], ensure_ascii=False) # json.dumps 기본값이 아스키라서 입력 False 지정\n",
        "jsonObj = json.loads(jsonString) # 문자열을 dictionary로 변환\n",
        "\n",
        "df = pd.DataFrame(jsonObj['item'])\n",
        "df.to_csv('sample.csv' ,encoding='utf-8-sig')"
      ],
      "execution_count": null,
      "outputs": []
    },
    {
      "cell_type": "code",
      "metadata": {
        "id": "_uZZeWucNrvW"
      },
      "source": [
        "# 깃허브 원본\n",
        "import requests, xmltodict, json\n",
        "import pandas as pd\n",
        "\n",
        "key = \"QOIyVxx7oVtU%2B03Na7PG6BWsVsElYmp8921ouUzpePsIOHFnNAOXhlYy4lrwBeG31dKKRfdKRmTY2CY034o2qw%3D%3D\"\n",
        "url = \"http://apis.data.go.kr/B551182/nonPaymentDamtInfoService/getNonPaymentItemCodeList?pageNo=1&numOfRows=100&ServiceKey={}\".format(key)\n",
        "\n",
        "content = requests.get(url).content\n",
        "dict = xmltodict.parse(content)\n",
        "jsonString = json.dumps(dict['response']['body'], ensure_ascii=False)\n",
        "jsonObj = json.loads(jsonString)\n",
        "\n",
        "for item in jsonObj['items']['item']:\n",
        "    print(item)"
      ],
      "execution_count": null,
      "outputs": []
    },
    {
      "cell_type": "code",
      "metadata": {
        "colab": {
          "base_uri": "https://localhost:8080/",
          "height": 244
        },
        "id": "G0bcOMcX5AlT",
        "outputId": "ee3f5d44-a12a-4ff7-93ce-c9d1c374dc00"
      },
      "source": [
        "#!pip install xmltodict(수정필요..에러남..)\n",
        "from bs4 import BeautifulSoup\n",
        "import pandas as pd\n",
        "import requests, xmltodict, json\n",
        "\n",
        "url = 'http://opendata.kwater.or.kr/openapi-data/service/pubd/dam/excllncobsrvt/mntrf/list'\n",
        "key = 'jkd4PnVjssNP+g2WeRzs8lgc4SOelLsncvuMr81/9R9nSYKkiQAcb2xt8GTYgTJSQGQ4+htuRuyIXSwRXr210w=='\n",
        "\n",
        "Params = '?' + \\\n",
        "        '&sdate=' + '2018-01-01' + \\\n",
        "        '&stime=' + '00' + \\\n",
        "        '&edate=' + '2018-01-31' + \\\n",
        "        '&etime=' + '24' + \\\n",
        "        '&excll=' + '1012432' + \\\n",
        "        '&tms=' + '10' + \\\n",
        "        '&numOfRows=' + '10' + \\\n",
        "        '&pageNo=' + '1' + \\\n",
        "        '&ServiceKey=' + key\n",
        "              \n",
        "              # \\ 뒤에 공백 금지\n",
        "\n",
        "result = requests.get(url + Params)\n",
        "dict = xmltodict.parse(result.content)\n",
        "json_str = json.dumps(dict['response']['body']['items'], ensure_ascii=False)\n",
        "json_obj = json.loads(json_str)\n",
        "df = pd.DataFrame(json_obj['item'])\n",
        "df.to_csv(\"sample_test.csv\",encoding='utf-8-sig')\n",
        "\n",
        "# column 지정\n",
        "# li = ['stnId','tm','avgTa','minTa','maxTa','sumRn','maxWs','avgWs','ddMes']\n",
        "# data.loc[:,li]\n"
      ],
      "execution_count": null,
      "outputs": [
        {
          "output_type": "error",
          "ename": "KeyError",
          "evalue": "ignored",
          "traceback": [
            "\u001b[0;31m---------------------------------------------------------------------------\u001b[0m",
            "\u001b[0;31mKeyError\u001b[0m                                  Traceback (most recent call last)",
            "\u001b[0;32m<ipython-input-60-017448453d22>\u001b[0m in \u001b[0;36m<module>\u001b[0;34m()\u001b[0m\n\u001b[1;32m     13\u001b[0m \u001b[0mresult\u001b[0m \u001b[0;34m=\u001b[0m \u001b[0mrequests\u001b[0m\u001b[0;34m.\u001b[0m\u001b[0mget\u001b[0m\u001b[0;34m(\u001b[0m\u001b[0murl\u001b[0m \u001b[0;34m+\u001b[0m \u001b[0mParams\u001b[0m\u001b[0;34m)\u001b[0m\u001b[0;34m\u001b[0m\u001b[0;34m\u001b[0m\u001b[0m\n\u001b[1;32m     14\u001b[0m \u001b[0mdict\u001b[0m \u001b[0;34m=\u001b[0m \u001b[0mxmltodict\u001b[0m\u001b[0;34m.\u001b[0m\u001b[0mparse\u001b[0m\u001b[0;34m(\u001b[0m\u001b[0mresult\u001b[0m\u001b[0;34m.\u001b[0m\u001b[0mcontent\u001b[0m\u001b[0;34m)\u001b[0m\u001b[0;34m\u001b[0m\u001b[0;34m\u001b[0m\u001b[0m\n\u001b[0;32m---> 15\u001b[0;31m \u001b[0mjson_str\u001b[0m \u001b[0;34m=\u001b[0m \u001b[0mjson\u001b[0m\u001b[0;34m.\u001b[0m\u001b[0mdumps\u001b[0m\u001b[0;34m(\u001b[0m\u001b[0mdict\u001b[0m\u001b[0;34m[\u001b[0m\u001b[0;34m'response'\u001b[0m\u001b[0;34m]\u001b[0m\u001b[0;34m[\u001b[0m\u001b[0;34m'body'\u001b[0m\u001b[0;34m]\u001b[0m\u001b[0;34m[\u001b[0m\u001b[0;34m'items'\u001b[0m\u001b[0;34m]\u001b[0m\u001b[0;34m,\u001b[0m \u001b[0mensure_ascii\u001b[0m\u001b[0;34m=\u001b[0m\u001b[0;32mFalse\u001b[0m\u001b[0;34m)\u001b[0m\u001b[0;34m\u001b[0m\u001b[0;34m\u001b[0m\u001b[0m\n\u001b[0m\u001b[1;32m     16\u001b[0m \u001b[0mjson_obj\u001b[0m \u001b[0;34m=\u001b[0m \u001b[0mjson\u001b[0m\u001b[0;34m.\u001b[0m\u001b[0mloads\u001b[0m\u001b[0;34m(\u001b[0m\u001b[0mjson_str\u001b[0m\u001b[0;34m)\u001b[0m\u001b[0;34m\u001b[0m\u001b[0;34m\u001b[0m\u001b[0m\n\u001b[1;32m     17\u001b[0m \u001b[0mdf\u001b[0m \u001b[0;34m=\u001b[0m \u001b[0mpd\u001b[0m\u001b[0;34m.\u001b[0m\u001b[0mDataFrame\u001b[0m\u001b[0;34m(\u001b[0m\u001b[0mjson_obj\u001b[0m\u001b[0;34m[\u001b[0m\u001b[0;34m'item'\u001b[0m\u001b[0;34m]\u001b[0m\u001b[0;34m)\u001b[0m\u001b[0;34m\u001b[0m\u001b[0;34m\u001b[0m\u001b[0m\n",
            "\u001b[0;31mKeyError\u001b[0m: 'body'"
          ]
        }
      ]
    },
    {
      "cell_type": "code",
      "metadata": {
        "id": "Tzb4VBtoDq9g"
      },
      "source": [
        "# 파라미터 분리 (성공)_수정필요\n",
        "#!pip install xmltodict\n",
        "\n",
        "# URL인코딩 -> 웹페이지 주소창이나 이런곳에서 바로 사용할 경우, 웹브라우저가 자동으로 디코딩작업\n",
        "# 프로그램으로 호출 시 디코딩을 자동으로 해주지 않으므로 디코딩 값을 넣어야 함\n",
        "from urllib.request import urlopen\n",
        "from urllib.parse import urlencode, unquote, quote_plus\n",
        "from bs4 import BeautifulSoup\n",
        "import pandas as pd\n",
        "import requests, xmltodict, json\n",
        "\n",
        "url = 'http://opendata.kwater.or.kr/openapi-data/service/pubd/dam/excllncobsrvt/mntrf/list'\n",
        "key = 'jkd4PnVjssNP+g2WeRzs8lgc4SOelLsncvuMr81/9R9nSYKkiQAcb2xt8GTYgTJSQGQ4+htuRuyIXSwRXr210w==' #디코딩 사용\n",
        "Params = '?' + urlencode({ quote_plus('ServiceKey') : key ,\n",
        "                                quote_plus('sdate') : '2014-12-01',\n",
        "                                quote_plus('stime') : '08',\n",
        "                                quote_plus('edate') : '2014-12-01',\n",
        "                                quote_plus('etime') : '15',\n",
        "                                quote_plus('excll') : '1012432',\n",
        "                                quote_plus('tms') : '10',\n",
        "                                quote_plus('numOfRows') : '10',\n",
        "                                quote_plus('pageNo') : '1' })\n",
        "\n",
        "# get 방식으로 api 호출\n",
        "res = requests.get(url + Params)\n",
        "\n",
        "# json으로 변환\n",
        "dict_res = xmltodict.parse(res.content)\n",
        "json_str = json.dumps(dict_res['response']['body']['items'], ensure_ascii=False)\n",
        "json_obj = json.loads(json_str)\n",
        "df = pd.DataFrame(json_obj['item'])\n",
        "df.to_csv('삽질.csv' ,encoding='utf-8-sig')"
      ],
      "execution_count": null,
      "outputs": []
    },
    {
      "cell_type": "code",
      "metadata": {
        "id": "hSI6fPMLruxB"
      },
      "source": [
        ""
      ],
      "execution_count": null,
      "outputs": []
    }
  ]
}