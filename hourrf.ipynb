{
  "nbformat": 4,
  "nbformat_minor": 0,
  "metadata": {
    "colab": {
      "name": "hourrf.ipynb",
      "provenance": [],
      "collapsed_sections": [],
      "mount_file_id": "1jgdORkTEvQSe0xqKCXIZjHTPS7s4CnyM",
      "authorship_tag": "ABX9TyMPMcmzZbZ0ZP/XimwAGqKR",
      "include_colab_link": true
    },
    "kernelspec": {
      "name": "python3",
      "display_name": "Python 3"
    },
    "language_info": {
      "name": "python"
    }
  },
  "cells": [
    {
      "cell_type": "markdown",
      "metadata": {
        "id": "view-in-github",
        "colab_type": "text"
      },
      "source": [
        "<a href=\"https://colab.research.google.com/github/kimhalyn/OPEN-API/blob/main/hourrf.ipynb\" target=\"_parent\"><img src=\"https://colab.research.google.com/assets/colab-badge.svg\" alt=\"Open In Colab\"/></a>"
      ]
    },
    {
      "cell_type": "code",
      "metadata": {
        "colab": {
          "base_uri": "https://localhost:8080/"
        },
        "id": "AOjHZTTeoGwb",
        "outputId": "61dea402-6d1d-46fc-9452-28a2440fd90b"
      },
      "source": [
        "# 라이브러리\n",
        "# colab에 xmltodict 라이브러리가 기본 설치되지 않으므로 별도 설치(외부 라이브러리)\n",
        "!pip install xmltodict \n",
        "from urllib.request import urlopen, Request\n",
        "from urllib.parse import urlencode, unquote, quote_plus\n",
        "from bs4 import BeautifulSoup\n",
        "import pandas as pd\n",
        "import requests, xmltodict, json\n",
        "from xml.etree.ElementTree import Element, SubElement, ElementTree\n",
        "import xml.etree.ElementTree as ET\n",
        "import pickle\n",
        "import numpy as np"
      ],
      "execution_count": null,
      "outputs": [
        {
          "output_type": "stream",
          "name": "stdout",
          "text": [
            "Collecting xmltodict\n",
            "  Downloading xmltodict-0.12.0-py2.py3-none-any.whl (9.2 kB)\n",
            "Installing collected packages: xmltodict\n",
            "Successfully installed xmltodict-0.12.0\n"
          ]
        }
      ]
    },
    {
      "cell_type": "code",
      "metadata": {
        "colab": {
          "base_uri": "https://localhost:8080/"
        },
        "id": "Ic1MXA0oobda",
        "outputId": "ff3d2432-9116-48d7-9260-22ef5210d755"
      },
      "source": [
        "from google.colab import drive\n",
        "drive.mount('/content/drive')"
      ],
      "execution_count": null,
      "outputs": [
        {
          "output_type": "stream",
          "name": "stdout",
          "text": [
            "Drive already mounted at /content/drive; to attempt to forcibly remount, call drive.mount(\"/content/drive\", force_remount=True).\n"
          ]
        }
      ]
    },
    {
      "cell_type": "code",
      "metadata": {
        "colab": {
          "base_uri": "https://localhost:8080/"
        },
        "id": "G4BF3JXrowHR",
        "outputId": "7cdf1dee-23b2-4c1f-c95f-5c1bc657f356"
      },
      "source": [
        "import requests, bs4\n",
        "import pandas as pd\n",
        "from lxml import html\n",
        "from urllib.request import Request, urlopen\n",
        "from urllib.parse import urlencode, quote_plus, unquote\n",
        "from time import sleep\n",
        "import csv\n",
        "\n",
        "url = 'http://opendata.kwater.or.kr/openapi-data/service/pubd/dam/excllncobsrvt/hourrf/list' # !!확인\n",
        "key = 'jkd4PnVjssNP+g2WeRzs8lgc4SOelLsncvuMr81/9R9nSYKkiQAcb2xt8GTYgTJSQGQ4+htuRuyIXSwRXr210w==' # !!확인\n",
        " \n",
        "api_key = requests.utils.unquote(key) #디코딩\n",
        "\n",
        "# 댐코드 및 우량 관측소 코드 불러오기\n",
        "data1 = pd.read_csv('/content/drive/MyDrive/water_resource_csv/damCode.csv') # !!!확인\n",
        "data2 = pd.read_csv('/content/drive/MyDrive/water_resource_csv/excllcode.csv') # !!확인\n",
        "\n",
        "# 댐코드 및 우량 관측소 코드 조회\n",
        "damcode = data1.iloc[0:5, 1]\n",
        "excllcode = data2.iloc[0:5, 2]\n",
        "\n",
        "xmlrows = []\n",
        "\n",
        "for code1 in damcode:\n",
        "  for code2 in excllcode:\n",
        "\n",
        "    Params = '?' + urlencode({quote_plus('ServiceKey') : api_key,\n",
        "                                  quote_plus('sdate') : \"2020-01-01\",\n",
        "                                  quote_plus('stime') : \"00\",\n",
        "                                  quote_plus('edate') : \"2020-01-01\",\n",
        "                                  quote_plus('etime') : \"24\",\n",
        "                                  quote_plus('damcode') : code1, #댐코드\n",
        "                                  quote_plus('excll') : code2, #우량관측소 코드\n",
        "                                  quote_plus('numOfRows') : \"800000\",\n",
        "                                  quote_plus('pageNo') : \"1\"})\n",
        "    \n",
        "#  print(Params)\n",
        "  \n",
        "  res = requests.get(url + Params).text.encode('utf-8') # 요청에 대한 응답내용(.encode빼기도 함)\n",
        "  sleep(0.5)\n",
        "  print(res) \n",
        "  \n",
        "  xmlobj = bs4.BeautifulSoup(res, 'lxml') #lxml 파서(구문분석)  'lxml-xml'\n",
        "  print(xmlobj)\n",
        "  \n",
        "  #item 태그 분리\n",
        "  rows = xmlobj.findAll('item') # 매치되는 문자열을 리스트로 리턴\n",
        "  xmlrows.append(rows)\n",
        "\n",
        "print (xmlrows)\n"
      ],
      "execution_count": null,
      "outputs": [
        {
          "output_type": "stream",
          "name": "stdout",
          "text": [
            "b'<?xml version=\"1.0\" encoding=\"UTF-8\" standalone=\"yes\"?><response><header><resultCode>00</resultCode><resultMsg>NORMAL SERVICE.</resultMsg></header><body><items><item><acmtlrf>0</acmtlrf><hourrf>0</hourrf><no>24</no><obsrdt>2020-01-01 01:00</obsrdt></item><item><acmtlrf>0</acmtlrf><hourrf>0</hourrf><no>23</no><obsrdt>2020-01-01 02:00</obsrdt></item><item><acmtlrf>0</acmtlrf><hourrf>0</hourrf><no>22</no><obsrdt>2020-01-01 03:00</obsrdt></item><item><acmtlrf>0</acmtlrf><hourrf>0</hourrf><no>21</no><obsrdt>2020-01-01 04:00</obsrdt></item><item><acmtlrf>0</acmtlrf><hourrf>0</hourrf><no>20</no><obsrdt>2020-01-01 05:00</obsrdt></item><item><acmtlrf>0</acmtlrf><hourrf>0</hourrf><no>19</no><obsrdt>2020-01-01 06:00</obsrdt></item><item><acmtlrf>0</acmtlrf><hourrf>0</hourrf><no>18</no><obsrdt>2020-01-01 07:00</obsrdt></item><item><acmtlrf>0</acmtlrf><hourrf>0</hourrf><no>17</no><obsrdt>2020-01-01 08:00</obsrdt></item><item><acmtlrf>0</acmtlrf><hourrf>0</hourrf><no>16</no><obsrdt>2020-01-01 09:00</obsrdt></item><item><acmtlrf>0</acmtlrf><hourrf>0</hourrf><no>15</no><obsrdt>2020-01-01 10:00</obsrdt></item><item><acmtlrf>0</acmtlrf><hourrf>0</hourrf><no>14</no><obsrdt>2020-01-01 11:00</obsrdt></item><item><acmtlrf>0</acmtlrf><hourrf>0</hourrf><no>13</no><obsrdt>2020-01-01 12:00</obsrdt></item><item><acmtlrf>0</acmtlrf><hourrf>0</hourrf><no>12</no><obsrdt>2020-01-01 13:00</obsrdt></item><item><acmtlrf>0</acmtlrf><hourrf>0</hourrf><no>11</no><obsrdt>2020-01-01 14:00</obsrdt></item><item><acmtlrf>0</acmtlrf><hourrf>0</hourrf><no>10</no><obsrdt>2020-01-01 15:00</obsrdt></item><item><acmtlrf>0</acmtlrf><hourrf>0</hourrf><no>9</no><obsrdt>2020-01-01 16:00</obsrdt></item><item><acmtlrf>0</acmtlrf><hourrf>0</hourrf><no>8</no><obsrdt>2020-01-01 17:00</obsrdt></item><item><acmtlrf>0</acmtlrf><hourrf>0</hourrf><no>7</no><obsrdt>2020-01-01 18:00</obsrdt></item><item><acmtlrf>0</acmtlrf><hourrf>0</hourrf><no>6</no><obsrdt>2020-01-01 19:00</obsrdt></item><item><acmtlrf>0</acmtlrf><hourrf>0</hourrf><no>5</no><obsrdt>2020-01-01 20:00</obsrdt></item><item><acmtlrf>0</acmtlrf><hourrf>0</hourrf><no>4</no><obsrdt>2020-01-01 21:00</obsrdt></item><item><acmtlrf>0</acmtlrf><hourrf>0</hourrf><no>3</no><obsrdt>2020-01-01 22:00</obsrdt></item><item><acmtlrf>0</acmtlrf><hourrf>0</hourrf><no>2</no><obsrdt>2020-01-01 23:00</obsrdt></item><item><acmtlrf>0</acmtlrf><hourrf>0</hourrf><no>1</no><obsrdt>2020-01-01 24:00</obsrdt></item></items><numOfRows>800000</numOfRows><pageNo>1</pageNo><totalCount>24</totalCount></body></response>'\n",
            "<?xml version=\"1.0\" encoding=\"UTF-8\" standalone=\"yes\"?><html><body><response><header><resultcode>00</resultcode><resultmsg>NORMAL SERVICE.</resultmsg></header><items><item><acmtlrf>0</acmtlrf><hourrf>0</hourrf><no>24</no><obsrdt>2020-01-01 01:00</obsrdt></item><item><acmtlrf>0</acmtlrf><hourrf>0</hourrf><no>23</no><obsrdt>2020-01-01 02:00</obsrdt></item><item><acmtlrf>0</acmtlrf><hourrf>0</hourrf><no>22</no><obsrdt>2020-01-01 03:00</obsrdt></item><item><acmtlrf>0</acmtlrf><hourrf>0</hourrf><no>21</no><obsrdt>2020-01-01 04:00</obsrdt></item><item><acmtlrf>0</acmtlrf><hourrf>0</hourrf><no>20</no><obsrdt>2020-01-01 05:00</obsrdt></item><item><acmtlrf>0</acmtlrf><hourrf>0</hourrf><no>19</no><obsrdt>2020-01-01 06:00</obsrdt></item><item><acmtlrf>0</acmtlrf><hourrf>0</hourrf><no>18</no><obsrdt>2020-01-01 07:00</obsrdt></item><item><acmtlrf>0</acmtlrf><hourrf>0</hourrf><no>17</no><obsrdt>2020-01-01 08:00</obsrdt></item><item><acmtlrf>0</acmtlrf><hourrf>0</hourrf><no>16</no><obsrdt>2020-01-01 09:00</obsrdt></item><item><acmtlrf>0</acmtlrf><hourrf>0</hourrf><no>15</no><obsrdt>2020-01-01 10:00</obsrdt></item><item><acmtlrf>0</acmtlrf><hourrf>0</hourrf><no>14</no><obsrdt>2020-01-01 11:00</obsrdt></item><item><acmtlrf>0</acmtlrf><hourrf>0</hourrf><no>13</no><obsrdt>2020-01-01 12:00</obsrdt></item><item><acmtlrf>0</acmtlrf><hourrf>0</hourrf><no>12</no><obsrdt>2020-01-01 13:00</obsrdt></item><item><acmtlrf>0</acmtlrf><hourrf>0</hourrf><no>11</no><obsrdt>2020-01-01 14:00</obsrdt></item><item><acmtlrf>0</acmtlrf><hourrf>0</hourrf><no>10</no><obsrdt>2020-01-01 15:00</obsrdt></item><item><acmtlrf>0</acmtlrf><hourrf>0</hourrf><no>9</no><obsrdt>2020-01-01 16:00</obsrdt></item><item><acmtlrf>0</acmtlrf><hourrf>0</hourrf><no>8</no><obsrdt>2020-01-01 17:00</obsrdt></item><item><acmtlrf>0</acmtlrf><hourrf>0</hourrf><no>7</no><obsrdt>2020-01-01 18:00</obsrdt></item><item><acmtlrf>0</acmtlrf><hourrf>0</hourrf><no>6</no><obsrdt>2020-01-01 19:00</obsrdt></item><item><acmtlrf>0</acmtlrf><hourrf>0</hourrf><no>5</no><obsrdt>2020-01-01 20:00</obsrdt></item><item><acmtlrf>0</acmtlrf><hourrf>0</hourrf><no>4</no><obsrdt>2020-01-01 21:00</obsrdt></item><item><acmtlrf>0</acmtlrf><hourrf>0</hourrf><no>3</no><obsrdt>2020-01-01 22:00</obsrdt></item><item><acmtlrf>0</acmtlrf><hourrf>0</hourrf><no>2</no><obsrdt>2020-01-01 23:00</obsrdt></item><item><acmtlrf>0</acmtlrf><hourrf>0</hourrf><no>1</no><obsrdt>2020-01-01 24:00</obsrdt></item></items><numofrows>800000</numofrows><pageno>1</pageno><totalcount>24</totalcount></response></body></html>\n",
            "b'<?xml version=\"1.0\" encoding=\"UTF-8\" standalone=\"yes\"?><response><header><resultCode>00</resultCode><resultMsg>NORMAL SERVICE.</resultMsg></header><body><items><item><acmtlrf>0</acmtlrf><hourrf>0</hourrf><no>24</no><obsrdt>2020-01-01 01:00</obsrdt></item><item><acmtlrf>0</acmtlrf><hourrf>0</hourrf><no>23</no><obsrdt>2020-01-01 02:00</obsrdt></item><item><acmtlrf>0</acmtlrf><hourrf>0</hourrf><no>22</no><obsrdt>2020-01-01 03:00</obsrdt></item><item><acmtlrf>0</acmtlrf><hourrf>0</hourrf><no>21</no><obsrdt>2020-01-01 04:00</obsrdt></item><item><acmtlrf>0</acmtlrf><hourrf>0</hourrf><no>20</no><obsrdt>2020-01-01 05:00</obsrdt></item><item><acmtlrf>0</acmtlrf><hourrf>0</hourrf><no>19</no><obsrdt>2020-01-01 06:00</obsrdt></item><item><acmtlrf>0</acmtlrf><hourrf>0</hourrf><no>18</no><obsrdt>2020-01-01 07:00</obsrdt></item><item><acmtlrf>0</acmtlrf><hourrf>0</hourrf><no>17</no><obsrdt>2020-01-01 08:00</obsrdt></item><item><acmtlrf>0</acmtlrf><hourrf>0</hourrf><no>16</no><obsrdt>2020-01-01 09:00</obsrdt></item><item><acmtlrf>0</acmtlrf><hourrf>0</hourrf><no>15</no><obsrdt>2020-01-01 10:00</obsrdt></item><item><acmtlrf>0</acmtlrf><hourrf>0</hourrf><no>14</no><obsrdt>2020-01-01 11:00</obsrdt></item><item><acmtlrf>0</acmtlrf><hourrf>0</hourrf><no>13</no><obsrdt>2020-01-01 12:00</obsrdt></item><item><acmtlrf>0</acmtlrf><hourrf>0</hourrf><no>12</no><obsrdt>2020-01-01 13:00</obsrdt></item><item><acmtlrf>0</acmtlrf><hourrf>0</hourrf><no>11</no><obsrdt>2020-01-01 14:00</obsrdt></item><item><acmtlrf>0</acmtlrf><hourrf>0</hourrf><no>10</no><obsrdt>2020-01-01 15:00</obsrdt></item><item><acmtlrf>0</acmtlrf><hourrf>0</hourrf><no>9</no><obsrdt>2020-01-01 16:00</obsrdt></item><item><acmtlrf>0</acmtlrf><hourrf>0</hourrf><no>8</no><obsrdt>2020-01-01 17:00</obsrdt></item><item><acmtlrf>0</acmtlrf><hourrf>0</hourrf><no>7</no><obsrdt>2020-01-01 18:00</obsrdt></item><item><acmtlrf>0</acmtlrf><hourrf>0</hourrf><no>6</no><obsrdt>2020-01-01 19:00</obsrdt></item><item><acmtlrf>0</acmtlrf><hourrf>0</hourrf><no>5</no><obsrdt>2020-01-01 20:00</obsrdt></item><item><acmtlrf>0</acmtlrf><hourrf>0</hourrf><no>4</no><obsrdt>2020-01-01 21:00</obsrdt></item><item><acmtlrf>0</acmtlrf><hourrf>0</hourrf><no>3</no><obsrdt>2020-01-01 22:00</obsrdt></item><item><acmtlrf>0</acmtlrf><hourrf>0</hourrf><no>2</no><obsrdt>2020-01-01 23:00</obsrdt></item><item><acmtlrf>0</acmtlrf><hourrf>0</hourrf><no>1</no><obsrdt>2020-01-01 24:00</obsrdt></item></items><numOfRows>800000</numOfRows><pageNo>1</pageNo><totalCount>24</totalCount></body></response>'\n",
            "<?xml version=\"1.0\" encoding=\"UTF-8\" standalone=\"yes\"?><html><body><response><header><resultcode>00</resultcode><resultmsg>NORMAL SERVICE.</resultmsg></header><items><item><acmtlrf>0</acmtlrf><hourrf>0</hourrf><no>24</no><obsrdt>2020-01-01 01:00</obsrdt></item><item><acmtlrf>0</acmtlrf><hourrf>0</hourrf><no>23</no><obsrdt>2020-01-01 02:00</obsrdt></item><item><acmtlrf>0</acmtlrf><hourrf>0</hourrf><no>22</no><obsrdt>2020-01-01 03:00</obsrdt></item><item><acmtlrf>0</acmtlrf><hourrf>0</hourrf><no>21</no><obsrdt>2020-01-01 04:00</obsrdt></item><item><acmtlrf>0</acmtlrf><hourrf>0</hourrf><no>20</no><obsrdt>2020-01-01 05:00</obsrdt></item><item><acmtlrf>0</acmtlrf><hourrf>0</hourrf><no>19</no><obsrdt>2020-01-01 06:00</obsrdt></item><item><acmtlrf>0</acmtlrf><hourrf>0</hourrf><no>18</no><obsrdt>2020-01-01 07:00</obsrdt></item><item><acmtlrf>0</acmtlrf><hourrf>0</hourrf><no>17</no><obsrdt>2020-01-01 08:00</obsrdt></item><item><acmtlrf>0</acmtlrf><hourrf>0</hourrf><no>16</no><obsrdt>2020-01-01 09:00</obsrdt></item><item><acmtlrf>0</acmtlrf><hourrf>0</hourrf><no>15</no><obsrdt>2020-01-01 10:00</obsrdt></item><item><acmtlrf>0</acmtlrf><hourrf>0</hourrf><no>14</no><obsrdt>2020-01-01 11:00</obsrdt></item><item><acmtlrf>0</acmtlrf><hourrf>0</hourrf><no>13</no><obsrdt>2020-01-01 12:00</obsrdt></item><item><acmtlrf>0</acmtlrf><hourrf>0</hourrf><no>12</no><obsrdt>2020-01-01 13:00</obsrdt></item><item><acmtlrf>0</acmtlrf><hourrf>0</hourrf><no>11</no><obsrdt>2020-01-01 14:00</obsrdt></item><item><acmtlrf>0</acmtlrf><hourrf>0</hourrf><no>10</no><obsrdt>2020-01-01 15:00</obsrdt></item><item><acmtlrf>0</acmtlrf><hourrf>0</hourrf><no>9</no><obsrdt>2020-01-01 16:00</obsrdt></item><item><acmtlrf>0</acmtlrf><hourrf>0</hourrf><no>8</no><obsrdt>2020-01-01 17:00</obsrdt></item><item><acmtlrf>0</acmtlrf><hourrf>0</hourrf><no>7</no><obsrdt>2020-01-01 18:00</obsrdt></item><item><acmtlrf>0</acmtlrf><hourrf>0</hourrf><no>6</no><obsrdt>2020-01-01 19:00</obsrdt></item><item><acmtlrf>0</acmtlrf><hourrf>0</hourrf><no>5</no><obsrdt>2020-01-01 20:00</obsrdt></item><item><acmtlrf>0</acmtlrf><hourrf>0</hourrf><no>4</no><obsrdt>2020-01-01 21:00</obsrdt></item><item><acmtlrf>0</acmtlrf><hourrf>0</hourrf><no>3</no><obsrdt>2020-01-01 22:00</obsrdt></item><item><acmtlrf>0</acmtlrf><hourrf>0</hourrf><no>2</no><obsrdt>2020-01-01 23:00</obsrdt></item><item><acmtlrf>0</acmtlrf><hourrf>0</hourrf><no>1</no><obsrdt>2020-01-01 24:00</obsrdt></item></items><numofrows>800000</numofrows><pageno>1</pageno><totalcount>24</totalcount></response></body></html>\n",
            "b'<?xml version=\"1.0\" encoding=\"UTF-8\" standalone=\"yes\"?><response><header><resultCode>00</resultCode><resultMsg>NORMAL SERVICE.</resultMsg></header><body><items><item><acmtlrf>0</acmtlrf><hourrf>0</hourrf><no>24</no><obsrdt>2020-01-01 01:00</obsrdt></item><item><acmtlrf>0</acmtlrf><hourrf>0</hourrf><no>23</no><obsrdt>2020-01-01 02:00</obsrdt></item><item><acmtlrf>0</acmtlrf><hourrf>0</hourrf><no>22</no><obsrdt>2020-01-01 03:00</obsrdt></item><item><acmtlrf>0</acmtlrf><hourrf>0</hourrf><no>21</no><obsrdt>2020-01-01 04:00</obsrdt></item><item><acmtlrf>0</acmtlrf><hourrf>0</hourrf><no>20</no><obsrdt>2020-01-01 05:00</obsrdt></item><item><acmtlrf>0</acmtlrf><hourrf>0</hourrf><no>19</no><obsrdt>2020-01-01 06:00</obsrdt></item><item><acmtlrf>0</acmtlrf><hourrf>0</hourrf><no>18</no><obsrdt>2020-01-01 07:00</obsrdt></item><item><acmtlrf>0</acmtlrf><hourrf>0</hourrf><no>17</no><obsrdt>2020-01-01 08:00</obsrdt></item><item><acmtlrf>0</acmtlrf><hourrf>0</hourrf><no>16</no><obsrdt>2020-01-01 09:00</obsrdt></item><item><acmtlrf>0</acmtlrf><hourrf>0</hourrf><no>15</no><obsrdt>2020-01-01 10:00</obsrdt></item><item><acmtlrf>0</acmtlrf><hourrf>0</hourrf><no>14</no><obsrdt>2020-01-01 11:00</obsrdt></item><item><acmtlrf>0</acmtlrf><hourrf>0</hourrf><no>13</no><obsrdt>2020-01-01 12:00</obsrdt></item><item><acmtlrf>0</acmtlrf><hourrf>0</hourrf><no>12</no><obsrdt>2020-01-01 13:00</obsrdt></item><item><acmtlrf>0</acmtlrf><hourrf>0</hourrf><no>11</no><obsrdt>2020-01-01 14:00</obsrdt></item><item><acmtlrf>0</acmtlrf><hourrf>0</hourrf><no>10</no><obsrdt>2020-01-01 15:00</obsrdt></item><item><acmtlrf>0</acmtlrf><hourrf>0</hourrf><no>9</no><obsrdt>2020-01-01 16:00</obsrdt></item><item><acmtlrf>0</acmtlrf><hourrf>0</hourrf><no>8</no><obsrdt>2020-01-01 17:00</obsrdt></item><item><acmtlrf>0</acmtlrf><hourrf>0</hourrf><no>7</no><obsrdt>2020-01-01 18:00</obsrdt></item><item><acmtlrf>0</acmtlrf><hourrf>0</hourrf><no>6</no><obsrdt>2020-01-01 19:00</obsrdt></item><item><acmtlrf>0</acmtlrf><hourrf>0</hourrf><no>5</no><obsrdt>2020-01-01 20:00</obsrdt></item><item><acmtlrf>0</acmtlrf><hourrf>0</hourrf><no>4</no><obsrdt>2020-01-01 21:00</obsrdt></item><item><acmtlrf>0</acmtlrf><hourrf>0</hourrf><no>3</no><obsrdt>2020-01-01 22:00</obsrdt></item><item><acmtlrf>0</acmtlrf><hourrf>0</hourrf><no>2</no><obsrdt>2020-01-01 23:00</obsrdt></item><item><acmtlrf>0</acmtlrf><hourrf>0</hourrf><no>1</no><obsrdt>2020-01-01 24:00</obsrdt></item></items><numOfRows>800000</numOfRows><pageNo>1</pageNo><totalCount>24</totalCount></body></response>'\n",
            "<?xml version=\"1.0\" encoding=\"UTF-8\" standalone=\"yes\"?><html><body><response><header><resultcode>00</resultcode><resultmsg>NORMAL SERVICE.</resultmsg></header><items><item><acmtlrf>0</acmtlrf><hourrf>0</hourrf><no>24</no><obsrdt>2020-01-01 01:00</obsrdt></item><item><acmtlrf>0</acmtlrf><hourrf>0</hourrf><no>23</no><obsrdt>2020-01-01 02:00</obsrdt></item><item><acmtlrf>0</acmtlrf><hourrf>0</hourrf><no>22</no><obsrdt>2020-01-01 03:00</obsrdt></item><item><acmtlrf>0</acmtlrf><hourrf>0</hourrf><no>21</no><obsrdt>2020-01-01 04:00</obsrdt></item><item><acmtlrf>0</acmtlrf><hourrf>0</hourrf><no>20</no><obsrdt>2020-01-01 05:00</obsrdt></item><item><acmtlrf>0</acmtlrf><hourrf>0</hourrf><no>19</no><obsrdt>2020-01-01 06:00</obsrdt></item><item><acmtlrf>0</acmtlrf><hourrf>0</hourrf><no>18</no><obsrdt>2020-01-01 07:00</obsrdt></item><item><acmtlrf>0</acmtlrf><hourrf>0</hourrf><no>17</no><obsrdt>2020-01-01 08:00</obsrdt></item><item><acmtlrf>0</acmtlrf><hourrf>0</hourrf><no>16</no><obsrdt>2020-01-01 09:00</obsrdt></item><item><acmtlrf>0</acmtlrf><hourrf>0</hourrf><no>15</no><obsrdt>2020-01-01 10:00</obsrdt></item><item><acmtlrf>0</acmtlrf><hourrf>0</hourrf><no>14</no><obsrdt>2020-01-01 11:00</obsrdt></item><item><acmtlrf>0</acmtlrf><hourrf>0</hourrf><no>13</no><obsrdt>2020-01-01 12:00</obsrdt></item><item><acmtlrf>0</acmtlrf><hourrf>0</hourrf><no>12</no><obsrdt>2020-01-01 13:00</obsrdt></item><item><acmtlrf>0</acmtlrf><hourrf>0</hourrf><no>11</no><obsrdt>2020-01-01 14:00</obsrdt></item><item><acmtlrf>0</acmtlrf><hourrf>0</hourrf><no>10</no><obsrdt>2020-01-01 15:00</obsrdt></item><item><acmtlrf>0</acmtlrf><hourrf>0</hourrf><no>9</no><obsrdt>2020-01-01 16:00</obsrdt></item><item><acmtlrf>0</acmtlrf><hourrf>0</hourrf><no>8</no><obsrdt>2020-01-01 17:00</obsrdt></item><item><acmtlrf>0</acmtlrf><hourrf>0</hourrf><no>7</no><obsrdt>2020-01-01 18:00</obsrdt></item><item><acmtlrf>0</acmtlrf><hourrf>0</hourrf><no>6</no><obsrdt>2020-01-01 19:00</obsrdt></item><item><acmtlrf>0</acmtlrf><hourrf>0</hourrf><no>5</no><obsrdt>2020-01-01 20:00</obsrdt></item><item><acmtlrf>0</acmtlrf><hourrf>0</hourrf><no>4</no><obsrdt>2020-01-01 21:00</obsrdt></item><item><acmtlrf>0</acmtlrf><hourrf>0</hourrf><no>3</no><obsrdt>2020-01-01 22:00</obsrdt></item><item><acmtlrf>0</acmtlrf><hourrf>0</hourrf><no>2</no><obsrdt>2020-01-01 23:00</obsrdt></item><item><acmtlrf>0</acmtlrf><hourrf>0</hourrf><no>1</no><obsrdt>2020-01-01 24:00</obsrdt></item></items><numofrows>800000</numofrows><pageno>1</pageno><totalcount>24</totalcount></response></body></html>\n",
            "b'<?xml version=\"1.0\" encoding=\"UTF-8\" standalone=\"yes\"?><response><header><resultCode>99</resultCode><resultMsg>LIMITED NUMBER OF SERVICE REQUESTS EXCEEDS ERROR.</resultMsg></header></response>'\n",
            "<?xml version=\"1.0\" encoding=\"UTF-8\" standalone=\"yes\"?><html><body><response><header><resultcode>99</resultcode><resultmsg>LIMITED NUMBER OF SERVICE REQUESTS EXCEEDS ERROR.</resultmsg></header></response></body></html>\n",
            "b'<?xml version=\"1.0\" encoding=\"UTF-8\" standalone=\"yes\"?><response><header><resultCode>99</resultCode><resultMsg>LIMITED NUMBER OF SERVICE REQUESTS EXCEEDS ERROR.</resultMsg></header></response>'\n",
            "<?xml version=\"1.0\" encoding=\"UTF-8\" standalone=\"yes\"?><html><body><response><header><resultcode>99</resultcode><resultmsg>LIMITED NUMBER OF SERVICE REQUESTS EXCEEDS ERROR.</resultmsg></header></response></body></html>\n",
            "[[<item><acmtlrf>0</acmtlrf><hourrf>0</hourrf><no>24</no><obsrdt>2020-01-01 01:00</obsrdt></item>, <item><acmtlrf>0</acmtlrf><hourrf>0</hourrf><no>23</no><obsrdt>2020-01-01 02:00</obsrdt></item>, <item><acmtlrf>0</acmtlrf><hourrf>0</hourrf><no>22</no><obsrdt>2020-01-01 03:00</obsrdt></item>, <item><acmtlrf>0</acmtlrf><hourrf>0</hourrf><no>21</no><obsrdt>2020-01-01 04:00</obsrdt></item>, <item><acmtlrf>0</acmtlrf><hourrf>0</hourrf><no>20</no><obsrdt>2020-01-01 05:00</obsrdt></item>, <item><acmtlrf>0</acmtlrf><hourrf>0</hourrf><no>19</no><obsrdt>2020-01-01 06:00</obsrdt></item>, <item><acmtlrf>0</acmtlrf><hourrf>0</hourrf><no>18</no><obsrdt>2020-01-01 07:00</obsrdt></item>, <item><acmtlrf>0</acmtlrf><hourrf>0</hourrf><no>17</no><obsrdt>2020-01-01 08:00</obsrdt></item>, <item><acmtlrf>0</acmtlrf><hourrf>0</hourrf><no>16</no><obsrdt>2020-01-01 09:00</obsrdt></item>, <item><acmtlrf>0</acmtlrf><hourrf>0</hourrf><no>15</no><obsrdt>2020-01-01 10:00</obsrdt></item>, <item><acmtlrf>0</acmtlrf><hourrf>0</hourrf><no>14</no><obsrdt>2020-01-01 11:00</obsrdt></item>, <item><acmtlrf>0</acmtlrf><hourrf>0</hourrf><no>13</no><obsrdt>2020-01-01 12:00</obsrdt></item>, <item><acmtlrf>0</acmtlrf><hourrf>0</hourrf><no>12</no><obsrdt>2020-01-01 13:00</obsrdt></item>, <item><acmtlrf>0</acmtlrf><hourrf>0</hourrf><no>11</no><obsrdt>2020-01-01 14:00</obsrdt></item>, <item><acmtlrf>0</acmtlrf><hourrf>0</hourrf><no>10</no><obsrdt>2020-01-01 15:00</obsrdt></item>, <item><acmtlrf>0</acmtlrf><hourrf>0</hourrf><no>9</no><obsrdt>2020-01-01 16:00</obsrdt></item>, <item><acmtlrf>0</acmtlrf><hourrf>0</hourrf><no>8</no><obsrdt>2020-01-01 17:00</obsrdt></item>, <item><acmtlrf>0</acmtlrf><hourrf>0</hourrf><no>7</no><obsrdt>2020-01-01 18:00</obsrdt></item>, <item><acmtlrf>0</acmtlrf><hourrf>0</hourrf><no>6</no><obsrdt>2020-01-01 19:00</obsrdt></item>, <item><acmtlrf>0</acmtlrf><hourrf>0</hourrf><no>5</no><obsrdt>2020-01-01 20:00</obsrdt></item>, <item><acmtlrf>0</acmtlrf><hourrf>0</hourrf><no>4</no><obsrdt>2020-01-01 21:00</obsrdt></item>, <item><acmtlrf>0</acmtlrf><hourrf>0</hourrf><no>3</no><obsrdt>2020-01-01 22:00</obsrdt></item>, <item><acmtlrf>0</acmtlrf><hourrf>0</hourrf><no>2</no><obsrdt>2020-01-01 23:00</obsrdt></item>, <item><acmtlrf>0</acmtlrf><hourrf>0</hourrf><no>1</no><obsrdt>2020-01-01 24:00</obsrdt></item>], [<item><acmtlrf>0</acmtlrf><hourrf>0</hourrf><no>24</no><obsrdt>2020-01-01 01:00</obsrdt></item>, <item><acmtlrf>0</acmtlrf><hourrf>0</hourrf><no>23</no><obsrdt>2020-01-01 02:00</obsrdt></item>, <item><acmtlrf>0</acmtlrf><hourrf>0</hourrf><no>22</no><obsrdt>2020-01-01 03:00</obsrdt></item>, <item><acmtlrf>0</acmtlrf><hourrf>0</hourrf><no>21</no><obsrdt>2020-01-01 04:00</obsrdt></item>, <item><acmtlrf>0</acmtlrf><hourrf>0</hourrf><no>20</no><obsrdt>2020-01-01 05:00</obsrdt></item>, <item><acmtlrf>0</acmtlrf><hourrf>0</hourrf><no>19</no><obsrdt>2020-01-01 06:00</obsrdt></item>, <item><acmtlrf>0</acmtlrf><hourrf>0</hourrf><no>18</no><obsrdt>2020-01-01 07:00</obsrdt></item>, <item><acmtlrf>0</acmtlrf><hourrf>0</hourrf><no>17</no><obsrdt>2020-01-01 08:00</obsrdt></item>, <item><acmtlrf>0</acmtlrf><hourrf>0</hourrf><no>16</no><obsrdt>2020-01-01 09:00</obsrdt></item>, <item><acmtlrf>0</acmtlrf><hourrf>0</hourrf><no>15</no><obsrdt>2020-01-01 10:00</obsrdt></item>, <item><acmtlrf>0</acmtlrf><hourrf>0</hourrf><no>14</no><obsrdt>2020-01-01 11:00</obsrdt></item>, <item><acmtlrf>0</acmtlrf><hourrf>0</hourrf><no>13</no><obsrdt>2020-01-01 12:00</obsrdt></item>, <item><acmtlrf>0</acmtlrf><hourrf>0</hourrf><no>12</no><obsrdt>2020-01-01 13:00</obsrdt></item>, <item><acmtlrf>0</acmtlrf><hourrf>0</hourrf><no>11</no><obsrdt>2020-01-01 14:00</obsrdt></item>, <item><acmtlrf>0</acmtlrf><hourrf>0</hourrf><no>10</no><obsrdt>2020-01-01 15:00</obsrdt></item>, <item><acmtlrf>0</acmtlrf><hourrf>0</hourrf><no>9</no><obsrdt>2020-01-01 16:00</obsrdt></item>, <item><acmtlrf>0</acmtlrf><hourrf>0</hourrf><no>8</no><obsrdt>2020-01-01 17:00</obsrdt></item>, <item><acmtlrf>0</acmtlrf><hourrf>0</hourrf><no>7</no><obsrdt>2020-01-01 18:00</obsrdt></item>, <item><acmtlrf>0</acmtlrf><hourrf>0</hourrf><no>6</no><obsrdt>2020-01-01 19:00</obsrdt></item>, <item><acmtlrf>0</acmtlrf><hourrf>0</hourrf><no>5</no><obsrdt>2020-01-01 20:00</obsrdt></item>, <item><acmtlrf>0</acmtlrf><hourrf>0</hourrf><no>4</no><obsrdt>2020-01-01 21:00</obsrdt></item>, <item><acmtlrf>0</acmtlrf><hourrf>0</hourrf><no>3</no><obsrdt>2020-01-01 22:00</obsrdt></item>, <item><acmtlrf>0</acmtlrf><hourrf>0</hourrf><no>2</no><obsrdt>2020-01-01 23:00</obsrdt></item>, <item><acmtlrf>0</acmtlrf><hourrf>0</hourrf><no>1</no><obsrdt>2020-01-01 24:00</obsrdt></item>], [<item><acmtlrf>0</acmtlrf><hourrf>0</hourrf><no>24</no><obsrdt>2020-01-01 01:00</obsrdt></item>, <item><acmtlrf>0</acmtlrf><hourrf>0</hourrf><no>23</no><obsrdt>2020-01-01 02:00</obsrdt></item>, <item><acmtlrf>0</acmtlrf><hourrf>0</hourrf><no>22</no><obsrdt>2020-01-01 03:00</obsrdt></item>, <item><acmtlrf>0</acmtlrf><hourrf>0</hourrf><no>21</no><obsrdt>2020-01-01 04:00</obsrdt></item>, <item><acmtlrf>0</acmtlrf><hourrf>0</hourrf><no>20</no><obsrdt>2020-01-01 05:00</obsrdt></item>, <item><acmtlrf>0</acmtlrf><hourrf>0</hourrf><no>19</no><obsrdt>2020-01-01 06:00</obsrdt></item>, <item><acmtlrf>0</acmtlrf><hourrf>0</hourrf><no>18</no><obsrdt>2020-01-01 07:00</obsrdt></item>, <item><acmtlrf>0</acmtlrf><hourrf>0</hourrf><no>17</no><obsrdt>2020-01-01 08:00</obsrdt></item>, <item><acmtlrf>0</acmtlrf><hourrf>0</hourrf><no>16</no><obsrdt>2020-01-01 09:00</obsrdt></item>, <item><acmtlrf>0</acmtlrf><hourrf>0</hourrf><no>15</no><obsrdt>2020-01-01 10:00</obsrdt></item>, <item><acmtlrf>0</acmtlrf><hourrf>0</hourrf><no>14</no><obsrdt>2020-01-01 11:00</obsrdt></item>, <item><acmtlrf>0</acmtlrf><hourrf>0</hourrf><no>13</no><obsrdt>2020-01-01 12:00</obsrdt></item>, <item><acmtlrf>0</acmtlrf><hourrf>0</hourrf><no>12</no><obsrdt>2020-01-01 13:00</obsrdt></item>, <item><acmtlrf>0</acmtlrf><hourrf>0</hourrf><no>11</no><obsrdt>2020-01-01 14:00</obsrdt></item>, <item><acmtlrf>0</acmtlrf><hourrf>0</hourrf><no>10</no><obsrdt>2020-01-01 15:00</obsrdt></item>, <item><acmtlrf>0</acmtlrf><hourrf>0</hourrf><no>9</no><obsrdt>2020-01-01 16:00</obsrdt></item>, <item><acmtlrf>0</acmtlrf><hourrf>0</hourrf><no>8</no><obsrdt>2020-01-01 17:00</obsrdt></item>, <item><acmtlrf>0</acmtlrf><hourrf>0</hourrf><no>7</no><obsrdt>2020-01-01 18:00</obsrdt></item>, <item><acmtlrf>0</acmtlrf><hourrf>0</hourrf><no>6</no><obsrdt>2020-01-01 19:00</obsrdt></item>, <item><acmtlrf>0</acmtlrf><hourrf>0</hourrf><no>5</no><obsrdt>2020-01-01 20:00</obsrdt></item>, <item><acmtlrf>0</acmtlrf><hourrf>0</hourrf><no>4</no><obsrdt>2020-01-01 21:00</obsrdt></item>, <item><acmtlrf>0</acmtlrf><hourrf>0</hourrf><no>3</no><obsrdt>2020-01-01 22:00</obsrdt></item>, <item><acmtlrf>0</acmtlrf><hourrf>0</hourrf><no>2</no><obsrdt>2020-01-01 23:00</obsrdt></item>, <item><acmtlrf>0</acmtlrf><hourrf>0</hourrf><no>1</no><obsrdt>2020-01-01 24:00</obsrdt></item>], [], []]\n"
          ]
        }
      ]
    },
    {
      "cell_type": "code",
      "metadata": {
        "id": "t_wpF0OIodCJ"
      },
      "source": [
        "\n",
        "filePath = '/content/drive/MyDrive/water_resource_csv/xmlrows.xml'\n",
        "\n",
        "\n",
        "with open(filePath, 'wb') as lf:\n",
        "    pickle.dump(xmlrows, lf)\n",
        "\n",
        "\n",
        "with open(filePath, 'rb') as lf:\n",
        "    readList = pickle.load(lf)\n"
      ],
      "execution_count": null,
      "outputs": []
    },
    {
      "cell_type": "code",
      "metadata": {
        "id": "Af6iBH4Yohx4"
      },
      "source": [
        "# 컬럼 생성\n",
        "rowList = []\n",
        "nameList = []\n",
        "columnList = []\n",
        "xmlrowsLen = len(xmlrows)\n",
        "target = 0\n",
        "for i in range(0, xmlrowsLen):\n",
        "    \n",
        "   \n",
        "    if len(xmlrows[i]) == 0:\n",
        "       target = target + 1\n",
        "      \n",
        "    else:\n",
        "        break \n",
        "columns = xmlrows[target][0].find_all()\n",
        "columnsLen = len(columns)\n",
        "for i in range(0, columnsLen):\n",
        "    nameList.append(columns[i].name)\n",
        "nameList = [\"Damcode\"] + [\"Excllncobsrvtcode\"] + nameList\n"
      ],
      "execution_count": null,
      "outputs": []
    },
    {
      "cell_type": "code",
      "metadata": {
        "colab": {
          "base_uri": "https://localhost:8080/"
        },
        "id": "TegoDlu4LxCs",
        "outputId": "28f59318-17cb-4eeb-8c72-226f6ae19a52"
      },
      "source": [
        "print(columns)\n",
        "print(nameList)"
      ],
      "execution_count": null,
      "outputs": [
        {
          "output_type": "stream",
          "name": "stdout",
          "text": [
            "[<acmtlrf>0</acmtlrf>, <hourrf>0</hourrf>, <no>24</no>, <obsrdt>2020-01-01 01:00</obsrdt>]\n",
            "['Damcode', 'Excllncobsrvtcode', 'acmtlrf', 'hourrf', 'no', 'obsrdt']\n"
          ]
        }
      ]
    },
    {
      "cell_type": "code",
      "metadata": {
        "colab": {
          "base_uri": "https://localhost:8080/"
        },
        "id": "FNJR1gazojWa",
        "outputId": "665bdb36-79c2-47ab-a3c3-e3fbec0e16b0"
      },
      "source": [
        "xmlrows[0]"
      ],
      "execution_count": null,
      "outputs": [
        {
          "output_type": "execute_result",
          "data": {
            "text/plain": [
              "[<item><acmtlrf>0</acmtlrf><hourrf>0</hourrf><no>24</no><obsrdt>2020-01-01 01:00</obsrdt></item>,\n",
              " <item><acmtlrf>0</acmtlrf><hourrf>0</hourrf><no>23</no><obsrdt>2020-01-01 02:00</obsrdt></item>,\n",
              " <item><acmtlrf>0</acmtlrf><hourrf>0</hourrf><no>22</no><obsrdt>2020-01-01 03:00</obsrdt></item>,\n",
              " <item><acmtlrf>0</acmtlrf><hourrf>0</hourrf><no>21</no><obsrdt>2020-01-01 04:00</obsrdt></item>,\n",
              " <item><acmtlrf>0</acmtlrf><hourrf>0</hourrf><no>20</no><obsrdt>2020-01-01 05:00</obsrdt></item>,\n",
              " <item><acmtlrf>0</acmtlrf><hourrf>0</hourrf><no>19</no><obsrdt>2020-01-01 06:00</obsrdt></item>,\n",
              " <item><acmtlrf>0</acmtlrf><hourrf>0</hourrf><no>18</no><obsrdt>2020-01-01 07:00</obsrdt></item>,\n",
              " <item><acmtlrf>0</acmtlrf><hourrf>0</hourrf><no>17</no><obsrdt>2020-01-01 08:00</obsrdt></item>,\n",
              " <item><acmtlrf>0</acmtlrf><hourrf>0</hourrf><no>16</no><obsrdt>2020-01-01 09:00</obsrdt></item>,\n",
              " <item><acmtlrf>0</acmtlrf><hourrf>0</hourrf><no>15</no><obsrdt>2020-01-01 10:00</obsrdt></item>,\n",
              " <item><acmtlrf>0</acmtlrf><hourrf>0</hourrf><no>14</no><obsrdt>2020-01-01 11:00</obsrdt></item>,\n",
              " <item><acmtlrf>0</acmtlrf><hourrf>0</hourrf><no>13</no><obsrdt>2020-01-01 12:00</obsrdt></item>,\n",
              " <item><acmtlrf>0</acmtlrf><hourrf>0</hourrf><no>12</no><obsrdt>2020-01-01 13:00</obsrdt></item>,\n",
              " <item><acmtlrf>0</acmtlrf><hourrf>0</hourrf><no>11</no><obsrdt>2020-01-01 14:00</obsrdt></item>,\n",
              " <item><acmtlrf>0</acmtlrf><hourrf>0</hourrf><no>10</no><obsrdt>2020-01-01 15:00</obsrdt></item>,\n",
              " <item><acmtlrf>0</acmtlrf><hourrf>0</hourrf><no>9</no><obsrdt>2020-01-01 16:00</obsrdt></item>,\n",
              " <item><acmtlrf>0</acmtlrf><hourrf>0</hourrf><no>8</no><obsrdt>2020-01-01 17:00</obsrdt></item>,\n",
              " <item><acmtlrf>0</acmtlrf><hourrf>0</hourrf><no>7</no><obsrdt>2020-01-01 18:00</obsrdt></item>,\n",
              " <item><acmtlrf>0</acmtlrf><hourrf>0</hourrf><no>6</no><obsrdt>2020-01-01 19:00</obsrdt></item>,\n",
              " <item><acmtlrf>0</acmtlrf><hourrf>0</hourrf><no>5</no><obsrdt>2020-01-01 20:00</obsrdt></item>,\n",
              " <item><acmtlrf>0</acmtlrf><hourrf>0</hourrf><no>4</no><obsrdt>2020-01-01 21:00</obsrdt></item>,\n",
              " <item><acmtlrf>0</acmtlrf><hourrf>0</hourrf><no>3</no><obsrdt>2020-01-01 22:00</obsrdt></item>,\n",
              " <item><acmtlrf>0</acmtlrf><hourrf>0</hourrf><no>2</no><obsrdt>2020-01-01 23:00</obsrdt></item>,\n",
              " <item><acmtlrf>0</acmtlrf><hourrf>0</hourrf><no>1</no><obsrdt>2020-01-01 24:00</obsrdt></item>]"
            ]
          },
          "metadata": {},
          "execution_count": 7
        }
      ]
    },
    {
      "cell_type": "code",
      "metadata": {
        "id": "UgDNOm7Kolrh"
      },
      "source": [
        "total = []\n",
        "damcodeLen = len(damcode)\n",
        "excllcodeLen = len(excllcode)\n",
        "\n",
        "\n",
        "def el_code(a): \n",
        "    columnList = []\n",
        "    eachrows = xmlrows[a]\n",
        "    eachrowslen = len(eachrows)\n",
        "    for i in range(0, eachrowslen):\n",
        "        columns = eachrows[i].find_all()\n",
        "        columnsLen = len(columns)\n",
        "        for j in range(0, columnsLen):\n",
        "            eachColumn = columns[j].text \n",
        "            columnList.append(eachColumn)\n",
        "        columnList = [damcode[a]] + [excllcode[a]] + columnList\n",
        "        rowList.append(columnList)\n",
        "        columnList = []\n",
        "    return rowList\n",
        "\n",
        "\n",
        "\n",
        "for a in range(0, damcodeLen, excllcodeLen):\n",
        "    rowList=el_code(a)\n",
        "    total.append(rowList)\n",
        "\n",
        "result = pd.DataFrame(total[0], columns=nameList)\n",
        "\n",
        "   "
      ],
      "execution_count": null,
      "outputs": []
    },
    {
      "cell_type": "code",
      "metadata": {
        "colab": {
          "base_uri": "https://localhost:8080/"
        },
        "id": "nzIOKkSJRDkV",
        "outputId": "63fef627-453b-4981-c22b-4abdfbad4161"
      },
      "source": [
        "print(damcodeLen)"
      ],
      "execution_count": null,
      "outputs": [
        {
          "output_type": "stream",
          "name": "stdout",
          "text": [
            "5\n"
          ]
        }
      ]
    },
    {
      "cell_type": "code",
      "metadata": {
        "id": "ZOru4vFCong5"
      },
      "source": [
        "result.to_csv(\"/content/drive/MyDrive/water_resource_csv/hourrf_test1.csv\",encoding=\"utf-8-sig\")"
      ],
      "execution_count": null,
      "outputs": []
    },
    {
      "cell_type": "code",
      "metadata": {
        "id": "YYq1xtrwopMh",
        "colab": {
          "base_uri": "https://localhost:8080/",
          "height": 784
        },
        "outputId": "6e0fe065-56c0-4a73-8f05-72239e1bfd38"
      },
      "source": [
        "result"
      ],
      "execution_count": null,
      "outputs": [
        {
          "output_type": "execute_result",
          "data": {
            "text/html": [
              "<div>\n",
              "<style scoped>\n",
              "    .dataframe tbody tr th:only-of-type {\n",
              "        vertical-align: middle;\n",
              "    }\n",
              "\n",
              "    .dataframe tbody tr th {\n",
              "        vertical-align: top;\n",
              "    }\n",
              "\n",
              "    .dataframe thead th {\n",
              "        text-align: right;\n",
              "    }\n",
              "</style>\n",
              "<table border=\"1\" class=\"dataframe\">\n",
              "  <thead>\n",
              "    <tr style=\"text-align: right;\">\n",
              "      <th></th>\n",
              "      <th>Damcode</th>\n",
              "      <th>Excllncobsrvtcode</th>\n",
              "      <th>acmtlrf</th>\n",
              "      <th>hourrf</th>\n",
              "      <th>no</th>\n",
              "      <th>obsrdt</th>\n",
              "    </tr>\n",
              "  </thead>\n",
              "  <tbody>\n",
              "    <tr>\n",
              "      <th>0</th>\n",
              "      <td>2403201</td>\n",
              "      <td>9000232</td>\n",
              "      <td>0</td>\n",
              "      <td>0</td>\n",
              "      <td>24</td>\n",
              "      <td>2020-01-01 01:00</td>\n",
              "    </tr>\n",
              "    <tr>\n",
              "      <th>1</th>\n",
              "      <td>2403201</td>\n",
              "      <td>9000232</td>\n",
              "      <td>0</td>\n",
              "      <td>0</td>\n",
              "      <td>23</td>\n",
              "      <td>2020-01-01 02:00</td>\n",
              "    </tr>\n",
              "    <tr>\n",
              "      <th>2</th>\n",
              "      <td>2403201</td>\n",
              "      <td>9000232</td>\n",
              "      <td>0</td>\n",
              "      <td>0</td>\n",
              "      <td>22</td>\n",
              "      <td>2020-01-01 03:00</td>\n",
              "    </tr>\n",
              "    <tr>\n",
              "      <th>3</th>\n",
              "      <td>2403201</td>\n",
              "      <td>9000232</td>\n",
              "      <td>0</td>\n",
              "      <td>0</td>\n",
              "      <td>21</td>\n",
              "      <td>2020-01-01 04:00</td>\n",
              "    </tr>\n",
              "    <tr>\n",
              "      <th>4</th>\n",
              "      <td>2403201</td>\n",
              "      <td>9000232</td>\n",
              "      <td>0</td>\n",
              "      <td>0</td>\n",
              "      <td>20</td>\n",
              "      <td>2020-01-01 05:00</td>\n",
              "    </tr>\n",
              "    <tr>\n",
              "      <th>5</th>\n",
              "      <td>2403201</td>\n",
              "      <td>9000232</td>\n",
              "      <td>0</td>\n",
              "      <td>0</td>\n",
              "      <td>19</td>\n",
              "      <td>2020-01-01 06:00</td>\n",
              "    </tr>\n",
              "    <tr>\n",
              "      <th>6</th>\n",
              "      <td>2403201</td>\n",
              "      <td>9000232</td>\n",
              "      <td>0</td>\n",
              "      <td>0</td>\n",
              "      <td>18</td>\n",
              "      <td>2020-01-01 07:00</td>\n",
              "    </tr>\n",
              "    <tr>\n",
              "      <th>7</th>\n",
              "      <td>2403201</td>\n",
              "      <td>9000232</td>\n",
              "      <td>0</td>\n",
              "      <td>0</td>\n",
              "      <td>17</td>\n",
              "      <td>2020-01-01 08:00</td>\n",
              "    </tr>\n",
              "    <tr>\n",
              "      <th>8</th>\n",
              "      <td>2403201</td>\n",
              "      <td>9000232</td>\n",
              "      <td>0</td>\n",
              "      <td>0</td>\n",
              "      <td>16</td>\n",
              "      <td>2020-01-01 09:00</td>\n",
              "    </tr>\n",
              "    <tr>\n",
              "      <th>9</th>\n",
              "      <td>2403201</td>\n",
              "      <td>9000232</td>\n",
              "      <td>0</td>\n",
              "      <td>0</td>\n",
              "      <td>15</td>\n",
              "      <td>2020-01-01 10:00</td>\n",
              "    </tr>\n",
              "    <tr>\n",
              "      <th>10</th>\n",
              "      <td>2403201</td>\n",
              "      <td>9000232</td>\n",
              "      <td>0</td>\n",
              "      <td>0</td>\n",
              "      <td>14</td>\n",
              "      <td>2020-01-01 11:00</td>\n",
              "    </tr>\n",
              "    <tr>\n",
              "      <th>11</th>\n",
              "      <td>2403201</td>\n",
              "      <td>9000232</td>\n",
              "      <td>0</td>\n",
              "      <td>0</td>\n",
              "      <td>13</td>\n",
              "      <td>2020-01-01 12:00</td>\n",
              "    </tr>\n",
              "    <tr>\n",
              "      <th>12</th>\n",
              "      <td>2403201</td>\n",
              "      <td>9000232</td>\n",
              "      <td>0</td>\n",
              "      <td>0</td>\n",
              "      <td>12</td>\n",
              "      <td>2020-01-01 13:00</td>\n",
              "    </tr>\n",
              "    <tr>\n",
              "      <th>13</th>\n",
              "      <td>2403201</td>\n",
              "      <td>9000232</td>\n",
              "      <td>0</td>\n",
              "      <td>0</td>\n",
              "      <td>11</td>\n",
              "      <td>2020-01-01 14:00</td>\n",
              "    </tr>\n",
              "    <tr>\n",
              "      <th>14</th>\n",
              "      <td>2403201</td>\n",
              "      <td>9000232</td>\n",
              "      <td>0</td>\n",
              "      <td>0</td>\n",
              "      <td>10</td>\n",
              "      <td>2020-01-01 15:00</td>\n",
              "    </tr>\n",
              "    <tr>\n",
              "      <th>15</th>\n",
              "      <td>2403201</td>\n",
              "      <td>9000232</td>\n",
              "      <td>0</td>\n",
              "      <td>0</td>\n",
              "      <td>9</td>\n",
              "      <td>2020-01-01 16:00</td>\n",
              "    </tr>\n",
              "    <tr>\n",
              "      <th>16</th>\n",
              "      <td>2403201</td>\n",
              "      <td>9000232</td>\n",
              "      <td>0</td>\n",
              "      <td>0</td>\n",
              "      <td>8</td>\n",
              "      <td>2020-01-01 17:00</td>\n",
              "    </tr>\n",
              "    <tr>\n",
              "      <th>17</th>\n",
              "      <td>2403201</td>\n",
              "      <td>9000232</td>\n",
              "      <td>0</td>\n",
              "      <td>0</td>\n",
              "      <td>7</td>\n",
              "      <td>2020-01-01 18:00</td>\n",
              "    </tr>\n",
              "    <tr>\n",
              "      <th>18</th>\n",
              "      <td>2403201</td>\n",
              "      <td>9000232</td>\n",
              "      <td>0</td>\n",
              "      <td>0</td>\n",
              "      <td>6</td>\n",
              "      <td>2020-01-01 19:00</td>\n",
              "    </tr>\n",
              "    <tr>\n",
              "      <th>19</th>\n",
              "      <td>2403201</td>\n",
              "      <td>9000232</td>\n",
              "      <td>0</td>\n",
              "      <td>0</td>\n",
              "      <td>5</td>\n",
              "      <td>2020-01-01 20:00</td>\n",
              "    </tr>\n",
              "    <tr>\n",
              "      <th>20</th>\n",
              "      <td>2403201</td>\n",
              "      <td>9000232</td>\n",
              "      <td>0</td>\n",
              "      <td>0</td>\n",
              "      <td>4</td>\n",
              "      <td>2020-01-01 21:00</td>\n",
              "    </tr>\n",
              "    <tr>\n",
              "      <th>21</th>\n",
              "      <td>2403201</td>\n",
              "      <td>9000232</td>\n",
              "      <td>0</td>\n",
              "      <td>0</td>\n",
              "      <td>3</td>\n",
              "      <td>2020-01-01 22:00</td>\n",
              "    </tr>\n",
              "    <tr>\n",
              "      <th>22</th>\n",
              "      <td>2403201</td>\n",
              "      <td>9000232</td>\n",
              "      <td>0</td>\n",
              "      <td>0</td>\n",
              "      <td>2</td>\n",
              "      <td>2020-01-01 23:00</td>\n",
              "    </tr>\n",
              "    <tr>\n",
              "      <th>23</th>\n",
              "      <td>2403201</td>\n",
              "      <td>9000232</td>\n",
              "      <td>0</td>\n",
              "      <td>0</td>\n",
              "      <td>1</td>\n",
              "      <td>2020-01-01 24:00</td>\n",
              "    </tr>\n",
              "  </tbody>\n",
              "</table>\n",
              "</div>"
            ],
            "text/plain": [
              "    Damcode  Excllncobsrvtcode acmtlrf hourrf  no            obsrdt\n",
              "0   2403201            9000232       0      0  24  2020-01-01 01:00\n",
              "1   2403201            9000232       0      0  23  2020-01-01 02:00\n",
              "2   2403201            9000232       0      0  22  2020-01-01 03:00\n",
              "3   2403201            9000232       0      0  21  2020-01-01 04:00\n",
              "4   2403201            9000232       0      0  20  2020-01-01 05:00\n",
              "5   2403201            9000232       0      0  19  2020-01-01 06:00\n",
              "6   2403201            9000232       0      0  18  2020-01-01 07:00\n",
              "7   2403201            9000232       0      0  17  2020-01-01 08:00\n",
              "8   2403201            9000232       0      0  16  2020-01-01 09:00\n",
              "9   2403201            9000232       0      0  15  2020-01-01 10:00\n",
              "10  2403201            9000232       0      0  14  2020-01-01 11:00\n",
              "11  2403201            9000232       0      0  13  2020-01-01 12:00\n",
              "12  2403201            9000232       0      0  12  2020-01-01 13:00\n",
              "13  2403201            9000232       0      0  11  2020-01-01 14:00\n",
              "14  2403201            9000232       0      0  10  2020-01-01 15:00\n",
              "15  2403201            9000232       0      0   9  2020-01-01 16:00\n",
              "16  2403201            9000232       0      0   8  2020-01-01 17:00\n",
              "17  2403201            9000232       0      0   7  2020-01-01 18:00\n",
              "18  2403201            9000232       0      0   6  2020-01-01 19:00\n",
              "19  2403201            9000232       0      0   5  2020-01-01 20:00\n",
              "20  2403201            9000232       0      0   4  2020-01-01 21:00\n",
              "21  2403201            9000232       0      0   3  2020-01-01 22:00\n",
              "22  2403201            9000232       0      0   2  2020-01-01 23:00\n",
              "23  2403201            9000232       0      0   1  2020-01-01 24:00"
            ]
          },
          "metadata": {},
          "execution_count": 11
        }
      ]
    },
    {
      "cell_type": "code",
      "metadata": {
        "id": "GcLf8lxdDoN9"
      },
      "source": [
        ""
      ],
      "execution_count": null,
      "outputs": []
    }
  ]
}