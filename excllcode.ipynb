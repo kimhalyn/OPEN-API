{
  "nbformat": 4,
  "nbformat_minor": 0,
  "metadata": {
    "colab": {
      "name": "excllcode.ipynb",
      "provenance": [],
      "collapsed_sections": [],
      "mount_file_id": "1jgdORkTEvQSe0xqKCXIZjHTPS7s4CnyM",
      "authorship_tag": "ABX9TyM73UXAJJUKirW7lnQXi8+K",
      "include_colab_link": true
    },
    "kernelspec": {
      "name": "python3",
      "display_name": "Python 3"
    },
    "language_info": {
      "name": "python"
    }
  },
  "cells": [
    {
      "cell_type": "markdown",
      "metadata": {
        "id": "view-in-github",
        "colab_type": "text"
      },
      "source": [
        "<a href=\"https://colab.research.google.com/github/kimhalyn/OPEN-API/blob/main/excllcode.ipynb\" target=\"_parent\"><img src=\"https://colab.research.google.com/assets/colab-badge.svg\" alt=\"Open In Colab\"/></a>"
      ]
    },
    {
      "cell_type": "code",
      "metadata": {
        "colab": {
          "base_uri": "https://localhost:8080/"
        },
        "id": "AOjHZTTeoGwb",
        "outputId": "c1e9ba3e-62f4-41ae-edfa-ce6b5c69c8a5"
      },
      "source": [
        "# 라이브러리\n",
        "# colab에 xmltodict 라이브러리가 기본 설치되지 않으므로 별도 설치(외부 라이브러리)\n",
        "!pip install xmltodict \n",
        "from urllib.request import urlopen, Request\n",
        "from urllib.parse import urlencode, unquote, quote_plus\n",
        "from bs4 import BeautifulSoup\n",
        "import pandas as pd\n",
        "import requests, xmltodict, json\n",
        "from xml.etree.ElementTree import Element, SubElement, ElementTree\n",
        "import xml.etree.ElementTree as ET\n",
        "import pickle\n",
        "import numpy as np"
      ],
      "execution_count": null,
      "outputs": [
        {
          "output_type": "stream",
          "name": "stdout",
          "text": [
            "Collecting xmltodict\n",
            "  Downloading xmltodict-0.12.0-py2.py3-none-any.whl (9.2 kB)\n",
            "Installing collected packages: xmltodict\n",
            "Successfully installed xmltodict-0.12.0\n"
          ]
        }
      ]
    },
    {
      "cell_type": "code",
      "metadata": {
        "colab": {
          "base_uri": "https://localhost:8080/"
        },
        "id": "Ic1MXA0oobda",
        "outputId": "04fc8dd0-3fed-4af0-ce5e-12cfe11d5fbf"
      },
      "source": [
        "from google.colab import drive\n",
        "drive.mount('/content/drive')"
      ],
      "execution_count": 1,
      "outputs": [
        {
          "output_type": "stream",
          "name": "stdout",
          "text": [
            "Mounted at /content/drive\n"
          ]
        }
      ]
    },
    {
      "cell_type": "code",
      "metadata": {
        "id": "G4BF3JXrowHR",
        "colab": {
          "base_uri": "https://localhost:8080/"
        },
        "outputId": "79ff938f-b5a4-4476-a4bd-2a3a8c9d7299"
      },
      "source": [
        "import requests, bs4\n",
        "import pandas as pd\n",
        "from lxml import html\n",
        "from urllib.request import Request, urlopen\n",
        "from urllib.parse import urlencode, quote_plus, unquote\n",
        "from time import sleep\n",
        "import csv\n",
        "\n",
        "url = 'http://opendata.kwater.or.kr/openapi-data/service/pubd/dam/excllncobsrvt/excll/list' # !! 확인\n",
        "key = 'tMF2MGGUmsNNPf15Nr91+UA4YVQiWXVjLS7R0odxGSR0yfNjcHFkdRpCT6hXbILlBP1T+TnDJYz1kkDjiaIiQg==' #!! 확인\n",
        " \n",
        "api_key = requests.utils.unquote(key) #디코딩\n",
        "\n",
        "# 댐코드 불러오기\n",
        "data = pd.read_csv('/content/drive/MyDrive/water_resource_csv/damCode.csv') #!! 확인\n",
        "\n",
        "# 필요한 코드 조회\n",
        "damcode = data.iloc[:, 1] # !!열 확인\n",
        "xmlrows = []\n",
        "for code in damcode:\n",
        "\n",
        "  Params = '?' + urlencode({quote_plus('ServiceKey') : api_key,\n",
        "                                quote_plus('damcode') : code})\n",
        "  \n",
        "#  print(Params)\n",
        "  \n",
        "  res = requests.get(url + Params).text.encode('utf-8') # 요청에 대한 응답내용(.encode빼기도 함)\n",
        "  sleep(0.5)\n",
        "  print(res) \n",
        "  \n",
        "  xmlobj = bs4.BeautifulSoup(res, 'lxml') #lxml 파서(구문분석)  'lxml-xml'\n",
        "  print(xmlobj)\n",
        "  \n",
        "  #item 태그 분리\n",
        "  rows = xmlobj.findAll('item') # 매치되는 문자열을 리스트로 리턴\n",
        "  xmlrows.append(rows)\n",
        "\n",
        "print (xmlrows)"
      ],
      "execution_count": 4,
      "outputs": [
        {
          "output_type": "stream",
          "name": "stdout",
          "text": [
            "b'<?xml version=\"1.0\" encoding=\"UTF-8\" standalone=\"yes\"?><response><header><resultCode>99</resultCode><resultMsg>LIMITED NUMBER OF SERVICE REQUESTS EXCEEDS ERROR.</resultMsg></header></response>'\n",
            "<?xml version=\"1.0\" encoding=\"UTF-8\" standalone=\"yes\"?><html><body><response><header><resultcode>99</resultcode><resultmsg>LIMITED NUMBER OF SERVICE REQUESTS EXCEEDS ERROR.</resultmsg></header></response></body></html>\n",
            "b'<?xml version=\"1.0\" encoding=\"UTF-8\" standalone=\"yes\"?><response><header><resultCode>00</resultCode><resultMsg>NORMAL SERVICE.</resultMsg></header><body><items/></body></response>'\n",
            "<?xml version=\"1.0\" encoding=\"UTF-8\" standalone=\"yes\"?><html><body><response><header><resultcode>00</resultcode><resultmsg>NORMAL SERVICE.</resultmsg></header><items></items></response></body></html>\n",
            "b'<?xml version=\"1.0\" encoding=\"UTF-8\" standalone=\"yes\"?><response><header><resultCode>99</resultCode><resultMsg>LIMITED NUMBER OF SERVICE REQUESTS EXCEEDS ERROR.</resultMsg></header></response>'\n",
            "<?xml version=\"1.0\" encoding=\"UTF-8\" standalone=\"yes\"?><html><body><response><header><resultcode>99</resultcode><resultmsg>LIMITED NUMBER OF SERVICE REQUESTS EXCEEDS ERROR.</resultmsg></header></response></body></html>\n",
            "b'<?xml version=\"1.0\" encoding=\"UTF-8\" standalone=\"yes\"?><response><header><resultCode>99</resultCode><resultMsg>LIMITED NUMBER OF SERVICE REQUESTS EXCEEDS ERROR.</resultMsg></header></response>'\n",
            "<?xml version=\"1.0\" encoding=\"UTF-8\" standalone=\"yes\"?><html><body><response><header><resultcode>99</resultcode><resultmsg>LIMITED NUMBER OF SERVICE REQUESTS EXCEEDS ERROR.</resultmsg></header></response></body></html>\n",
            "b'<?xml version=\"1.0\" encoding=\"UTF-8\" standalone=\"yes\"?><response><header><resultCode>00</resultCode><resultMsg>NORMAL SERVICE.</resultMsg></header><body><items><item><excllncobsrvtcode>9000040</excllncobsrvtcode><obsrvtNm>\\xec\\x82\\xbc\\xec\\xb2\\x99\\xec\\x8b\\x9c(\\xea\\xb4\\x91\\xeb\\x8f\\x99\\xeb\\x8c\\x90)</obsrvtNm></item><item><excllncobsrvtcode>1001452</excllncobsrvtcode><obsrvtNm>\\xed\\x83\\x9c\\xeb\\xb0\\xb1\\xec\\x8b\\x9c(\\xec\\x83\\x81\\xec\\x82\\xac\\xeb\\xaf\\xb8\\xeb\\x8f\\x99)</obsrvtNm></item></items></body></response>'\n",
            "<?xml version=\"1.0\" encoding=\"UTF-8\" standalone=\"yes\"?><html><body><response><header><resultcode>00</resultcode><resultmsg>NORMAL SERVICE.</resultmsg></header><items><item><excllncobsrvtcode>9000040</excllncobsrvtcode><obsrvtnm>삼척시(광동댐)</obsrvtnm></item><item><excllncobsrvtcode>1001452</excllncobsrvtcode><obsrvtnm>태백시(상사미동)</obsrvtnm></item></items></response></body></html>\n",
            "b'<?xml version=\"1.0\" encoding=\"UTF-8\" standalone=\"yes\"?><response><header><resultCode>00</resultCode><resultMsg>NORMAL SERVICE.</resultMsg></header><body><items/></body></response>'\n",
            "<?xml version=\"1.0\" encoding=\"UTF-8\" standalone=\"yes\"?><html><body><response><header><resultcode>00</resultcode><resultmsg>NORMAL SERVICE.</resultmsg></header><items></items></response></body></html>\n",
            "b'<?xml version=\"1.0\" encoding=\"UTF-8\" standalone=\"yes\"?><response><header><resultCode>99</resultCode><resultMsg>LIMITED NUMBER OF SERVICE REQUESTS EXCEEDS ERROR.</resultMsg></header></response>'\n",
            "<?xml version=\"1.0\" encoding=\"UTF-8\" standalone=\"yes\"?><html><body><response><header><resultcode>99</resultcode><resultmsg>LIMITED NUMBER OF SERVICE REQUESTS EXCEEDS ERROR.</resultmsg></header></response></body></html>\n",
            "b'<?xml version=\"1.0\" encoding=\"UTF-8\" standalone=\"yes\"?><response><header><resultCode>00</resultCode><resultMsg>NORMAL SERVICE.</resultMsg></header><body><items><item><excllncobsrvtcode>9000239</excllncobsrvtcode><obsrvtNm>\\xec\\x97\\xb0\\xec\\xb2\\x9c\\xea\\xb5\\xb0(\\xea\\xb5\\xb0\\xeb\\x82\\xa8\\xeb\\x8c\\x90)</obsrvtNm></item><item><excllncobsrvtcode>9000240</excllncobsrvtcode><obsrvtNm>\\xec\\x97\\xb0\\xec\\xb2\\x9c\\xea\\xb5\\xb0(\\xed\\x9a\\xa1\\xec\\x82\\xb0\\xeb\\xa6\\xac)</obsrvtNm></item></items></body></response>'\n",
            "<?xml version=\"1.0\" encoding=\"UTF-8\" standalone=\"yes\"?><html><body><response><header><resultcode>00</resultcode><resultmsg>NORMAL SERVICE.</resultmsg></header><items><item><excllncobsrvtcode>9000239</excllncobsrvtcode><obsrvtnm>연천군(군남댐)</obsrvtnm></item><item><excllncobsrvtcode>9000240</excllncobsrvtcode><obsrvtnm>연천군(횡산리)</obsrvtnm></item></items></response></body></html>\n",
            "b'<?xml version=\"1.0\" encoding=\"UTF-8\" standalone=\"yes\"?><response><header><resultCode>99</resultCode><resultMsg>LIMITED NUMBER OF SERVICE REQUESTS EXCEEDS ERROR.</resultMsg></header></response>'\n",
            "<?xml version=\"1.0\" encoding=\"UTF-8\" standalone=\"yes\"?><html><body><response><header><resultcode>99</resultcode><resultmsg>LIMITED NUMBER OF SERVICE REQUESTS EXCEEDS ERROR.</resultmsg></header></response></body></html>\n",
            "b'<?xml version=\"1.0\" encoding=\"UTF-8\" standalone=\"yes\"?><response><header><resultCode>00</resultCode><resultMsg>NORMAL SERVICE.</resultMsg></header><body><items/></body></response>'\n",
            "<?xml version=\"1.0\" encoding=\"UTF-8\" standalone=\"yes\"?><html><body><response><header><resultcode>00</resultcode><resultmsg>NORMAL SERVICE.</resultmsg></header><items></items></response></body></html>\n",
            "b'<?xml version=\"1.0\" encoding=\"UTF-8\" standalone=\"yes\"?><response><header><resultCode>99</resultCode><resultMsg>LIMITED NUMBER OF SERVICE REQUESTS EXCEEDS ERROR.</resultMsg></header></response>'\n",
            "<?xml version=\"1.0\" encoding=\"UTF-8\" standalone=\"yes\"?><html><body><response><header><resultcode>99</resultcode><resultmsg>LIMITED NUMBER OF SERVICE REQUESTS EXCEEDS ERROR.</resultmsg></header></response></body></html>\n",
            "b'<?xml version=\"1.0\" encoding=\"UTF-8\" standalone=\"yes\"?><response><header><resultCode>00</resultCode><resultMsg>NORMAL SERVICE.</resultMsg></header><body><items><item><excllncobsrvtcode>2020450</excllncobsrvtcode><obsrvtNm>\\xeb\\x82\\xa8\\xec\\x9b\\x90\\xec\\x8b\\x9c(\\xeb\\x8d\\x95\\xeb\\x8f\\x99\\xeb\\xa6\\xac)</obsrvtNm></item><item><excllncobsrvtcode>2020444</excllncobsrvtcode><obsrvtNm>\\xeb\\x82\\xa8\\xec\\x9b\\x90\\xec\\x8b\\x9c(\\xec\\x9a\\xb4\\xeb\\xb4\\x89\\xec\\x9d\\x8d)</obsrvtNm></item><item><excllncobsrvtcode>2020452</excllncobsrvtcode><obsrvtNm>\\xeb\\x82\\xa8\\xec\\x9b\\x90\\xec\\x8b\\x9c(\\xec\\x9d\\x98\\xec\\xa7\\x80\\xeb\\xa6\\xac)</obsrvtNm></item><item><excllncobsrvtcode>2020428</excllncobsrvtcode><obsrvtNm>\\xec\\x82\\xb0\\xec\\xb2\\xad\\xea\\xb5\\xb0(\\xea\\xb2\\xbd\\xed\\x98\\xb8\\xea\\xb5\\x90)</obsrvtNm></item><item><excllncobsrvtcode>2020408</excllncobsrvtcode><obsrvtNm>\\xec\\x82\\xb0\\xec\\xb2\\xad\\xea\\xb5\\xb0(\\xeb\\x82\\xb4\\xeb\\x8c\\x80\\xeb\\xa6\\xac)</obsrvtNm></item><item><excllncobsrvtcode>9000015</excllncobsrvtcode><obsrvtNm>\\xec\\x82\\xb0\\xec\\xb2\\xad\\xea\\xb5\\xb0(\\xeb\\x82\\xb4\\xec\\x9b\\x90\\xeb\\xa6\\xac)</obsrvtNm></item><item><excllncobsrvtcode>2020458</excllncobsrvtcode><obsrvtNm>\\xec\\x82\\xb0\\xec\\xb2\\xad\\xea\\xb5\\xb0(\\xec\\x8b\\xa4\\xeb\\xa7\\xa4\\xeb\\xa6\\xac)</obsrvtNm></item><item><excllncobsrvtcode>2018467</excllncobsrvtcode><obsrvtNm>\\xec\\x82\\xb0\\xec\\xb2\\xad\\xea\\xb5\\xb0(\\xec\\x9e\\xa5\\xec\\xb2\\x9c\\xeb\\xa6\\xac)</obsrvtNm></item><item><excllncobsrvtcode>2020432</excllncobsrvtcode><obsrvtNm>\\xec\\x82\\xb0\\xec\\xb2\\xad\\xea\\xb5\\xb0(\\xec\\xb0\\xbd\\xec\\xb4\\x8c\\xeb\\xa6\\xac)</obsrvtNm></item><item><excllncobsrvtcode>2020430</excllncobsrvtcode><obsrvtNm>\\xec\\x82\\xb0\\xec\\xb2\\xad\\xea\\xb5\\xb0(\\xed\\x95\\x98\\xec\\xa0\\x95\\xeb\\xa6\\xac)</obsrvtNm></item><item><excllncobsrvtcode>2018477</excllncobsrvtcode><obsrvtNm>\\xec\\x82\\xb0\\xec\\xb2\\xad\\xea\\xb5\\xb0(\\xed\\x96\\xa5\\xec\\x96\\x91\\xeb\\xa6\\xac)</obsrvtNm></item><item><excllncobsrvtcode>2020468</excllncobsrvtcode><obsrvtNm>\\xec\\xa7\\x84\\xec\\xa3\\xbc\\xec\\x8b\\x9c(\\xec\\x9e\\x90\\xeb\\xa7\\xa4\\xeb\\xa6\\xac)</obsrvtNm></item><item><excllncobsrvtcode>2021415</excllncobsrvtcode><obsrvtNm>\\xec\\xa7\\x84\\xec\\xa3\\xbc\\xec\\x8b\\x9c(\\xec\\x9e\\xa5\\xeb\\x8c\\x80\\xeb\\x8f\\x99)</obsrvtNm></item><item><excllncobsrvtcode>2020464</excllncobsrvtcode><obsrvtNm>\\xed\\x95\\x98\\xeb\\x8f\\x99\\xea\\xb5\\xb0(\\xeb\\x8c\\x80\\xea\\xb3\\xa1\\xeb\\xa6\\xac)</obsrvtNm></item><item><excllncobsrvtcode>2020466</excllncobsrvtcode><obsrvtNm>\\xed\\x95\\x98\\xeb\\x8f\\x99\\xea\\xb5\\xb0(\\xec\\x9c\\x84\\xed\\x83\\x9c\\xeb\\xa6\\xac)</obsrvtNm></item><item><excllncobsrvtcode>2020440</excllncobsrvtcode><obsrvtNm>\\xed\\x95\\xa8\\xec\\x96\\x91\\xea\\xb5\\xb0(\\xea\\xb8\\x88\\xec\\xb2\\x9c\\xeb\\xa6\\xac)</obsrvtNm></item><item><excllncobsrvtcode>2020442</excllncobsrvtcode><obsrvtNm>\\xed\\x95\\xa8\\xec\\x96\\x91\\xea\\xb5\\xb0(\\xec\\x9a\\xa9\\xed\\x8f\\x89\\xeb\\xa6\\xac)</obsrvtNm></item><item><excllncobsrvtcode>2020448</excllncobsrvtcode><obsrvtNm>\\xed\\x95\\xa8\\xec\\x96\\x91\\xea\\xb5\\xb0(\\xec\\x9a\\xb4\\xea\\xb3\\xa1\\xeb\\xa6\\xac)</obsrvtNm></item><item><excllncobsrvtcode>9000014</excllncobsrvtcode><obsrvtNm>\\xed\\x95\\xa8\\xec\\x96\\x91\\xea\\xb5\\xb0(\\xec\\x9d\\x98\\xed\\x83\\x84\\xeb\\xa6\\xac)</obsrvtNm></item><item><excllncobsrvtcode>2020460</excllncobsrvtcode><obsrvtNm>\\xed\\x95\\xa8\\xec\\x96\\x91\\xea\\xb5\\xb0(\\xed\\x99\\x94\\xec\\xb4\\x8c\\xeb\\xa6\\xac)</obsrvtNm></item><item><excllncobsrvtcode>2020446</excllncobsrvtcode><obsrvtNm>\\xed\\x95\\xa9\\xec\\xb2\\x9c\\xea\\xb5\\xb0(\\xec\\x86\\x8c\\xec\\x98\\xa4\\xeb\\xa6\\xac)</obsrvtNm></item></items></body></response>'\n",
            "<?xml version=\"1.0\" encoding=\"UTF-8\" standalone=\"yes\"?><html><body><response><header><resultcode>00</resultcode><resultmsg>NORMAL SERVICE.</resultmsg></header><items><item><excllncobsrvtcode>2020450</excllncobsrvtcode><obsrvtnm>남원시(덕동리)</obsrvtnm></item><item><excllncobsrvtcode>2020444</excllncobsrvtcode><obsrvtnm>남원시(운봉읍)</obsrvtnm></item><item><excllncobsrvtcode>2020452</excllncobsrvtcode><obsrvtnm>남원시(의지리)</obsrvtnm></item><item><excllncobsrvtcode>2020428</excllncobsrvtcode><obsrvtnm>산청군(경호교)</obsrvtnm></item><item><excllncobsrvtcode>2020408</excllncobsrvtcode><obsrvtnm>산청군(내대리)</obsrvtnm></item><item><excllncobsrvtcode>9000015</excllncobsrvtcode><obsrvtnm>산청군(내원리)</obsrvtnm></item><item><excllncobsrvtcode>2020458</excllncobsrvtcode><obsrvtnm>산청군(실매리)</obsrvtnm></item><item><excllncobsrvtcode>2018467</excllncobsrvtcode><obsrvtnm>산청군(장천리)</obsrvtnm></item><item><excllncobsrvtcode>2020432</excllncobsrvtcode><obsrvtnm>산청군(창촌리)</obsrvtnm></item><item><excllncobsrvtcode>2020430</excllncobsrvtcode><obsrvtnm>산청군(하정리)</obsrvtnm></item><item><excllncobsrvtcode>2018477</excllncobsrvtcode><obsrvtnm>산청군(향양리)</obsrvtnm></item><item><excllncobsrvtcode>2020468</excllncobsrvtcode><obsrvtnm>진주시(자매리)</obsrvtnm></item><item><excllncobsrvtcode>2021415</excllncobsrvtcode><obsrvtnm>진주시(장대동)</obsrvtnm></item><item><excllncobsrvtcode>2020464</excllncobsrvtcode><obsrvtnm>하동군(대곡리)</obsrvtnm></item><item><excllncobsrvtcode>2020466</excllncobsrvtcode><obsrvtnm>하동군(위태리)</obsrvtnm></item><item><excllncobsrvtcode>2020440</excllncobsrvtcode><obsrvtnm>함양군(금천리)</obsrvtnm></item><item><excllncobsrvtcode>2020442</excllncobsrvtcode><obsrvtnm>함양군(용평리)</obsrvtnm></item><item><excllncobsrvtcode>2020448</excllncobsrvtcode><obsrvtnm>함양군(운곡리)</obsrvtnm></item><item><excllncobsrvtcode>9000014</excllncobsrvtcode><obsrvtnm>함양군(의탄리)</obsrvtnm></item><item><excllncobsrvtcode>2020460</excllncobsrvtcode><obsrvtnm>함양군(화촌리)</obsrvtnm></item><item><excllncobsrvtcode>2020446</excllncobsrvtcode><obsrvtnm>합천군(소오리)</obsrvtnm></item></items></response></body></html>\n",
            "b'<?xml version=\"1.0\" encoding=\"UTF-8\" standalone=\"yes\"?><response><header><resultCode>99</resultCode><resultMsg>LIMITED NUMBER OF SERVICE REQUESTS EXCEEDS ERROR.</resultMsg></header></response>'\n",
            "<?xml version=\"1.0\" encoding=\"UTF-8\" standalone=\"yes\"?><html><body><response><header><resultcode>99</resultcode><resultmsg>LIMITED NUMBER OF SERVICE REQUESTS EXCEEDS ERROR.</resultmsg></header></response></body></html>\n",
            "b'<?xml version=\"1.0\" encoding=\"UTF-8\" standalone=\"yes\"?><response><header><resultCode>00</resultCode><resultMsg>NORMAL SERVICE.</resultMsg></header><body><items/></body></response>'\n",
            "<?xml version=\"1.0\" encoding=\"UTF-8\" standalone=\"yes\"?><html><body><response><header><resultcode>00</resultcode><resultmsg>NORMAL SERVICE.</resultmsg></header><items></items></response></body></html>\n",
            "b'<?xml version=\"1.0\" encoding=\"UTF-8\" standalone=\"yes\"?><response><header><resultCode>00</resultCode><resultMsg>NORMAL SERVICE.</resultMsg></header><body><items><item><excllncobsrvtcode>9000167</excllncobsrvtcode><obsrvtNm>\\xec\\x9a\\xb8\\xec\\x82\\xb0\\xec\\x8b\\x9c(\\xea\\xb5\\xac\\xeb\\xaf\\xb8\\xeb\\xa6\\xac)</obsrvtNm></item><item><excllncobsrvtcode>9000168</excllncobsrvtcode><obsrvtNm>\\xec\\x9a\\xb8\\xec\\x82\\xb0\\xec\\x8b\\x9c(\\xec\\xb2\\x9c\\xec\\xa0\\x84\\xeb\\xa6\\xac)</obsrvtNm></item></items></body></response>'\n",
            "<?xml version=\"1.0\" encoding=\"UTF-8\" standalone=\"yes\"?><html><body><response><header><resultcode>00</resultcode><resultmsg>NORMAL SERVICE.</resultmsg></header><items><item><excllncobsrvtcode>9000167</excllncobsrvtcode><obsrvtnm>울산시(구미리)</obsrvtnm></item><item><excllncobsrvtcode>9000168</excllncobsrvtcode><obsrvtnm>울산시(천전리)</obsrvtnm></item></items></response></body></html>\n",
            "b'<?xml version=\"1.0\" encoding=\"UTF-8\" standalone=\"yes\"?><response><header><resultCode>99</resultCode><resultMsg>LIMITED NUMBER OF SERVICE REQUESTS EXCEEDS ERROR.</resultMsg></header></response>'\n",
            "<?xml version=\"1.0\" encoding=\"UTF-8\" standalone=\"yes\"?><html><body><response><header><resultcode>99</resultcode><resultmsg>LIMITED NUMBER OF SERVICE REQUESTS EXCEEDS ERROR.</resultmsg></header></response></body></html>\n",
            "b'<?xml version=\"1.0\" encoding=\"UTF-8\" standalone=\"yes\"?><response><header><resultCode>00</resultCode><resultMsg>NORMAL SERVICE.</resultMsg></header><body><items><item><excllncobsrvtcode>3008440</excllncobsrvtcode><obsrvtNm>\\xea\\xb8\\x88\\xec\\x82\\xb0\\xea\\xb5\\xb0(\\xeb\\xa7\\x88\\xec\\xa0\\x84\\xeb\\xa6\\xac)</obsrvtNm></item><item><excllncobsrvtcode>3008450</excllncobsrvtcode><obsrvtNm>\\xea\\xb8\\x88\\xec\\x82\\xb0\\xea\\xb5\\xb0(\\xec\\x83\\x81\\xea\\xb3\\xa1\\xeb\\xa6\\xac)</obsrvtNm></item><item><excllncobsrvtcode>3004430</excllncobsrvtcode><obsrvtNm>\\xea\\xb8\\x88\\xec\\x82\\xb0\\xea\\xb5\\xb0(\\xec\\x84\\xa0\\xec\\x9b\\x90\\xeb\\xa6\\xac)</obsrvtNm></item><item><excllncobsrvtcode>3003431</excllncobsrvtcode><obsrvtNm>\\xeb\\xac\\xb4\\xec\\xa3\\xbc\\xea\\xb5\\xb0(\\xea\\xb8\\xb0\\xea\\xb3\\xa1\\xeb\\xa6\\xac)</obsrvtNm></item><item><excllncobsrvtcode>3003430</excllncobsrvtcode><obsrvtNm>\\xeb\\xac\\xb4\\xec\\xa3\\xbc\\xea\\xb5\\xb0(\\xec\\x82\\xbc\\xea\\xb0\\x80\\xeb\\xa6\\xac)</obsrvtNm></item><item><excllncobsrvtcode>3003450</excllncobsrvtcode><obsrvtNm>\\xeb\\xac\\xb4\\xec\\xa3\\xbc\\xea\\xb5\\xb0(\\xec\\xa6\\x9d\\xec\\x82\\xb0\\xeb\\xa6\\xac)</obsrvtNm></item><item><excllncobsrvtcode>3007487</excllncobsrvtcode><obsrvtNm>\\xeb\\xb3\\xb4\\xec\\x9d\\x80\\xea\\xb5\\xb0(\\xea\\xb5\\xac\\xeb\\xb3\\x91\\xeb\\xa6\\xac)</obsrvtNm></item><item><excllncobsrvtcode>3007470</excllncobsrvtcode><obsrvtNm>\\xeb\\xb3\\xb4\\xec\\x9d\\x80\\xea\\xb5\\xb0(\\xec\\x8b\\xa0\\xed\\x95\\xa8\\xeb\\xa6\\xac)</obsrvtNm></item><item><excllncobsrvtcode>9000016</excllncobsrvtcode><obsrvtNm>\\xec\\x83\\x81\\xec\\xa3\\xbc\\xec\\x8b\\x9c(\\xeb\\x93\\x9d\\xec\\x88\\x98\\xeb\\xa6\\xac)</obsrvtNm></item><item><excllncobsrvtcode>9000018</excllncobsrvtcode><obsrvtNm>\\xec\\x98\\x81\\xeb\\x8f\\x99\\xea\\xb5\\xb0(\\xea\\xb6\\x81\\xec\\xb4\\x8c\\xeb\\xa6\\xac2)</obsrvtNm></item><item><excllncobsrvtcode>3005440</excllncobsrvtcode><obsrvtNm>\\xec\\x98\\x81\\xeb\\x8f\\x99\\xea\\xb5\\xb0(\\xeb\\x82\\xa8\\xec\\x84\\xb1\\xeb\\xa6\\xac)</obsrvtNm></item><item><excllncobsrvtcode>3004440</excllncobsrvtcode><obsrvtNm>\\xec\\x98\\x81\\xeb\\x8f\\x99\\xea\\xb5\\xb0(\\xec\\x82\\xb0\\xeb\\xa7\\x89\\xeb\\xa6\\xac)</obsrvtNm></item><item><excllncobsrvtcode>3008430</excllncobsrvtcode><obsrvtNm>\\xec\\x98\\xa5\\xec\\xb2\\x9c\\xea\\xb5\\xb0(\\xeb\\x8c\\x80\\xec\\xa0\\x95\\xeb\\xa6\\xac)</obsrvtNm></item><item><excllncobsrvtcode>3007475</excllncobsrvtcode><obsrvtNm>\\xec\\x98\\xa5\\xec\\xb2\\x9c\\xea\\xb5\\xb0(\\xec\\x82\\xb0\\xea\\xb3\\x84\\xeb\\xa6\\xac)</obsrvtNm></item><item><excllncobsrvtcode>3005430</excllncobsrvtcode><obsrvtNm>\\xec\\x98\\xa5\\xec\\xb2\\x9c\\xea\\xb5\\xb0(\\xec\\x9b\\x90\\xeb\\x8f\\x99\\xeb\\xa6\\xac)</obsrvtNm></item><item><excllncobsrvtcode>9000019</excllncobsrvtcode><obsrvtNm>\\xec\\x98\\xa5\\xec\\xb2\\x9c\\xea\\xb5\\xb0(\\xec\\x9d\\xb8\\xed\\x8f\\xac\\xeb\\xa6\\xac)</obsrvtNm></item><item><excllncobsrvtcode>9000017</excllncobsrvtcode><obsrvtNm>\\xec\\xb2\\xad\\xec\\x9b\\x90\\xea\\xb5\\xb0(\\xec\\x83\\x81\\xec\\x9e\\xa5\\xeb\\xa6\\xac)</obsrvtNm></item></items></body></response>'\n",
            "<?xml version=\"1.0\" encoding=\"UTF-8\" standalone=\"yes\"?><html><body><response><header><resultcode>00</resultcode><resultmsg>NORMAL SERVICE.</resultmsg></header><items><item><excllncobsrvtcode>3008440</excllncobsrvtcode><obsrvtnm>금산군(마전리)</obsrvtnm></item><item><excllncobsrvtcode>3008450</excllncobsrvtcode><obsrvtnm>금산군(상곡리)</obsrvtnm></item><item><excllncobsrvtcode>3004430</excllncobsrvtcode><obsrvtnm>금산군(선원리)</obsrvtnm></item><item><excllncobsrvtcode>3003431</excllncobsrvtcode><obsrvtnm>무주군(기곡리)</obsrvtnm></item><item><excllncobsrvtcode>3003430</excllncobsrvtcode><obsrvtnm>무주군(삼가리)</obsrvtnm></item><item><excllncobsrvtcode>3003450</excllncobsrvtcode><obsrvtnm>무주군(증산리)</obsrvtnm></item><item><excllncobsrvtcode>3007487</excllncobsrvtcode><obsrvtnm>보은군(구병리)</obsrvtnm></item><item><excllncobsrvtcode>3007470</excllncobsrvtcode><obsrvtnm>보은군(신함리)</obsrvtnm></item><item><excllncobsrvtcode>9000016</excllncobsrvtcode><obsrvtnm>상주시(득수리)</obsrvtnm></item><item><excllncobsrvtcode>9000018</excllncobsrvtcode><obsrvtnm>영동군(궁촌리2)</obsrvtnm></item><item><excllncobsrvtcode>3005440</excllncobsrvtcode><obsrvtnm>영동군(남성리)</obsrvtnm></item><item><excllncobsrvtcode>3004440</excllncobsrvtcode><obsrvtnm>영동군(산막리)</obsrvtnm></item><item><excllncobsrvtcode>3008430</excllncobsrvtcode><obsrvtnm>옥천군(대정리)</obsrvtnm></item><item><excllncobsrvtcode>3007475</excllncobsrvtcode><obsrvtnm>옥천군(산계리)</obsrvtnm></item><item><excllncobsrvtcode>3005430</excllncobsrvtcode><obsrvtnm>옥천군(원동리)</obsrvtnm></item><item><excllncobsrvtcode>9000019</excllncobsrvtcode><obsrvtnm>옥천군(인포리)</obsrvtnm></item><item><excllncobsrvtcode>9000017</excllncobsrvtcode><obsrvtnm>청원군(상장리)</obsrvtnm></item></items></response></body></html>\n",
            "b'<?xml version=\"1.0\" encoding=\"UTF-8\" standalone=\"yes\"?><response><header><resultCode>99</resultCode><resultMsg>LIMITED NUMBER OF SERVICE REQUESTS EXCEEDS ERROR.</resultMsg></header></response>'\n",
            "<?xml version=\"1.0\" encoding=\"UTF-8\" standalone=\"yes\"?><html><body><response><header><resultcode>99</resultcode><resultmsg>LIMITED NUMBER OF SERVICE REQUESTS EXCEEDS ERROR.</resultmsg></header></response></body></html>\n",
            "b'<?xml version=\"1.0\" encoding=\"UTF-8\" standalone=\"yes\"?><response><header><resultCode>99</resultCode><resultMsg>LIMITED NUMBER OF SERVICE REQUESTS EXCEEDS ERROR.</resultMsg></header></response>'\n",
            "<?xml version=\"1.0\" encoding=\"UTF-8\" standalone=\"yes\"?><html><body><response><header><resultcode>99</resultcode><resultmsg>LIMITED NUMBER OF SERVICE REQUESTS EXCEEDS ERROR.</resultmsg></header></response></body></html>\n",
            "b'<?xml version=\"1.0\" encoding=\"UTF-8\" standalone=\"yes\"?><response><header><resultCode>00</resultCode><resultMsg>NORMAL SERVICE.</resultMsg></header><body><items/></body></response>'\n",
            "<?xml version=\"1.0\" encoding=\"UTF-8\" standalone=\"yes\"?><html><body><response><header><resultcode>00</resultcode><resultmsg>NORMAL SERVICE.</resultmsg></header><items></items></response></body></html>\n",
            "b'<?xml version=\"1.0\" encoding=\"UTF-8\" standalone=\"yes\"?><response><header><resultCode>99</resultCode><resultMsg>LIMITED NUMBER OF SERVICE REQUESTS EXCEEDS ERROR.</resultMsg></header></response>'\n",
            "<?xml version=\"1.0\" encoding=\"UTF-8\" standalone=\"yes\"?><html><body><response><header><resultcode>99</resultcode><resultmsg>LIMITED NUMBER OF SERVICE REQUESTS EXCEEDS ERROR.</resultmsg></header></response></body></html>\n",
            "b'<?xml version=\"1.0\" encoding=\"UTF-8\" standalone=\"yes\"?><response><header><resultCode>99</resultCode><resultMsg>LIMITED NUMBER OF SERVICE REQUESTS EXCEEDS ERROR.</resultMsg></header></response>'\n",
            "<?xml version=\"1.0\" encoding=\"UTF-8\" standalone=\"yes\"?><html><body><response><header><resultcode>99</resultcode><resultmsg>LIMITED NUMBER OF SERVICE REQUESTS EXCEEDS ERROR.</resultmsg></header></response></body></html>\n",
            "b'<?xml version=\"1.0\" encoding=\"UTF-8\" standalone=\"yes\"?><response><header><resultCode>00</resultCode><resultMsg>NORMAL SERVICE.</resultMsg></header><body><items><item><excllncobsrvtcode>9000181</excllncobsrvtcode><obsrvtNm>\\xec\\x9a\\xb8\\xec\\x82\\xb0\\xec\\x8b\\x9c(\\xea\\xb5\\xac\\xeb\\xaf\\xb8\\xeb\\xa6\\xac)</obsrvtNm></item><item><excllncobsrvtcode>9000044</excllncobsrvtcode><obsrvtNm>\\xec\\x9a\\xb8\\xec\\x82\\xb0\\xec\\x8b\\x9c(\\xec\\x82\\xac\\xec\\x97\\xb0\\xeb\\x8c\\x90)</obsrvtNm></item><item><excllncobsrvtcode>9000182</excllncobsrvtcode><obsrvtNm>\\xec\\x9a\\xb8\\xec\\x82\\xb0\\xec\\x8b\\x9c(\\xec\\xb2\\x9c\\xec\\xa0\\x84\\xeb\\xa6\\xac)</obsrvtNm></item></items></body></response>'\n",
            "<?xml version=\"1.0\" encoding=\"UTF-8\" standalone=\"yes\"?><html><body><response><header><resultcode>00</resultcode><resultmsg>NORMAL SERVICE.</resultmsg></header><items><item><excllncobsrvtcode>9000181</excllncobsrvtcode><obsrvtnm>울산시(구미리)</obsrvtnm></item><item><excllncobsrvtcode>9000044</excllncobsrvtcode><obsrvtnm>울산시(사연댐)</obsrvtnm></item><item><excllncobsrvtcode>9000182</excllncobsrvtcode><obsrvtnm>울산시(천전리)</obsrvtnm></item></items></response></body></html>\n",
            "b'<?xml version=\"1.0\" encoding=\"UTF-8\" standalone=\"yes\"?><response><header><resultCode>00</resultCode><resultMsg>NORMAL SERVICE.</resultMsg></header><body><items/></body></response>'\n",
            "<?xml version=\"1.0\" encoding=\"UTF-8\" standalone=\"yes\"?><html><body><response><header><resultcode>00</resultcode><resultmsg>NORMAL SERVICE.</resultmsg></header><items></items></response></body></html>\n",
            "b'<?xml version=\"1.0\" encoding=\"UTF-8\" standalone=\"yes\"?><response><header><resultCode>99</resultCode><resultMsg>LIMITED NUMBER OF SERVICE REQUESTS EXCEEDS ERROR.</resultMsg></header></response>'\n",
            "<?xml version=\"1.0\" encoding=\"UTF-8\" standalone=\"yes\"?><html><body><response><header><resultcode>99</resultcode><resultmsg>LIMITED NUMBER OF SERVICE REQUESTS EXCEEDS ERROR.</resultmsg></header></response></body></html>\n",
            "b'<?xml version=\"1.0\" encoding=\"UTF-8\" standalone=\"yes\"?><response><header><resultCode>00</resultCode><resultMsg>NORMAL SERVICE.</resultMsg></header><body><items><item><excllncobsrvtcode>4001450</excllncobsrvtcode><obsrvtNm>\\xec\\x88\\x9c\\xec\\xb0\\xbd\\xea\\xb5\\xb0(\\xec\\x8b\\x9c\\xec\\x82\\xb0\\xeb\\xa6\\xac)</obsrvtNm></item><item><excllncobsrvtcode>4003420</excllncobsrvtcode><obsrvtNm>\\xec\\x9e\\x84\\xec\\x8b\\xa4\\xea\\xb5\\xb0(\\xec\\x84\\xac\\xec\\xa7\\x84\\xea\\xb0\\x95\\xeb\\x8c\\x90)</obsrvtNm></item><item><excllncobsrvtcode>4001440</excllncobsrvtcode><obsrvtNm>\\xec\\x9e\\x84\\xec\\x8b\\xa4\\xea\\xb5\\xb0(\\xec\\x9a\\xa9\\xec\\x95\\x94\\xeb\\xa6\\xac)</obsrvtNm></item><item><excllncobsrvtcode>4001430</excllncobsrvtcode><obsrvtNm>\\xec\\xa7\\x84\\xec\\x95\\x88\\xea\\xb5\\xb0(\\xeb\\x8f\\x84\\xed\\x86\\xb5\\xeb\\xa6\\xac)</obsrvtNm></item></items></body></response>'\n",
            "<?xml version=\"1.0\" encoding=\"UTF-8\" standalone=\"yes\"?><html><body><response><header><resultcode>00</resultcode><resultmsg>NORMAL SERVICE.</resultmsg></header><items><item><excllncobsrvtcode>4001450</excllncobsrvtcode><obsrvtnm>순창군(시산리)</obsrvtnm></item><item><excllncobsrvtcode>4003420</excllncobsrvtcode><obsrvtnm>임실군(섬진강댐)</obsrvtnm></item><item><excllncobsrvtcode>4001440</excllncobsrvtcode><obsrvtnm>임실군(용암리)</obsrvtnm></item><item><excllncobsrvtcode>4001430</excllncobsrvtcode><obsrvtnm>진안군(도통리)</obsrvtnm></item></items></response></body></html>\n",
            "b'<?xml version=\"1.0\" encoding=\"UTF-8\" standalone=\"yes\"?><response><header><resultCode>99</resultCode><resultMsg>LIMITED NUMBER OF SERVICE REQUESTS EXCEEDS ERROR.</resultMsg></header></response>'\n",
            "<?xml version=\"1.0\" encoding=\"UTF-8\" standalone=\"yes\"?><html><body><response><header><resultcode>99</resultcode><resultmsg>LIMITED NUMBER OF SERVICE REQUESTS EXCEEDS ERROR.</resultmsg></header></response></body></html>\n",
            "b'<?xml version=\"1.0\" encoding=\"UTF-8\" standalone=\"yes\"?><response><header><resultCode>00</resultCode><resultMsg>NORMAL SERVICE.</resultMsg></header><body><items><item><excllncobsrvtcode>1001460</excllncobsrvtcode><obsrvtNm>\\xec\\x8b\\x9c\\xed\\x97\\x982</obsrvtNm></item><item><excllncobsrvtcode>1011432</excllncobsrvtcode><obsrvtNm>\\xec\\x9d\\xb8\\xec\\xa0\\x9c\\xea\\xb5\\xb0(\\xea\\xb7\\x80\\xeb\\x91\\x94\\xeb\\xa6\\xac)</obsrvtNm></item><item><excllncobsrvtcode>1011418</excllncobsrvtcode><obsrvtNm>\\xec\\x9d\\xb8\\xec\\xa0\\x9c\\xea\\xb5\\xb0(\\xeb\\x82\\xa8\\xec\\xa0\\x84\\xeb\\xa6\\xac)</obsrvtNm></item><item><excllncobsrvtcode>1012432</excllncobsrvtcode><obsrvtNm>\\xec\\x9d\\xb8\\xec\\xa0\\x9c\\xea\\xb5\\xb0(\\xeb\\x8d\\x95\\xec\\xa0\\x81\\xeb\\xa6\\xac)</obsrvtNm></item><item><excllncobsrvtcode>1011424</excllncobsrvtcode><obsrvtNm>\\xec\\x9d\\xb8\\xec\\xa0\\x9c\\xea\\xb5\\xb0(\\xec\\x83\\x81\\xeb\\x82\\xa8\\xec\\xb4\\x88\\xea\\xb5\\x90)</obsrvtNm></item><item><excllncobsrvtcode>1010430</excllncobsrvtcode><obsrvtNm>\\xec\\x9d\\xb8\\xec\\xa0\\x9c\\xea\\xb5\\xb0(\\xec\\x84\\x9c\\xec\\x84\\xb1\\xec\\xb4\\x88\\xea\\xb5\\x90)</obsrvtNm></item><item><excllncobsrvtcode>1011428</excllncobsrvtcode><obsrvtNm>\\xec\\x9d\\xb8\\xec\\xa0\\x9c\\xea\\xb5\\xb0(\\xec\\x8b\\xa0\\xeb\\x82\\xa8\\xeb\\xa6\\xac)</obsrvtNm></item><item><excllncobsrvtcode>1010470</excllncobsrvtcode><obsrvtNm>\\xec\\x9d\\xb8\\xec\\xa0\\x9c\\xea\\xb5\\xb0(\\xec\\x9a\\xa9\\xeb\\x8c\\x80\\xec\\xb4\\x88\\xea\\xb5\\x90)</obsrvtNm></item><item><excllncobsrvtcode>1010440</excllncobsrvtcode><obsrvtNm>\\xec\\x9d\\xb8\\xec\\xa0\\x9c\\xea\\xb5\\xb0(\\xed\\x95\\x9c\\xea\\xb3\\x84\\xec\\xb4\\x88\\xea\\xb5\\x90)</obsrvtNm></item><item><excllncobsrvtcode>1011414</excllncobsrvtcode><obsrvtNm>\\xec\\x9d\\xb8\\xec\\xa0\\x9c\\xea\\xb5\\xb0(\\xed\\x98\\x84\\xeb\\xa6\\xac)</obsrvtNm></item><item><excllncobsrvtcode>9000143</excllncobsrvtcode><obsrvtNm>\\xec\\xb6\\x98\\xec\\xb2\\x9c\\xec\\x8b\\x9c(\\xec\\x86\\x8c\\xec\\x96\\x91\\xea\\xb0\\x95\\xeb\\x8c\\x90)</obsrvtNm></item><item><excllncobsrvtcode>1011416</excllncobsrvtcode><obsrvtNm>\\xec\\xb6\\x98\\xec\\xb2\\x9c\\xec\\x8b\\x9c(\\xec\\xb6\\x94\\xea\\xb3\\xa1\\xec\\xb4\\x88\\xea\\xb5\\x90)</obsrvtNm></item><item><excllncobsrvtcode>1011430</excllncobsrvtcode><obsrvtNm>\\xed\\x99\\x8d\\xec\\xb2\\x9c\\xea\\xb5\\xb0(\\xeb\\xaa\\x85\\xea\\xb0\\x9c\\xeb\\xa6\\xac2)</obsrvtNm></item><item><excllncobsrvtcode>9000139</excllncobsrvtcode><obsrvtNm>\\xed\\x99\\x8d\\xec\\xb2\\x9c\\xea\\xb5\\xb0(\\xec\\xb0\\xbd\\xec\\xb4\\x8c\\xeb\\xa6\\xac)</obsrvtNm></item></items></body></response>'\n",
            "<?xml version=\"1.0\" encoding=\"UTF-8\" standalone=\"yes\"?><html><body><response><header><resultcode>00</resultcode><resultmsg>NORMAL SERVICE.</resultmsg></header><items><item><excllncobsrvtcode>1001460</excllncobsrvtcode><obsrvtnm>시험2</obsrvtnm></item><item><excllncobsrvtcode>1011432</excllncobsrvtcode><obsrvtnm>인제군(귀둔리)</obsrvtnm></item><item><excllncobsrvtcode>1011418</excllncobsrvtcode><obsrvtnm>인제군(남전리)</obsrvtnm></item><item><excllncobsrvtcode>1012432</excllncobsrvtcode><obsrvtnm>인제군(덕적리)</obsrvtnm></item><item><excllncobsrvtcode>1011424</excllncobsrvtcode><obsrvtnm>인제군(상남초교)</obsrvtnm></item><item><excllncobsrvtcode>1010430</excllncobsrvtcode><obsrvtnm>인제군(서성초교)</obsrvtnm></item><item><excllncobsrvtcode>1011428</excllncobsrvtcode><obsrvtnm>인제군(신남리)</obsrvtnm></item><item><excllncobsrvtcode>1010470</excllncobsrvtcode><obsrvtnm>인제군(용대초교)</obsrvtnm></item><item><excllncobsrvtcode>1010440</excllncobsrvtcode><obsrvtnm>인제군(한계초교)</obsrvtnm></item><item><excllncobsrvtcode>1011414</excllncobsrvtcode><obsrvtnm>인제군(현리)</obsrvtnm></item><item><excllncobsrvtcode>9000143</excllncobsrvtcode><obsrvtnm>춘천시(소양강댐)</obsrvtnm></item><item><excllncobsrvtcode>1011416</excllncobsrvtcode><obsrvtnm>춘천시(추곡초교)</obsrvtnm></item><item><excllncobsrvtcode>1011430</excllncobsrvtcode><obsrvtnm>홍천군(명개리2)</obsrvtnm></item><item><excllncobsrvtcode>9000139</excllncobsrvtcode><obsrvtnm>홍천군(창촌리)</obsrvtnm></item></items></response></body></html>\n",
            "b'<?xml version=\"1.0\" encoding=\"UTF-8\" standalone=\"yes\"?><response><header><resultCode>00</resultCode><resultMsg>NORMAL SERVICE.</resultMsg></header><body><items><item><excllncobsrvtcode>9000045</excllncobsrvtcode><obsrvtNm>\\xea\\xb4\\x91\\xec\\x96\\x91\\xec\\x8b\\x9c(\\xec\\x88\\x98\\xec\\x96\\xb4\\xeb\\x8c\\x90)</obsrvtNm></item><item><excllncobsrvtcode>4105402</excllncobsrvtcode><obsrvtNm>\\xea\\xb4\\x91\\xec\\x96\\x91\\xec\\x8b\\x9c(\\xec\\x96\\xb4\\xec\\xb9\\x98\\xeb\\xa6\\xac)</obsrvtNm></item></items></body></response>'\n",
            "<?xml version=\"1.0\" encoding=\"UTF-8\" standalone=\"yes\"?><html><body><response><header><resultcode>00</resultcode><resultmsg>NORMAL SERVICE.</resultmsg></header><items><item><excllncobsrvtcode>9000045</excllncobsrvtcode><obsrvtnm>광양시(수어댐)</obsrvtnm></item><item><excllncobsrvtcode>4105402</excllncobsrvtcode><obsrvtnm>광양시(어치리)</obsrvtnm></item></items></response></body></html>\n",
            "b'<?xml version=\"1.0\" encoding=\"UTF-8\" standalone=\"yes\"?><response><header><resultCode>99</resultCode><resultMsg>LIMITED NUMBER OF SERVICE REQUESTS EXCEEDS ERROR.</resultMsg></header></response>'\n",
            "<?xml version=\"1.0\" encoding=\"UTF-8\" standalone=\"yes\"?><html><body><response><header><resultcode>99</resultcode><resultmsg>LIMITED NUMBER OF SERVICE REQUESTS EXCEEDS ERROR.</resultmsg></header></response></body></html>\n",
            "b'<?xml version=\"1.0\" encoding=\"UTF-8\" standalone=\"yes\"?><response><header><resultCode>00</resultCode><resultMsg>NORMAL SERVICE.</resultMsg></header><body><items><item><excllncobsrvtcode>9000046</excllncobsrvtcode><obsrvtNm>\\xea\\xb2\\xbd\\xec\\xa3\\xbc\\xec\\x8b\\x9c(\\xec\\x95\\x88\\xea\\xb3\\x84\\xeb\\x8c\\x90)</obsrvtNm></item></items></body></response>'\n",
            "<?xml version=\"1.0\" encoding=\"UTF-8\" standalone=\"yes\"?><html><body><response><header><resultcode>00</resultcode><resultmsg>NORMAL SERVICE.</resultmsg></header><items><item><excllncobsrvtcode>9000046</excllncobsrvtcode><obsrvtnm>경주시(안계댐)</obsrvtnm></item></items></response></body></html>\n",
            "b'<?xml version=\"1.0\" encoding=\"UTF-8\" standalone=\"yes\"?><response><header><resultCode>00</resultCode><resultMsg>NORMAL SERVICE.</resultMsg></header><body><items><item><excllncobsrvtcode>2001402</excllncobsrvtcode><obsrvtNm>\\xeb\\xb4\\x89\\xed\\x99\\x94\\xea\\xb5\\xb0(\\xea\\xb0\\x88\\xec\\x82\\xb0\\xeb\\xa6\\xac)</obsrvtNm></item><item><excllncobsrvtcode>2001444</excllncobsrvtcode><obsrvtNm>\\xeb\\xb4\\x89\\xed\\x99\\x94\\xea\\xb5\\xb0(\\xea\\xb3\\xa0\\xec\\x84\\xa0\\xeb\\xa6\\xac)</obsrvtNm></item><item><excllncobsrvtcode>2001436</excllncobsrvtcode><obsrvtNm>\\xeb\\xb4\\x89\\xed\\x99\\x94\\xea\\xb5\\xb0(\\xea\\xb4\\x80\\xec\\xb0\\xbd\\xeb\\xa6\\xac)</obsrvtNm></item><item><excllncobsrvtcode>2001422</excllncobsrvtcode><obsrvtNm>\\xeb\\xb4\\x89\\xed\\x99\\x94\\xea\\xb5\\xb0(\\xeb\\x8c\\x80\\xed\\x98\\x84\\xeb\\xa6\\xac)</obsrvtNm></item><item><excllncobsrvtcode>2001438</excllncobsrvtcode><obsrvtNm>\\xeb\\xb4\\x89\\xed\\x99\\x94\\xea\\xb5\\xb0(\\xec\\x84\\x9c\\xeb\\x8f\\x99\\xeb\\xa6\\xac)</obsrvtNm></item><item><excllncobsrvtcode>2001420</excllncobsrvtcode><obsrvtNm>\\xec\\x95\\x88\\xeb\\x8f\\x99\\xec\\x8b\\x9c(\\xea\\xb8\\xb0\\xec\\x82\\xac\\xeb\\xa6\\xac)</obsrvtNm></item><item><excllncobsrvtcode>2001428</excllncobsrvtcode><obsrvtNm>\\xec\\x95\\x88\\xeb\\x8f\\x99\\xec\\x8b\\x9c(\\xec\\x9d\\x98\\xec\\xb4\\x8c\\xeb\\xa6\\xac)</obsrvtNm></item><item><excllncobsrvtcode>2001434</excllncobsrvtcode><obsrvtNm>\\xec\\x9a\\xb8\\xec\\xa7\\x84\\xea\\xb5\\xb0(\\xec\\xa0\\x84\\xea\\xb3\\xa1\\xeb\\xa6\\xac)</obsrvtNm></item><item><excllncobsrvtcode>2001432</excllncobsrvtcode><obsrvtNm>\\xed\\x83\\x9c\\xeb\\xb0\\xb1\\xec\\x8b\\x9c(\\xeb\\xac\\xb8\\xea\\xb3\\xa1\\xeb\\x8f\\x99)</obsrvtNm></item></items></body></response>'\n",
            "<?xml version=\"1.0\" encoding=\"UTF-8\" standalone=\"yes\"?><html><body><response><header><resultcode>00</resultcode><resultmsg>NORMAL SERVICE.</resultmsg></header><items><item><excllncobsrvtcode>2001402</excllncobsrvtcode><obsrvtnm>봉화군(갈산리)</obsrvtnm></item><item><excllncobsrvtcode>2001444</excllncobsrvtcode><obsrvtnm>봉화군(고선리)</obsrvtnm></item><item><excllncobsrvtcode>2001436</excllncobsrvtcode><obsrvtnm>봉화군(관창리)</obsrvtnm></item><item><excllncobsrvtcode>2001422</excllncobsrvtcode><obsrvtnm>봉화군(대현리)</obsrvtnm></item><item><excllncobsrvtcode>2001438</excllncobsrvtcode><obsrvtnm>봉화군(서동리)</obsrvtnm></item><item><excllncobsrvtcode>2001420</excllncobsrvtcode><obsrvtnm>안동시(기사리)</obsrvtnm></item><item><excllncobsrvtcode>2001428</excllncobsrvtcode><obsrvtnm>안동시(의촌리)</obsrvtnm></item><item><excllncobsrvtcode>2001434</excllncobsrvtcode><obsrvtnm>울진군(전곡리)</obsrvtnm></item><item><excllncobsrvtcode>2001432</excllncobsrvtcode><obsrvtnm>태백시(문곡동)</obsrvtnm></item></items></response></body></html>\n",
            "b'<?xml version=\"1.0\" encoding=\"UTF-8\" standalone=\"yes\"?><response><header><resultCode>99</resultCode><resultMsg>LIMITED NUMBER OF SERVICE REQUESTS EXCEEDS ERROR.</resultMsg></header></response>'\n",
            "<?xml version=\"1.0\" encoding=\"UTF-8\" standalone=\"yes\"?><html><body><response><header><resultcode>99</resultcode><resultmsg>LIMITED NUMBER OF SERVICE REQUESTS EXCEEDS ERROR.</resultmsg></header></response></body></html>\n",
            "b'<?xml version=\"1.0\" encoding=\"UTF-8\" standalone=\"yes\"?><response><header><resultCode>00</resultCode><resultMsg>NORMAL SERVICE.</resultMsg></header><body><items/></body></response>'\n",
            "<?xml version=\"1.0\" encoding=\"UTF-8\" standalone=\"yes\"?><html><body><response><header><resultcode>00</resultcode><resultmsg>NORMAL SERVICE.</resultmsg></header><items></items></response></body></html>\n",
            "b'<?xml version=\"1.0\" encoding=\"UTF-8\" standalone=\"yes\"?><response><header><resultCode>99</resultCode><resultMsg>LIMITED NUMBER OF SERVICE REQUESTS EXCEEDS ERROR.</resultMsg></header></response>'\n",
            "<?xml version=\"1.0\" encoding=\"UTF-8\" standalone=\"yes\"?><html><body><response><header><resultcode>99</resultcode><resultmsg>LIMITED NUMBER OF SERVICE REQUESTS EXCEEDS ERROR.</resultmsg></header></response></body></html>\n",
            "b'<?xml version=\"1.0\" encoding=\"UTF-8\" standalone=\"yes\"?><response><header><resultCode>00</resultCode><resultMsg>NORMAL SERVICE.</resultMsg></header><body><items><item><excllncobsrvtcode>9000048</excllncobsrvtcode><obsrvtNm>\\xec\\x98\\x81\\xec\\xb2\\x9c\\xec\\x8b\\x9c(\\xec\\x98\\x81\\xec\\xb2\\x9c\\xeb\\x8c\\x90)</obsrvtNm></item><item><excllncobsrvtcode>9000039</excllncobsrvtcode><obsrvtNm>\\xed\\x8f\\xac\\xed\\x95\\xad\\xec\\x8b\\x9c(\\xea\\xb0\\x80\\xec\\x82\\xac\\xeb\\xa6\\xac)</obsrvtNm></item><item><excllncobsrvtcode>9000050</excllncobsrvtcode><obsrvtNm>\\xed\\x8f\\xac\\xed\\x95\\xad\\xec\\x8b\\x9c(\\xec\\xa3\\xbd\\xec\\x9e\\xa5\\xeb\\xa9\\xb4)</obsrvtNm></item><item><excllncobsrvtcode>9000171</excllncobsrvtcode><obsrvtNm>\\xed\\x8f\\xac\\xed\\x95\\xad\\xec\\x8b\\x9c(\\xec\\xa7\\x80\\xeb\\x8f\\x99\\xeb\\xa6\\xac)</obsrvtNm></item></items></body></response>'\n",
            "<?xml version=\"1.0\" encoding=\"UTF-8\" standalone=\"yes\"?><html><body><response><header><resultcode>00</resultcode><resultmsg>NORMAL SERVICE.</resultmsg></header><items><item><excllncobsrvtcode>9000048</excllncobsrvtcode><obsrvtnm>영천시(영천댐)</obsrvtnm></item><item><excllncobsrvtcode>9000039</excllncobsrvtcode><obsrvtnm>포항시(가사리)</obsrvtnm></item><item><excllncobsrvtcode>9000050</excllncobsrvtcode><obsrvtnm>포항시(죽장면)</obsrvtnm></item><item><excllncobsrvtcode>9000171</excllncobsrvtcode><obsrvtnm>포항시(지동리)</obsrvtnm></item></items></response></body></html>\n",
            "b'<?xml version=\"1.0\" encoding=\"UTF-8\" standalone=\"yes\"?><response><header><resultCode>99</resultCode><resultMsg>LIMITED NUMBER OF SERVICE REQUESTS EXCEEDS ERROR.</resultMsg></header></response>'\n",
            "<?xml version=\"1.0\" encoding=\"UTF-8\" standalone=\"yes\"?><html><body><response><header><resultcode>99</resultcode><resultmsg>LIMITED NUMBER OF SERVICE REQUESTS EXCEEDS ERROR.</resultmsg></header></response></body></html>\n",
            "b'<?xml version=\"1.0\" encoding=\"UTF-8\" standalone=\"yes\"?><response><header><resultCode>00</resultCode><resultMsg>NORMAL SERVICE.</resultMsg></header><body><items><item><excllncobsrvtcode>9000051</excllncobsrvtcode><obsrvtNm>\\xea\\xb2\\xbd\\xec\\xa3\\xbc\\xec\\x8b\\x9c(\\xeb\\x82\\xb4\\xec\\xb9\\xa0\\xeb\\xa6\\xac)</obsrvtNm></item><item><excllncobsrvtcode>9000170</excllncobsrvtcode><obsrvtNm>\\xea\\xb2\\xbd\\xec\\xa3\\xbc\\xec\\x8b\\x9c(\\xeb\\x8c\\x80\\xed\\x98\\x84\\xeb\\xa6\\xac)</obsrvtNm></item><item><excllncobsrvtcode>9000052</excllncobsrvtcode><obsrvtNm>\\xec\\xb2\\xad\\xeb\\x8f\\x84\\xea\\xb5\\xb0(\\xec\\x8b\\xa0\\xec\\x9b\\x90\\xeb\\xa6\\xac)</obsrvtNm></item><item><excllncobsrvtcode>9000053</excllncobsrvtcode><obsrvtNm>\\xec\\xb2\\xad\\xeb\\x8f\\x84\\xea\\xb5\\xb0(\\xec\\x9a\\xb4\\xeb\\xac\\xb8\\xeb\\x8c\\x90)</obsrvtNm></item></items></body></response>'\n",
            "<?xml version=\"1.0\" encoding=\"UTF-8\" standalone=\"yes\"?><html><body><response><header><resultcode>00</resultcode><resultmsg>NORMAL SERVICE.</resultmsg></header><items><item><excllncobsrvtcode>9000051</excllncobsrvtcode><obsrvtnm>경주시(내칠리)</obsrvtnm></item><item><excllncobsrvtcode>9000170</excllncobsrvtcode><obsrvtnm>경주시(대현리)</obsrvtnm></item><item><excllncobsrvtcode>9000052</excllncobsrvtcode><obsrvtnm>청도군(신원리)</obsrvtnm></item><item><excllncobsrvtcode>9000053</excllncobsrvtcode><obsrvtnm>청도군(운문댐)</obsrvtnm></item></items></response></body></html>\n",
            "b'<?xml version=\"1.0\" encoding=\"UTF-8\" standalone=\"yes\"?><response><header><resultCode>99</resultCode><resultMsg>LIMITED NUMBER OF SERVICE REQUESTS EXCEEDS ERROR.</resultMsg></header></response>'\n",
            "<?xml version=\"1.0\" encoding=\"UTF-8\" standalone=\"yes\"?><html><body><response><header><resultcode>99</resultcode><resultmsg>LIMITED NUMBER OF SERVICE REQUESTS EXCEEDS ERROR.</resultmsg></header></response></body></html>\n",
            "b'<?xml version=\"1.0\" encoding=\"UTF-8\" standalone=\"yes\"?><response><header><resultCode>99</resultCode><resultMsg>LIMITED NUMBER OF SERVICE REQUESTS EXCEEDS ERROR.</resultMsg></header></response>'\n",
            "<?xml version=\"1.0\" encoding=\"UTF-8\" standalone=\"yes\"?><html><body><response><header><resultcode>99</resultcode><resultmsg>LIMITED NUMBER OF SERVICE REQUESTS EXCEEDS ERROR.</resultmsg></header></response></body></html>\n",
            "b'<?xml version=\"1.0\" encoding=\"UTF-8\" standalone=\"yes\"?><response><header><resultCode>99</resultCode><resultMsg>LIMITED NUMBER OF SERVICE REQUESTS EXCEEDS ERROR.</resultMsg></header></response>'\n",
            "<?xml version=\"1.0\" encoding=\"UTF-8\" standalone=\"yes\"?><html><body><response><header><resultcode>99</resultcode><resultmsg>LIMITED NUMBER OF SERVICE REQUESTS EXCEEDS ERROR.</resultmsg></header></response></body></html>\n",
            "b'<?xml version=\"1.0\" encoding=\"UTF-8\" standalone=\"yes\"?><response><header><resultCode>99</resultCode><resultMsg>LIMITED NUMBER OF SERVICE REQUESTS EXCEEDS ERROR.</resultMsg></header></response>'\n",
            "<?xml version=\"1.0\" encoding=\"UTF-8\" standalone=\"yes\"?><html><body><response><header><resultcode>99</resultcode><resultmsg>LIMITED NUMBER OF SERVICE REQUESTS EXCEEDS ERROR.</resultmsg></header></response></body></html>\n",
            "b'<?xml version=\"1.0\" encoding=\"UTF-8\" standalone=\"yes\"?><response><header><resultCode>99</resultCode><resultMsg>LIMITED NUMBER OF SERVICE REQUESTS EXCEEDS ERROR.</resultMsg></header></response>'\n",
            "<?xml version=\"1.0\" encoding=\"UTF-8\" standalone=\"yes\"?><html><body><response><header><resultcode>99</resultcode><resultmsg>LIMITED NUMBER OF SERVICE REQUESTS EXCEEDS ERROR.</resultmsg></header></response></body></html>\n",
            "b'<?xml version=\"1.0\" encoding=\"UTF-8\" standalone=\"yes\"?><response><header><resultCode>99</resultCode><resultMsg>LIMITED NUMBER OF SERVICE REQUESTS EXCEEDS ERROR.</resultMsg></header></response>'\n",
            "<?xml version=\"1.0\" encoding=\"UTF-8\" standalone=\"yes\"?><html><body><response><header><resultcode>99</resultcode><resultmsg>LIMITED NUMBER OF SERVICE REQUESTS EXCEEDS ERROR.</resultmsg></header></response></body></html>\n",
            "b'<?xml version=\"1.0\" encoding=\"UTF-8\" standalone=\"yes\"?><response><header><resultCode>99</resultCode><resultMsg>LIMITED NUMBER OF SERVICE REQUESTS EXCEEDS ERROR.</resultMsg></header></response>'\n",
            "<?xml version=\"1.0\" encoding=\"UTF-8\" standalone=\"yes\"?><html><body><response><header><resultcode>99</resultcode><resultmsg>LIMITED NUMBER OF SERVICE REQUESTS EXCEEDS ERROR.</resultmsg></header></response></body></html>\n",
            "b'<?xml version=\"1.0\" encoding=\"UTF-8\" standalone=\"yes\"?><response><header><resultCode>99</resultCode><resultMsg>LIMITED NUMBER OF SERVICE REQUESTS EXCEEDS ERROR.</resultMsg></header></response>'\n",
            "<?xml version=\"1.0\" encoding=\"UTF-8\" standalone=\"yes\"?><html><body><response><header><resultcode>99</resultcode><resultmsg>LIMITED NUMBER OF SERVICE REQUESTS EXCEEDS ERROR.</resultmsg></header></response></body></html>\n",
            "b'<?xml version=\"1.0\" encoding=\"UTF-8\" standalone=\"yes\"?><response><header><resultCode>99</resultCode><resultMsg>LIMITED NUMBER OF SERVICE REQUESTS EXCEEDS ERROR.</resultMsg></header></response>'\n",
            "<?xml version=\"1.0\" encoding=\"UTF-8\" standalone=\"yes\"?><html><body><response><header><resultcode>99</resultcode><resultmsg>LIMITED NUMBER OF SERVICE REQUESTS EXCEEDS ERROR.</resultmsg></header></response></body></html>\n",
            "b'<?xml version=\"1.0\" encoding=\"UTF-8\" standalone=\"yes\"?><response><header><resultCode>99</resultCode><resultMsg>LIMITED NUMBER OF SERVICE REQUESTS EXCEEDS ERROR.</resultMsg></header></response>'\n",
            "<?xml version=\"1.0\" encoding=\"UTF-8\" standalone=\"yes\"?><html><body><response><header><resultcode>99</resultcode><resultmsg>LIMITED NUMBER OF SERVICE REQUESTS EXCEEDS ERROR.</resultmsg></header></response></body></html>\n",
            "b'<?xml version=\"1.0\" encoding=\"UTF-8\" standalone=\"yes\"?><response><header><resultCode>99</resultCode><resultMsg>LIMITED NUMBER OF SERVICE REQUESTS EXCEEDS ERROR.</resultMsg></header></response>'\n",
            "<?xml version=\"1.0\" encoding=\"UTF-8\" standalone=\"yes\"?><html><body><response><header><resultcode>99</resultcode><resultmsg>LIMITED NUMBER OF SERVICE REQUESTS EXCEEDS ERROR.</resultmsg></header></response></body></html>\n",
            "b'<?xml version=\"1.0\" encoding=\"UTF-8\" standalone=\"yes\"?><response><header><resultCode>99</resultCode><resultMsg>LIMITED NUMBER OF SERVICE REQUESTS EXCEEDS ERROR.</resultMsg></header></response>'\n",
            "<?xml version=\"1.0\" encoding=\"UTF-8\" standalone=\"yes\"?><html><body><response><header><resultcode>99</resultcode><resultmsg>LIMITED NUMBER OF SERVICE REQUESTS EXCEEDS ERROR.</resultmsg></header></response></body></html>\n",
            "b'<?xml version=\"1.0\" encoding=\"UTF-8\" standalone=\"yes\"?><response><header><resultCode>99</resultCode><resultMsg>LIMITED NUMBER OF SERVICE REQUESTS EXCEEDS ERROR.</resultMsg></header></response>'\n",
            "<?xml version=\"1.0\" encoding=\"UTF-8\" standalone=\"yes\"?><html><body><response><header><resultcode>99</resultcode><resultmsg>LIMITED NUMBER OF SERVICE REQUESTS EXCEEDS ERROR.</resultmsg></header></response></body></html>\n",
            "b'<?xml version=\"1.0\" encoding=\"UTF-8\" standalone=\"yes\"?><response><header><resultCode>99</resultCode><resultMsg>LIMITED NUMBER OF SERVICE REQUESTS EXCEEDS ERROR.</resultMsg></header></response>'\n",
            "<?xml version=\"1.0\" encoding=\"UTF-8\" standalone=\"yes\"?><html><body><response><header><resultcode>99</resultcode><resultmsg>LIMITED NUMBER OF SERVICE REQUESTS EXCEEDS ERROR.</resultmsg></header></response></body></html>\n",
            "b'<?xml version=\"1.0\" encoding=\"UTF-8\" standalone=\"yes\"?><response><header><resultCode>99</resultCode><resultMsg>LIMITED NUMBER OF SERVICE REQUESTS EXCEEDS ERROR.</resultMsg></header></response>'\n",
            "<?xml version=\"1.0\" encoding=\"UTF-8\" standalone=\"yes\"?><html><body><response><header><resultcode>99</resultcode><resultmsg>LIMITED NUMBER OF SERVICE REQUESTS EXCEEDS ERROR.</resultmsg></header></response></body></html>\n",
            "b'<?xml version=\"1.0\" encoding=\"UTF-8\" standalone=\"yes\"?><response><header><resultCode>99</resultCode><resultMsg>LIMITED NUMBER OF SERVICE REQUESTS EXCEEDS ERROR.</resultMsg></header></response>'\n",
            "<?xml version=\"1.0\" encoding=\"UTF-8\" standalone=\"yes\"?><html><body><response><header><resultcode>99</resultcode><resultmsg>LIMITED NUMBER OF SERVICE REQUESTS EXCEEDS ERROR.</resultmsg></header></response></body></html>\n",
            "b'<?xml version=\"1.0\" encoding=\"UTF-8\" standalone=\"yes\"?><response><header><resultCode>99</resultCode><resultMsg>LIMITED NUMBER OF SERVICE REQUESTS EXCEEDS ERROR.</resultMsg></header></response>'\n",
            "<?xml version=\"1.0\" encoding=\"UTF-8\" standalone=\"yes\"?><html><body><response><header><resultcode>99</resultcode><resultmsg>LIMITED NUMBER OF SERVICE REQUESTS EXCEEDS ERROR.</resultmsg></header></response></body></html>\n",
            "b'<?xml version=\"1.0\" encoding=\"UTF-8\" standalone=\"yes\"?><response><header><resultCode>99</resultCode><resultMsg>LIMITED NUMBER OF SERVICE REQUESTS EXCEEDS ERROR.</resultMsg></header></response>'\n",
            "<?xml version=\"1.0\" encoding=\"UTF-8\" standalone=\"yes\"?><html><body><response><header><resultcode>99</resultcode><resultmsg>LIMITED NUMBER OF SERVICE REQUESTS EXCEEDS ERROR.</resultmsg></header></response></body></html>\n",
            "[[], [], [], [], [<item><excllncobsrvtcode>9000040</excllncobsrvtcode><obsrvtnm>삼척시(광동댐)</obsrvtnm></item>, <item><excllncobsrvtcode>1001452</excllncobsrvtcode><obsrvtnm>태백시(상사미동)</obsrvtnm></item>], [], [], [<item><excllncobsrvtcode>9000239</excllncobsrvtcode><obsrvtnm>연천군(군남댐)</obsrvtnm></item>, <item><excllncobsrvtcode>9000240</excllncobsrvtcode><obsrvtnm>연천군(횡산리)</obsrvtnm></item>], [], [], [], [<item><excllncobsrvtcode>2020450</excllncobsrvtcode><obsrvtnm>남원시(덕동리)</obsrvtnm></item>, <item><excllncobsrvtcode>2020444</excllncobsrvtcode><obsrvtnm>남원시(운봉읍)</obsrvtnm></item>, <item><excllncobsrvtcode>2020452</excllncobsrvtcode><obsrvtnm>남원시(의지리)</obsrvtnm></item>, <item><excllncobsrvtcode>2020428</excllncobsrvtcode><obsrvtnm>산청군(경호교)</obsrvtnm></item>, <item><excllncobsrvtcode>2020408</excllncobsrvtcode><obsrvtnm>산청군(내대리)</obsrvtnm></item>, <item><excllncobsrvtcode>9000015</excllncobsrvtcode><obsrvtnm>산청군(내원리)</obsrvtnm></item>, <item><excllncobsrvtcode>2020458</excllncobsrvtcode><obsrvtnm>산청군(실매리)</obsrvtnm></item>, <item><excllncobsrvtcode>2018467</excllncobsrvtcode><obsrvtnm>산청군(장천리)</obsrvtnm></item>, <item><excllncobsrvtcode>2020432</excllncobsrvtcode><obsrvtnm>산청군(창촌리)</obsrvtnm></item>, <item><excllncobsrvtcode>2020430</excllncobsrvtcode><obsrvtnm>산청군(하정리)</obsrvtnm></item>, <item><excllncobsrvtcode>2018477</excllncobsrvtcode><obsrvtnm>산청군(향양리)</obsrvtnm></item>, <item><excllncobsrvtcode>2020468</excllncobsrvtcode><obsrvtnm>진주시(자매리)</obsrvtnm></item>, <item><excllncobsrvtcode>2021415</excllncobsrvtcode><obsrvtnm>진주시(장대동)</obsrvtnm></item>, <item><excllncobsrvtcode>2020464</excllncobsrvtcode><obsrvtnm>하동군(대곡리)</obsrvtnm></item>, <item><excllncobsrvtcode>2020466</excllncobsrvtcode><obsrvtnm>하동군(위태리)</obsrvtnm></item>, <item><excllncobsrvtcode>2020440</excllncobsrvtcode><obsrvtnm>함양군(금천리)</obsrvtnm></item>, <item><excllncobsrvtcode>2020442</excllncobsrvtcode><obsrvtnm>함양군(용평리)</obsrvtnm></item>, <item><excllncobsrvtcode>2020448</excllncobsrvtcode><obsrvtnm>함양군(운곡리)</obsrvtnm></item>, <item><excllncobsrvtcode>9000014</excllncobsrvtcode><obsrvtnm>함양군(의탄리)</obsrvtnm></item>, <item><excllncobsrvtcode>2020460</excllncobsrvtcode><obsrvtnm>함양군(화촌리)</obsrvtnm></item>, <item><excllncobsrvtcode>2020446</excllncobsrvtcode><obsrvtnm>합천군(소오리)</obsrvtnm></item>], [], [], [<item><excllncobsrvtcode>9000167</excllncobsrvtcode><obsrvtnm>울산시(구미리)</obsrvtnm></item>, <item><excllncobsrvtcode>9000168</excllncobsrvtcode><obsrvtnm>울산시(천전리)</obsrvtnm></item>], [], [<item><excllncobsrvtcode>3008440</excllncobsrvtcode><obsrvtnm>금산군(마전리)</obsrvtnm></item>, <item><excllncobsrvtcode>3008450</excllncobsrvtcode><obsrvtnm>금산군(상곡리)</obsrvtnm></item>, <item><excllncobsrvtcode>3004430</excllncobsrvtcode><obsrvtnm>금산군(선원리)</obsrvtnm></item>, <item><excllncobsrvtcode>3003431</excllncobsrvtcode><obsrvtnm>무주군(기곡리)</obsrvtnm></item>, <item><excllncobsrvtcode>3003430</excllncobsrvtcode><obsrvtnm>무주군(삼가리)</obsrvtnm></item>, <item><excllncobsrvtcode>3003450</excllncobsrvtcode><obsrvtnm>무주군(증산리)</obsrvtnm></item>, <item><excllncobsrvtcode>3007487</excllncobsrvtcode><obsrvtnm>보은군(구병리)</obsrvtnm></item>, <item><excllncobsrvtcode>3007470</excllncobsrvtcode><obsrvtnm>보은군(신함리)</obsrvtnm></item>, <item><excllncobsrvtcode>9000016</excllncobsrvtcode><obsrvtnm>상주시(득수리)</obsrvtnm></item>, <item><excllncobsrvtcode>9000018</excllncobsrvtcode><obsrvtnm>영동군(궁촌리2)</obsrvtnm></item>, <item><excllncobsrvtcode>3005440</excllncobsrvtcode><obsrvtnm>영동군(남성리)</obsrvtnm></item>, <item><excllncobsrvtcode>3004440</excllncobsrvtcode><obsrvtnm>영동군(산막리)</obsrvtnm></item>, <item><excllncobsrvtcode>3008430</excllncobsrvtcode><obsrvtnm>옥천군(대정리)</obsrvtnm></item>, <item><excllncobsrvtcode>3007475</excllncobsrvtcode><obsrvtnm>옥천군(산계리)</obsrvtnm></item>, <item><excllncobsrvtcode>3005430</excllncobsrvtcode><obsrvtnm>옥천군(원동리)</obsrvtnm></item>, <item><excllncobsrvtcode>9000019</excllncobsrvtcode><obsrvtnm>옥천군(인포리)</obsrvtnm></item>, <item><excllncobsrvtcode>9000017</excllncobsrvtcode><obsrvtnm>청원군(상장리)</obsrvtnm></item>], [], [], [], [], [], [<item><excllncobsrvtcode>9000181</excllncobsrvtcode><obsrvtnm>울산시(구미리)</obsrvtnm></item>, <item><excllncobsrvtcode>9000044</excllncobsrvtcode><obsrvtnm>울산시(사연댐)</obsrvtnm></item>, <item><excllncobsrvtcode>9000182</excllncobsrvtcode><obsrvtnm>울산시(천전리)</obsrvtnm></item>], [], [], [<item><excllncobsrvtcode>4001450</excllncobsrvtcode><obsrvtnm>순창군(시산리)</obsrvtnm></item>, <item><excllncobsrvtcode>4003420</excllncobsrvtcode><obsrvtnm>임실군(섬진강댐)</obsrvtnm></item>, <item><excllncobsrvtcode>4001440</excllncobsrvtcode><obsrvtnm>임실군(용암리)</obsrvtnm></item>, <item><excllncobsrvtcode>4001430</excllncobsrvtcode><obsrvtnm>진안군(도통리)</obsrvtnm></item>], [], [<item><excllncobsrvtcode>1001460</excllncobsrvtcode><obsrvtnm>시험2</obsrvtnm></item>, <item><excllncobsrvtcode>1011432</excllncobsrvtcode><obsrvtnm>인제군(귀둔리)</obsrvtnm></item>, <item><excllncobsrvtcode>1011418</excllncobsrvtcode><obsrvtnm>인제군(남전리)</obsrvtnm></item>, <item><excllncobsrvtcode>1012432</excllncobsrvtcode><obsrvtnm>인제군(덕적리)</obsrvtnm></item>, <item><excllncobsrvtcode>1011424</excllncobsrvtcode><obsrvtnm>인제군(상남초교)</obsrvtnm></item>, <item><excllncobsrvtcode>1010430</excllncobsrvtcode><obsrvtnm>인제군(서성초교)</obsrvtnm></item>, <item><excllncobsrvtcode>1011428</excllncobsrvtcode><obsrvtnm>인제군(신남리)</obsrvtnm></item>, <item><excllncobsrvtcode>1010470</excllncobsrvtcode><obsrvtnm>인제군(용대초교)</obsrvtnm></item>, <item><excllncobsrvtcode>1010440</excllncobsrvtcode><obsrvtnm>인제군(한계초교)</obsrvtnm></item>, <item><excllncobsrvtcode>1011414</excllncobsrvtcode><obsrvtnm>인제군(현리)</obsrvtnm></item>, <item><excllncobsrvtcode>9000143</excllncobsrvtcode><obsrvtnm>춘천시(소양강댐)</obsrvtnm></item>, <item><excllncobsrvtcode>1011416</excllncobsrvtcode><obsrvtnm>춘천시(추곡초교)</obsrvtnm></item>, <item><excllncobsrvtcode>1011430</excllncobsrvtcode><obsrvtnm>홍천군(명개리2)</obsrvtnm></item>, <item><excllncobsrvtcode>9000139</excllncobsrvtcode><obsrvtnm>홍천군(창촌리)</obsrvtnm></item>], [<item><excllncobsrvtcode>9000045</excllncobsrvtcode><obsrvtnm>광양시(수어댐)</obsrvtnm></item>, <item><excllncobsrvtcode>4105402</excllncobsrvtcode><obsrvtnm>광양시(어치리)</obsrvtnm></item>], [], [<item><excllncobsrvtcode>9000046</excllncobsrvtcode><obsrvtnm>경주시(안계댐)</obsrvtnm></item>], [<item><excllncobsrvtcode>2001402</excllncobsrvtcode><obsrvtnm>봉화군(갈산리)</obsrvtnm></item>, <item><excllncobsrvtcode>2001444</excllncobsrvtcode><obsrvtnm>봉화군(고선리)</obsrvtnm></item>, <item><excllncobsrvtcode>2001436</excllncobsrvtcode><obsrvtnm>봉화군(관창리)</obsrvtnm></item>, <item><excllncobsrvtcode>2001422</excllncobsrvtcode><obsrvtnm>봉화군(대현리)</obsrvtnm></item>, <item><excllncobsrvtcode>2001438</excllncobsrvtcode><obsrvtnm>봉화군(서동리)</obsrvtnm></item>, <item><excllncobsrvtcode>2001420</excllncobsrvtcode><obsrvtnm>안동시(기사리)</obsrvtnm></item>, <item><excllncobsrvtcode>2001428</excllncobsrvtcode><obsrvtnm>안동시(의촌리)</obsrvtnm></item>, <item><excllncobsrvtcode>2001434</excllncobsrvtcode><obsrvtnm>울진군(전곡리)</obsrvtnm></item>, <item><excllncobsrvtcode>2001432</excllncobsrvtcode><obsrvtnm>태백시(문곡동)</obsrvtnm></item>], [], [], [], [<item><excllncobsrvtcode>9000048</excllncobsrvtcode><obsrvtnm>영천시(영천댐)</obsrvtnm></item>, <item><excllncobsrvtcode>9000039</excllncobsrvtcode><obsrvtnm>포항시(가사리)</obsrvtnm></item>, <item><excllncobsrvtcode>9000050</excllncobsrvtcode><obsrvtnm>포항시(죽장면)</obsrvtnm></item>, <item><excllncobsrvtcode>9000171</excllncobsrvtcode><obsrvtnm>포항시(지동리)</obsrvtnm></item>], [], [<item><excllncobsrvtcode>9000051</excllncobsrvtcode><obsrvtnm>경주시(내칠리)</obsrvtnm></item>, <item><excllncobsrvtcode>9000170</excllncobsrvtcode><obsrvtnm>경주시(대현리)</obsrvtnm></item>, <item><excllncobsrvtcode>9000052</excllncobsrvtcode><obsrvtnm>청도군(신원리)</obsrvtnm></item>, <item><excllncobsrvtcode>9000053</excllncobsrvtcode><obsrvtnm>청도군(운문댐)</obsrvtnm></item>], [], [], [], [], [], [], [], [], [], [], [], [], [], [], [], [], [], []]\n"
          ]
        }
      ]
    },
    {
      "cell_type": "code",
      "metadata": {
        "id": "t_wpF0OIodCJ"
      },
      "source": [
        "\n",
        "filePath = '/content/drive/MyDrive/water_resource_csv/xmlrows.xml'\n",
        "\n",
        "\n",
        "with open(filePath, 'wb') as lf:\n",
        "    pickle.dump(xmlrows, lf)\n",
        "\n",
        "\n",
        "with open(filePath, 'rb') as lf:\n",
        "    readList = pickle.load(lf)\n"
      ],
      "execution_count": null,
      "outputs": []
    },
    {
      "cell_type": "code",
      "metadata": {
        "id": "Af6iBH4Yohx4"
      },
      "source": [
        "rowList = []\n",
        "nameList = []\n",
        "columnList = []\n",
        "xmlrowsLen = len(xmlrows)\n",
        "target = 0\n",
        "for i in range(0, xmlrowsLen):\n",
        "    \n",
        "   \n",
        "    if len(xmlrows[i]) == 0:\n",
        "       target = target + 1\n",
        "      \n",
        "    else:\n",
        "        break #반복문 종료\n",
        "columns = xmlrows[target][0].find_all()\n",
        "columnsLen = len(columns)\n",
        "for i in range(0, columnsLen):\n",
        "    nameList.append(columns[i].name)\n",
        "nameList = [\"Damcode\"] + nameList"
      ],
      "execution_count": 6,
      "outputs": []
    },
    {
      "cell_type": "code",
      "metadata": {
        "colab": {
          "base_uri": "https://localhost:8080/"
        },
        "id": "FNJR1gazojWa",
        "outputId": "0a9778fb-5621-4122-af02-c89dedb65628"
      },
      "source": [
        "xmlrows[0]"
      ],
      "execution_count": null,
      "outputs": [
        {
          "output_type": "execute_result",
          "data": {
            "text/plain": [
              "[<item><acmtlrf>0</acmtlrf><hourrf>0</hourrf><no>24</no><obsrdt>2020-01-01 01:00</obsrdt></item>,\n",
              " <item><acmtlrf>0</acmtlrf><hourrf>0</hourrf><no>23</no><obsrdt>2020-01-01 02:00</obsrdt></item>,\n",
              " <item><acmtlrf>0</acmtlrf><hourrf>0</hourrf><no>22</no><obsrdt>2020-01-01 03:00</obsrdt></item>,\n",
              " <item><acmtlrf>0</acmtlrf><hourrf>0</hourrf><no>21</no><obsrdt>2020-01-01 04:00</obsrdt></item>,\n",
              " <item><acmtlrf>0</acmtlrf><hourrf>0</hourrf><no>20</no><obsrdt>2020-01-01 05:00</obsrdt></item>,\n",
              " <item><acmtlrf>0</acmtlrf><hourrf>0</hourrf><no>19</no><obsrdt>2020-01-01 06:00</obsrdt></item>,\n",
              " <item><acmtlrf>0</acmtlrf><hourrf>0</hourrf><no>18</no><obsrdt>2020-01-01 07:00</obsrdt></item>,\n",
              " <item><acmtlrf>0</acmtlrf><hourrf>0</hourrf><no>17</no><obsrdt>2020-01-01 08:00</obsrdt></item>,\n",
              " <item><acmtlrf>0</acmtlrf><hourrf>0</hourrf><no>16</no><obsrdt>2020-01-01 09:00</obsrdt></item>,\n",
              " <item><acmtlrf>0</acmtlrf><hourrf>0</hourrf><no>15</no><obsrdt>2020-01-01 10:00</obsrdt></item>,\n",
              " <item><acmtlrf>0</acmtlrf><hourrf>0</hourrf><no>14</no><obsrdt>2020-01-01 11:00</obsrdt></item>,\n",
              " <item><acmtlrf>0</acmtlrf><hourrf>0</hourrf><no>13</no><obsrdt>2020-01-01 12:00</obsrdt></item>,\n",
              " <item><acmtlrf>0</acmtlrf><hourrf>0</hourrf><no>12</no><obsrdt>2020-01-01 13:00</obsrdt></item>,\n",
              " <item><acmtlrf>0</acmtlrf><hourrf>0</hourrf><no>11</no><obsrdt>2020-01-01 14:00</obsrdt></item>,\n",
              " <item><acmtlrf>0</acmtlrf><hourrf>0</hourrf><no>10</no><obsrdt>2020-01-01 15:00</obsrdt></item>,\n",
              " <item><acmtlrf>0</acmtlrf><hourrf>0</hourrf><no>9</no><obsrdt>2020-01-01 16:00</obsrdt></item>,\n",
              " <item><acmtlrf>0</acmtlrf><hourrf>0</hourrf><no>8</no><obsrdt>2020-01-01 17:00</obsrdt></item>,\n",
              " <item><acmtlrf>0</acmtlrf><hourrf>0</hourrf><no>7</no><obsrdt>2020-01-01 18:00</obsrdt></item>,\n",
              " <item><acmtlrf>0</acmtlrf><hourrf>0</hourrf><no>6</no><obsrdt>2020-01-01 19:00</obsrdt></item>,\n",
              " <item><acmtlrf>0</acmtlrf><hourrf>0</hourrf><no>5</no><obsrdt>2020-01-01 20:00</obsrdt></item>,\n",
              " <item><acmtlrf>0</acmtlrf><hourrf>0</hourrf><no>4</no><obsrdt>2020-01-01 21:00</obsrdt></item>,\n",
              " <item><acmtlrf>0</acmtlrf><hourrf>0</hourrf><no>3</no><obsrdt>2020-01-01 22:00</obsrdt></item>,\n",
              " <item><acmtlrf>0</acmtlrf><hourrf>0</hourrf><no>2</no><obsrdt>2020-01-01 23:00</obsrdt></item>,\n",
              " <item><acmtlrf>0</acmtlrf><hourrf>0</hourrf><no>1</no><obsrdt>2020-01-01 24:00</obsrdt></item>]"
            ]
          },
          "metadata": {},
          "execution_count": 23
        }
      ]
    },
    {
      "cell_type": "code",
      "metadata": {
        "id": "UgDNOm7Kolrh"
      },
      "source": [
        "total = []\n",
        "damcodeLen = len(damcode)\n",
        "\n",
        "\n",
        "def el_code(a): \n",
        "    columnList = []\n",
        "    eachrows = xmlrows[a]\n",
        "    eachrowslen = len(eachrows)\n",
        "    for i in range(0, eachrowslen):\n",
        "        columns = eachrows[i].find_all()\n",
        "        columnsLen = len(columns)\n",
        "        for j in range(0, columnsLen):\n",
        "            eachColumn = columns[j].text \n",
        "            columnList.append(eachColumn)\n",
        "        columnList = [damcode[a]] + columnList\n",
        "        rowList.append(columnList)\n",
        "        columnList = []\n",
        "    return rowList\n",
        "\n",
        "\n",
        "\n",
        "for a in range(0, damcodeLen):\n",
        "    rowList=el_code(a)\n",
        "    total.append(rowList)\n",
        "\n",
        "result = pd.DataFrame(total[0], columns=nameList)"
      ],
      "execution_count": 7,
      "outputs": []
    },
    {
      "cell_type": "code",
      "metadata": {
        "id": "ZOru4vFCong5"
      },
      "source": [
        "result.to_csv(\"/content/drive/MyDrive/water_resource_csv/excllcode_1.csv\",encoding=\"utf-8-sig\")"
      ],
      "execution_count": 8,
      "outputs": []
    },
    {
      "cell_type": "code",
      "metadata": {
        "id": "YYq1xtrwopMh"
      },
      "source": [
        "result"
      ],
      "execution_count": null,
      "outputs": []
    },
    {
      "cell_type": "code",
      "metadata": {
        "id": "47NhbzQeeFX2"
      },
      "source": [
        ""
      ],
      "execution_count": null,
      "outputs": []
    }
  ]
}