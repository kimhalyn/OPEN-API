{
  "nbformat": 4,
  "nbformat_minor": 0,
  "metadata": {
    "colab": {
      "name": "damcode.ipynb",
      "provenance": [],
      "collapsed_sections": [],
      "mount_file_id": "188X9p4IOJ-TQDTqXApsqbq2e3YdCCdyV",
      "authorship_tag": "ABX9TyO0R+dv72rh1JLdDN8ckztP",
      "include_colab_link": true
    },
    "kernelspec": {
      "name": "python3",
      "display_name": "Python 3"
    },
    "language_info": {
      "name": "python"
    }
  },
  "cells": [
    {
      "cell_type": "markdown",
      "metadata": {
        "id": "view-in-github",
        "colab_type": "text"
      },
      "source": [
        "<a href=\"https://colab.research.google.com/github/kimhalyn/OPEN-API/blob/main/damcode.ipynb\" target=\"_parent\"><img src=\"https://colab.research.google.com/assets/colab-badge.svg\" alt=\"Open In Colab\"/></a>"
      ]
    },
    {
      "cell_type": "code",
      "metadata": {
        "id": "tmaEhUQ3ZIgs"
      },
      "source": [
        "# 라이브러리\n",
        "# colab에 xmltodict 라이브러리가 기본 설치되지 않으므로 별도 설치\n",
        "#!pip install xmltodict \n",
        "from urllib.request import urlopen\n",
        "from urllib.parse import urlencode, unquote, quote_plus\n",
        "from bs4 import BeautifulSoup\n",
        "import pandas as pd\n",
        "import requests, xmltodict, json"
      ],
      "execution_count": null,
      "outputs": []
    },
    {
      "cell_type": "code",
      "metadata": {
        "id": "3x08GsM2ZNFD"
      },
      "source": [
        "# 댐코드 조회(56개 댐코드 존재)_성공\n",
        "url = 'http://opendata.kwater.or.kr/openapi-data/service/pubd/dam/damCode/list'\n",
        "key = 'jkd4PnVjssNP+g2WeRzs8lgc4SOelLsncvuMr81/9R9nSYKkiQAcb2xt8GTYgTJSQGQ4+htuRuyIXSwRXr210w==' #디코딩 사용\n",
        "\n",
        "Params = '?' + urlencode({ quote_plus('ServiceKey') : key})\n",
        "\n",
        "# get 방식으로 api 호출\n",
        "res = requests.get(url + Params)\n",
        "\n",
        "# json으로 변환\n",
        "dict_res = xmltodict.parse(res.content)\n",
        "json_str = json.dumps(dict_res['response']['body']['items'], ensure_ascii=False)\n",
        "json_obj = json.loads(json_str)\n",
        "\n",
        "# csv파일로 저장\n",
        "df = pd.DataFrame(json_obj['item'])\n",
        "df.to_csv('damCode.csv' ,encoding='utf-8-sig')"
      ],
      "execution_count": null,
      "outputs": []
    },
    {
      "cell_type": "code",
      "metadata": {
        "colab": {
          "base_uri": "https://localhost:8080/"
        },
        "id": "nidfyopwZQKi",
        "outputId": "67360185-a0cb-4e68-ff10-fffb072d9af4"
      },
      "source": [
        "# 판다스로 csv 파일 불러오기_iloc 사용\n",
        "data = pd.read_csv('./drive/MyDrive/수자원공사_csv/damCode.csv')\n",
        "\n",
        "# 필요한 행,열만 추출\n",
        "damcode = data.iloc[0:3,1]\n",
        "#damcode = data.iloc[27,1]\n",
        "for code in damcode:\n",
        "  print(code)"
      ],
      "execution_count": null,
      "outputs": [
        {
          "output_type": "stream",
          "name": "stdout",
          "text": [
            "2403201\n",
            "2011602\n",
            "1007601\n"
          ]
        }
      ]
    },
    {
      "cell_type": "code",
      "metadata": {
        "id": "HvckhI-XZ_Ah"
      },
      "source": [
        "# 수위 관측소 코드 조회(8.30_예외처리 전)\n",
        "url = 'http://opendata.kwater.or.kr/openapi-data/service/pubd/dam/excllncobsrvt/wal/list'\n",
        "key = 'jkd4PnVjssNP+g2WeRzs8lgc4SOelLsncvuMr81/9R9nSYKkiQAcb2xt8GTYgTJSQGQ4+htuRuyIXSwRXr210w==' #디코딩 사용\n",
        "\n",
        "# 댐코드 불러오기\n",
        "data = pd.read_csv('./drive/MyDrive/수자원공사_csv/damCode.csv')\n",
        "\n",
        "# 필요한 행, 열만 추출(테스트)\n",
        "damcode = data.iloc[0:3,1]\n",
        "\n",
        "df = pd.DataFrame()\n",
        "\n",
        "for code in damcode:\n",
        "  Params = '?' + urlencode({ quote_plus('ServiceKey') : key,\n",
        "                                quote_plus('damcode') : code }) # 댐코드 입력\n",
        "  print(code)\n",
        "  print(Params)\n",
        "  \n",
        "  # get 방식으로 api 호출\n",
        "  res = requests.get(url + Params)\n",
        "\n",
        "  # json으로 변환\n",
        "  dict_res = xmltodict.parse(res.content)\n",
        "  print(dict_res)\n",
        "  df = df.append(dict_res, ignore_index=True)\n",
        "\n",
        "  print(df)\n",
        "  json_str = json.dumps(dict_res['response']['body']['items'], ensure_ascii=False)\n",
        "  json_obj = json.loads(json_str)\n",
        "\n",
        "# csv파일로 저장\n",
        "df = pd.DataFrame(json_obj['item'])\n",
        "df.to_csv('walCode.csv' ,encoding='utf-8-sig')"
      ],
      "execution_count": null,
      "outputs": []
    },
    {
      "cell_type": "code",
      "metadata": {
        "id": "YjrnvX8JaYMI"
      },
      "source": [
        "# 수위 관측소 코드 조회(추가+예외처리)\n",
        "url = 'http://opendata.kwater.or.kr/openapi-data/service/pubd/dam/excllncobsrvt/wal/list'\n",
        "key = 'jkd4PnVjssNP+g2WeRzs8lgc4SOelLsncvuMr81/9R9nSYKkiQAcb2xt8GTYgTJSQGQ4+htuRuyIXSwRXr210w==' #디코딩 사용\n",
        "\n",
        "# 댐코드 불러오기\n",
        "data = pd.read_csv('./drive/MyDrive/수자원공사_csv/damCode.csv')\n",
        "\n",
        "# 필요한 행, 열만 추출(테스트)\n",
        "damcode = data.iloc[0:3,1]\n",
        "\n",
        "df = pd.DataFrame()\n",
        "\n",
        "for code in damcode:\n",
        "  Params = '?' + urlencode({ quote_plus('ServiceKey') : key,\n",
        "                                quote_plus('damcode') : code }) # 댐코드 입력\n",
        "  #print(code)\n",
        "  #print(Params)\n",
        "  \n",
        "  \n",
        "  # get 방식으로 api 호출\n",
        "  res = requests.get(url + Params)\n",
        "\n",
        "  # json으로 변환\n",
        "  dict_res = xmltodict.parse(res.content)\n",
        "  print(dict_res)\n",
        "  df = df.append(dict_res, ignore_index=True)\n",
        "\n",
        "  print(df)\n",
        "  json_str = json.dumps(df['response']['body']['items'], ensure_ascii=False)\n",
        "  json_obj = json.loads(json_str)\n",
        "  \n",
        "  # get 방식으로 api 호출\n",
        "  #res = requests.get(url + Params)\n",
        "\n",
        "  # json으로 변환\n",
        "  #dict = xmltodict.parse(res.content)\n",
        "  #print(dict)\n",
        "  #dict_res = df.append(dict, ignore_index=True)\n",
        "\n",
        "  #print(dict_res)\n",
        "\n",
        "# 예외처리\n",
        "try:\n",
        "  json_str = json.dumps(dict_res['response']['body']['items'], ensure_ascii=False)\n",
        "  json_obj = json.loads(json_str)\n",
        "except Exception as ex:\n",
        "  print('빈 결과', ex)\n",
        "else:\n",
        "  json_str = json.dumps(dict_res['response']['body']['items'], ensure_ascii=False)\n",
        "  json_obj = json.loads(json_str)\n",
        "  \n",
        "\n",
        "# csv파일로 저장\n",
        "df = pd.DataFrame(json_obj['item'])\n",
        "df.to_csv('006.csv' ,encoding='utf-8-sig')"
      ],
      "execution_count": null,
      "outputs": []
    },
    {
      "cell_type": "code",
      "metadata": {
        "id": "t7sGWvLik-mh"
      },
      "source": [
        "# 수위 관측소 코드 조회(추가+예외처리)\n",
        "url = 'http://opendata.kwater.or.kr/openapi-data/service/pubd/dam/excllncobsrvt/wal/list'\n",
        "key = 'jkd4PnVjssNP+g2WeRzs8lgc4SOelLsncvuMr81/9R9nSYKkiQAcb2xt8GTYgTJSQGQ4+htuRuyIXSwRXr210w==' #디코딩 사용\n",
        "\n",
        "# 댐코드 불러오기\n",
        "data = pd.read_csv('./drive/MyDrive/수자원공사_csv/damCode.csv')\n",
        "\n",
        "# 필요한 행, 열만 추출(테스트)\n",
        "damcode = data.iloc[0:3,1]\n",
        "\n",
        "df = pd.DataFrame()\n",
        "\n",
        "for code in damcode:\n",
        "  Params = '?' + urlencode({ quote_plus('ServiceKey') : key,\n",
        "                                quote_plus('damcode') : code }) # 댐코드 입력\n",
        "  #print(code)\n",
        "  #print(Params)\n",
        "  \n",
        "  \n",
        "  # get 방식으로 api 호출\n",
        "  res = requests.get(url + Params)\n",
        "\n",
        "  # json으로 변환\n",
        "  dict_res = xmltodict.parse(res.content)\n",
        "  print(dict_res)\n",
        "  df = df.append(dict_res, ignore_index=True)\n",
        "\n",
        "\n",
        "# 예외처리\n",
        "try:\n",
        "  json_str = json.dumps(df['response']['body']['items'], ensure_ascii=False)\n",
        "  json_obj = json.loads(json_str)\n",
        "except Exception as ex:\n",
        "  print('빈 결과', ex)\n",
        "else:\n",
        "  json_str = json.dumps(df['response']['body']['items'], ensure_ascii=False)\n",
        "  json_obj = json.loads(json_str)\n",
        "  \n",
        "\n",
        "# csv파일로 저장\n",
        "df = pd.DataFrame(json_obj['item'])\n",
        "df.to_csv('009.csv' ,encoding='utf-8-sig')"
      ],
      "execution_count": null,
      "outputs": []
    },
    {
      "cell_type": "code",
      "metadata": {
        "id": "6_TsDQWNZ-xj"
      },
      "source": [
        ""
      ],
      "execution_count": null,
      "outputs": []
    },
    {
      "cell_type": "code",
      "metadata": {
        "id": "6xQUt_5AZVRq"
      },
      "source": [
        "# 수위 관측소 코드 조회(작업중)\n",
        "url = 'http://opendata.kwater.or.kr/openapi-data/service/pubd/dam/excllncobsrvt/wal/list'\n",
        "key = 'jkd4PnVjssNP+g2WeRzs8lgc4SOelLsncvuMr81/9R9nSYKkiQAcb2xt8GTYgTJSQGQ4+htuRuyIXSwRXr210w==' #디코딩 사용\n",
        "\n",
        "# 댐코드 불러오기\n",
        "data = pd.read_csv('./drive/MyDrive/수자원공사_csv/damCode.csv')\n",
        "\n",
        "# 필요한 행, 열만 추출(테스트)\n",
        "damcode = data.iloc[0:3,1]\n",
        "df = pd.DataFrame()\n",
        "\n",
        "for code in damcode:\n",
        "  Params = '?' + urlencode({ quote_plus('ServiceKey') : key,\n",
        "                                quote_plus('damcode') : code }) # 댐코드 입력\n",
        "  \n",
        "  # get 방식으로 api 호출\n",
        "  res = requests.get(url + Params)\n",
        "  \n",
        "  # json으로 변환 및 항목 추출\n",
        "  dict_res = xmltodict.parse(res.content)\n",
        "  #print(dict_res)\n",
        "  df = df.append(dict_res, ignore_index=True)\n",
        "\n",
        "  try:\n",
        "    json_str = json.dumps(df['response']['body']['items'], ensure_ascii=False)\n",
        "    json_obj = json.loads(json_str)\n",
        "  except Exception as ex:\n",
        "    print('빈 결과', ex)\n",
        "    pass\n",
        "\n",
        "  # csv파일로 저장\n",
        "  df = pd.DataFrame(json_obj['item'], index=[0])\n",
        "  df.to_csv('001.csv' ,encoding='utf-8-sig')"
      ],
      "execution_count": null,
      "outputs": []
    },
    {
      "cell_type": "code",
      "metadata": {
        "id": "daynZHrgamXw"
      },
      "source": [
        ""
      ],
      "execution_count": null,
      "outputs": []
    }
  ]
}