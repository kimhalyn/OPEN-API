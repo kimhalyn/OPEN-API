{
  "nbformat": 4,
  "nbformat_minor": 0,
  "metadata": {
    "colab": {
      "name": "정리.ipynb",
      "provenance": [],
      "collapsed_sections": [],
      "mount_file_id": "1WpOy70fE02sDJ0CAfsUxI_Ot1h8N83iA",
      "authorship_tag": "ABX9TyNX+2WDEGZ1d3wAj6Cm3KAN",
      "include_colab_link": true
    },
    "kernelspec": {
      "name": "python3",
      "display_name": "Python 3"
    },
    "language_info": {
      "name": "python"
    }
  },
  "cells": [
    {
      "cell_type": "markdown",
      "metadata": {
        "id": "view-in-github",
        "colab_type": "text"
      },
      "source": [
        "<a href=\"https://colab.research.google.com/github/kimhalyn/OPEN-API/blob/main/%EC%A0%95%EB%A6%AC.ipynb\" target=\"_parent\"><img src=\"https://colab.research.google.com/assets/colab-badge.svg\" alt=\"Open In Colab\"/></a>"
      ]
    },
    {
      "cell_type": "code",
      "metadata": {
        "colab": {
          "base_uri": "https://localhost:8080/"
        },
        "id": "_2j927GJ1paW",
        "outputId": "ff6d1174-57ff-4d16-b3ff-be436afae00d"
      },
      "source": [
        "# 라이브러리\n",
        "# colab에 xmltodict 라이브러리가 기본 설치되지 않으므로 별도 설치\n",
        "#!pip install xmltodict \n",
        "from urllib.request import urlopen\n",
        "from urllib.parse import urlencode, unquote, quote_plus\n",
        "from bs4 import BeautifulSoup\n",
        "import pandas as pd\n",
        "import requests, xmltodict, json"
      ],
      "execution_count": null,
      "outputs": [
        {
          "output_type": "stream",
          "name": "stdout",
          "text": [
            "Collecting xmltodict\n",
            "  Downloading xmltodict-0.12.0-py2.py3-none-any.whl (9.2 kB)\n",
            "Installing collected packages: xmltodict\n",
            "Successfully installed xmltodict-0.12.0\n"
          ]
        }
      ]
    },
    {
      "cell_type": "code",
      "metadata": {
        "colab": {
          "base_uri": "https://localhost:8080/"
        },
        "id": "HawUYdHX5sn0",
        "outputId": "d7917d4c-ee07-49f8-8d14-76182aa4481f"
      },
      "source": [
        "# 판다스로 csv 파일 불러오기_iloc 사용\n",
        "#data = pd.read_csv('./drive/MyDrive/수자원공사_csv/damCode.csv')\n",
        "\n",
        "# 필요한 행,열만 추출\n",
        "damcode = data.iloc[0:3,1]\n",
        "#damcode = data.iloc[27,1]\n",
        "for code in damcode:\n",
        "  print(code)"
      ],
      "execution_count": 10,
      "outputs": [
        {
          "output_type": "stream",
          "name": "stdout",
          "text": [
            "2403201\n",
            "2011602\n",
            "1007601\n"
          ]
        }
      ]
    },
    {
      "cell_type": "markdown",
      "metadata": {
        "id": "TJoPVhuE5KjY"
      },
      "source": [
        "[우량 관측소 조회]"
      ]
    },
    {
      "cell_type": "code",
      "metadata": {
        "id": "mnoOkCHN5d6E"
      },
      "source": [
        "# 우량 관측소 코드 조회(테스트)\n",
        "url = 'http://opendata.kwater.or.kr/openapi-data/service/pubd/dam/excllncobsrvt/excll/list'\n",
        "key = 'jkd4PnVjssNP+g2WeRzs8lgc4SOelLsncvuMr81/9R9nSYKkiQAcb2xt8GTYgTJSQGQ4+htuRuyIXSwRXr210w==' #디코딩 사용\n",
        "\n",
        "# 댐코드 불러오기\n",
        "data = pd.read_csv('./drive/MyDrive/수자원공사_csv/damCode.csv')\n",
        "\n",
        "# 댐코드 일부 추출\n",
        "damcode = data.iloc[0:3,1]\n",
        "df = pd.DataFrame()\n",
        "\n",
        "for code in damcode:\n",
        "  Params = '?' + urlencode({ quote_plus('ServiceKey') : key,\n",
        "                                quote_plus('damcode') : code }) # 댐코드 입력\n",
        "  # get 방식으로 api 호출\n",
        "  res = requests.get(url + Params)\n",
        "\n",
        "  # json으로 변환\n",
        "  dict_res = xmltodict.parse(res.content)\n",
        "  df = df.append(dict_res, ignore_index=True)\n",
        "  #print(df)\n",
        "  json_str = json.dumps(dict_res[['response']['body']['items'], ensure_ascii=False)\n",
        "  json_obj = json.loads(json_str)\n",
        "\n",
        "  # csv파일로 저장\n",
        "  df = pd.DataFrame(json_obj['item'], index=[0])\n",
        "  df.to_csv('excllCode.csv' ,encoding='utf-8-sig')"
      ],
      "execution_count": null,
      "outputs": []
    },
    {
      "cell_type": "markdown",
      "metadata": {
        "id": "rVymzFpG5aqG"
      },
      "source": [
        "[수위 관측소 조회]"
      ]
    },
    {
      "cell_type": "code",
      "metadata": {
        "id": "EHR_dM2G570a"
      },
      "source": [
        "# 수위 관측소 코드 조회(원본)\n",
        "url = 'http://opendata.kwater.or.kr/openapi-data/service/pubd/dam/excllncobsrvt/wal/list'\n",
        "key = 'jkd4PnVjssNP+g2WeRzs8lgc4SOelLsncvuMr81/9R9nSYKkiQAcb2xt8GTYgTJSQGQ4+htuRuyIXSwRXr210w==' #디코딩 사용\n",
        "Params = '?' + urlencode({ quote_plus('ServiceKey') : key,\n",
        "                                quote_plus('damcode') : '1012110' }) # 댐코드 입력\n",
        "\n",
        "# get 방식으로 api 호출\n",
        "res = requests.get(url + Params)\n",
        "\n",
        "# json으로 변환\n",
        "dict_res = xmltodict.parse(res.content)\n",
        "json_str = json.dumps(dict_res['response']['body']['items'], ensure_ascii=False)\n",
        "json_obj = json.loads(json_str)\n",
        "\n",
        "# csv파일로 저장\n",
        "df = pd.DataFrame(json_obj['item'])\n",
        "df.to_csv('walCode.csv' ,encoding='utf-8-sig')"
      ],
      "execution_count": null,
      "outputs": []
    },
    {
      "cell_type": "code",
      "metadata": {
        "id": "htficn3H5Hhz"
      },
      "source": [
        "# 수위 관측소 코드 조회(8.30_예외처리 전)\n",
        "url = 'http://opendata.kwater.or.kr/openapi-data/service/pubd/dam/excllncobsrvt/wal/list'\n",
        "key = 'jkd4PnVjssNP+g2WeRzs8lgc4SOelLsncvuMr81/9R9nSYKkiQAcb2xt8GTYgTJSQGQ4+htuRuyIXSwRXr210w==' #디코딩 사용\n",
        "\n",
        "# 댐코드 불러오기\n",
        "data = pd.read_csv('./drive/MyDrive/수자원공사_csv/damCode.csv')\n",
        "\n",
        "# 필요한 행, 열만 추출(테스트)\n",
        "damcode = data.iloc[0:3,1]\n",
        "\n",
        "df = pd.DataFrame()\n",
        "\n",
        "for code in damcode:\n",
        "  Params = '?' + urlencode({ quote_plus('ServiceKey') : key,\n",
        "                                quote_plus('damcode') : code }) # 댐코드 입력\n",
        "  print(code)\n",
        "  print(Params)\n",
        "  \n",
        "  # get 방식으로 api 호출\n",
        "  res = requests.get(url + Params)\n",
        "\n",
        "  # json으로 변환\n",
        "  dict_res = xmltodict.parse(res.content)\n",
        "  print(dict_res)\n",
        "  df = df.append(dict_res, ignore_index=True)\n",
        "\n",
        "  print(df)\n",
        "  json_str = json.dumps(dict_res['response']['body']['items'], ensure_ascii=False)\n",
        "  json_obj = json.loads(json_str)\n",
        "\n",
        "# csv파일로 저장\n",
        "df = pd.DataFrame(json_obj['item'])\n",
        "df.to_csv('walCode.csv' ,encoding='utf-8-sig')"
      ],
      "execution_count": null,
      "outputs": []
    },
    {
      "cell_type": "markdown",
      "metadata": {
        "id": "ua5zwY8rV7VY"
      },
      "source": [
        "예외처리\n",
        "https://responding.tistory.com/47"
      ]
    },
    {
      "cell_type": "code",
      "metadata": {
        "colab": {
          "base_uri": "https://localhost:8080/",
          "height": 421
        },
        "id": "JJOPACMn5qL7",
        "outputId": "248eb22b-4513-4c38-a2bf-124ad5d8e4d5"
      },
      "source": [
        "# 수위 관측소 코드 조회(예외처리1)\n",
        "url = 'http://opendata.kwater.or.kr/openapi-data/service/pubd/dam/excllncobsrvt/wal/list'\n",
        "key = 'jkd4PnVjssNP+g2WeRzs8lgc4SOelLsncvuMr81/9R9nSYKkiQAcb2xt8GTYgTJSQGQ4+htuRuyIXSwRXr210w==' #디코딩 사용\n",
        "\n",
        "# 댐코드 불러오기\n",
        "data = pd.read_csv('./drive/MyDrive/수자원공사_csv/damCode.csv')\n",
        "\n",
        "# 필요한 행, 열만 추출(테스트)\n",
        "damcode = data.iloc[0:3,1]\n",
        "\n",
        "df = pd.DataFrame()\n",
        "\n",
        "for code in damcode:\n",
        "  Params = '?' + urlencode({ quote_plus('ServiceKey') : key,\n",
        "                                quote_plus('damcode') : code }) # 댐코드 입력\n",
        "  print(code)\n",
        "  print(Params)\n",
        "  \n",
        "  \n",
        "  # get 방식으로 api 호출\n",
        "  res = requests.get(url + Params)\n",
        "\n",
        "  # json으로 변환\n",
        "  dict_res = xmltodict.parse(res.content)\n",
        "  print(dict_res)\n",
        "  df = df.append(dict_res, ignore_index=True)\n",
        "\n",
        "\n",
        "# 예외처리(실행할 코드, 예외발생 시, 예외발생 안 할때)\n",
        "try:\n",
        "  json_str = json.dumps(df['response']['body']['items'], ensure_ascii=False)\n",
        "  json_obj = json.loads(json_str)\n",
        "  \n",
        "except Exception as ex:\n",
        "  print('빈 결과', ex)\n",
        "\n",
        "else:\n",
        "  json_str = json.dumps(df['response']['body']['items'], ensure_ascii=False)\n",
        "  json_obj = json.loads(json_str)\n",
        "\n",
        "\n",
        "# csv파일로 저장\n",
        "df = pd.DataFrame(json_obj['item'])\n",
        "df.to_csv('001.csv' ,encoding='utf-8-sig')"
      ],
      "execution_count": 50,
      "outputs": [
        {
          "output_type": "stream",
          "name": "stdout",
          "text": [
            "2403201\n",
            "?ServiceKey=jkd4PnVjssNP%2Bg2WeRzs8lgc4SOelLsncvuMr81%2F9R9nSYKkiQAcb2xt8GTYgTJSQGQ4%2BhtuRuyIXSwRXr210w%3D%3D&damcode=2403201\n",
            "OrderedDict([('response', OrderedDict([('header', OrderedDict([('resultCode', '99'), ('resultMsg', 'LIMITED NUMBER OF SERVICE REQUESTS EXCEEDS ERROR.')]))]))])\n",
            "2011602\n",
            "?ServiceKey=jkd4PnVjssNP%2Bg2WeRzs8lgc4SOelLsncvuMr81%2F9R9nSYKkiQAcb2xt8GTYgTJSQGQ4%2BhtuRuyIXSwRXr210w%3D%3D&damcode=2011602\n",
            "OrderedDict([('response', OrderedDict([('header', OrderedDict([('resultCode', '00'), ('resultMsg', 'NORMAL SERVICE.')])), ('body', OrderedDict([('items', OrderedDict([('item', [OrderedDict([('obsrvtNm', '강정고령보상류'), ('walobsrvtcode', '2011602')]), OrderedDict([('obsrvtNm', '강정고령보하류'), ('walobsrvtcode', '2011655')])])]))]))]))])\n",
            "1007601\n",
            "?ServiceKey=jkd4PnVjssNP%2Bg2WeRzs8lgc4SOelLsncvuMr81%2F9R9nSYKkiQAcb2xt8GTYgTJSQGQ4%2BhtuRuyIXSwRXr210w%3D%3D&damcode=1007601\n",
            "OrderedDict([('response', OrderedDict([('header', OrderedDict([('resultCode', '00'), ('resultMsg', 'NORMAL SERVICE.')])), ('body', OrderedDict([('items', OrderedDict([('item', [OrderedDict([('obsrvtNm', '강천보상류'), ('walobsrvtcode', '1007601')]), OrderedDict([('obsrvtNm', '강천보하류'), ('walobsrvtcode', '1005681')])])]))]))]))])\n",
            "빈 결과 'body'\n"
          ]
        },
        {
          "output_type": "error",
          "ename": "TypeError",
          "evalue": "ignored",
          "traceback": [
            "\u001b[0;31m---------------------------------------------------------------------------\u001b[0m",
            "\u001b[0;31mTypeError\u001b[0m                                 Traceback (most recent call last)",
            "\u001b[0;32m<ipython-input-50-00f0a0899feb>\u001b[0m in \u001b[0;36m<module>\u001b[0;34m()\u001b[0m\n\u001b[1;32m     41\u001b[0m \u001b[0;34m\u001b[0m\u001b[0m\n\u001b[1;32m     42\u001b[0m \u001b[0;31m# csv파일로 저장\u001b[0m\u001b[0;34m\u001b[0m\u001b[0;34m\u001b[0m\u001b[0;34m\u001b[0m\u001b[0m\n\u001b[0;32m---> 43\u001b[0;31m \u001b[0mdf\u001b[0m \u001b[0;34m=\u001b[0m \u001b[0mpd\u001b[0m\u001b[0;34m.\u001b[0m\u001b[0mDataFrame\u001b[0m\u001b[0;34m(\u001b[0m\u001b[0mjson_obj\u001b[0m\u001b[0;34m[\u001b[0m\u001b[0;34m'item'\u001b[0m\u001b[0;34m]\u001b[0m\u001b[0;34m)\u001b[0m\u001b[0;34m\u001b[0m\u001b[0;34m\u001b[0m\u001b[0m\n\u001b[0m\u001b[1;32m     44\u001b[0m \u001b[0mdf\u001b[0m\u001b[0;34m.\u001b[0m\u001b[0mto_csv\u001b[0m\u001b[0;34m(\u001b[0m\u001b[0;34m'001.csv'\u001b[0m \u001b[0;34m,\u001b[0m\u001b[0mencoding\u001b[0m\u001b[0;34m=\u001b[0m\u001b[0;34m'utf-8-sig'\u001b[0m\u001b[0;34m)\u001b[0m\u001b[0;34m\u001b[0m\u001b[0;34m\u001b[0m\u001b[0m\n",
            "\u001b[0;31mTypeError\u001b[0m: 'NoneType' object is not subscriptable"
          ]
        }
      ]
    },
    {
      "cell_type": "markdown",
      "metadata": {
        "id": "t3KJClWdGmTa"
      },
      "source": [
        "Parser: parsing을 수행하는 프로그램\n",
        "원시 프로그램을 읽어 들여 그 문장의 구조를 알아내는 **parsing(구문 분석)**을 행하는 프로그램\n",
        "\n",
        "\n",
        "\n",
        "BeautifulSoup: HTML 문서를 탐색해서 원하는 부분만 쉽게 뽑아낼 수 있는 파이썬 라이브러리 "
      ]
    },
    {
      "cell_type": "markdown",
      "metadata": {
        "id": "VBMTf9glLyNN"
      },
      "source": [
        "수정2 코드 전문\n",
        "\n",
        "https://nicola-ml.tistory.com/97\n",
        "\n",
        "https://greendreamtrre.tistory.com/268"
      ]
    },
    {
      "cell_type": "code",
      "metadata": {
        "id": "d-CUUtgj9grB"
      },
      "source": [
        "# 수위 관측소 코드 조회(전체 수정2)원본\n",
        "import requests, bs4\n",
        "import pandas as pd\n",
        "from lxml import html\n",
        "from urllib.request import Request, urlopen\n",
        "from urllib.parse import urlencode, quote_plus, unquote\n",
        "\n",
        "url = 'http://opendata.kwater.or.kr/openapi-data/service/pubd/dam/excllncobsrvt/wal/list'\n",
        "key = 'jkd4PnVjssNP+g2WeRzs8lgc4SOelLsncvuMr81/9R9nSYKkiQAcb2xt8GTYgTJSQGQ4+htuRuyIXSwRXr210w==' #디코딩 사용\n",
        "\n",
        "# 댐코드 불러오기\n",
        "data = pd.read_csv('./drive/MyDrive/수자원공사_csv/damCode.csv')\n",
        "\n",
        "# 필요한 코드 조회\n",
        "damcode = data.iloc[0:3,1]\n",
        "\n",
        "for code in damcode:\n",
        "  Params = '?' + urlencode({quote_plus('ServiceKey') : key,\n",
        "                                quote_plus('damcode') : code})\n",
        "  \n",
        "  res = requests.get(url + Params).text.encode('utf-8') # 요청에 대한 응답내용(.encode빼기도 함)\n",
        "  xmlobj = bs4.BeautifulSoup(res, 'lxml') #lxml 파서(구문분석)  'lxml-xml'\n",
        "\n",
        "  #item 태그 분리\n",
        "  rows = xmlobj.findAll('item') # 매치되는 문자열을 리스트로 리턴\n",
        "  #print(rows)\n",
        "\n",
        "# 반복문\n",
        "  rowList = []\n",
        "  nameList = []\n",
        "  columnList = []\n",
        "\n",
        "  rowsLen = len(rows) #len(): 원소 개수\n",
        "  for i in range(0, rowsLen):\n",
        "    columns = rows[i].find_all()\n",
        "      \n",
        "    columnsLen = len(columns)\n",
        "    for j in range(0, columnsLen):\n",
        "      # 첫 번째 행 데이터 값 수집 시에만 컬럼 값을 저장한다. (어차피 rows[0], rows[1], ... 모두 컬럼헤더는 동일한 값을 가지기 때문에 매번 반복할 필요가 없다.)\n",
        "      if i == 0:\n",
        "        nameList.append(columns[j].name)\n",
        "          # 컬럼값은 모든 행의 값을 저장해야한다.    \n",
        "      eachColumn = columns[j].text\n",
        "      columnList.append(eachColumn)\n",
        "    rowList.append(columnList)\n",
        "    columnList = []    # 다음 row의 값을 넣기 위해 비워준다. (매우 중요!!)\n",
        "\n",
        "\n",
        "# csv파일로 저장\n",
        "df = pd.DataFrame(rowList, columns=nameList)\n",
        "df.to_csv('수위 관측소 코드.csv' ,encoding='utf-8-sig')"
      ],
      "execution_count": 22,
      "outputs": []
    },
    {
      "cell_type": "code",
      "metadata": {
        "id": "2aF249EmzCtB",
        "colab": {
          "base_uri": "https://localhost:8080/"
        },
        "outputId": "fbd4786f-ca21-4d4c-88db-b1e6c2916469"
      },
      "source": [
        "# 수위 관측소 코드 조회(전체 수정2)작업중\n",
        "import requests, bs4\n",
        "import pandas as pd\n",
        "from lxml import html\n",
        "from urllib.request import Request, urlopen\n",
        "from urllib.parse import urlencode, quote_plus, unquote\n",
        "\n",
        "url = 'http://opendata.kwater.or.kr/openapi-data/service/pubd/dam/excllncobsrvt/wal/list'\n",
        "key = 'jkd4PnVjssNP+g2WeRzs8lgc4SOelLsncvuMr81/9R9nSYKkiQAcb2xt8GTYgTJSQGQ4+htuRuyIXSwRXr210w==' #디코딩 사용\n",
        "\n",
        "# 댐코드 불러오기\n",
        "data = pd.read_csv('./drive/MyDrive/수자원공사_csv/damCode.csv')\n",
        "\n",
        "# 필요한 코드 조회\n",
        "damcode = data.iloc[0:3,1]\n",
        "\n",
        "for code in damcode:\n",
        "  Params = '?' + urlencode({quote_plus('ServiceKey') : key,\n",
        "                                quote_plus('damcode') : code})\n",
        "\n",
        "  \n",
        "  #print(Params)\n",
        "  res = requests.get(url + Params).text.encode('utf-8')\n",
        "  xmlobj = bs4.BeautifulSoup(res, 'lxml') #lxml 파서(구문분석)\n",
        "  print(xmlobj)\n",
        "\n",
        "  #item 태그 분리\n",
        "  rows = xmlobj.findAll('item') # 매치되는 문자열을 리스트로 리턴\n",
        "  #print(rows)\n",
        "\n",
        "# 반복문\n",
        "  rowList = []\n",
        "  nameList = []\n",
        "  columnList = []\n",
        "\n",
        "  rowsLen = len(rows) #len(): 원소 개수\n",
        "  for i in range(0, rowsLen):\n",
        "    columns = rows[i].find_all()\n",
        "      \n",
        "    columnsLen = len(columns)\n",
        "    for j in range(0, columnsLen):\n",
        "      # 첫 번째 행 데이터 값 수집 시에만 컬럼 값을 저장한다. (어차피 rows[0], rows[1], ... 모두 컬럼헤더는 동일한 값을 가지기 때문에 매번 반복할 필요가 없다.)\n",
        "      if i == 0:\n",
        "        nameList.append(columns[j].name)\n",
        "          # 컬럼값은 모든 행의 값을 저장해야한다.    \n",
        "      eachColumn = columns[j].text\n",
        "      columnList.append(eachColumn)\n",
        "    rowList.append(columnList)\n",
        "    columnList = []    # 다음 row의 값을 넣기 위해 비워준다. (매우 중요!!)\n",
        "\n",
        "\n",
        "  # csv파일로 저장\n",
        "  df = pd.DataFrame(rowList, columns=nameList)\n",
        "  df.to_csv('test04.csv' ,encoding='utf-8-sig')"
      ],
      "execution_count": 28,
      "outputs": [
        {
          "output_type": "stream",
          "name": "stdout",
          "text": [
            "?ServiceKey=jkd4PnVjssNP%2Bg2WeRzs8lgc4SOelLsncvuMr81%2F9R9nSYKkiQAcb2xt8GTYgTJSQGQ4%2BhtuRuyIXSwRXr210w%3D%3D&damcode=2403201\n",
            "<?xml version=\"1.0\" encoding=\"utf-8\"?>\n",
            "<response><header><resultCode>00</resultCode><resultMsg>NORMAL SERVICE.</resultMsg></header><body><items/></body></response>\n",
            "?ServiceKey=jkd4PnVjssNP%2Bg2WeRzs8lgc4SOelLsncvuMr81%2F9R9nSYKkiQAcb2xt8GTYgTJSQGQ4%2BhtuRuyIXSwRXr210w%3D%3D&damcode=2011602\n",
            "<?xml version=\"1.0\" encoding=\"utf-8\"?>\n",
            "<response><header><resultCode>99</resultCode><resultMsg>LIMITED NUMBER OF SERVICE REQUESTS EXCEEDS ERROR.</resultMsg></header></response>\n",
            "?ServiceKey=jkd4PnVjssNP%2Bg2WeRzs8lgc4SOelLsncvuMr81%2F9R9nSYKkiQAcb2xt8GTYgTJSQGQ4%2BhtuRuyIXSwRXr210w%3D%3D&damcode=1007601\n",
            "<?xml version=\"1.0\" encoding=\"utf-8\"?>\n",
            "<response><header><resultCode>99</resultCode><resultMsg>LIMITED NUMBER OF SERVICE REQUESTS EXCEEDS ERROR.</resultMsg></header></response>\n"
          ]
        }
      ]
    },
    {
      "cell_type": "markdown",
      "metadata": {
        "id": "klCP5N2o5ffa"
      },
      "source": [
        "[우량 분강우량]"
      ]
    },
    {
      "cell_type": "code",
      "metadata": {
        "id": "xpxlU9EF1eY5"
      },
      "source": [
        "# (1)우량 분강우량 조회_1(10분 단위)_성공(원본)\n",
        "url = 'http://opendata.kwater.or.kr/openapi-data/service/pubd/dam/excllncobsrvt/mntrf/list'\n",
        "key = 'jkd4PnVjssNP+g2WeRzs8lgc4SOelLsncvuMr81/9R9nSYKkiQAcb2xt8GTYgTJSQGQ4+htuRuyIXSwRXr210w==' #디코딩 사용\n",
        "Params = '?' + urlencode({ quote_plus('ServiceKey') : key ,\n",
        "                                quote_plus('sdate') : '2018-01-01',\n",
        "                                quote_plus('stime') : '00',\n",
        "                                quote_plus('edate') : '2018-12-31',\n",
        "                                quote_plus('etime') : '24',\n",
        "                                quote_plus('excll') : '1012432', # 우량관측소 코드\n",
        "                                quote_plus('tms') : '10',\n",
        "                                quote_plus('numOfRows') : '80000',\n",
        "                                quote_plus('pageNo') : '1' })\n",
        "\n",
        "# get 방식으로 api 호출\n",
        "res = requests.get(url + Params).content\n",
        "\n",
        "# json으로 변환\n",
        "dict_res = xmltodict.parse(res)\n",
        "json_str = json.dumps(dict_res['response']['body']['items'], ensure_ascii=False)\n",
        "json_obj = json.loads(json_str)\n",
        "#print(json_obj)\n",
        "\n",
        "# csv파일로 저장\n",
        "df = pd.DataFrame(json_obj['item'])\n",
        "df.to_csv('sample_9.csv' ,encoding='utf-8-sig')"
      ],
      "execution_count": null,
      "outputs": []
    },
    {
      "cell_type": "code",
      "metadata": {
        "id": "grAtYIMnQHBu"
      },
      "source": [
        "# (1)우량 분강우량 조회_1(10분 단위)_성공(반복문 추가)\n",
        "url = 'http://opendata.kwater.or.kr/openapi-data/service/pubd/dam/excllncobsrvt/mntrf/list'\n",
        "key = 'jkd4PnVjssNP+g2WeRzs8lgc4SOelLsncvuMr81/9R9nSYKkiQAcb2xt8GTYgTJSQGQ4+htuRuyIXSwRXr210w==' #디코딩 사용\n",
        "\n",
        "\n",
        "for excll in excllcode:\n",
        "  Params = '?' + urlencode({ quote_plus('ServiceKey') : key ,\n",
        "                              quote_plus('sdate') : '2018-01-01',\n",
        "                              quote_plus('stime') : '00',\n",
        "                              quote_plus('edate') : '2018-12-31',\n",
        "                              quote_plus('etime') : '24',\n",
        "                              quote_plus('excll') : '1012432', # 우량관측소 코드\n",
        "                              quote_plus('tms') : '10',\n",
        "                              quote_plus('numOfRows') : '80000',\n",
        "                              quote_plus('pageNo') : '1' })\n",
        "\n",
        "  # get 방식으로 api 호출\n",
        "  res = requests.get(url + Params).content\n",
        "\n",
        "  # json으로 변환\n",
        "  dict_res = xmltodict.parse(res)\n",
        "  json_str = json.dumps(dict_res['response']['body']['items'], ensure_ascii=False)\n",
        "  json_obj = json.loads(json_str)\n",
        "  #print(json_obj)\n",
        "\n",
        "# csv파일로 저장\n",
        "df = pd.DataFrame(json_obj['item'])\n",
        "df.to_csv('sample_9.csv' ,encoding='utf-8-sig')"
      ],
      "execution_count": null,
      "outputs": []
    },
    {
      "cell_type": "markdown",
      "metadata": {
        "id": "dmdUFRGHPYVC"
      },
      "source": [
        "[수위 분강우량]"
      ]
    },
    {
      "cell_type": "code",
      "metadata": {
        "id": "SceHc_lg5GxO"
      },
      "source": [
        "## (4)수위 분강우량 조회_1(10분 단위)(원본)\n",
        "url = 'http://opendata.kwater.or.kr/openapi-data/service/pubd/dam/excllncobsrvt/mntwal/list'\n",
        "key = 'jkd4PnVjssNP+g2WeRzs8lgc4SOelLsncvuMr81/9R9nSYKkiQAcb2xt8GTYgTJSQGQ4+htuRuyIXSwRXr210w==' #디코딩 사용\n",
        "Params = '?' + urlencode({ quote_plus('ServiceKey') : key ,\n",
        "                                quote_plus('sdate') : '2014-12-01',\n",
        "                                quote_plus('stime') : '08',\n",
        "                                quote_plus('edate') : '2014-12-01',\n",
        "                                quote_plus('etime') : '15',\n",
        "                                quote_plus('damcode') : '15', # 댐코드\n",
        "                                quote_plus('wal') : '1012432', # 수위 관측소 코드\n",
        "                                quote_plus('tms') : '10',\n",
        "                                quote_plus('numOfRows') : '10',\n",
        "                                quote_plus('pageNo') : '1' })\n",
        "\n",
        "# get 방식으로 api 호출\n",
        "res = requests.get(url + Params)\n",
        "\n",
        "# json으로 변환\n",
        "dict_res = xmltodict.parse(res.content)\n",
        "json_str = json.dumps(dict_res['response']['body']['items'], ensure_ascii=False)\n",
        "json_obj = json.loads(json_str)\n",
        "\n",
        "# csv파일로 저장\n",
        "df = pd.DataFrame(json_obj['item'])\n",
        "df.to_csv('mntwal_10.csv' ,encoding='utf-8-sig')"
      ],
      "execution_count": null,
      "outputs": []
    },
    {
      "cell_type": "code",
      "metadata": {
        "id": "Ix2sDLm119na"
      },
      "source": [
        "## (4)수위 분강우량 조회_1(10분 단위)(반복문 추가)\n",
        "url = 'http://opendata.kwater.or.kr/openapi-data/service/pubd/dam/excllncobsrvt/mntwal/list'\n",
        "key = 'jkd4PnVjssNP+g2WeRzs8lgc4SOelLsncvuMr81/9R9nSYKkiQAcb2xt8GTYgTJSQGQ4+htuRuyIXSwRXr210w==' #디코딩 사용\n",
        "\n",
        "for code in damcode:\n",
        "  for excll in excllcode:\n",
        "    \n",
        "    Params = '?' + urlencode({ quote_plus('ServiceKey') : key ,\n",
        "                                    quote_plus('sdate') : '2014-12-01',\n",
        "                                    quote_plus('stime') : '08',\n",
        "                                    quote_plus('edate') : '2014-12-01',\n",
        "                                    quote_plus('etime') : '15',\n",
        "                                    quote_plus('damcode') : '15', # 댐코드\n",
        "                                    quote_plus('wal') : '1012432', # 수위 관측소 코드\n",
        "                                    quote_plus('tms') : '10',\n",
        "                                    quote_plus('numOfRows') : '10',\n",
        "                                    quote_plus('pageNo') : '1' })\n",
        "\n",
        "    # get 방식으로 api 호출\n",
        "    res = requests.get(url + Params)\n",
        "\n",
        "    # json으로 변환\n",
        "    dict_res = xmltodict.parse(res.content)\n",
        "    json_str = json.dumps(dict_res['response']['body']['items'], ensure_ascii=False)\n",
        "    json_obj = json.loads(json_str)\n",
        "\n",
        "# csv파일로 저장\n",
        "df = pd.DataFrame(json_obj['item'])\n",
        "df.to_csv('mntwal_10.csv' ,encoding='utf-8-sig')\n"
      ],
      "execution_count": null,
      "outputs": []
    }
  ]
}