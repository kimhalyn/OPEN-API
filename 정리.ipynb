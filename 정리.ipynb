{
  "nbformat": 4,
  "nbformat_minor": 0,
  "metadata": {
    "colab": {
      "name": "정리.ipynb",
      "provenance": [],
      "collapsed_sections": [],
      "include_colab_link": true
    },
    "kernelspec": {
      "name": "python3",
      "display_name": "Python 3"
    },
    "language_info": {
      "name": "python"
    }
  },
  "cells": [
    {
      "cell_type": "markdown",
      "metadata": {
        "id": "view-in-github",
        "colab_type": "text"
      },
      "source": [
        "<a href=\"https://colab.research.google.com/github/kimhalyn/OPEN-API/blob/main/%EC%A0%95%EB%A6%AC.ipynb\" target=\"_parent\"><img src=\"https://colab.research.google.com/assets/colab-badge.svg\" alt=\"Open In Colab\"/></a>"
      ]
    },
    {
      "cell_type": "code",
      "metadata": {
        "colab": {
          "base_uri": "https://localhost:8080/"
        },
        "id": "_2j927GJ1paW",
        "outputId": "10ae4266-d6ff-4fe5-ee56-4fa52d16cdca"
      },
      "source": [
        "# 라이브러리\n",
        "# colab에 xmltodict 라이브러리가 기본 설치되지 않으므로 별도 설치(외부 라이브러리)\n",
        "!pip install xmltodict \n",
        "from urllib.request import urlopen\n",
        "from urllib.parse import urlencode, unquote, quote_plus\n",
        "from bs4 import BeautifulSoup\n",
        "import pandas as pd\n",
        "import requests, xmltodict, json"
      ],
      "execution_count": null,
      "outputs": [
        {
          "output_type": "stream",
          "name": "stdout",
          "text": [
            "Requirement already satisfied: xmltodict in /usr/local/lib/python3.7/dist-packages (0.12.0)\n"
          ]
        }
      ]
    },
    {
      "cell_type": "markdown",
      "metadata": {
        "id": "y8D-fTMSIqa3"
      },
      "source": [
        ""
      ]
    },
    {
      "cell_type": "code",
      "metadata": {
        "id": "huZc_49VIrA8"
      },
      "source": [
        ""
      ],
      "execution_count": null,
      "outputs": []
    },
    {
      "cell_type": "markdown",
      "metadata": {
        "id": "jlYYH7XUIrVk"
      },
      "source": [
        ""
      ]
    },
    {
      "cell_type": "code",
      "metadata": {
        "colab": {
          "base_uri": "https://localhost:8080/"
        },
        "id": "HawUYdHX5sn0",
        "outputId": "ffc71405-c567-4647-8b81-b0e4503bad33"
      },
      "source": [
        "# 판다스로 csv 파일 불러오기_iloc 사용\n",
        "data = pd.read_csv('/content/drive/MyDrive/water_resource_csv/damCode.csv')\n",
        "\n",
        "# 필요한 행,열만 추출\n",
        "damcode = data.iloc[0:2,1]\n",
        "#damcode = data.iloc[27,1]\n",
        "for code in damcode:\n",
        "  print(code)"
      ],
      "execution_count": null,
      "outputs": [
        {
          "output_type": "stream",
          "name": "stdout",
          "text": [
            "2403201\n",
            "2011602\n"
          ]
        }
      ]
    },
    {
      "cell_type": "markdown",
      "metadata": {
        "id": "TJoPVhuE5KjY"
      },
      "source": [
        "[우량 관측소 조회]"
      ]
    },
    {
      "cell_type": "code",
      "metadata": {
        "id": "mnoOkCHN5d6E",
        "colab": {
          "base_uri": "https://localhost:8080/",
          "height": 407
        },
        "outputId": "90965e82-3986-46a2-93cf-55509541df03"
      },
      "source": [
        "# 우량 관측소 코드 조회(1차)\n",
        "url = 'http://opendata.kwater.or.kr/openapi-data/service/pubd/dam/excllncobsrvt/excll/list'\n",
        "key = 'jkd4PnVjssNP+g2WeRzs8lgc4SOelLsncvuMr81/9R9nSYKkiQAcb2xt8GTYgTJSQGQ4+htuRuyIXSwRXr210w==' #디코딩 사용\n",
        "\n",
        "# 댐코드 불러오기\n",
        "data = pd.read_csv('/content/drive/MyDrive/water_resource_csv/damCode.csv')\n",
        "\n",
        "# 댐코드 일부 추출\n",
        "damcode = data.iloc[0:2,1]\n",
        "df = pd.DataFrame()\n",
        "\n",
        "for code in damcode:\n",
        "  Params = '?' + urlencode({ quote_plus('ServiceKey') : key,\n",
        "                                quote_plus('damcode') : code }) # 댐코드 입력\n",
        "  # get 방식으로 api 호출\n",
        "  res = requests.get(url + Params)\n",
        "\n",
        "  # json으로 변환\n",
        "  dict_res = xmltodict.parse(res.content)\n",
        "  df = df.append(dict_res, ignore_index=True)\n",
        "  #print(df)\n",
        "\n",
        "  json_str = json.dumps(df['response']['body']['items'], ensure_ascii=False) # 값 없을때 에러\n",
        "  json_obj = json.loads(json_str)\n",
        "\n",
        "# csv파일로 저장\n",
        "df = pd.DataFrame(json_obj['item'], index=[0])\n",
        "df.to_csv('excllCode.csv' ,encoding='utf-8-sig')"
      ],
      "execution_count": null,
      "outputs": [
        {
          "output_type": "error",
          "ename": "KeyError",
          "evalue": "ignored",
          "traceback": [
            "\u001b[0;31m---------------------------------------------------------------------------\u001b[0m",
            "\u001b[0;31mKeyError\u001b[0m                                  Traceback (most recent call last)",
            "\u001b[0;32m<ipython-input-33-824393afceed>\u001b[0m in \u001b[0;36m<module>\u001b[0;34m()\u001b[0m\n\u001b[1;32m     21\u001b[0m   \u001b[0;31m#print(df)\u001b[0m\u001b[0;34m\u001b[0m\u001b[0;34m\u001b[0m\u001b[0;34m\u001b[0m\u001b[0m\n\u001b[1;32m     22\u001b[0m \u001b[0;34m\u001b[0m\u001b[0m\n\u001b[0;32m---> 23\u001b[0;31m   \u001b[0mjson_str\u001b[0m \u001b[0;34m=\u001b[0m \u001b[0mjson\u001b[0m\u001b[0;34m.\u001b[0m\u001b[0mdumps\u001b[0m\u001b[0;34m(\u001b[0m\u001b[0mdf\u001b[0m\u001b[0;34m[\u001b[0m\u001b[0;34m'response'\u001b[0m\u001b[0;34m]\u001b[0m\u001b[0;34m[\u001b[0m\u001b[0;34m'body'\u001b[0m\u001b[0;34m]\u001b[0m\u001b[0;34m[\u001b[0m\u001b[0;34m'items'\u001b[0m\u001b[0;34m]\u001b[0m\u001b[0;34m,\u001b[0m \u001b[0mensure_ascii\u001b[0m\u001b[0;34m=\u001b[0m\u001b[0;32mFalse\u001b[0m\u001b[0;34m)\u001b[0m\u001b[0;34m\u001b[0m\u001b[0;34m\u001b[0m\u001b[0m\n\u001b[0m\u001b[1;32m     24\u001b[0m   \u001b[0mjson_obj\u001b[0m \u001b[0;34m=\u001b[0m \u001b[0mjson\u001b[0m\u001b[0;34m.\u001b[0m\u001b[0mloads\u001b[0m\u001b[0;34m(\u001b[0m\u001b[0mjson_str\u001b[0m\u001b[0;34m)\u001b[0m\u001b[0;34m\u001b[0m\u001b[0;34m\u001b[0m\u001b[0m\n\u001b[1;32m     25\u001b[0m \u001b[0;34m\u001b[0m\u001b[0m\n",
            "\u001b[0;32m/usr/local/lib/python3.7/dist-packages/pandas/core/series.py\u001b[0m in \u001b[0;36m__getitem__\u001b[0;34m(self, key)\u001b[0m\n\u001b[1;32m    880\u001b[0m \u001b[0;34m\u001b[0m\u001b[0m\n\u001b[1;32m    881\u001b[0m         \u001b[0;32melif\u001b[0m \u001b[0mkey_is_scalar\u001b[0m\u001b[0;34m:\u001b[0m\u001b[0;34m\u001b[0m\u001b[0;34m\u001b[0m\u001b[0m\n\u001b[0;32m--> 882\u001b[0;31m             \u001b[0;32mreturn\u001b[0m \u001b[0mself\u001b[0m\u001b[0;34m.\u001b[0m\u001b[0m_get_value\u001b[0m\u001b[0;34m(\u001b[0m\u001b[0mkey\u001b[0m\u001b[0;34m)\u001b[0m\u001b[0;34m\u001b[0m\u001b[0;34m\u001b[0m\u001b[0m\n\u001b[0m\u001b[1;32m    883\u001b[0m \u001b[0;34m\u001b[0m\u001b[0m\n\u001b[1;32m    884\u001b[0m         \u001b[0;32mif\u001b[0m \u001b[0mis_hashable\u001b[0m\u001b[0;34m(\u001b[0m\u001b[0mkey\u001b[0m\u001b[0;34m)\u001b[0m\u001b[0;34m:\u001b[0m\u001b[0;34m\u001b[0m\u001b[0;34m\u001b[0m\u001b[0m\n",
            "\u001b[0;32m/usr/local/lib/python3.7/dist-packages/pandas/core/series.py\u001b[0m in \u001b[0;36m_get_value\u001b[0;34m(self, label, takeable)\u001b[0m\n\u001b[1;32m    988\u001b[0m \u001b[0;34m\u001b[0m\u001b[0m\n\u001b[1;32m    989\u001b[0m         \u001b[0;31m# Similar to Index.get_value, but we do not fall back to positional\u001b[0m\u001b[0;34m\u001b[0m\u001b[0;34m\u001b[0m\u001b[0;34m\u001b[0m\u001b[0m\n\u001b[0;32m--> 990\u001b[0;31m         \u001b[0mloc\u001b[0m \u001b[0;34m=\u001b[0m \u001b[0mself\u001b[0m\u001b[0;34m.\u001b[0m\u001b[0mindex\u001b[0m\u001b[0;34m.\u001b[0m\u001b[0mget_loc\u001b[0m\u001b[0;34m(\u001b[0m\u001b[0mlabel\u001b[0m\u001b[0;34m)\u001b[0m\u001b[0;34m\u001b[0m\u001b[0;34m\u001b[0m\u001b[0m\n\u001b[0m\u001b[1;32m    991\u001b[0m         \u001b[0;32mreturn\u001b[0m \u001b[0mself\u001b[0m\u001b[0;34m.\u001b[0m\u001b[0mindex\u001b[0m\u001b[0;34m.\u001b[0m\u001b[0m_get_values_for_loc\u001b[0m\u001b[0;34m(\u001b[0m\u001b[0mself\u001b[0m\u001b[0;34m,\u001b[0m \u001b[0mloc\u001b[0m\u001b[0;34m,\u001b[0m \u001b[0mlabel\u001b[0m\u001b[0;34m)\u001b[0m\u001b[0;34m\u001b[0m\u001b[0;34m\u001b[0m\u001b[0m\n\u001b[1;32m    992\u001b[0m \u001b[0;34m\u001b[0m\u001b[0m\n",
            "\u001b[0;32m/usr/local/lib/python3.7/dist-packages/pandas/core/indexes/range.py\u001b[0m in \u001b[0;36mget_loc\u001b[0;34m(self, key, method, tolerance)\u001b[0m\n\u001b[1;32m    356\u001b[0m                 \u001b[0;32mexcept\u001b[0m \u001b[0mValueError\u001b[0m \u001b[0;32mas\u001b[0m \u001b[0merr\u001b[0m\u001b[0;34m:\u001b[0m\u001b[0;34m\u001b[0m\u001b[0;34m\u001b[0m\u001b[0m\n\u001b[1;32m    357\u001b[0m                     \u001b[0;32mraise\u001b[0m \u001b[0mKeyError\u001b[0m\u001b[0;34m(\u001b[0m\u001b[0mkey\u001b[0m\u001b[0;34m)\u001b[0m \u001b[0;32mfrom\u001b[0m \u001b[0merr\u001b[0m\u001b[0;34m\u001b[0m\u001b[0;34m\u001b[0m\u001b[0m\n\u001b[0;32m--> 358\u001b[0;31m             \u001b[0;32mraise\u001b[0m \u001b[0mKeyError\u001b[0m\u001b[0;34m(\u001b[0m\u001b[0mkey\u001b[0m\u001b[0;34m)\u001b[0m\u001b[0;34m\u001b[0m\u001b[0;34m\u001b[0m\u001b[0m\n\u001b[0m\u001b[1;32m    359\u001b[0m         \u001b[0;32mreturn\u001b[0m \u001b[0msuper\u001b[0m\u001b[0;34m(\u001b[0m\u001b[0;34m)\u001b[0m\u001b[0;34m.\u001b[0m\u001b[0mget_loc\u001b[0m\u001b[0;34m(\u001b[0m\u001b[0mkey\u001b[0m\u001b[0;34m,\u001b[0m \u001b[0mmethod\u001b[0m\u001b[0;34m=\u001b[0m\u001b[0mmethod\u001b[0m\u001b[0;34m,\u001b[0m \u001b[0mtolerance\u001b[0m\u001b[0;34m=\u001b[0m\u001b[0mtolerance\u001b[0m\u001b[0;34m)\u001b[0m\u001b[0;34m\u001b[0m\u001b[0;34m\u001b[0m\u001b[0m\n\u001b[1;32m    360\u001b[0m \u001b[0;34m\u001b[0m\u001b[0m\n",
            "\u001b[0;31mKeyError\u001b[0m: 'body'"
          ]
        }
      ]
    },
    {
      "cell_type": "code",
      "metadata": {
        "id": "jy6bU7vHk6Qg"
      },
      "source": [
        "# 우량 관측소 코드 조회(2차_에러처리)\n",
        "url = 'http://opendata.kwater.or.kr/openapi-data/service/pubd/dam/excllncobsrvt/excll/list'\n",
        "key = 'jkd4PnVjssNP+g2WeRzs8lgc4SOelLsncvuMr81/9R9nSYKkiQAcb2xt8GTYgTJSQGQ4+htuRuyIXSwRXr210w==' #디코딩 사용\n",
        "\n",
        "# 댐코드 불러오기\n",
        "data = pd.read_csv('/content/drive/MyDrive/water_resource_csv/damCode.csv')\n",
        "\n",
        "# 필요한 행, 열만 추출(테스트)\n",
        "damcode = data.iloc[0:2,1]\n",
        "\n",
        "df = pd.DataFrame()\n",
        "\n",
        "for code in damcode:\n",
        "  Params = '?' + urlencode({ quote_plus('ServiceKey') : key,\n",
        "                                quote_plus('damcode') : code }) # 댐코드 입력\n",
        "\n",
        "  \n",
        "  # get 방식으로 api 호출\n",
        "  res = requests.get(url + Params).content\n",
        "  #print(res)\n",
        "\n",
        "  # json으로 변환\n",
        "  dict_res = xmltodict.parse(res)\n",
        "  print(dict_res)\n",
        "  df = df.append(dict_res, ignore_index=True)\n",
        "\n",
        "# 예외처리(실행할 코드, 예외발생 시, 예외발생 안 할때)\n",
        "try:\n",
        "  json_str = json.dumps(df['response']['body']['items'], ensure_ascii=False)\n",
        "  json_obj = json.loads(json_str)\n",
        "  \n",
        "except Exception as ex:\n",
        "  print('빈 결과', ex)\n",
        "else:\n",
        "   json_str = json.dumps(df['response']['body']['items'], ensure_ascii=False)\n",
        "  json_obj = json.loads(json_str)\n",
        "\n",
        "\n",
        "# csv파일로 저장\n",
        "df = pd.DataFrame(json_obj['item'])\n",
        "df.to_csv('001.csv' ,encoding='utf-8-sig')\n",
        "\n"
      ],
      "execution_count": null,
      "outputs": []
    },
    {
      "cell_type": "code",
      "metadata": {
        "colab": {
          "base_uri": "https://localhost:8080/"
        },
        "id": "JPUXnexl2Hot",
        "outputId": "6cfe503e-5b55-47e3-f857-30b8774a4197"
      },
      "source": [
        "# 우량 관측소 코드 조회(3차_새 코드)\n",
        "import requests, bs4\n",
        "import pandas as pd\n",
        "from lxml import html\n",
        "from urllib.request import Request, urlopen\n",
        "from urllib.parse import urlencode, quote_plus, unquote\n",
        "from time import sleep\n",
        "\n",
        "url = 'http://opendata.kwater.or.kr/openapi-data/service/pubd/dam/excllncobsrvt/excll/list'\n",
        "key = 'jkd4PnVjssNP+g2WeRzs8lgc4SOelLsncvuMr81/9R9nSYKkiQAcb2xt8GTYgTJSQGQ4+htuRuyIXSwRXr210w==' #디코딩 사용\n",
        "\n",
        "# 댐코드 불러오기\n",
        "data = pd.read_csv('/content/drive/MyDrive/water_resource_csv/damCode.csv')\n",
        "\n",
        "# 필요한 코드 조회\n",
        "damcode = data.iloc[0:6,1]\n",
        "\n",
        "dam = [] \n",
        "for code in damcode:\n",
        "\n",
        "  Params = '?' + urlencode({quote_plus('ServiceKey') : key,\n",
        "                                quote_plus('damcode') : code})\n",
        "  \n",
        "  #print(Params)\n",
        "  res = requests.get(url + Params).text.encode('utf-8') # 요청에 대한 응답내용(.encode빼기도 함)\n",
        "  sleep(0.5)\n",
        "  #print(res) \n",
        "  xmlobj = bs4.BeautifulSoup(res, 'lxml') #lxml 파서(구문분석)  'lxml-xml'\n",
        "\n",
        "  #item 태그 분리\n",
        "  rows = xmlobj.findAll('item') # 매치되는 문자열을 리스트로 리턴\n",
        "  #print(rows)\n",
        "\n",
        "  # 반복문\n",
        "  rowList = []\n",
        "  nameList = []\n",
        "  columnList = []\n",
        "\n",
        "  rowsLen = len(rows)\n",
        "  \n",
        "  for i in range(0, rowsLen):\n",
        "\n",
        "    columns = rows[i].find_all()\n",
        "    \n",
        "    columnsLen = len(columns)\n",
        "    for j in range(0, columnsLen):      \n",
        "\n",
        "      if i == 0:\n",
        "        nameList.append(columns[j].name) # 칼럼명\n",
        "      eachColumn = columns[j].text # 칼럼값\n",
        "      columnList.append(eachColumn)\n",
        "    rowList.append(columnList)\n",
        "    columnList = []\n",
        "\n",
        "  result = pd.DataFrame(rowList, columns=nameList)\n",
        "  dam.append(result)\n",
        "\n",
        "\n",
        "\n",
        "\n",
        "# csv파일로 저장\n",
        "# df = pd.DataFrame(rowList, columns=nameList)\n",
        "# df.to_csv(\"review.csv\", encoding='utf-8-sig')"
      ],
      "execution_count": null,
      "outputs": [
        {
          "output_type": "stream",
          "name": "stdout",
          "text": [
            "[]\n",
            "0\n",
            "[]\n",
            "0\n",
            "[]\n",
            "0\n",
            "[]\n",
            "0\n",
            "[<item><excllncobsrvtcode>9000040</excllncobsrvtcode><obsrvtnm>삼척시(광동댐)</obsrvtnm></item>, <item><excllncobsrvtcode>1001452</excllncobsrvtcode><obsrvtnm>태백시(상사미동)</obsrvtnm></item>]\n",
            "2\n",
            "[<excllncobsrvtcode>9000040</excllncobsrvtcode>, <obsrvtnm>삼척시(광동댐)</obsrvtnm>]\n",
            "[<excllncobsrvtcode>1001452</excllncobsrvtcode>, <obsrvtnm>태백시(상사미동)</obsrvtnm>]\n",
            "[]\n",
            "0\n"
          ]
        }
      ]
    },
    {
      "cell_type": "code",
      "metadata": {
        "colab": {
          "base_uri": "https://localhost:8080/"
        },
        "id": "kXsfWiAa5X6g",
        "outputId": "19bd5b6d-9fcb-4841-fb98-fab4e481adce"
      },
      "source": [
        "print(rows)\n"
      ],
      "execution_count": null,
      "outputs": [
        {
          "output_type": "stream",
          "name": "stdout",
          "text": [
            "[]\n"
          ]
        }
      ]
    },
    {
      "cell_type": "code",
      "metadata": {
        "id": "eV6MsuKnNTkn"
      },
      "source": [
        ""
      ],
      "execution_count": null,
      "outputs": []
    },
    {
      "cell_type": "markdown",
      "metadata": {
        "id": "rVymzFpG5aqG"
      },
      "source": [
        "[수위 관측소 조회]"
      ]
    },
    {
      "cell_type": "code",
      "metadata": {
        "id": "EHR_dM2G570a"
      },
      "source": [
        "# 수위 관측소 코드 조회(원본)\n",
        "url = 'http://opendata.kwater.or.kr/openapi-data/service/pubd/dam/excllncobsrvt/wal/list'\n",
        "key = 'jkd4PnVjssNP+g2WeRzs8lgc4SOelLsncvuMr81/9R9nSYKkiQAcb2xt8GTYgTJSQGQ4+htuRuyIXSwRXr210w==' #디코딩 사용\n",
        "Params = '?' + urlencode({ quote_plus('ServiceKey') : key,\n",
        "                                quote_plus('damcode') : '1012110' }) # 댐코드 입력\n",
        "\n",
        "# get 방식으로 api 호출\n",
        "res = requests.get(url + Params)\n",
        "\n",
        "# json으로 변환\n",
        "dict_res = xmltodict.parse(res.content)\n",
        "json_str = json.dumps(dict_res['response']['body']['items'], ensure_ascii=False)\n",
        "json_obj = json.loads(json_str)\n",
        "\n",
        "# csv파일로 저장\n",
        "df = pd.DataFrame(json_obj['item'])\n",
        "df.to_csv('walCode.csv' ,encoding='utf-8-sig')"
      ],
      "execution_count": null,
      "outputs": []
    },
    {
      "cell_type": "code",
      "metadata": {
        "id": "htficn3H5Hhz",
        "colab": {
          "base_uri": "https://localhost:8080/",
          "height": 581
        },
        "outputId": "0ba7ab1c-0424-4493-9953-e394e4a6e0d5"
      },
      "source": [
        "# 수위 관측소 코드 조회(8.30_예외처리 전)\n",
        "url = 'http://opendata.kwater.or.kr/openapi-data/service/pubd/dam/excllncobsrvt/wal/list'\n",
        "key = 'jkd4PnVjssNP+g2WeRzs8lgc4SOelLsncvuMr81/9R9nSYKkiQAcb2xt8GTYgTJSQGQ4+htuRuyIXSwRXr210w==' #디코딩 사용\n",
        "\n",
        "# 댐코드 불러오기\n",
        "data = pd.read_csv('/content/drive/MyDrive/water_resource_csv/damCode.csv')\n",
        "\n",
        "# 필요한 행, 열만 추출(테스트)\n",
        "damcode = data.iloc[0:3,1]\n",
        "\n",
        "df = pd.DataFrame()\n",
        "\n",
        "for code in damcode:\n",
        "  Params = '?' + urlencode({ quote_plus('ServiceKey') : key,\n",
        "                                quote_plus('damcode') : code }) # 댐코드 입력\n",
        "  print(code)\n",
        "  print(Params)\n",
        "  \n",
        "  # get 방식으로 api 호출\n",
        "  res = requests.get(url + Params)\n",
        "\n",
        "  # json으로 변환\n",
        "  dict_res = xmltodict.parse(res.content)\n",
        "  print(dict_res)\n",
        "  df = df.append(dict_res, ignore_index=True)\n",
        "\n",
        "  print(df)\n",
        "  json_str = json.dumps(dict_res['response']['body']['items'], ensure_ascii=False)\n",
        "  json_obj = json.loads(json_str)\n",
        "\n",
        "# csv파일로 저장\n",
        "df = pd.DataFrame(json_obj['item'])\n",
        "df.to_csv('예외처리전.csv' ,encoding='utf-8-sig')"
      ],
      "execution_count": null,
      "outputs": [
        {
          "output_type": "stream",
          "name": "stdout",
          "text": [
            "2403201\n",
            "?ServiceKey=jkd4PnVjssNP%2Bg2WeRzs8lgc4SOelLsncvuMr81%2F9R9nSYKkiQAcb2xt8GTYgTJSQGQ4%2BhtuRuyIXSwRXr210w%3D%3D&damcode=2403201\n",
            "OrderedDict([('response', OrderedDict([('header', OrderedDict([('resultCode', '00'), ('resultMsg', 'NORMAL SERVICE.')])), ('body', OrderedDict([('items', None)]))]))])\n",
            "                                            response\n",
            "0  {'header': {'resultCode': '00', 'resultMsg': '...\n",
            "2011602\n",
            "?ServiceKey=jkd4PnVjssNP%2Bg2WeRzs8lgc4SOelLsncvuMr81%2F9R9nSYKkiQAcb2xt8GTYgTJSQGQ4%2BhtuRuyIXSwRXr210w%3D%3D&damcode=2011602\n",
            "OrderedDict([('response', OrderedDict([('header', OrderedDict([('resultCode', '00'), ('resultMsg', 'NORMAL SERVICE.')])), ('body', OrderedDict([('items', OrderedDict([('item', [OrderedDict([('obsrvtNm', '강정고령보상류'), ('walobsrvtcode', '2011602')]), OrderedDict([('obsrvtNm', '강정고령보하류'), ('walobsrvtcode', '2011655')])])]))]))]))])\n",
            "                                            response\n",
            "0  {'header': {'resultCode': '00', 'resultMsg': '...\n",
            "1  {'header': {'resultCode': '00', 'resultMsg': '...\n",
            "1007601\n",
            "?ServiceKey=jkd4PnVjssNP%2Bg2WeRzs8lgc4SOelLsncvuMr81%2F9R9nSYKkiQAcb2xt8GTYgTJSQGQ4%2BhtuRuyIXSwRXr210w%3D%3D&damcode=1007601\n",
            "OrderedDict([('response', OrderedDict([('header', OrderedDict([('resultCode', '99'), ('resultMsg', 'LIMITED NUMBER OF SERVICE REQUESTS EXCEEDS ERROR.')]))]))])\n",
            "                                            response\n",
            "0  {'header': {'resultCode': '00', 'resultMsg': '...\n",
            "1  {'header': {'resultCode': '00', 'resultMsg': '...\n",
            "2  {'header': {'resultCode': '99', 'resultMsg': '...\n"
          ]
        },
        {
          "output_type": "error",
          "ename": "KeyError",
          "evalue": "ignored",
          "traceback": [
            "\u001b[0;31m---------------------------------------------------------------------------\u001b[0m",
            "\u001b[0;31mKeyError\u001b[0m                                  Traceback (most recent call last)",
            "\u001b[0;32m<ipython-input-57-7f46f90f3227>\u001b[0m in \u001b[0;36m<module>\u001b[0;34m()\u001b[0m\n\u001b[1;32m     26\u001b[0m \u001b[0;34m\u001b[0m\u001b[0m\n\u001b[1;32m     27\u001b[0m   \u001b[0mprint\u001b[0m\u001b[0;34m(\u001b[0m\u001b[0mdf\u001b[0m\u001b[0;34m)\u001b[0m\u001b[0;34m\u001b[0m\u001b[0;34m\u001b[0m\u001b[0m\n\u001b[0;32m---> 28\u001b[0;31m   \u001b[0mjson_str\u001b[0m \u001b[0;34m=\u001b[0m \u001b[0mjson\u001b[0m\u001b[0;34m.\u001b[0m\u001b[0mdumps\u001b[0m\u001b[0;34m(\u001b[0m\u001b[0mdict_res\u001b[0m\u001b[0;34m[\u001b[0m\u001b[0;34m'response'\u001b[0m\u001b[0;34m]\u001b[0m\u001b[0;34m[\u001b[0m\u001b[0;34m'body'\u001b[0m\u001b[0;34m]\u001b[0m\u001b[0;34m[\u001b[0m\u001b[0;34m'items'\u001b[0m\u001b[0;34m]\u001b[0m\u001b[0;34m,\u001b[0m \u001b[0mensure_ascii\u001b[0m\u001b[0;34m=\u001b[0m\u001b[0;32mFalse\u001b[0m\u001b[0;34m)\u001b[0m\u001b[0;34m\u001b[0m\u001b[0;34m\u001b[0m\u001b[0m\n\u001b[0m\u001b[1;32m     29\u001b[0m   \u001b[0mjson_obj\u001b[0m \u001b[0;34m=\u001b[0m \u001b[0mjson\u001b[0m\u001b[0;34m.\u001b[0m\u001b[0mloads\u001b[0m\u001b[0;34m(\u001b[0m\u001b[0mjson_str\u001b[0m\u001b[0;34m)\u001b[0m\u001b[0;34m\u001b[0m\u001b[0;34m\u001b[0m\u001b[0m\n\u001b[1;32m     30\u001b[0m \u001b[0;34m\u001b[0m\u001b[0m\n",
            "\u001b[0;31mKeyError\u001b[0m: 'body'"
          ]
        }
      ]
    },
    {
      "cell_type": "code",
      "metadata": {
        "colab": {
          "base_uri": "https://localhost:8080/",
          "height": 350
        },
        "id": "bN9xZrTyd_1A",
        "outputId": "8af7be85-654f-40b4-fe67-72fe785d2ff8"
      },
      "source": [
        "# 수위 관측소 코드 조회(8.30_예외처리 전)\n",
        "url = 'http://opendata.kwater.or.kr/openapi-data/service/pubd/dam/excllncobsrvt/wal/list'\n",
        "key = 'jkd4PnVjssNP+g2WeRzs8lgc4SOelLsncvuMr81/9R9nSYKkiQAcb2xt8GTYgTJSQGQ4+htuRuyIXSwRXr210w==' #디코딩 사용\n",
        "\n",
        "# 댐코드 불러오기\n",
        "data = pd.read_csv('/content/drive/MyDrive/water_resource_csv/damCode.csv')\n",
        "\n",
        "# 필요한 행, 열만 추출(테스트)\n",
        "damcode = data.iloc[0:3,1]\n",
        "\n",
        "df = pd.DataFrame()\n",
        "\n",
        "for code in damcode:\n",
        "  Params = '?' + urlencode({ quote_plus('ServiceKey') : key,\n",
        "                                quote_plus('damcode') : code }) # 댐코드 입력\n",
        "  print(code)\n",
        "  print(Params)\n",
        "  \n",
        "  # get 방식으로 api 호출\n",
        "  res = requests.get(url + Params)\n",
        "\n",
        "  # json으로 변환\n",
        "  dict_res = xmltodict.parse(res.content)\n",
        "  print(dict_res)\n",
        "  df = df.append(dict_res, ignore_index=True)\n",
        "\n",
        "  print(df)\n",
        "  json_str = json.dumps(dict_res['response']['body'], ensure_ascii=False)\n",
        "  json_obj = json.loads(json_str)\n",
        "\n",
        "  for item in json_obj['items']['item']:\n",
        "    df = pd.DataFrame(json_obj['item'])\n",
        "    df.to_csv('예외처리전.csv' ,encoding='utf-8-sig')\n",
        "\n",
        "\n",
        "# csv파일로 저장\n"
      ],
      "execution_count": null,
      "outputs": [
        {
          "output_type": "stream",
          "name": "stdout",
          "text": [
            "2403201\n",
            "?ServiceKey=jkd4PnVjssNP%2Bg2WeRzs8lgc4SOelLsncvuMr81%2F9R9nSYKkiQAcb2xt8GTYgTJSQGQ4%2BhtuRuyIXSwRXr210w%3D%3D&damcode=2403201\n",
            "OrderedDict([('response', OrderedDict([('header', OrderedDict([('resultCode', '00'), ('resultMsg', 'NORMAL SERVICE.')])), ('body', OrderedDict([('items', None)]))]))])\n",
            "                                            response\n",
            "0  {'header': {'resultCode': '00', 'resultMsg': '...\n"
          ]
        },
        {
          "output_type": "error",
          "ename": "TypeError",
          "evalue": "ignored",
          "traceback": [
            "\u001b[0;31m---------------------------------------------------------------------------\u001b[0m",
            "\u001b[0;31mTypeError\u001b[0m                                 Traceback (most recent call last)",
            "\u001b[0;32m<ipython-input-59-659b3fb6022e>\u001b[0m in \u001b[0;36m<module>\u001b[0;34m()\u001b[0m\n\u001b[1;32m     29\u001b[0m   \u001b[0mjson_obj\u001b[0m \u001b[0;34m=\u001b[0m \u001b[0mjson\u001b[0m\u001b[0;34m.\u001b[0m\u001b[0mloads\u001b[0m\u001b[0;34m(\u001b[0m\u001b[0mjson_str\u001b[0m\u001b[0;34m)\u001b[0m\u001b[0;34m\u001b[0m\u001b[0;34m\u001b[0m\u001b[0m\n\u001b[1;32m     30\u001b[0m \u001b[0;34m\u001b[0m\u001b[0m\n\u001b[0;32m---> 31\u001b[0;31m   \u001b[0;32mfor\u001b[0m \u001b[0mitem\u001b[0m \u001b[0;32min\u001b[0m \u001b[0mjson_obj\u001b[0m\u001b[0;34m[\u001b[0m\u001b[0;34m'items'\u001b[0m\u001b[0;34m]\u001b[0m\u001b[0;34m[\u001b[0m\u001b[0;34m'item'\u001b[0m\u001b[0;34m]\u001b[0m\u001b[0;34m:\u001b[0m\u001b[0;34m\u001b[0m\u001b[0;34m\u001b[0m\u001b[0m\n\u001b[0m\u001b[1;32m     32\u001b[0m     \u001b[0mdf\u001b[0m \u001b[0;34m=\u001b[0m \u001b[0mpd\u001b[0m\u001b[0;34m.\u001b[0m\u001b[0mDataFrame\u001b[0m\u001b[0;34m(\u001b[0m\u001b[0mjson_obj\u001b[0m\u001b[0;34m[\u001b[0m\u001b[0;34m'item'\u001b[0m\u001b[0;34m]\u001b[0m\u001b[0;34m)\u001b[0m\u001b[0;34m\u001b[0m\u001b[0;34m\u001b[0m\u001b[0m\n\u001b[1;32m     33\u001b[0m     \u001b[0mdf\u001b[0m\u001b[0;34m.\u001b[0m\u001b[0mto_csv\u001b[0m\u001b[0;34m(\u001b[0m\u001b[0;34m'예외처리전.csv'\u001b[0m \u001b[0;34m,\u001b[0m\u001b[0mencoding\u001b[0m\u001b[0;34m=\u001b[0m\u001b[0;34m'utf-8-sig'\u001b[0m\u001b[0;34m)\u001b[0m\u001b[0;34m\u001b[0m\u001b[0;34m\u001b[0m\u001b[0m\n",
            "\u001b[0;31mTypeError\u001b[0m: 'NoneType' object is not subscriptable"
          ]
        }
      ]
    },
    {
      "cell_type": "markdown",
      "metadata": {
        "id": "ua5zwY8rV7VY"
      },
      "source": [
        "예외처리\n",
        "https://responding.tistory.com/47"
      ]
    },
    {
      "cell_type": "code",
      "metadata": {
        "colab": {
          "base_uri": "https://localhost:8080/",
          "height": 367
        },
        "id": "JJOPACMn5qL7",
        "outputId": "03af18dd-5522-4915-850c-fd1e0a28893e"
      },
      "source": [
        "# 수위 관측소 코드 조회(예외처리1)\n",
        "url = 'http://opendata.kwater.or.kr/openapi-data/service/pubd/dam/excllncobsrvt/wal/list'\n",
        "key = 'jkd4PnVjssNP+g2WeRzs8lgc4SOelLsncvuMr81/9R9nSYKkiQAcb2xt8GTYgTJSQGQ4+htuRuyIXSwRXr210w==' #디코딩 사용\n",
        "\n",
        "# 댐코드 불러오기\n",
        "data = pd.read_csv('/content/drive/MyDrive/water_resource_csv/damCode.csv')\n",
        "\n",
        "# 필요한 행, 열만 추출(테스트)\n",
        "damcode = data.iloc[0:3,1]\n",
        "\n",
        "df = pd.DataFrame()\n",
        "\n",
        "for code in damcode:\n",
        "  Params = '?' + urlencode({ quote_plus('ServiceKey') : key,\n",
        "                                quote_plus('damcode') : code }) # 댐코드 입력\n",
        "\n",
        "  \n",
        "  # get 방식으로 api 호출\n",
        "  res = requests.get(url + Params)\n",
        "  print(res)\n",
        "\n",
        "  # json으로 변환\n",
        "  dict_res = xmltodict.parse(res.content)\n",
        "  print(dict_res)\n",
        "  df = df.append(dict_res, ignore_index=True)\n",
        "\n",
        "\n",
        "# 예외처리(실행할 코드, 예외발생 시, 예외발생 안 할때)\n",
        "try:\n",
        "  json_str = json.dumps(df['response']['body']['items'], ensure_ascii=False)\n",
        "  json_obj = json.loads(json_str)\n",
        "  \n",
        "except Exception as ex:\n",
        "  print('빈 결과', ex)\n",
        "\n",
        "else:\n",
        "  json_str = json.dumps(df['response']['body']['items'], ensure_ascii=False)\n",
        "  json_obj = json.loads(json_str)\n",
        "\n",
        "\n",
        "# csv파일로 저장\n",
        "df = pd.DataFrame(json_obj['item'])\n",
        "df.to_csv('001.csv' ,encoding='utf-8-sig')"
      ],
      "execution_count": null,
      "outputs": [
        {
          "output_type": "stream",
          "name": "stdout",
          "text": [
            "<Response [200]>\n",
            "OrderedDict([('response', OrderedDict([('header', OrderedDict([('resultCode', '00'), ('resultMsg', 'NORMAL SERVICE.')])), ('body', OrderedDict([('items', None)]))]))])\n",
            "<Response [200]>\n",
            "OrderedDict([('response', OrderedDict([('header', OrderedDict([('resultCode', '99'), ('resultMsg', 'LIMITED NUMBER OF SERVICE REQUESTS EXCEEDS ERROR.')]))]))])\n",
            "<Response [200]>\n",
            "OrderedDict([('response', OrderedDict([('header', OrderedDict([('resultCode', '00'), ('resultMsg', 'NORMAL SERVICE.')])), ('body', OrderedDict([('items', OrderedDict([('item', [OrderedDict([('obsrvtNm', '강천보상류'), ('walobsrvtcode', '1007601')]), OrderedDict([('obsrvtNm', '강천보하류'), ('walobsrvtcode', '1005681')])])]))]))]))])\n",
            "빈 결과 'body'\n"
          ]
        },
        {
          "output_type": "error",
          "ename": "KeyError",
          "evalue": "ignored",
          "traceback": [
            "\u001b[0;31m---------------------------------------------------------------------------\u001b[0m",
            "\u001b[0;31mKeyError\u001b[0m                                  Traceback (most recent call last)",
            "\u001b[0;32m<ipython-input-66-6f28e0a8e51c>\u001b[0m in \u001b[0;36m<module>\u001b[0;34m()\u001b[0m\n\u001b[1;32m     40\u001b[0m \u001b[0;34m\u001b[0m\u001b[0m\n\u001b[1;32m     41\u001b[0m \u001b[0;31m# csv파일로 저장\u001b[0m\u001b[0;34m\u001b[0m\u001b[0;34m\u001b[0m\u001b[0;34m\u001b[0m\u001b[0m\n\u001b[0;32m---> 42\u001b[0;31m \u001b[0mdf\u001b[0m \u001b[0;34m=\u001b[0m \u001b[0mpd\u001b[0m\u001b[0;34m.\u001b[0m\u001b[0mDataFrame\u001b[0m\u001b[0;34m(\u001b[0m\u001b[0mjson_obj\u001b[0m\u001b[0;34m[\u001b[0m\u001b[0;34m'item'\u001b[0m\u001b[0;34m]\u001b[0m\u001b[0;34m)\u001b[0m\u001b[0;34m\u001b[0m\u001b[0;34m\u001b[0m\u001b[0m\n\u001b[0m\u001b[1;32m     43\u001b[0m \u001b[0mdf\u001b[0m\u001b[0;34m.\u001b[0m\u001b[0mto_csv\u001b[0m\u001b[0;34m(\u001b[0m\u001b[0;34m'001.csv'\u001b[0m \u001b[0;34m,\u001b[0m\u001b[0mencoding\u001b[0m\u001b[0;34m=\u001b[0m\u001b[0;34m'utf-8-sig'\u001b[0m\u001b[0;34m)\u001b[0m\u001b[0;34m\u001b[0m\u001b[0;34m\u001b[0m\u001b[0m\n",
            "\u001b[0;31mKeyError\u001b[0m: 'item'"
          ]
        }
      ]
    },
    {
      "cell_type": "markdown",
      "metadata": {
        "id": "t3KJClWdGmTa"
      },
      "source": [
        "Parser: parsing을 수행하는 프로그램\n",
        "원시 프로그램을 읽어 들여 그 문장의 구조를 알아내는 **parsing(구문 분석)**을 행하는 프로그램\n",
        "\n",
        "\n",
        "\n",
        "BeautifulSoup: HTML 문서를 탐색해서 원하는 부분만 쉽게 뽑아낼 수 있는 파이썬 라이브러리 "
      ]
    },
    {
      "cell_type": "markdown",
      "metadata": {
        "id": "VBMTf9glLyNN"
      },
      "source": [
        "수정2 코드 전문\n",
        "\n",
        "https://nicola-ml.tistory.com/97\n",
        "\n",
        "https://greendreamtrre.tistory.com/268"
      ]
    },
    {
      "cell_type": "code",
      "metadata": {
        "id": "d-CUUtgj9grB",
        "colab": {
          "base_uri": "https://localhost:8080/"
        },
        "outputId": "fb1513b6-9730-4a54-cf0d-10b49322222a"
      },
      "source": [
        "# 수위 관측소 코드 조회(전체 수정2)원본\n",
        "import requests, bs4\n",
        "import pandas as pd\n",
        "from lxml import html\n",
        "from urllib.request import Request, urlopen\n",
        "from urllib.parse import urlencode, quote_plus, unquote\n",
        "\n",
        "url = 'http://opendata.kwater.or.kr/openapi-data/service/pubd/dam/excllncobsrvt/wal/list'\n",
        "key = 'jkd4PnVjssNP+g2WeRzs8lgc4SOelLsncvuMr81/9R9nSYKkiQAcb2xt8GTYgTJSQGQ4+htuRuyIXSwRXr210w==' #디코딩 사용\n",
        "\n",
        "# 댐코드 불러오기\n",
        "data = pd.read_csv('/content/drive/MyDrive/water_resource_csv/damCode.csv')\n",
        "\n",
        "# 필요한 코드 조회\n",
        "damcode = data.iloc[0:3,1]\n",
        "\n",
        "for code in damcode:\n",
        "\n",
        "  Params = '?' + urlencode({quote_plus('ServiceKey') : key,\n",
        "                                quote_plus('damcode') : code})\n",
        "  \n",
        "  #print(Params)\n",
        "  res = requests.get(url + Params).text.encode('utf-8') # 요청에 대한 응답내용(.encode빼기도 함)\n",
        "  print(res) #문제\n",
        "  xmlobj = bs4.BeautifulSoup(res, 'lxml') #lxml 파서(구문분석)  'lxml-xml'\n",
        "\n",
        "  #item 태그 분리\n",
        "  rows = xmlobj.findAll('item') # 매치되는 문자열을 리스트로 리턴\n",
        "  #print(rows)\n",
        "\n",
        "  # 반복문\n",
        "  rowList = []\n",
        "  nameList = []\n",
        "  columnList = []\n",
        "\n",
        "  rowsLen = len(rows) #len(): 원소 개수\n",
        "  for i in range(0, rowsLen):\n",
        "    columns = rows[i].find_all()\n",
        "    columnsLen = len(columns)\n",
        "    for j in range(0, columnsLen):\n",
        "      \n",
        "\n",
        "      # 첫 번째 행 데이터 값 수집 시에만 컬럼 값을 저장한다. (어차피 rows[0], rows[1], ... 모두 컬럼헤더는 동일한 값을 가지기 때문에 매번 반복할 필요가 없다.)\n",
        "      if i == 0:\n",
        "        nameList.append(columns[j].name)\n",
        "      # 컬럼값은 모든 행의 값을 저장해야한다.    \n",
        "        eachColumn = columns[j].text\n",
        "        columnList.append(eachColumn)\n",
        "        rowList.append(columnList)\n",
        "        columnList = []    # 다음 row의 값을 넣기 위해 비워준다. (매우 중요!!)\n",
        "\n",
        "\n",
        "# csv파일로 저장\n",
        "df = pd.DataFrame(rowList, columns=nameList)\n",
        "df.to_csv('수위_방법2.csv' ,encoding='utf-8-sig')"
      ],
      "execution_count": null,
      "outputs": [
        {
          "output_type": "stream",
          "name": "stdout",
          "text": [
            "b'<?xml version=\"1.0\" encoding=\"UTF-8\" standalone=\"yes\"?><response><header><resultCode>99</resultCode><resultMsg>LIMITED NUMBER OF SERVICE REQUESTS EXCEEDS ERROR.</resultMsg></header></response>'\n",
            "b'<?xml version=\"1.0\" encoding=\"UTF-8\" standalone=\"yes\"?><response><header><resultCode>99</resultCode><resultMsg>LIMITED NUMBER OF SERVICE REQUESTS EXCEEDS ERROR.</resultMsg></header></response>'\n",
            "b'<?xml version=\"1.0\" encoding=\"UTF-8\" standalone=\"yes\"?><response><header><resultCode>99</resultCode><resultMsg>LIMITED NUMBER OF SERVICE REQUESTS EXCEEDS ERROR.</resultMsg></header></response>'\n"
          ]
        }
      ]
    },
    {
      "cell_type": "markdown",
      "metadata": {
        "id": "klCP5N2o5ffa"
      },
      "source": [
        "[우량 분강우량]"
      ]
    },
    {
      "cell_type": "code",
      "metadata": {
        "id": "xpxlU9EF1eY5"
      },
      "source": [
        "# (1)우량 분강우량 조회_1(10분 단위)_성공(원본)\n",
        "url = 'http://opendata.kwater.or.kr/openapi-data/service/pubd/dam/excllncobsrvt/mntrf/list'\n",
        "key = 'jkd4PnVjssNP+g2WeRzs8lgc4SOelLsncvuMr81/9R9nSYKkiQAcb2xt8GTYgTJSQGQ4+htuRuyIXSwRXr210w==' #디코딩 사용\n",
        "Params = '?' + urlencode({ quote_plus('ServiceKey') : key ,\n",
        "                                quote_plus('sdate') : '2018-01-01',\n",
        "                                quote_plus('stime') : '00',\n",
        "                                quote_plus('edate') : '2018-12-31',\n",
        "                                quote_plus('etime') : '24',\n",
        "                                quote_plus('excll') : '1012432', # 우량관측소 코드\n",
        "                                quote_plus('tms') : '10',\n",
        "                                quote_plus('numOfRows') : '80000',\n",
        "                                quote_plus('pageNo') : '1' })\n",
        "\n",
        "# get 방식으로 api 호출\n",
        "res = requests.get(url + Params).content\n",
        "\n",
        "# json으로 변환\n",
        "dict_res = xmltodict.parse(res)\n",
        "json_str = json.dumps(dict_res['response']['body']['items'], ensure_ascii=False)\n",
        "json_obj = json.loads(json_str)\n",
        "#print(json_obj)\n",
        "\n",
        "# csv파일로 저장\n",
        "df = pd.DataFrame(json_obj['item'])\n",
        "df.to_csv('sample_9.csv' ,encoding='utf-8-sig')"
      ],
      "execution_count": null,
      "outputs": []
    },
    {
      "cell_type": "code",
      "metadata": {
        "id": "grAtYIMnQHBu"
      },
      "source": [
        "# (1)우량 분강우량 조회_1(10분 단위)_성공(반복문 추가)\n",
        "url = 'http://opendata.kwater.or.kr/openapi-data/service/pubd/dam/excllncobsrvt/mntrf/list'\n",
        "key = 'jkd4PnVjssNP+g2WeRzs8lgc4SOelLsncvuMr81/9R9nSYKkiQAcb2xt8GTYgTJSQGQ4+htuRuyIXSwRXr210w==' #디코딩 사용\n",
        "\n",
        "\n",
        "for excll in excllcode:\n",
        "  Params = '?' + urlencode({ quote_plus('ServiceKey') : key ,\n",
        "                              quote_plus('sdate') : '2018-01-01',\n",
        "                              quote_plus('stime') : '00',\n",
        "                              quote_plus('edate') : '2018-12-31',\n",
        "                              quote_plus('etime') : '24',\n",
        "                              quote_plus('excll') : '1012432', # 우량관측소 코드\n",
        "                              quote_plus('tms') : '10',\n",
        "                              quote_plus('numOfRows') : '80000',\n",
        "                              quote_plus('pageNo') : '1' })\n",
        "\n",
        "  # get 방식으로 api 호출\n",
        "  res = requests.get(url + Params).content\n",
        "\n",
        "  # json으로 변환\n",
        "  dict_res = xmltodict.parse(res)\n",
        "  json_str = json.dumps(dict_res['response']['body']['items'], ensure_ascii=False)\n",
        "  json_obj = json.loads(json_str)\n",
        "  #print(json_obj)\n",
        "\n",
        "# csv파일로 저장\n",
        "df = pd.DataFrame(json_obj['item'])\n",
        "df.to_csv('sample_9.csv' ,encoding='utf-8-sig')"
      ],
      "execution_count": null,
      "outputs": []
    },
    {
      "cell_type": "markdown",
      "metadata": {
        "id": "dmdUFRGHPYVC"
      },
      "source": [
        "[수위 분강우량]"
      ]
    },
    {
      "cell_type": "code",
      "metadata": {
        "id": "SceHc_lg5GxO"
      },
      "source": [
        "## (4)수위 분강우량 조회_1(10분 단위)(원본)\n",
        "url = 'http://opendata.kwater.or.kr/openapi-data/service/pubd/dam/excllncobsrvt/mntwal/list'\n",
        "key = 'jkd4PnVjssNP+g2WeRzs8lgc4SOelLsncvuMr81/9R9nSYKkiQAcb2xt8GTYgTJSQGQ4+htuRuyIXSwRXr210w==' #디코딩 사용\n",
        "Params = '?' + urlencode({ quote_plus('ServiceKey') : key ,\n",
        "                                quote_plus('sdate') : '2014-12-01',\n",
        "                                quote_plus('stime') : '08',\n",
        "                                quote_plus('edate') : '2014-12-01',\n",
        "                                quote_plus('etime') : '15',\n",
        "                                quote_plus('damcode') : '15', # 댐코드\n",
        "                                quote_plus('wal') : '1012432', # 수위 관측소 코드\n",
        "                                quote_plus('tms') : '10',\n",
        "                                quote_plus('numOfRows') : '10',\n",
        "                                quote_plus('pageNo') : '1' })\n",
        "\n",
        "# get 방식으로 api 호출\n",
        "res = requests.get(url + Params)\n",
        "\n",
        "# json으로 변환\n",
        "dict_res = xmltodict.parse(res.content)\n",
        "json_str = json.dumps(dict_res['response']['body']['items'], ensure_ascii=False)\n",
        "json_obj = json.loads(json_str)\n",
        "\n",
        "# csv파일로 저장\n",
        "df = pd.DataFrame(json_obj['item'])\n",
        "df.to_csv('mntwal_10.csv' ,encoding='utf-8-sig')"
      ],
      "execution_count": null,
      "outputs": []
    },
    {
      "cell_type": "code",
      "metadata": {
        "id": "Ix2sDLm119na"
      },
      "source": [
        "## (4)수위 분강우량 조회_1(10분 단위)(반복문 추가)\n",
        "url = 'http://opendata.kwater.or.kr/openapi-data/service/pubd/dam/excllncobsrvt/mntwal/list'\n",
        "key = 'jkd4PnVjssNP+g2WeRzs8lgc4SOelLsncvuMr81/9R9nSYKkiQAcb2xt8GTYgTJSQGQ4+htuRuyIXSwRXr210w==' #디코딩 사용\n",
        "\n",
        "for code in damcode:\n",
        "  for excll in excllcode:\n",
        "    \n",
        "    Params = '?' + urlencode({ quote_plus('ServiceKey') : key ,\n",
        "                                    quote_plus('sdate') : '2014-12-01',\n",
        "                                    quote_plus('stime') : '08',\n",
        "                                    quote_plus('edate') : '2014-12-01',\n",
        "                                    quote_plus('etime') : '15',\n",
        "                                    quote_plus('damcode') : '15', # 댐코드\n",
        "                                    quote_plus('wal') : '1012432', # 수위 관측소 코드\n",
        "                                    quote_plus('tms') : '10',\n",
        "                                    quote_plus('numOfRows') : '10',\n",
        "                                    quote_plus('pageNo') : '1' })\n",
        "\n",
        "    # get 방식으로 api 호출\n",
        "    res = requests.get(url + Params)\n",
        "\n",
        "    # json으로 변환\n",
        "    dict_res = xmltodict.parse(res.content)\n",
        "    json_str = json.dumps(dict_res['response']['body']['items'], ensure_ascii=False)\n",
        "    json_obj = json.loads(json_str)\n",
        "\n",
        "# csv파일로 저장\n",
        "df = pd.DataFrame(json_obj['item'])\n",
        "df.to_csv('mntwal_10.csv' ,encoding='utf-8-sig')\n"
      ],
      "execution_count": null,
      "outputs": []
    }
  ]
}