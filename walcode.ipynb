{
  "nbformat": 4,
  "nbformat_minor": 0,
  "metadata": {
    "colab": {
      "name": "walcode.ipynb",
      "provenance": [],
      "collapsed_sections": [],
      "mount_file_id": "1jgdORkTEvQSe0xqKCXIZjHTPS7s4CnyM",
      "authorship_tag": "ABX9TyMxeoxbJCyzWdkYabvKhPi6",
      "include_colab_link": true
    },
    "kernelspec": {
      "name": "python3",
      "display_name": "Python 3"
    },
    "language_info": {
      "name": "python"
    }
  },
  "cells": [
    {
      "cell_type": "markdown",
      "metadata": {
        "id": "view-in-github",
        "colab_type": "text"
      },
      "source": [
        "<a href=\"https://colab.research.google.com/github/kimhalyn/OPEN-API/blob/main/walcode.ipynb\" target=\"_parent\"><img src=\"https://colab.research.google.com/assets/colab-badge.svg\" alt=\"Open In Colab\"/></a>"
      ]
    },
    {
      "cell_type": "code",
      "metadata": {
        "colab": {
          "base_uri": "https://localhost:8080/"
        },
        "id": "AOjHZTTeoGwb",
        "outputId": "5c0c96ac-47b9-4cb3-8f1d-099b69c98a37"
      },
      "source": [
        "# 라이브러리\n",
        "# colab에 xmltodict 라이브러리가 기본 설치되지 않으므로 별도 설치(외부 라이브러리)\n",
        "!pip install xmltodict \n",
        "from urllib.request import urlopen, Request\n",
        "from urllib.parse import urlencode, unquote, quote_plus\n",
        "from bs4 import BeautifulSoup\n",
        "import pandas as pd\n",
        "import requests, xmltodict, json\n",
        "from xml.etree.ElementTree import Element, SubElement, ElementTree\n",
        "import xml.etree.ElementTree as ET\n",
        "import pickle\n",
        "import numpy as np"
      ],
      "execution_count": null,
      "outputs": [
        {
          "output_type": "stream",
          "name": "stdout",
          "text": [
            "Requirement already satisfied: xmltodict in /usr/local/lib/python3.7/dist-packages (0.12.0)\n"
          ]
        }
      ]
    },
    {
      "cell_type": "code",
      "metadata": {
        "colab": {
          "base_uri": "https://localhost:8080/"
        },
        "id": "Ic1MXA0oobda",
        "outputId": "b38b2d0d-c955-40c6-83c3-e898e352529b"
      },
      "source": [
        "from google.colab import drive\n",
        "drive.mount('/content/drive')"
      ],
      "execution_count": null,
      "outputs": [
        {
          "output_type": "stream",
          "name": "stdout",
          "text": [
            "Drive already mounted at /content/drive; to attempt to forcibly remount, call drive.mount(\"/content/drive\", force_remount=True).\n"
          ]
        }
      ]
    },
    {
      "cell_type": "code",
      "metadata": {
        "colab": {
          "base_uri": "https://localhost:8080/"
        },
        "id": "G4BF3JXrowHR",
        "outputId": "aaf22750-ac23-4821-803b-86c7ce813efa"
      },
      "source": [
        "\n",
        "import requests, bs4\n",
        "import pandas as pd\n",
        "from lxml import html\n",
        "from urllib.request import Request, urlopen\n",
        "from urllib.parse import urlencode, quote_plus, unquote\n",
        "from time import sleep\n",
        "import csv\n",
        "\n",
        "url = 'http://opendata.kwater.or.kr/openapi-data/service/pubd/dam/excllncobsrvt/wal/list'\n",
        "key = 'jkd4PnVjssNP+g2WeRzs8lgc4SOelLsncvuMr81/9R9nSYKkiQAcb2xt8GTYgTJSQGQ4+htuRuyIXSwRXr210w=='\n",
        " \n",
        "api_key = requests.utils.unquote(key) #디코딩\n",
        "\n",
        "# 댐코드 불러오기\n",
        "data = pd.read_csv('/content/drive/MyDrive/water_resource_csv/damCode.csv')\n",
        "\n",
        "# 필요한 코드 조회\n",
        "damcode = data.iloc[:, 1]\n",
        "xmlrows = []\n",
        "for code in damcode:\n",
        "\n",
        "  Params = '?' + urlencode({quote_plus('ServiceKey') : api_key,\n",
        "                                quote_plus('damcode') : code})\n",
        "  \n",
        "#  print(Params)\n",
        "  \n",
        "  res = requests.get(url + Params).text.encode('utf-8') # 요청에 대한 응답내용(.encode빼기도 함)\n",
        "  sleep(1)\n",
        "  print(res) \n",
        "  \n",
        "  xmlobj = bs4.BeautifulSoup(res, 'lxml') #lxml 파서(구문분석)  'lxml-xml'\n",
        "  print(xmlobj)\n",
        "  \n",
        "  #item 태그 분리\n",
        "  rows = xmlobj.findAll('item') # 매치되는 문자열을 리스트로 리턴\n",
        "  xmlrows.append(rows)\n",
        "\n",
        "print (xmlrows)"
      ],
      "execution_count": null,
      "outputs": [
        {
          "output_type": "stream",
          "name": "stdout",
          "text": [
            "b'<?xml version=\"1.0\" encoding=\"UTF-8\" standalone=\"yes\"?><response><header><resultCode>00</resultCode><resultMsg>NORMAL SERVICE.</resultMsg></header><body><items><item><acmtlrf>0</acmtlrf><hourrf>0</hourrf><no>24</no><obsrdt>2020-01-01 01:00</obsrdt></item><item><acmtlrf>0</acmtlrf><hourrf>0</hourrf><no>23</no><obsrdt>2020-01-01 02:00</obsrdt></item><item><acmtlrf>0</acmtlrf><hourrf>0</hourrf><no>22</no><obsrdt>2020-01-01 03:00</obsrdt></item><item><acmtlrf>0</acmtlrf><hourrf>0</hourrf><no>21</no><obsrdt>2020-01-01 04:00</obsrdt></item><item><acmtlrf>0</acmtlrf><hourrf>0</hourrf><no>20</no><obsrdt>2020-01-01 05:00</obsrdt></item><item><acmtlrf>0</acmtlrf><hourrf>0</hourrf><no>19</no><obsrdt>2020-01-01 06:00</obsrdt></item><item><acmtlrf>0</acmtlrf><hourrf>0</hourrf><no>18</no><obsrdt>2020-01-01 07:00</obsrdt></item><item><acmtlrf>0</acmtlrf><hourrf>0</hourrf><no>17</no><obsrdt>2020-01-01 08:00</obsrdt></item><item><acmtlrf>0</acmtlrf><hourrf>0</hourrf><no>16</no><obsrdt>2020-01-01 09:00</obsrdt></item><item><acmtlrf>0</acmtlrf><hourrf>0</hourrf><no>15</no><obsrdt>2020-01-01 10:00</obsrdt></item><item><acmtlrf>0</acmtlrf><hourrf>0</hourrf><no>14</no><obsrdt>2020-01-01 11:00</obsrdt></item><item><acmtlrf>0</acmtlrf><hourrf>0</hourrf><no>13</no><obsrdt>2020-01-01 12:00</obsrdt></item><item><acmtlrf>0</acmtlrf><hourrf>0</hourrf><no>12</no><obsrdt>2020-01-01 13:00</obsrdt></item><item><acmtlrf>0</acmtlrf><hourrf>0</hourrf><no>11</no><obsrdt>2020-01-01 14:00</obsrdt></item><item><acmtlrf>0</acmtlrf><hourrf>0</hourrf><no>10</no><obsrdt>2020-01-01 15:00</obsrdt></item><item><acmtlrf>0</acmtlrf><hourrf>0</hourrf><no>9</no><obsrdt>2020-01-01 16:00</obsrdt></item><item><acmtlrf>0</acmtlrf><hourrf>0</hourrf><no>8</no><obsrdt>2020-01-01 17:00</obsrdt></item><item><acmtlrf>0</acmtlrf><hourrf>0</hourrf><no>7</no><obsrdt>2020-01-01 18:00</obsrdt></item><item><acmtlrf>0</acmtlrf><hourrf>0</hourrf><no>6</no><obsrdt>2020-01-01 19:00</obsrdt></item><item><acmtlrf>0</acmtlrf><hourrf>0</hourrf><no>5</no><obsrdt>2020-01-01 20:00</obsrdt></item><item><acmtlrf>0</acmtlrf><hourrf>0</hourrf><no>4</no><obsrdt>2020-01-01 21:00</obsrdt></item><item><acmtlrf>0</acmtlrf><hourrf>0</hourrf><no>3</no><obsrdt>2020-01-01 22:00</obsrdt></item><item><acmtlrf>0</acmtlrf><hourrf>0</hourrf><no>2</no><obsrdt>2020-01-01 23:00</obsrdt></item><item><acmtlrf>0</acmtlrf><hourrf>0</hourrf><no>1</no><obsrdt>2020-01-01 24:00</obsrdt></item></items><numOfRows>800000</numOfRows><pageNo>1</pageNo><totalCount>24</totalCount></body></response>'\n",
            "<?xml version=\"1.0\" encoding=\"UTF-8\" standalone=\"yes\"?><html><body><response><header><resultcode>00</resultcode><resultmsg>NORMAL SERVICE.</resultmsg></header><items><item><acmtlrf>0</acmtlrf><hourrf>0</hourrf><no>24</no><obsrdt>2020-01-01 01:00</obsrdt></item><item><acmtlrf>0</acmtlrf><hourrf>0</hourrf><no>23</no><obsrdt>2020-01-01 02:00</obsrdt></item><item><acmtlrf>0</acmtlrf><hourrf>0</hourrf><no>22</no><obsrdt>2020-01-01 03:00</obsrdt></item><item><acmtlrf>0</acmtlrf><hourrf>0</hourrf><no>21</no><obsrdt>2020-01-01 04:00</obsrdt></item><item><acmtlrf>0</acmtlrf><hourrf>0</hourrf><no>20</no><obsrdt>2020-01-01 05:00</obsrdt></item><item><acmtlrf>0</acmtlrf><hourrf>0</hourrf><no>19</no><obsrdt>2020-01-01 06:00</obsrdt></item><item><acmtlrf>0</acmtlrf><hourrf>0</hourrf><no>18</no><obsrdt>2020-01-01 07:00</obsrdt></item><item><acmtlrf>0</acmtlrf><hourrf>0</hourrf><no>17</no><obsrdt>2020-01-01 08:00</obsrdt></item><item><acmtlrf>0</acmtlrf><hourrf>0</hourrf><no>16</no><obsrdt>2020-01-01 09:00</obsrdt></item><item><acmtlrf>0</acmtlrf><hourrf>0</hourrf><no>15</no><obsrdt>2020-01-01 10:00</obsrdt></item><item><acmtlrf>0</acmtlrf><hourrf>0</hourrf><no>14</no><obsrdt>2020-01-01 11:00</obsrdt></item><item><acmtlrf>0</acmtlrf><hourrf>0</hourrf><no>13</no><obsrdt>2020-01-01 12:00</obsrdt></item><item><acmtlrf>0</acmtlrf><hourrf>0</hourrf><no>12</no><obsrdt>2020-01-01 13:00</obsrdt></item><item><acmtlrf>0</acmtlrf><hourrf>0</hourrf><no>11</no><obsrdt>2020-01-01 14:00</obsrdt></item><item><acmtlrf>0</acmtlrf><hourrf>0</hourrf><no>10</no><obsrdt>2020-01-01 15:00</obsrdt></item><item><acmtlrf>0</acmtlrf><hourrf>0</hourrf><no>9</no><obsrdt>2020-01-01 16:00</obsrdt></item><item><acmtlrf>0</acmtlrf><hourrf>0</hourrf><no>8</no><obsrdt>2020-01-01 17:00</obsrdt></item><item><acmtlrf>0</acmtlrf><hourrf>0</hourrf><no>7</no><obsrdt>2020-01-01 18:00</obsrdt></item><item><acmtlrf>0</acmtlrf><hourrf>0</hourrf><no>6</no><obsrdt>2020-01-01 19:00</obsrdt></item><item><acmtlrf>0</acmtlrf><hourrf>0</hourrf><no>5</no><obsrdt>2020-01-01 20:00</obsrdt></item><item><acmtlrf>0</acmtlrf><hourrf>0</hourrf><no>4</no><obsrdt>2020-01-01 21:00</obsrdt></item><item><acmtlrf>0</acmtlrf><hourrf>0</hourrf><no>3</no><obsrdt>2020-01-01 22:00</obsrdt></item><item><acmtlrf>0</acmtlrf><hourrf>0</hourrf><no>2</no><obsrdt>2020-01-01 23:00</obsrdt></item><item><acmtlrf>0</acmtlrf><hourrf>0</hourrf><no>1</no><obsrdt>2020-01-01 24:00</obsrdt></item></items><numofrows>800000</numofrows><pageno>1</pageno><totalcount>24</totalcount></response></body></html>\n",
            "b'<?xml version=\"1.0\" encoding=\"UTF-8\" standalone=\"yes\"?><response><header><resultCode>00</resultCode><resultMsg>NORMAL SERVICE.</resultMsg></header><body><items><item><acmtlrf>0</acmtlrf><hourrf>0</hourrf><no>24</no><obsrdt>2020-01-01 01:00</obsrdt></item><item><acmtlrf>0</acmtlrf><hourrf>0</hourrf><no>23</no><obsrdt>2020-01-01 02:00</obsrdt></item><item><acmtlrf>0</acmtlrf><hourrf>0</hourrf><no>22</no><obsrdt>2020-01-01 03:00</obsrdt></item><item><acmtlrf>0</acmtlrf><hourrf>0</hourrf><no>21</no><obsrdt>2020-01-01 04:00</obsrdt></item><item><acmtlrf>0</acmtlrf><hourrf>0</hourrf><no>20</no><obsrdt>2020-01-01 05:00</obsrdt></item><item><acmtlrf>0</acmtlrf><hourrf>0</hourrf><no>19</no><obsrdt>2020-01-01 06:00</obsrdt></item><item><acmtlrf>0</acmtlrf><hourrf>0</hourrf><no>18</no><obsrdt>2020-01-01 07:00</obsrdt></item><item><acmtlrf>0</acmtlrf><hourrf>0</hourrf><no>17</no><obsrdt>2020-01-01 08:00</obsrdt></item><item><acmtlrf>0</acmtlrf><hourrf>0</hourrf><no>16</no><obsrdt>2020-01-01 09:00</obsrdt></item><item><acmtlrf>0</acmtlrf><hourrf>0</hourrf><no>15</no><obsrdt>2020-01-01 10:00</obsrdt></item><item><acmtlrf>0</acmtlrf><hourrf>0</hourrf><no>14</no><obsrdt>2020-01-01 11:00</obsrdt></item><item><acmtlrf>0</acmtlrf><hourrf>0</hourrf><no>13</no><obsrdt>2020-01-01 12:00</obsrdt></item><item><acmtlrf>0</acmtlrf><hourrf>0</hourrf><no>12</no><obsrdt>2020-01-01 13:00</obsrdt></item><item><acmtlrf>0</acmtlrf><hourrf>0</hourrf><no>11</no><obsrdt>2020-01-01 14:00</obsrdt></item><item><acmtlrf>0</acmtlrf><hourrf>0</hourrf><no>10</no><obsrdt>2020-01-01 15:00</obsrdt></item><item><acmtlrf>0</acmtlrf><hourrf>0</hourrf><no>9</no><obsrdt>2020-01-01 16:00</obsrdt></item><item><acmtlrf>0</acmtlrf><hourrf>0</hourrf><no>8</no><obsrdt>2020-01-01 17:00</obsrdt></item><item><acmtlrf>0</acmtlrf><hourrf>0</hourrf><no>7</no><obsrdt>2020-01-01 18:00</obsrdt></item><item><acmtlrf>0</acmtlrf><hourrf>0</hourrf><no>6</no><obsrdt>2020-01-01 19:00</obsrdt></item><item><acmtlrf>0</acmtlrf><hourrf>0</hourrf><no>5</no><obsrdt>2020-01-01 20:00</obsrdt></item><item><acmtlrf>0</acmtlrf><hourrf>0</hourrf><no>4</no><obsrdt>2020-01-01 21:00</obsrdt></item><item><acmtlrf>0</acmtlrf><hourrf>0</hourrf><no>3</no><obsrdt>2020-01-01 22:00</obsrdt></item><item><acmtlrf>0</acmtlrf><hourrf>0</hourrf><no>2</no><obsrdt>2020-01-01 23:00</obsrdt></item><item><acmtlrf>0</acmtlrf><hourrf>0</hourrf><no>1</no><obsrdt>2020-01-01 24:00</obsrdt></item></items><numOfRows>800000</numOfRows><pageNo>1</pageNo><totalCount>24</totalCount></body></response>'\n",
            "<?xml version=\"1.0\" encoding=\"UTF-8\" standalone=\"yes\"?><html><body><response><header><resultcode>00</resultcode><resultmsg>NORMAL SERVICE.</resultmsg></header><items><item><acmtlrf>0</acmtlrf><hourrf>0</hourrf><no>24</no><obsrdt>2020-01-01 01:00</obsrdt></item><item><acmtlrf>0</acmtlrf><hourrf>0</hourrf><no>23</no><obsrdt>2020-01-01 02:00</obsrdt></item><item><acmtlrf>0</acmtlrf><hourrf>0</hourrf><no>22</no><obsrdt>2020-01-01 03:00</obsrdt></item><item><acmtlrf>0</acmtlrf><hourrf>0</hourrf><no>21</no><obsrdt>2020-01-01 04:00</obsrdt></item><item><acmtlrf>0</acmtlrf><hourrf>0</hourrf><no>20</no><obsrdt>2020-01-01 05:00</obsrdt></item><item><acmtlrf>0</acmtlrf><hourrf>0</hourrf><no>19</no><obsrdt>2020-01-01 06:00</obsrdt></item><item><acmtlrf>0</acmtlrf><hourrf>0</hourrf><no>18</no><obsrdt>2020-01-01 07:00</obsrdt></item><item><acmtlrf>0</acmtlrf><hourrf>0</hourrf><no>17</no><obsrdt>2020-01-01 08:00</obsrdt></item><item><acmtlrf>0</acmtlrf><hourrf>0</hourrf><no>16</no><obsrdt>2020-01-01 09:00</obsrdt></item><item><acmtlrf>0</acmtlrf><hourrf>0</hourrf><no>15</no><obsrdt>2020-01-01 10:00</obsrdt></item><item><acmtlrf>0</acmtlrf><hourrf>0</hourrf><no>14</no><obsrdt>2020-01-01 11:00</obsrdt></item><item><acmtlrf>0</acmtlrf><hourrf>0</hourrf><no>13</no><obsrdt>2020-01-01 12:00</obsrdt></item><item><acmtlrf>0</acmtlrf><hourrf>0</hourrf><no>12</no><obsrdt>2020-01-01 13:00</obsrdt></item><item><acmtlrf>0</acmtlrf><hourrf>0</hourrf><no>11</no><obsrdt>2020-01-01 14:00</obsrdt></item><item><acmtlrf>0</acmtlrf><hourrf>0</hourrf><no>10</no><obsrdt>2020-01-01 15:00</obsrdt></item><item><acmtlrf>0</acmtlrf><hourrf>0</hourrf><no>9</no><obsrdt>2020-01-01 16:00</obsrdt></item><item><acmtlrf>0</acmtlrf><hourrf>0</hourrf><no>8</no><obsrdt>2020-01-01 17:00</obsrdt></item><item><acmtlrf>0</acmtlrf><hourrf>0</hourrf><no>7</no><obsrdt>2020-01-01 18:00</obsrdt></item><item><acmtlrf>0</acmtlrf><hourrf>0</hourrf><no>6</no><obsrdt>2020-01-01 19:00</obsrdt></item><item><acmtlrf>0</acmtlrf><hourrf>0</hourrf><no>5</no><obsrdt>2020-01-01 20:00</obsrdt></item><item><acmtlrf>0</acmtlrf><hourrf>0</hourrf><no>4</no><obsrdt>2020-01-01 21:00</obsrdt></item><item><acmtlrf>0</acmtlrf><hourrf>0</hourrf><no>3</no><obsrdt>2020-01-01 22:00</obsrdt></item><item><acmtlrf>0</acmtlrf><hourrf>0</hourrf><no>2</no><obsrdt>2020-01-01 23:00</obsrdt></item><item><acmtlrf>0</acmtlrf><hourrf>0</hourrf><no>1</no><obsrdt>2020-01-01 24:00</obsrdt></item></items><numofrows>800000</numofrows><pageno>1</pageno><totalcount>24</totalcount></response></body></html>\n",
            "b'<?xml version=\"1.0\" encoding=\"UTF-8\" standalone=\"yes\"?><response><header><resultCode>00</resultCode><resultMsg>NORMAL SERVICE.</resultMsg></header><body><items><item><acmtlrf>0</acmtlrf><hourrf>0</hourrf><no>24</no><obsrdt>2020-01-01 01:00</obsrdt></item><item><acmtlrf>0</acmtlrf><hourrf>0</hourrf><no>23</no><obsrdt>2020-01-01 02:00</obsrdt></item><item><acmtlrf>0</acmtlrf><hourrf>0</hourrf><no>22</no><obsrdt>2020-01-01 03:00</obsrdt></item><item><acmtlrf>0</acmtlrf><hourrf>0</hourrf><no>21</no><obsrdt>2020-01-01 04:00</obsrdt></item><item><acmtlrf>0</acmtlrf><hourrf>0</hourrf><no>20</no><obsrdt>2020-01-01 05:00</obsrdt></item><item><acmtlrf>0</acmtlrf><hourrf>0</hourrf><no>19</no><obsrdt>2020-01-01 06:00</obsrdt></item><item><acmtlrf>0</acmtlrf><hourrf>0</hourrf><no>18</no><obsrdt>2020-01-01 07:00</obsrdt></item><item><acmtlrf>0</acmtlrf><hourrf>0</hourrf><no>17</no><obsrdt>2020-01-01 08:00</obsrdt></item><item><acmtlrf>0</acmtlrf><hourrf>0</hourrf><no>16</no><obsrdt>2020-01-01 09:00</obsrdt></item><item><acmtlrf>0</acmtlrf><hourrf>0</hourrf><no>15</no><obsrdt>2020-01-01 10:00</obsrdt></item><item><acmtlrf>0</acmtlrf><hourrf>0</hourrf><no>14</no><obsrdt>2020-01-01 11:00</obsrdt></item><item><acmtlrf>0</acmtlrf><hourrf>0</hourrf><no>13</no><obsrdt>2020-01-01 12:00</obsrdt></item><item><acmtlrf>0</acmtlrf><hourrf>0</hourrf><no>12</no><obsrdt>2020-01-01 13:00</obsrdt></item><item><acmtlrf>0</acmtlrf><hourrf>0</hourrf><no>11</no><obsrdt>2020-01-01 14:00</obsrdt></item><item><acmtlrf>0</acmtlrf><hourrf>0</hourrf><no>10</no><obsrdt>2020-01-01 15:00</obsrdt></item><item><acmtlrf>0</acmtlrf><hourrf>0</hourrf><no>9</no><obsrdt>2020-01-01 16:00</obsrdt></item><item><acmtlrf>0</acmtlrf><hourrf>0</hourrf><no>8</no><obsrdt>2020-01-01 17:00</obsrdt></item><item><acmtlrf>0</acmtlrf><hourrf>0</hourrf><no>7</no><obsrdt>2020-01-01 18:00</obsrdt></item><item><acmtlrf>0</acmtlrf><hourrf>0</hourrf><no>6</no><obsrdt>2020-01-01 19:00</obsrdt></item><item><acmtlrf>0</acmtlrf><hourrf>0</hourrf><no>5</no><obsrdt>2020-01-01 20:00</obsrdt></item><item><acmtlrf>0</acmtlrf><hourrf>0</hourrf><no>4</no><obsrdt>2020-01-01 21:00</obsrdt></item><item><acmtlrf>0</acmtlrf><hourrf>0</hourrf><no>3</no><obsrdt>2020-01-01 22:00</obsrdt></item><item><acmtlrf>0</acmtlrf><hourrf>0</hourrf><no>2</no><obsrdt>2020-01-01 23:00</obsrdt></item><item><acmtlrf>0</acmtlrf><hourrf>0</hourrf><no>1</no><obsrdt>2020-01-01 24:00</obsrdt></item></items><numOfRows>800000</numOfRows><pageNo>1</pageNo><totalCount>24</totalCount></body></response>'\n",
            "<?xml version=\"1.0\" encoding=\"UTF-8\" standalone=\"yes\"?><html><body><response><header><resultcode>00</resultcode><resultmsg>NORMAL SERVICE.</resultmsg></header><items><item><acmtlrf>0</acmtlrf><hourrf>0</hourrf><no>24</no><obsrdt>2020-01-01 01:00</obsrdt></item><item><acmtlrf>0</acmtlrf><hourrf>0</hourrf><no>23</no><obsrdt>2020-01-01 02:00</obsrdt></item><item><acmtlrf>0</acmtlrf><hourrf>0</hourrf><no>22</no><obsrdt>2020-01-01 03:00</obsrdt></item><item><acmtlrf>0</acmtlrf><hourrf>0</hourrf><no>21</no><obsrdt>2020-01-01 04:00</obsrdt></item><item><acmtlrf>0</acmtlrf><hourrf>0</hourrf><no>20</no><obsrdt>2020-01-01 05:00</obsrdt></item><item><acmtlrf>0</acmtlrf><hourrf>0</hourrf><no>19</no><obsrdt>2020-01-01 06:00</obsrdt></item><item><acmtlrf>0</acmtlrf><hourrf>0</hourrf><no>18</no><obsrdt>2020-01-01 07:00</obsrdt></item><item><acmtlrf>0</acmtlrf><hourrf>0</hourrf><no>17</no><obsrdt>2020-01-01 08:00</obsrdt></item><item><acmtlrf>0</acmtlrf><hourrf>0</hourrf><no>16</no><obsrdt>2020-01-01 09:00</obsrdt></item><item><acmtlrf>0</acmtlrf><hourrf>0</hourrf><no>15</no><obsrdt>2020-01-01 10:00</obsrdt></item><item><acmtlrf>0</acmtlrf><hourrf>0</hourrf><no>14</no><obsrdt>2020-01-01 11:00</obsrdt></item><item><acmtlrf>0</acmtlrf><hourrf>0</hourrf><no>13</no><obsrdt>2020-01-01 12:00</obsrdt></item><item><acmtlrf>0</acmtlrf><hourrf>0</hourrf><no>12</no><obsrdt>2020-01-01 13:00</obsrdt></item><item><acmtlrf>0</acmtlrf><hourrf>0</hourrf><no>11</no><obsrdt>2020-01-01 14:00</obsrdt></item><item><acmtlrf>0</acmtlrf><hourrf>0</hourrf><no>10</no><obsrdt>2020-01-01 15:00</obsrdt></item><item><acmtlrf>0</acmtlrf><hourrf>0</hourrf><no>9</no><obsrdt>2020-01-01 16:00</obsrdt></item><item><acmtlrf>0</acmtlrf><hourrf>0</hourrf><no>8</no><obsrdt>2020-01-01 17:00</obsrdt></item><item><acmtlrf>0</acmtlrf><hourrf>0</hourrf><no>7</no><obsrdt>2020-01-01 18:00</obsrdt></item><item><acmtlrf>0</acmtlrf><hourrf>0</hourrf><no>6</no><obsrdt>2020-01-01 19:00</obsrdt></item><item><acmtlrf>0</acmtlrf><hourrf>0</hourrf><no>5</no><obsrdt>2020-01-01 20:00</obsrdt></item><item><acmtlrf>0</acmtlrf><hourrf>0</hourrf><no>4</no><obsrdt>2020-01-01 21:00</obsrdt></item><item><acmtlrf>0</acmtlrf><hourrf>0</hourrf><no>3</no><obsrdt>2020-01-01 22:00</obsrdt></item><item><acmtlrf>0</acmtlrf><hourrf>0</hourrf><no>2</no><obsrdt>2020-01-01 23:00</obsrdt></item><item><acmtlrf>0</acmtlrf><hourrf>0</hourrf><no>1</no><obsrdt>2020-01-01 24:00</obsrdt></item></items><numofrows>800000</numofrows><pageno>1</pageno><totalcount>24</totalcount></response></body></html>\n",
            "b'<?xml version=\"1.0\" encoding=\"UTF-8\" standalone=\"yes\"?><response><header><resultCode>00</resultCode><resultMsg>NORMAL SERVICE.</resultMsg></header><body><items><item><acmtlrf>0</acmtlrf><hourrf>0</hourrf><no>24</no><obsrdt>2020-01-01 01:00</obsrdt></item><item><acmtlrf>0</acmtlrf><hourrf>0</hourrf><no>23</no><obsrdt>2020-01-01 02:00</obsrdt></item><item><acmtlrf>0</acmtlrf><hourrf>0</hourrf><no>22</no><obsrdt>2020-01-01 03:00</obsrdt></item><item><acmtlrf>0</acmtlrf><hourrf>0</hourrf><no>21</no><obsrdt>2020-01-01 04:00</obsrdt></item><item><acmtlrf>0</acmtlrf><hourrf>0</hourrf><no>20</no><obsrdt>2020-01-01 05:00</obsrdt></item><item><acmtlrf>0</acmtlrf><hourrf>0</hourrf><no>19</no><obsrdt>2020-01-01 06:00</obsrdt></item><item><acmtlrf>0</acmtlrf><hourrf>0</hourrf><no>18</no><obsrdt>2020-01-01 07:00</obsrdt></item><item><acmtlrf>0</acmtlrf><hourrf>0</hourrf><no>17</no><obsrdt>2020-01-01 08:00</obsrdt></item><item><acmtlrf>0</acmtlrf><hourrf>0</hourrf><no>16</no><obsrdt>2020-01-01 09:00</obsrdt></item><item><acmtlrf>0</acmtlrf><hourrf>0</hourrf><no>15</no><obsrdt>2020-01-01 10:00</obsrdt></item><item><acmtlrf>0</acmtlrf><hourrf>0</hourrf><no>14</no><obsrdt>2020-01-01 11:00</obsrdt></item><item><acmtlrf>0</acmtlrf><hourrf>0</hourrf><no>13</no><obsrdt>2020-01-01 12:00</obsrdt></item><item><acmtlrf>0</acmtlrf><hourrf>0</hourrf><no>12</no><obsrdt>2020-01-01 13:00</obsrdt></item><item><acmtlrf>0</acmtlrf><hourrf>0</hourrf><no>11</no><obsrdt>2020-01-01 14:00</obsrdt></item><item><acmtlrf>0</acmtlrf><hourrf>0</hourrf><no>10</no><obsrdt>2020-01-01 15:00</obsrdt></item><item><acmtlrf>0</acmtlrf><hourrf>0</hourrf><no>9</no><obsrdt>2020-01-01 16:00</obsrdt></item><item><acmtlrf>0</acmtlrf><hourrf>0</hourrf><no>8</no><obsrdt>2020-01-01 17:00</obsrdt></item><item><acmtlrf>0</acmtlrf><hourrf>0</hourrf><no>7</no><obsrdt>2020-01-01 18:00</obsrdt></item><item><acmtlrf>0</acmtlrf><hourrf>0</hourrf><no>6</no><obsrdt>2020-01-01 19:00</obsrdt></item><item><acmtlrf>0</acmtlrf><hourrf>0</hourrf><no>5</no><obsrdt>2020-01-01 20:00</obsrdt></item><item><acmtlrf>0</acmtlrf><hourrf>0</hourrf><no>4</no><obsrdt>2020-01-01 21:00</obsrdt></item><item><acmtlrf>0</acmtlrf><hourrf>0</hourrf><no>3</no><obsrdt>2020-01-01 22:00</obsrdt></item><item><acmtlrf>0</acmtlrf><hourrf>0</hourrf><no>2</no><obsrdt>2020-01-01 23:00</obsrdt></item><item><acmtlrf>0</acmtlrf><hourrf>0</hourrf><no>1</no><obsrdt>2020-01-01 24:00</obsrdt></item></items><numOfRows>800000</numOfRows><pageNo>1</pageNo><totalCount>24</totalCount></body></response>'\n",
            "<?xml version=\"1.0\" encoding=\"UTF-8\" standalone=\"yes\"?><html><body><response><header><resultcode>00</resultcode><resultmsg>NORMAL SERVICE.</resultmsg></header><items><item><acmtlrf>0</acmtlrf><hourrf>0</hourrf><no>24</no><obsrdt>2020-01-01 01:00</obsrdt></item><item><acmtlrf>0</acmtlrf><hourrf>0</hourrf><no>23</no><obsrdt>2020-01-01 02:00</obsrdt></item><item><acmtlrf>0</acmtlrf><hourrf>0</hourrf><no>22</no><obsrdt>2020-01-01 03:00</obsrdt></item><item><acmtlrf>0</acmtlrf><hourrf>0</hourrf><no>21</no><obsrdt>2020-01-01 04:00</obsrdt></item><item><acmtlrf>0</acmtlrf><hourrf>0</hourrf><no>20</no><obsrdt>2020-01-01 05:00</obsrdt></item><item><acmtlrf>0</acmtlrf><hourrf>0</hourrf><no>19</no><obsrdt>2020-01-01 06:00</obsrdt></item><item><acmtlrf>0</acmtlrf><hourrf>0</hourrf><no>18</no><obsrdt>2020-01-01 07:00</obsrdt></item><item><acmtlrf>0</acmtlrf><hourrf>0</hourrf><no>17</no><obsrdt>2020-01-01 08:00</obsrdt></item><item><acmtlrf>0</acmtlrf><hourrf>0</hourrf><no>16</no><obsrdt>2020-01-01 09:00</obsrdt></item><item><acmtlrf>0</acmtlrf><hourrf>0</hourrf><no>15</no><obsrdt>2020-01-01 10:00</obsrdt></item><item><acmtlrf>0</acmtlrf><hourrf>0</hourrf><no>14</no><obsrdt>2020-01-01 11:00</obsrdt></item><item><acmtlrf>0</acmtlrf><hourrf>0</hourrf><no>13</no><obsrdt>2020-01-01 12:00</obsrdt></item><item><acmtlrf>0</acmtlrf><hourrf>0</hourrf><no>12</no><obsrdt>2020-01-01 13:00</obsrdt></item><item><acmtlrf>0</acmtlrf><hourrf>0</hourrf><no>11</no><obsrdt>2020-01-01 14:00</obsrdt></item><item><acmtlrf>0</acmtlrf><hourrf>0</hourrf><no>10</no><obsrdt>2020-01-01 15:00</obsrdt></item><item><acmtlrf>0</acmtlrf><hourrf>0</hourrf><no>9</no><obsrdt>2020-01-01 16:00</obsrdt></item><item><acmtlrf>0</acmtlrf><hourrf>0</hourrf><no>8</no><obsrdt>2020-01-01 17:00</obsrdt></item><item><acmtlrf>0</acmtlrf><hourrf>0</hourrf><no>7</no><obsrdt>2020-01-01 18:00</obsrdt></item><item><acmtlrf>0</acmtlrf><hourrf>0</hourrf><no>6</no><obsrdt>2020-01-01 19:00</obsrdt></item><item><acmtlrf>0</acmtlrf><hourrf>0</hourrf><no>5</no><obsrdt>2020-01-01 20:00</obsrdt></item><item><acmtlrf>0</acmtlrf><hourrf>0</hourrf><no>4</no><obsrdt>2020-01-01 21:00</obsrdt></item><item><acmtlrf>0</acmtlrf><hourrf>0</hourrf><no>3</no><obsrdt>2020-01-01 22:00</obsrdt></item><item><acmtlrf>0</acmtlrf><hourrf>0</hourrf><no>2</no><obsrdt>2020-01-01 23:00</obsrdt></item><item><acmtlrf>0</acmtlrf><hourrf>0</hourrf><no>1</no><obsrdt>2020-01-01 24:00</obsrdt></item></items><numofrows>800000</numofrows><pageno>1</pageno><totalcount>24</totalcount></response></body></html>\n",
            "b'<?xml version=\"1.0\" encoding=\"UTF-8\" standalone=\"yes\"?><response><header><resultCode>00</resultCode><resultMsg>NORMAL SERVICE.</resultMsg></header><body><items><item><acmtlrf>0</acmtlrf><hourrf>0</hourrf><no>24</no><obsrdt>2020-01-01 01:00</obsrdt></item><item><acmtlrf>0</acmtlrf><hourrf>0</hourrf><no>23</no><obsrdt>2020-01-01 02:00</obsrdt></item><item><acmtlrf>0</acmtlrf><hourrf>0</hourrf><no>22</no><obsrdt>2020-01-01 03:00</obsrdt></item><item><acmtlrf>0</acmtlrf><hourrf>0</hourrf><no>21</no><obsrdt>2020-01-01 04:00</obsrdt></item><item><acmtlrf>0</acmtlrf><hourrf>0</hourrf><no>20</no><obsrdt>2020-01-01 05:00</obsrdt></item><item><acmtlrf>0</acmtlrf><hourrf>0</hourrf><no>19</no><obsrdt>2020-01-01 06:00</obsrdt></item><item><acmtlrf>0</acmtlrf><hourrf>0</hourrf><no>18</no><obsrdt>2020-01-01 07:00</obsrdt></item><item><acmtlrf>0</acmtlrf><hourrf>0</hourrf><no>17</no><obsrdt>2020-01-01 08:00</obsrdt></item><item><acmtlrf>0</acmtlrf><hourrf>0</hourrf><no>16</no><obsrdt>2020-01-01 09:00</obsrdt></item><item><acmtlrf>0</acmtlrf><hourrf>0</hourrf><no>15</no><obsrdt>2020-01-01 10:00</obsrdt></item><item><acmtlrf>0</acmtlrf><hourrf>0</hourrf><no>14</no><obsrdt>2020-01-01 11:00</obsrdt></item><item><acmtlrf>0</acmtlrf><hourrf>0</hourrf><no>13</no><obsrdt>2020-01-01 12:00</obsrdt></item><item><acmtlrf>0</acmtlrf><hourrf>0</hourrf><no>12</no><obsrdt>2020-01-01 13:00</obsrdt></item><item><acmtlrf>0</acmtlrf><hourrf>0</hourrf><no>11</no><obsrdt>2020-01-01 14:00</obsrdt></item><item><acmtlrf>0</acmtlrf><hourrf>0</hourrf><no>10</no><obsrdt>2020-01-01 15:00</obsrdt></item><item><acmtlrf>0</acmtlrf><hourrf>0</hourrf><no>9</no><obsrdt>2020-01-01 16:00</obsrdt></item><item><acmtlrf>0</acmtlrf><hourrf>0</hourrf><no>8</no><obsrdt>2020-01-01 17:00</obsrdt></item><item><acmtlrf>0</acmtlrf><hourrf>0</hourrf><no>7</no><obsrdt>2020-01-01 18:00</obsrdt></item><item><acmtlrf>0</acmtlrf><hourrf>0</hourrf><no>6</no><obsrdt>2020-01-01 19:00</obsrdt></item><item><acmtlrf>0</acmtlrf><hourrf>0</hourrf><no>5</no><obsrdt>2020-01-01 20:00</obsrdt></item><item><acmtlrf>0</acmtlrf><hourrf>0</hourrf><no>4</no><obsrdt>2020-01-01 21:00</obsrdt></item><item><acmtlrf>0</acmtlrf><hourrf>0</hourrf><no>3</no><obsrdt>2020-01-01 22:00</obsrdt></item><item><acmtlrf>0</acmtlrf><hourrf>0</hourrf><no>2</no><obsrdt>2020-01-01 23:00</obsrdt></item><item><acmtlrf>0</acmtlrf><hourrf>0</hourrf><no>1</no><obsrdt>2020-01-01 24:00</obsrdt></item></items><numOfRows>800000</numOfRows><pageNo>1</pageNo><totalCount>24</totalCount></body></response>'\n",
            "<?xml version=\"1.0\" encoding=\"UTF-8\" standalone=\"yes\"?><html><body><response><header><resultcode>00</resultcode><resultmsg>NORMAL SERVICE.</resultmsg></header><items><item><acmtlrf>0</acmtlrf><hourrf>0</hourrf><no>24</no><obsrdt>2020-01-01 01:00</obsrdt></item><item><acmtlrf>0</acmtlrf><hourrf>0</hourrf><no>23</no><obsrdt>2020-01-01 02:00</obsrdt></item><item><acmtlrf>0</acmtlrf><hourrf>0</hourrf><no>22</no><obsrdt>2020-01-01 03:00</obsrdt></item><item><acmtlrf>0</acmtlrf><hourrf>0</hourrf><no>21</no><obsrdt>2020-01-01 04:00</obsrdt></item><item><acmtlrf>0</acmtlrf><hourrf>0</hourrf><no>20</no><obsrdt>2020-01-01 05:00</obsrdt></item><item><acmtlrf>0</acmtlrf><hourrf>0</hourrf><no>19</no><obsrdt>2020-01-01 06:00</obsrdt></item><item><acmtlrf>0</acmtlrf><hourrf>0</hourrf><no>18</no><obsrdt>2020-01-01 07:00</obsrdt></item><item><acmtlrf>0</acmtlrf><hourrf>0</hourrf><no>17</no><obsrdt>2020-01-01 08:00</obsrdt></item><item><acmtlrf>0</acmtlrf><hourrf>0</hourrf><no>16</no><obsrdt>2020-01-01 09:00</obsrdt></item><item><acmtlrf>0</acmtlrf><hourrf>0</hourrf><no>15</no><obsrdt>2020-01-01 10:00</obsrdt></item><item><acmtlrf>0</acmtlrf><hourrf>0</hourrf><no>14</no><obsrdt>2020-01-01 11:00</obsrdt></item><item><acmtlrf>0</acmtlrf><hourrf>0</hourrf><no>13</no><obsrdt>2020-01-01 12:00</obsrdt></item><item><acmtlrf>0</acmtlrf><hourrf>0</hourrf><no>12</no><obsrdt>2020-01-01 13:00</obsrdt></item><item><acmtlrf>0</acmtlrf><hourrf>0</hourrf><no>11</no><obsrdt>2020-01-01 14:00</obsrdt></item><item><acmtlrf>0</acmtlrf><hourrf>0</hourrf><no>10</no><obsrdt>2020-01-01 15:00</obsrdt></item><item><acmtlrf>0</acmtlrf><hourrf>0</hourrf><no>9</no><obsrdt>2020-01-01 16:00</obsrdt></item><item><acmtlrf>0</acmtlrf><hourrf>0</hourrf><no>8</no><obsrdt>2020-01-01 17:00</obsrdt></item><item><acmtlrf>0</acmtlrf><hourrf>0</hourrf><no>7</no><obsrdt>2020-01-01 18:00</obsrdt></item><item><acmtlrf>0</acmtlrf><hourrf>0</hourrf><no>6</no><obsrdt>2020-01-01 19:00</obsrdt></item><item><acmtlrf>0</acmtlrf><hourrf>0</hourrf><no>5</no><obsrdt>2020-01-01 20:00</obsrdt></item><item><acmtlrf>0</acmtlrf><hourrf>0</hourrf><no>4</no><obsrdt>2020-01-01 21:00</obsrdt></item><item><acmtlrf>0</acmtlrf><hourrf>0</hourrf><no>3</no><obsrdt>2020-01-01 22:00</obsrdt></item><item><acmtlrf>0</acmtlrf><hourrf>0</hourrf><no>2</no><obsrdt>2020-01-01 23:00</obsrdt></item><item><acmtlrf>0</acmtlrf><hourrf>0</hourrf><no>1</no><obsrdt>2020-01-01 24:00</obsrdt></item></items><numofrows>800000</numofrows><pageno>1</pageno><totalcount>24</totalcount></response></body></html>\n",
            "[[<item><acmtlrf>0</acmtlrf><hourrf>0</hourrf><no>24</no><obsrdt>2020-01-01 01:00</obsrdt></item>, <item><acmtlrf>0</acmtlrf><hourrf>0</hourrf><no>23</no><obsrdt>2020-01-01 02:00</obsrdt></item>, <item><acmtlrf>0</acmtlrf><hourrf>0</hourrf><no>22</no><obsrdt>2020-01-01 03:00</obsrdt></item>, <item><acmtlrf>0</acmtlrf><hourrf>0</hourrf><no>21</no><obsrdt>2020-01-01 04:00</obsrdt></item>, <item><acmtlrf>0</acmtlrf><hourrf>0</hourrf><no>20</no><obsrdt>2020-01-01 05:00</obsrdt></item>, <item><acmtlrf>0</acmtlrf><hourrf>0</hourrf><no>19</no><obsrdt>2020-01-01 06:00</obsrdt></item>, <item><acmtlrf>0</acmtlrf><hourrf>0</hourrf><no>18</no><obsrdt>2020-01-01 07:00</obsrdt></item>, <item><acmtlrf>0</acmtlrf><hourrf>0</hourrf><no>17</no><obsrdt>2020-01-01 08:00</obsrdt></item>, <item><acmtlrf>0</acmtlrf><hourrf>0</hourrf><no>16</no><obsrdt>2020-01-01 09:00</obsrdt></item>, <item><acmtlrf>0</acmtlrf><hourrf>0</hourrf><no>15</no><obsrdt>2020-01-01 10:00</obsrdt></item>, <item><acmtlrf>0</acmtlrf><hourrf>0</hourrf><no>14</no><obsrdt>2020-01-01 11:00</obsrdt></item>, <item><acmtlrf>0</acmtlrf><hourrf>0</hourrf><no>13</no><obsrdt>2020-01-01 12:00</obsrdt></item>, <item><acmtlrf>0</acmtlrf><hourrf>0</hourrf><no>12</no><obsrdt>2020-01-01 13:00</obsrdt></item>, <item><acmtlrf>0</acmtlrf><hourrf>0</hourrf><no>11</no><obsrdt>2020-01-01 14:00</obsrdt></item>, <item><acmtlrf>0</acmtlrf><hourrf>0</hourrf><no>10</no><obsrdt>2020-01-01 15:00</obsrdt></item>, <item><acmtlrf>0</acmtlrf><hourrf>0</hourrf><no>9</no><obsrdt>2020-01-01 16:00</obsrdt></item>, <item><acmtlrf>0</acmtlrf><hourrf>0</hourrf><no>8</no><obsrdt>2020-01-01 17:00</obsrdt></item>, <item><acmtlrf>0</acmtlrf><hourrf>0</hourrf><no>7</no><obsrdt>2020-01-01 18:00</obsrdt></item>, <item><acmtlrf>0</acmtlrf><hourrf>0</hourrf><no>6</no><obsrdt>2020-01-01 19:00</obsrdt></item>, <item><acmtlrf>0</acmtlrf><hourrf>0</hourrf><no>5</no><obsrdt>2020-01-01 20:00</obsrdt></item>, <item><acmtlrf>0</acmtlrf><hourrf>0</hourrf><no>4</no><obsrdt>2020-01-01 21:00</obsrdt></item>, <item><acmtlrf>0</acmtlrf><hourrf>0</hourrf><no>3</no><obsrdt>2020-01-01 22:00</obsrdt></item>, <item><acmtlrf>0</acmtlrf><hourrf>0</hourrf><no>2</no><obsrdt>2020-01-01 23:00</obsrdt></item>, <item><acmtlrf>0</acmtlrf><hourrf>0</hourrf><no>1</no><obsrdt>2020-01-01 24:00</obsrdt></item>], [<item><acmtlrf>0</acmtlrf><hourrf>0</hourrf><no>24</no><obsrdt>2020-01-01 01:00</obsrdt></item>, <item><acmtlrf>0</acmtlrf><hourrf>0</hourrf><no>23</no><obsrdt>2020-01-01 02:00</obsrdt></item>, <item><acmtlrf>0</acmtlrf><hourrf>0</hourrf><no>22</no><obsrdt>2020-01-01 03:00</obsrdt></item>, <item><acmtlrf>0</acmtlrf><hourrf>0</hourrf><no>21</no><obsrdt>2020-01-01 04:00</obsrdt></item>, <item><acmtlrf>0</acmtlrf><hourrf>0</hourrf><no>20</no><obsrdt>2020-01-01 05:00</obsrdt></item>, <item><acmtlrf>0</acmtlrf><hourrf>0</hourrf><no>19</no><obsrdt>2020-01-01 06:00</obsrdt></item>, <item><acmtlrf>0</acmtlrf><hourrf>0</hourrf><no>18</no><obsrdt>2020-01-01 07:00</obsrdt></item>, <item><acmtlrf>0</acmtlrf><hourrf>0</hourrf><no>17</no><obsrdt>2020-01-01 08:00</obsrdt></item>, <item><acmtlrf>0</acmtlrf><hourrf>0</hourrf><no>16</no><obsrdt>2020-01-01 09:00</obsrdt></item>, <item><acmtlrf>0</acmtlrf><hourrf>0</hourrf><no>15</no><obsrdt>2020-01-01 10:00</obsrdt></item>, <item><acmtlrf>0</acmtlrf><hourrf>0</hourrf><no>14</no><obsrdt>2020-01-01 11:00</obsrdt></item>, <item><acmtlrf>0</acmtlrf><hourrf>0</hourrf><no>13</no><obsrdt>2020-01-01 12:00</obsrdt></item>, <item><acmtlrf>0</acmtlrf><hourrf>0</hourrf><no>12</no><obsrdt>2020-01-01 13:00</obsrdt></item>, <item><acmtlrf>0</acmtlrf><hourrf>0</hourrf><no>11</no><obsrdt>2020-01-01 14:00</obsrdt></item>, <item><acmtlrf>0</acmtlrf><hourrf>0</hourrf><no>10</no><obsrdt>2020-01-01 15:00</obsrdt></item>, <item><acmtlrf>0</acmtlrf><hourrf>0</hourrf><no>9</no><obsrdt>2020-01-01 16:00</obsrdt></item>, <item><acmtlrf>0</acmtlrf><hourrf>0</hourrf><no>8</no><obsrdt>2020-01-01 17:00</obsrdt></item>, <item><acmtlrf>0</acmtlrf><hourrf>0</hourrf><no>7</no><obsrdt>2020-01-01 18:00</obsrdt></item>, <item><acmtlrf>0</acmtlrf><hourrf>0</hourrf><no>6</no><obsrdt>2020-01-01 19:00</obsrdt></item>, <item><acmtlrf>0</acmtlrf><hourrf>0</hourrf><no>5</no><obsrdt>2020-01-01 20:00</obsrdt></item>, <item><acmtlrf>0</acmtlrf><hourrf>0</hourrf><no>4</no><obsrdt>2020-01-01 21:00</obsrdt></item>, <item><acmtlrf>0</acmtlrf><hourrf>0</hourrf><no>3</no><obsrdt>2020-01-01 22:00</obsrdt></item>, <item><acmtlrf>0</acmtlrf><hourrf>0</hourrf><no>2</no><obsrdt>2020-01-01 23:00</obsrdt></item>, <item><acmtlrf>0</acmtlrf><hourrf>0</hourrf><no>1</no><obsrdt>2020-01-01 24:00</obsrdt></item>], [<item><acmtlrf>0</acmtlrf><hourrf>0</hourrf><no>24</no><obsrdt>2020-01-01 01:00</obsrdt></item>, <item><acmtlrf>0</acmtlrf><hourrf>0</hourrf><no>23</no><obsrdt>2020-01-01 02:00</obsrdt></item>, <item><acmtlrf>0</acmtlrf><hourrf>0</hourrf><no>22</no><obsrdt>2020-01-01 03:00</obsrdt></item>, <item><acmtlrf>0</acmtlrf><hourrf>0</hourrf><no>21</no><obsrdt>2020-01-01 04:00</obsrdt></item>, <item><acmtlrf>0</acmtlrf><hourrf>0</hourrf><no>20</no><obsrdt>2020-01-01 05:00</obsrdt></item>, <item><acmtlrf>0</acmtlrf><hourrf>0</hourrf><no>19</no><obsrdt>2020-01-01 06:00</obsrdt></item>, <item><acmtlrf>0</acmtlrf><hourrf>0</hourrf><no>18</no><obsrdt>2020-01-01 07:00</obsrdt></item>, <item><acmtlrf>0</acmtlrf><hourrf>0</hourrf><no>17</no><obsrdt>2020-01-01 08:00</obsrdt></item>, <item><acmtlrf>0</acmtlrf><hourrf>0</hourrf><no>16</no><obsrdt>2020-01-01 09:00</obsrdt></item>, <item><acmtlrf>0</acmtlrf><hourrf>0</hourrf><no>15</no><obsrdt>2020-01-01 10:00</obsrdt></item>, <item><acmtlrf>0</acmtlrf><hourrf>0</hourrf><no>14</no><obsrdt>2020-01-01 11:00</obsrdt></item>, <item><acmtlrf>0</acmtlrf><hourrf>0</hourrf><no>13</no><obsrdt>2020-01-01 12:00</obsrdt></item>, <item><acmtlrf>0</acmtlrf><hourrf>0</hourrf><no>12</no><obsrdt>2020-01-01 13:00</obsrdt></item>, <item><acmtlrf>0</acmtlrf><hourrf>0</hourrf><no>11</no><obsrdt>2020-01-01 14:00</obsrdt></item>, <item><acmtlrf>0</acmtlrf><hourrf>0</hourrf><no>10</no><obsrdt>2020-01-01 15:00</obsrdt></item>, <item><acmtlrf>0</acmtlrf><hourrf>0</hourrf><no>9</no><obsrdt>2020-01-01 16:00</obsrdt></item>, <item><acmtlrf>0</acmtlrf><hourrf>0</hourrf><no>8</no><obsrdt>2020-01-01 17:00</obsrdt></item>, <item><acmtlrf>0</acmtlrf><hourrf>0</hourrf><no>7</no><obsrdt>2020-01-01 18:00</obsrdt></item>, <item><acmtlrf>0</acmtlrf><hourrf>0</hourrf><no>6</no><obsrdt>2020-01-01 19:00</obsrdt></item>, <item><acmtlrf>0</acmtlrf><hourrf>0</hourrf><no>5</no><obsrdt>2020-01-01 20:00</obsrdt></item>, <item><acmtlrf>0</acmtlrf><hourrf>0</hourrf><no>4</no><obsrdt>2020-01-01 21:00</obsrdt></item>, <item><acmtlrf>0</acmtlrf><hourrf>0</hourrf><no>3</no><obsrdt>2020-01-01 22:00</obsrdt></item>, <item><acmtlrf>0</acmtlrf><hourrf>0</hourrf><no>2</no><obsrdt>2020-01-01 23:00</obsrdt></item>, <item><acmtlrf>0</acmtlrf><hourrf>0</hourrf><no>1</no><obsrdt>2020-01-01 24:00</obsrdt></item>], [<item><acmtlrf>0</acmtlrf><hourrf>0</hourrf><no>24</no><obsrdt>2020-01-01 01:00</obsrdt></item>, <item><acmtlrf>0</acmtlrf><hourrf>0</hourrf><no>23</no><obsrdt>2020-01-01 02:00</obsrdt></item>, <item><acmtlrf>0</acmtlrf><hourrf>0</hourrf><no>22</no><obsrdt>2020-01-01 03:00</obsrdt></item>, <item><acmtlrf>0</acmtlrf><hourrf>0</hourrf><no>21</no><obsrdt>2020-01-01 04:00</obsrdt></item>, <item><acmtlrf>0</acmtlrf><hourrf>0</hourrf><no>20</no><obsrdt>2020-01-01 05:00</obsrdt></item>, <item><acmtlrf>0</acmtlrf><hourrf>0</hourrf><no>19</no><obsrdt>2020-01-01 06:00</obsrdt></item>, <item><acmtlrf>0</acmtlrf><hourrf>0</hourrf><no>18</no><obsrdt>2020-01-01 07:00</obsrdt></item>, <item><acmtlrf>0</acmtlrf><hourrf>0</hourrf><no>17</no><obsrdt>2020-01-01 08:00</obsrdt></item>, <item><acmtlrf>0</acmtlrf><hourrf>0</hourrf><no>16</no><obsrdt>2020-01-01 09:00</obsrdt></item>, <item><acmtlrf>0</acmtlrf><hourrf>0</hourrf><no>15</no><obsrdt>2020-01-01 10:00</obsrdt></item>, <item><acmtlrf>0</acmtlrf><hourrf>0</hourrf><no>14</no><obsrdt>2020-01-01 11:00</obsrdt></item>, <item><acmtlrf>0</acmtlrf><hourrf>0</hourrf><no>13</no><obsrdt>2020-01-01 12:00</obsrdt></item>, <item><acmtlrf>0</acmtlrf><hourrf>0</hourrf><no>12</no><obsrdt>2020-01-01 13:00</obsrdt></item>, <item><acmtlrf>0</acmtlrf><hourrf>0</hourrf><no>11</no><obsrdt>2020-01-01 14:00</obsrdt></item>, <item><acmtlrf>0</acmtlrf><hourrf>0</hourrf><no>10</no><obsrdt>2020-01-01 15:00</obsrdt></item>, <item><acmtlrf>0</acmtlrf><hourrf>0</hourrf><no>9</no><obsrdt>2020-01-01 16:00</obsrdt></item>, <item><acmtlrf>0</acmtlrf><hourrf>0</hourrf><no>8</no><obsrdt>2020-01-01 17:00</obsrdt></item>, <item><acmtlrf>0</acmtlrf><hourrf>0</hourrf><no>7</no><obsrdt>2020-01-01 18:00</obsrdt></item>, <item><acmtlrf>0</acmtlrf><hourrf>0</hourrf><no>6</no><obsrdt>2020-01-01 19:00</obsrdt></item>, <item><acmtlrf>0</acmtlrf><hourrf>0</hourrf><no>5</no><obsrdt>2020-01-01 20:00</obsrdt></item>, <item><acmtlrf>0</acmtlrf><hourrf>0</hourrf><no>4</no><obsrdt>2020-01-01 21:00</obsrdt></item>, <item><acmtlrf>0</acmtlrf><hourrf>0</hourrf><no>3</no><obsrdt>2020-01-01 22:00</obsrdt></item>, <item><acmtlrf>0</acmtlrf><hourrf>0</hourrf><no>2</no><obsrdt>2020-01-01 23:00</obsrdt></item>, <item><acmtlrf>0</acmtlrf><hourrf>0</hourrf><no>1</no><obsrdt>2020-01-01 24:00</obsrdt></item>], [<item><acmtlrf>0</acmtlrf><hourrf>0</hourrf><no>24</no><obsrdt>2020-01-01 01:00</obsrdt></item>, <item><acmtlrf>0</acmtlrf><hourrf>0</hourrf><no>23</no><obsrdt>2020-01-01 02:00</obsrdt></item>, <item><acmtlrf>0</acmtlrf><hourrf>0</hourrf><no>22</no><obsrdt>2020-01-01 03:00</obsrdt></item>, <item><acmtlrf>0</acmtlrf><hourrf>0</hourrf><no>21</no><obsrdt>2020-01-01 04:00</obsrdt></item>, <item><acmtlrf>0</acmtlrf><hourrf>0</hourrf><no>20</no><obsrdt>2020-01-01 05:00</obsrdt></item>, <item><acmtlrf>0</acmtlrf><hourrf>0</hourrf><no>19</no><obsrdt>2020-01-01 06:00</obsrdt></item>, <item><acmtlrf>0</acmtlrf><hourrf>0</hourrf><no>18</no><obsrdt>2020-01-01 07:00</obsrdt></item>, <item><acmtlrf>0</acmtlrf><hourrf>0</hourrf><no>17</no><obsrdt>2020-01-01 08:00</obsrdt></item>, <item><acmtlrf>0</acmtlrf><hourrf>0</hourrf><no>16</no><obsrdt>2020-01-01 09:00</obsrdt></item>, <item><acmtlrf>0</acmtlrf><hourrf>0</hourrf><no>15</no><obsrdt>2020-01-01 10:00</obsrdt></item>, <item><acmtlrf>0</acmtlrf><hourrf>0</hourrf><no>14</no><obsrdt>2020-01-01 11:00</obsrdt></item>, <item><acmtlrf>0</acmtlrf><hourrf>0</hourrf><no>13</no><obsrdt>2020-01-01 12:00</obsrdt></item>, <item><acmtlrf>0</acmtlrf><hourrf>0</hourrf><no>12</no><obsrdt>2020-01-01 13:00</obsrdt></item>, <item><acmtlrf>0</acmtlrf><hourrf>0</hourrf><no>11</no><obsrdt>2020-01-01 14:00</obsrdt></item>, <item><acmtlrf>0</acmtlrf><hourrf>0</hourrf><no>10</no><obsrdt>2020-01-01 15:00</obsrdt></item>, <item><acmtlrf>0</acmtlrf><hourrf>0</hourrf><no>9</no><obsrdt>2020-01-01 16:00</obsrdt></item>, <item><acmtlrf>0</acmtlrf><hourrf>0</hourrf><no>8</no><obsrdt>2020-01-01 17:00</obsrdt></item>, <item><acmtlrf>0</acmtlrf><hourrf>0</hourrf><no>7</no><obsrdt>2020-01-01 18:00</obsrdt></item>, <item><acmtlrf>0</acmtlrf><hourrf>0</hourrf><no>6</no><obsrdt>2020-01-01 19:00</obsrdt></item>, <item><acmtlrf>0</acmtlrf><hourrf>0</hourrf><no>5</no><obsrdt>2020-01-01 20:00</obsrdt></item>, <item><acmtlrf>0</acmtlrf><hourrf>0</hourrf><no>4</no><obsrdt>2020-01-01 21:00</obsrdt></item>, <item><acmtlrf>0</acmtlrf><hourrf>0</hourrf><no>3</no><obsrdt>2020-01-01 22:00</obsrdt></item>, <item><acmtlrf>0</acmtlrf><hourrf>0</hourrf><no>2</no><obsrdt>2020-01-01 23:00</obsrdt></item>, <item><acmtlrf>0</acmtlrf><hourrf>0</hourrf><no>1</no><obsrdt>2020-01-01 24:00</obsrdt></item>]]\n"
          ]
        }
      ]
    },
    {
      "cell_type": "code",
      "metadata": {
        "id": "t_wpF0OIodCJ"
      },
      "source": [
        "\n",
        "filePath = '/content/drive/MyDrive/water_resource_csv/xmlrows.xml'\n",
        "\n",
        "\n",
        "with open(filePath, 'wb') as lf:\n",
        "    pickle.dump(xmlrows, lf)\n",
        "\n",
        "\n",
        "with open(filePath, 'rb') as lf:\n",
        "    readList = pickle.load(lf)\n"
      ],
      "execution_count": null,
      "outputs": []
    },
    {
      "cell_type": "code",
      "metadata": {
        "id": "Af6iBH4Yohx4"
      },
      "source": [
        "rowList = []\n",
        "nameList = []\n",
        "columnList = []\n",
        "xmlrowsLen = len(xmlrows)\n",
        "target = 0\n",
        "for i in range(0, xmlrowsLen):\n",
        "    \n",
        "   \n",
        "    if len(xmlrows[i]) == 0:\n",
        "       target = target + 1\n",
        "      \n",
        "    else:\n",
        "        break #반복문 종료\n",
        "columns = xmlrows[target][0].find_all()\n",
        "columnsLen = len(columns)\n",
        "for i in range(0, columnsLen):\n",
        "    nameList.append(columns[i].name)\n",
        "nameList = [\"Damcode\"] + nameList"
      ],
      "execution_count": null,
      "outputs": []
    },
    {
      "cell_type": "code",
      "metadata": {
        "colab": {
          "base_uri": "https://localhost:8080/"
        },
        "id": "FNJR1gazojWa",
        "outputId": "0a9778fb-5621-4122-af02-c89dedb65628"
      },
      "source": [
        "xmlrows[0]"
      ],
      "execution_count": null,
      "outputs": [
        {
          "output_type": "execute_result",
          "data": {
            "text/plain": [
              "[<item><acmtlrf>0</acmtlrf><hourrf>0</hourrf><no>24</no><obsrdt>2020-01-01 01:00</obsrdt></item>,\n",
              " <item><acmtlrf>0</acmtlrf><hourrf>0</hourrf><no>23</no><obsrdt>2020-01-01 02:00</obsrdt></item>,\n",
              " <item><acmtlrf>0</acmtlrf><hourrf>0</hourrf><no>22</no><obsrdt>2020-01-01 03:00</obsrdt></item>,\n",
              " <item><acmtlrf>0</acmtlrf><hourrf>0</hourrf><no>21</no><obsrdt>2020-01-01 04:00</obsrdt></item>,\n",
              " <item><acmtlrf>0</acmtlrf><hourrf>0</hourrf><no>20</no><obsrdt>2020-01-01 05:00</obsrdt></item>,\n",
              " <item><acmtlrf>0</acmtlrf><hourrf>0</hourrf><no>19</no><obsrdt>2020-01-01 06:00</obsrdt></item>,\n",
              " <item><acmtlrf>0</acmtlrf><hourrf>0</hourrf><no>18</no><obsrdt>2020-01-01 07:00</obsrdt></item>,\n",
              " <item><acmtlrf>0</acmtlrf><hourrf>0</hourrf><no>17</no><obsrdt>2020-01-01 08:00</obsrdt></item>,\n",
              " <item><acmtlrf>0</acmtlrf><hourrf>0</hourrf><no>16</no><obsrdt>2020-01-01 09:00</obsrdt></item>,\n",
              " <item><acmtlrf>0</acmtlrf><hourrf>0</hourrf><no>15</no><obsrdt>2020-01-01 10:00</obsrdt></item>,\n",
              " <item><acmtlrf>0</acmtlrf><hourrf>0</hourrf><no>14</no><obsrdt>2020-01-01 11:00</obsrdt></item>,\n",
              " <item><acmtlrf>0</acmtlrf><hourrf>0</hourrf><no>13</no><obsrdt>2020-01-01 12:00</obsrdt></item>,\n",
              " <item><acmtlrf>0</acmtlrf><hourrf>0</hourrf><no>12</no><obsrdt>2020-01-01 13:00</obsrdt></item>,\n",
              " <item><acmtlrf>0</acmtlrf><hourrf>0</hourrf><no>11</no><obsrdt>2020-01-01 14:00</obsrdt></item>,\n",
              " <item><acmtlrf>0</acmtlrf><hourrf>0</hourrf><no>10</no><obsrdt>2020-01-01 15:00</obsrdt></item>,\n",
              " <item><acmtlrf>0</acmtlrf><hourrf>0</hourrf><no>9</no><obsrdt>2020-01-01 16:00</obsrdt></item>,\n",
              " <item><acmtlrf>0</acmtlrf><hourrf>0</hourrf><no>8</no><obsrdt>2020-01-01 17:00</obsrdt></item>,\n",
              " <item><acmtlrf>0</acmtlrf><hourrf>0</hourrf><no>7</no><obsrdt>2020-01-01 18:00</obsrdt></item>,\n",
              " <item><acmtlrf>0</acmtlrf><hourrf>0</hourrf><no>6</no><obsrdt>2020-01-01 19:00</obsrdt></item>,\n",
              " <item><acmtlrf>0</acmtlrf><hourrf>0</hourrf><no>5</no><obsrdt>2020-01-01 20:00</obsrdt></item>,\n",
              " <item><acmtlrf>0</acmtlrf><hourrf>0</hourrf><no>4</no><obsrdt>2020-01-01 21:00</obsrdt></item>,\n",
              " <item><acmtlrf>0</acmtlrf><hourrf>0</hourrf><no>3</no><obsrdt>2020-01-01 22:00</obsrdt></item>,\n",
              " <item><acmtlrf>0</acmtlrf><hourrf>0</hourrf><no>2</no><obsrdt>2020-01-01 23:00</obsrdt></item>,\n",
              " <item><acmtlrf>0</acmtlrf><hourrf>0</hourrf><no>1</no><obsrdt>2020-01-01 24:00</obsrdt></item>]"
            ]
          },
          "metadata": {},
          "execution_count": 23
        }
      ]
    },
    {
      "cell_type": "code",
      "metadata": {
        "id": "UgDNOm7Kolrh"
      },
      "source": [
        "total = []\n",
        "damcodeLen = len(damcode)\n",
        "\n",
        "\n",
        "def el_code(a): \n",
        "    columnList = []\n",
        "    eachrows = xmlrows[a]\n",
        "    eachrowslen = len(eachrows)\n",
        "    for i in range(0, eachrowslen):\n",
        "        columns = eachrows[i].find_all()\n",
        "        columnsLen = len(columns)\n",
        "        for j in range(0, columnsLen):\n",
        "            eachColumn = columns[j].text \n",
        "            columnList.append(eachColumn)\n",
        "        columnList = [damcode[a]] + columnList\n",
        "        rowList.append(columnList)\n",
        "        columnList = []\n",
        "    return rowList\n",
        "\n",
        "\n",
        "\n",
        "for a in range(0, damcodeLen):\n",
        "    rowList=el_code(a)\n",
        "    total.append(rowList)\n",
        "\n",
        "result = pd.DataFrame(total[0], columns=nameList)"
      ],
      "execution_count": null,
      "outputs": []
    },
    {
      "cell_type": "code",
      "metadata": {
        "id": "ZOru4vFCong5"
      },
      "source": [
        "result.to_csv(\"/content/drive/MyDrive/water_resource_csv/walcode.csv\",encoding=\"utf-8-sig\")"
      ],
      "execution_count": null,
      "outputs": []
    },
    {
      "cell_type": "code",
      "metadata": {
        "id": "YYq1xtrwopMh"
      },
      "source": [
        "result"
      ],
      "execution_count": null,
      "outputs": []
    }
  ]
}