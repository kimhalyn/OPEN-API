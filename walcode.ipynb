{
  "nbformat": 4,
  "nbformat_minor": 0,
  "metadata": {
    "colab": {
      "name": "walcode.ipynb",
      "provenance": [],
      "collapsed_sections": [],
      "authorship_tag": "ABX9TyNXsRcbhKM25WCyz7h0X9qG",
      "include_colab_link": true
    },
    "kernelspec": {
      "name": "python3",
      "display_name": "Python 3"
    },
    "language_info": {
      "name": "python"
    }
  },
  "cells": [
    {
      "cell_type": "markdown",
      "metadata": {
        "id": "view-in-github",
        "colab_type": "text"
      },
      "source": [
        "<a href=\"https://colab.research.google.com/github/kimhalyn/OPEN-API/blob/main/walcode.ipynb\" target=\"_parent\"><img src=\"https://colab.research.google.com/assets/colab-badge.svg\" alt=\"Open In Colab\"/></a>"
      ]
    },
    {
      "cell_type": "code",
      "metadata": {
        "colab": {
          "base_uri": "https://localhost:8080/"
        },
        "id": "AOjHZTTeoGwb",
        "outputId": "1651fbb6-cfdd-4073-f9fc-7619ef463771"
      },
      "source": [
        "# 라이브러리\n",
        "# colab에 xmltodict 라이브러리가 기본 설치되지 않으므로 별도 설치(외부 라이브러리)\n",
        "!pip install xmltodict \n",
        "from urllib.request import urlopen, Request\n",
        "from urllib.parse import urlencode, unquote, quote_plus\n",
        "from bs4 import BeautifulSoup\n",
        "import pandas as pd\n",
        "import requests, xmltodict, json\n",
        "from xml.etree.ElementTree import Element, SubElement, ElementTree\n",
        "import xml.etree.ElementTree as ET\n",
        "import pickle\n",
        "import numpy as np"
      ],
      "execution_count": 20,
      "outputs": [
        {
          "output_type": "stream",
          "name": "stdout",
          "text": [
            "Requirement already satisfied: xmltodict in /usr/local/lib/python3.7/dist-packages (0.12.0)\n"
          ]
        }
      ]
    },
    {
      "cell_type": "code",
      "metadata": {
        "colab": {
          "base_uri": "https://localhost:8080/"
        },
        "id": "Ic1MXA0oobda",
        "outputId": "274bb583-3067-4217-d10c-b977c97973ad"
      },
      "source": [
        "from google.colab import drive\n",
        "drive.mount('/content/drive')"
      ],
      "execution_count": 21,
      "outputs": [
        {
          "output_type": "stream",
          "name": "stdout",
          "text": [
            "Drive already mounted at /content/drive; to attempt to forcibly remount, call drive.mount(\"/content/drive\", force_remount=True).\n"
          ]
        }
      ]
    },
    {
      "cell_type": "code",
      "metadata": {
        "colab": {
          "base_uri": "https://localhost:8080/"
        },
        "id": "G4BF3JXrowHR",
        "outputId": "88e93c6b-6d92-4b13-a6ec-a5ed2ce280cc"
      },
      "source": [
        "import requests, bs4\n",
        "import pandas as pd\n",
        "from lxml import html\n",
        "from urllib.request import Request, urlopen\n",
        "from urllib.parse import urlencode, quote_plus, unquote\n",
        "from time import sleep\n",
        "import csv\n",
        "\n",
        "url = 'http://opendata.kwater.or.kr/openapi-data/service/pubd/dam/excllncobsrvt/wal/list'\n",
        "key = 'jkd4PnVjssNP+g2WeRzs8lgc4SOelLsncvuMr81/9R9nSYKkiQAcb2xt8GTYgTJSQGQ4+htuRuyIXSwRXr210w=='\n",
        " \n",
        "api_key = requests.utils.unquote(key) #디코딩\n",
        "\n",
        "# 댐코드 불러오기\n",
        "data = pd.read_csv('/content/drive/MyDrive/water_resource_csv/damCode.csv')\n",
        "\n",
        "# 필요한 코드 조회\n",
        "damcode = data.iloc[:, 1]\n",
        "xmlrows = []\n",
        "for code in damcode:\n",
        "\n",
        "  Params = '?' + urlencode({quote_plus('ServiceKey') : api_key,\n",
        "                                quote_plus('damcode') : code})\n",
        "  \n",
        "#  print(Params)\n",
        "  \n",
        "  res = requests.get(url + Params).text.encode('utf-8') # 요청에 대한 응답내용(.encode빼기도 함)\n",
        "  sleep(1)\n",
        "  print(res) \n",
        "  \n",
        "  xmlobj = bs4.BeautifulSoup(res, 'lxml') #lxml 파서(구문분석)  'lxml-xml'\n",
        "  print(xmlobj)\n",
        "  \n",
        "  #item 태그 분리\n",
        "  rows = xmlobj.findAll('item') # 매치되는 문자열을 리스트로 리턴\n",
        "  xmlrows.append(rows)\n",
        "\n",
        "print (xmlrows)\n"
      ],
      "execution_count": 22,
      "outputs": [
        {
          "output_type": "stream",
          "name": "stdout",
          "text": [
            "b'<?xml version=\"1.0\" encoding=\"UTF-8\" standalone=\"yes\"?><response><header><resultCode>99</resultCode><resultMsg>LIMITED NUMBER OF SERVICE REQUESTS EXCEEDS ERROR.</resultMsg></header></response>'\n",
            "<?xml version=\"1.0\" encoding=\"UTF-8\" standalone=\"yes\"?><html><body><response><header><resultcode>99</resultcode><resultmsg>LIMITED NUMBER OF SERVICE REQUESTS EXCEEDS ERROR.</resultmsg></header></response></body></html>\n",
            "b'<?xml version=\"1.0\" encoding=\"UTF-8\" standalone=\"yes\"?><response><header><resultCode>99</resultCode><resultMsg>LIMITED NUMBER OF SERVICE REQUESTS EXCEEDS ERROR.</resultMsg></header></response>'\n",
            "<?xml version=\"1.0\" encoding=\"UTF-8\" standalone=\"yes\"?><html><body><response><header><resultcode>99</resultcode><resultmsg>LIMITED NUMBER OF SERVICE REQUESTS EXCEEDS ERROR.</resultmsg></header></response></body></html>\n",
            "b'<?xml version=\"1.0\" encoding=\"UTF-8\" standalone=\"yes\"?><response><header><resultCode>00</resultCode><resultMsg>NORMAL SERVICE.</resultMsg></header><body><items><item><obsrvtNm>\\xea\\xb0\\x95\\xec\\xb2\\x9c\\xeb\\xb3\\xb4\\xec\\x83\\x81\\xeb\\xa5\\x98</obsrvtNm><walobsrvtcode>1007601</walobsrvtcode></item><item><obsrvtNm>\\xea\\xb0\\x95\\xec\\xb2\\x9c\\xeb\\xb3\\xb4\\xed\\x95\\x98\\xeb\\xa5\\x98</obsrvtNm><walobsrvtcode>1005681</walobsrvtcode></item></items></body></response>'\n",
            "<?xml version=\"1.0\" encoding=\"UTF-8\" standalone=\"yes\"?><html><body><response><header><resultcode>00</resultcode><resultmsg>NORMAL SERVICE.</resultmsg></header><items><item><obsrvtnm>강천보상류</obsrvtnm><walobsrvtcode>1007601</walobsrvtcode></item><item><obsrvtnm>강천보하류</obsrvtnm><walobsrvtcode>1005681</walobsrvtcode></item></items></response></body></html>\n",
            "b'<?xml version=\"1.0\" encoding=\"UTF-8\" standalone=\"yes\"?><response><header><resultCode>99</resultCode><resultMsg>LIMITED NUMBER OF SERVICE REQUESTS EXCEEDS ERROR.</resultMsg></header></response>'\n",
            "<?xml version=\"1.0\" encoding=\"UTF-8\" standalone=\"yes\"?><html><body><response><header><resultcode>99</resultcode><resultmsg>LIMITED NUMBER OF SERVICE REQUESTS EXCEEDS ERROR.</resultmsg></header></response></body></html>\n",
            "b'<?xml version=\"1.0\" encoding=\"UTF-8\" standalone=\"yes\"?><response><header><resultCode>00</resultCode><resultMsg>NORMAL SERVICE.</resultMsg></header><body><items><item><obsrvtNm>\\xec\\x82\\xbc\\xec\\xb2\\x99\\xec\\x8b\\x9c(\\xea\\xb0\\x88\\xeb\\xb0\\xad\\xea\\xb5\\x90)</obsrvtNm><walobsrvtcode>9000266</walobsrvtcode></item><item><obsrvtNm>\\xec\\x82\\xbc\\xec\\xb2\\x99\\xec\\x8b\\x9c(\\xea\\xb4\\x91\\xeb\\x8f\\x99\\xea\\xb5\\x90)</obsrvtNm><walobsrvtcode>9000264</walobsrvtcode></item><item><obsrvtNm>\\xec\\x82\\xbc\\xec\\xb2\\x99\\xec\\x8b\\x9c(\\xeb\\xb2\\x88\\xec\\xb2\\x9c\\xea\\xb5\\x90)</obsrvtNm><walobsrvtcode>9000268</walobsrvtcode></item><item><obsrvtNm>\\xed\\x83\\x9c\\xeb\\xb0\\xb1\\xec\\x8b\\x9c(\\xeb\\xac\\xb4\\xec\\x82\\xac\\xea\\xb5\\x90)</obsrvtNm><walobsrvtcode>9000265</walobsrvtcode></item></items></body></response>'\n",
            "<?xml version=\"1.0\" encoding=\"UTF-8\" standalone=\"yes\"?><html><body><response><header><resultcode>00</resultcode><resultmsg>NORMAL SERVICE.</resultmsg></header><items><item><obsrvtnm>삼척시(갈밭교)</obsrvtnm><walobsrvtcode>9000266</walobsrvtcode></item><item><obsrvtnm>삼척시(광동교)</obsrvtnm><walobsrvtcode>9000264</walobsrvtcode></item><item><obsrvtnm>삼척시(번천교)</obsrvtnm><walobsrvtcode>9000268</walobsrvtcode></item><item><obsrvtnm>태백시(무사교)</obsrvtnm><walobsrvtcode>9000265</walobsrvtcode></item></items></response></body></html>\n",
            "b'<?xml version=\"1.0\" encoding=\"UTF-8\" standalone=\"yes\"?><response><header><resultCode>00</resultCode><resultMsg>NORMAL SERVICE.</resultMsg></header><body><items><item><obsrvtNm>\\xea\\xb5\\xac\\xeb\\xaf\\xb8\\xeb\\xb3\\xb4\\xec\\x83\\x81\\xeb\\xa5\\x98</obsrvtNm><walobsrvtcode>2009602</walobsrvtcode></item><item><obsrvtNm>\\xea\\xb5\\xac\\xeb\\xaf\\xb8\\xeb\\xb3\\xb4\\xed\\x95\\x98\\xeb\\xa5\\x98</obsrvtNm><walobsrvtcode>2009615</walobsrvtcode></item></items></body></response>'\n",
            "<?xml version=\"1.0\" encoding=\"UTF-8\" standalone=\"yes\"?><html><body><response><header><resultcode>00</resultcode><resultmsg>NORMAL SERVICE.</resultmsg></header><items><item><obsrvtnm>구미보상류</obsrvtnm><walobsrvtcode>2009602</walobsrvtcode></item><item><obsrvtnm>구미보하류</obsrvtnm><walobsrvtcode>2009615</walobsrvtcode></item></items></response></body></html>\n",
            "b'<?xml version=\"1.0\" encoding=\"UTF-8\" standalone=\"yes\"?><response><header><resultCode>99</resultCode><resultMsg>LIMITED NUMBER OF SERVICE REQUESTS EXCEEDS ERROR.</resultMsg></header></response>'\n",
            "<?xml version=\"1.0\" encoding=\"UTF-8\" standalone=\"yes\"?><html><body><response><header><resultcode>99</resultcode><resultmsg>LIMITED NUMBER OF SERVICE REQUESTS EXCEEDS ERROR.</resultmsg></header></response></body></html>\n",
            "b'<?xml version=\"1.0\" encoding=\"UTF-8\" standalone=\"yes\"?><response><header><resultCode>99</resultCode><resultMsg>LIMITED NUMBER OF SERVICE REQUESTS EXCEEDS ERROR.</resultMsg></header></response>'\n",
            "<?xml version=\"1.0\" encoding=\"UTF-8\" standalone=\"yes\"?><html><body><response><header><resultcode>99</resultcode><resultmsg>LIMITED NUMBER OF SERVICE REQUESTS EXCEEDS ERROR.</resultmsg></header></response></body></html>\n",
            "b'<?xml version=\"1.0\" encoding=\"UTF-8\" standalone=\"yes\"?><response><header><resultCode>00</resultCode><resultMsg>NORMAL SERVICE.</resultMsg></header><body><items><item><obsrvtNm>\\xea\\xb5\\xb0\\xec\\x9c\\x84\\xea\\xb5\\xb0(\\xeb\\x8f\\x99\\xea\\xb3\\xa1\\xea\\xb5\\x90)</obsrvtNm><walobsrvtcode>2008615</walobsrvtcode></item><item><obsrvtNm>\\xea\\xb5\\xb0\\xec\\x9c\\x84\\xea\\xb5\\xb0(\\xed\\x99\\x94\\xec\\x88\\x98\\xea\\xb5\\x90)</obsrvtNm><walobsrvtcode>2008620</walobsrvtcode></item></items></body></response>'\n",
            "<?xml version=\"1.0\" encoding=\"UTF-8\" standalone=\"yes\"?><html><body><response><header><resultcode>00</resultcode><resultmsg>NORMAL SERVICE.</resultmsg></header><items><item><obsrvtnm>군위군(동곡교)</obsrvtnm><walobsrvtcode>2008615</walobsrvtcode></item><item><obsrvtnm>군위군(화수교)</obsrvtnm><walobsrvtcode>2008620</walobsrvtcode></item></items></response></body></html>\n",
            "b'<?xml version=\"1.0\" encoding=\"UTF-8\" standalone=\"yes\"?><response><header><resultCode>00</resultCode><resultMsg>NORMAL SERVICE.</resultMsg></header><body><items><item><obsrvtNm>\\xeb\\x82\\x99\\xeb\\x8b\\xa8\\xeb\\xb3\\xb4\\xec\\x83\\x81\\xeb\\xa5\\x98</obsrvtNm><walobsrvtcode>2009601</walobsrvtcode></item><item><obsrvtNm>\\xeb\\x82\\x99\\xeb\\x8b\\xa8\\xeb\\xb3\\xb4\\xed\\x95\\x98\\xeb\\xa5\\x98</obsrvtNm><walobsrvtcode>2007617</walobsrvtcode></item></items></body></response>'\n",
            "<?xml version=\"1.0\" encoding=\"UTF-8\" standalone=\"yes\"?><html><body><response><header><resultcode>00</resultcode><resultmsg>NORMAL SERVICE.</resultmsg></header><items><item><obsrvtnm>낙단보상류</obsrvtnm><walobsrvtcode>2009601</walobsrvtcode></item><item><obsrvtnm>낙단보하류</obsrvtnm><walobsrvtcode>2007617</walobsrvtcode></item></items></response></body></html>\n",
            "b'<?xml version=\"1.0\" encoding=\"UTF-8\" standalone=\"yes\"?><response><header><resultCode>99</resultCode><resultMsg>LIMITED NUMBER OF SERVICE REQUESTS EXCEEDS ERROR.</resultMsg></header></response>'\n",
            "<?xml version=\"1.0\" encoding=\"UTF-8\" standalone=\"yes\"?><html><body><response><header><resultcode>99</resultcode><resultmsg>LIMITED NUMBER OF SERVICE REQUESTS EXCEEDS ERROR.</resultmsg></header></response></body></html>\n",
            "b'<?xml version=\"1.0\" encoding=\"UTF-8\" standalone=\"yes\"?><response><header><resultCode>99</resultCode><resultMsg>LIMITED NUMBER OF SERVICE REQUESTS EXCEEDS ERROR.</resultMsg></header></response>'\n",
            "<?xml version=\"1.0\" encoding=\"UTF-8\" standalone=\"yes\"?><html><body><response><header><resultcode>99</resultcode><resultmsg>LIMITED NUMBER OF SERVICE REQUESTS EXCEEDS ERROR.</resultmsg></header></response></body></html>\n",
            "b'<?xml version=\"1.0\" encoding=\"UTF-8\" standalone=\"yes\"?><response><header><resultCode>00</resultCode><resultMsg>NORMAL SERVICE.</resultMsg></header><body><items><item><obsrvtNm>\\xeb\\x8f\\x99\\xed\\x95\\xb4\\xec\\x8b\\x9c(\\xec\\x9b\\x90\\xed\\x8f\\x89\\xea\\xb5\\x90)</obsrvtNm><walobsrvtcode>9000267</walobsrvtcode></item></items></body></response>'\n",
            "<?xml version=\"1.0\" encoding=\"UTF-8\" standalone=\"yes\"?><html><body><response><header><resultcode>00</resultcode><resultmsg>NORMAL SERVICE.</resultmsg></header><items><item><obsrvtnm>동해시(원평교)</obsrvtnm><walobsrvtcode>9000267</walobsrvtcode></item></items></response></body></html>\n",
            "b'<?xml version=\"1.0\" encoding=\"UTF-8\" standalone=\"yes\"?><response><header><resultCode>99</resultCode><resultMsg>LIMITED NUMBER OF SERVICE REQUESTS EXCEEDS ERROR.</resultMsg></header></response>'\n",
            "<?xml version=\"1.0\" encoding=\"UTF-8\" standalone=\"yes\"?><html><body><response><header><resultcode>99</resultcode><resultmsg>LIMITED NUMBER OF SERVICE REQUESTS EXCEEDS ERROR.</resultmsg></header></response></body></html>\n",
            "b'<?xml version=\"1.0\" encoding=\"UTF-8\" standalone=\"yes\"?><response><header><resultCode>00</resultCode><resultMsg>NORMAL SERVICE.</resultMsg></header><body><items/></body></response>'\n",
            "<?xml version=\"1.0\" encoding=\"UTF-8\" standalone=\"yes\"?><html><body><response><header><resultcode>00</resultcode><resultmsg>NORMAL SERVICE.</resultmsg></header><items></items></response></body></html>\n",
            "b'<?xml version=\"1.0\" encoding=\"UTF-8\" standalone=\"yes\"?><response><header><resultCode>00</resultCode><resultMsg>NORMAL SERVICE.</resultMsg></header><body><items><item><obsrvtNm>\\xec\\x9a\\xb8\\xec\\x82\\xb0\\xec\\x8b\\x9c(\\xeb\\x8c\\x80\\xec\\x95\\x94\\xea\\xb5\\x90)</obsrvtNm><walobsrvtcode>9000263</walobsrvtcode></item></items></body></response>'\n",
            "<?xml version=\"1.0\" encoding=\"UTF-8\" standalone=\"yes\"?><html><body><response><header><resultcode>00</resultcode><resultmsg>NORMAL SERVICE.</resultmsg></header><items><item><obsrvtnm>울산시(대암교)</obsrvtnm><walobsrvtcode>9000263</walobsrvtcode></item></items></response></body></html>\n",
            "b'<?xml version=\"1.0\" encoding=\"UTF-8\" standalone=\"yes\"?><response><header><resultCode>00</resultCode><resultMsg>NORMAL SERVICE.</resultMsg></header><body><items><item><obsrvtNm>\\xea\\xb3\\xb5\\xec\\xa3\\xbc\\xec\\x8b\\x9c(\\xed\\x8f\\x89\\xec\\x86\\x8c\\xeb\\xa6\\xac)</obsrvtNm><walobsrvtcode>3012630</walobsrvtcode></item><item><obsrvtNm>\\xea\\xb8\\x88\\xec\\x82\\xb0\\xea\\xb5\\xb0(\\xec\\xa0\\x81\\xeb\\xb2\\xbd\\xea\\xb5\\x90)</obsrvtNm><walobsrvtcode>3004620</walobsrvtcode></item><item><obsrvtNm>\\xeb\\x82\\x98\\xec\\x84\\xb1\\xea\\xb0\\x84\\xec\\x9d\\xb4</obsrvtNm><walobsrvtcode>9000241</walobsrvtcode></item><item><obsrvtNm>\\xeb\\x8c\\x80\\xec\\xb2\\xad\\xeb\\x8c\\x90\\xeb\\xb0\\xa9\\xec\\x88\\x98\\xeb\\xa1\\x9c</obsrvtNm><walobsrvtcode>3008690</walobsrvtcode></item><item><obsrvtNm>\\xeb\\x91\\x90\\xed\\x8f\\x89</obsrvtNm><walobsrvtcode>9000242</walobsrvtcode></item><item><obsrvtNm>\\xec\\x98\\x81\\xeb\\x8f\\x99\\xea\\xb5\\xb0(\\xec\\x9c\\xa8\\xeb\\xa6\\xac)</obsrvtNm><walobsrvtcode>3005680</walobsrvtcode></item><item><obsrvtNm>\\xec\\x98\\x81\\xeb\\x8f\\x99\\xea\\xb5\\xb0(\\xed\\x98\\xb8\\xed\\x83\\x84\\xeb\\xa6\\xac)</obsrvtNm><walobsrvtcode>3004650</walobsrvtcode></item><item><obsrvtNm>\\xec\\x98\\xa5\\xec\\xb2\\x9c\\xea\\xb5\\xb0(\\xec\\x82\\xb0\\xea\\xb3\\x84\\xeb\\xa6\\xac)</obsrvtNm><walobsrvtcode>3007670</walobsrvtcode></item><item><obsrvtNm>\\xec\\x98\\xa5\\xec\\xb2\\x9c\\xea\\xb5\\xb0(\\xec\\x9d\\xb4\\xec\\x9b\\x90\\xeb\\x8c\\x80\\xea\\xb5\\x90)</obsrvtNm><walobsrvtcode>3006680</walobsrvtcode></item><item><obsrvtNm>\\xec\\xb2\\xad\\xec\\xa3\\xbc\\xec\\x8b\\x9c(\\xeb\\x8c\\x80\\xec\\xb2\\xad\\xeb\\x8c\\x90)</obsrvtNm><walobsrvtcode>3008110</walobsrvtcode></item><item><obsrvtNm>\\xec\\xb2\\xad\\xec\\xa3\\xbc\\xec\\x8b\\x9c(\\xeb\\x8c\\x80\\xec\\xb2\\xad\\xeb\\x8c\\x90\\xeb\\xb3\\xb4\\xec\\xa1\\xb0\\xec\\x88\\x98\\xec\\x9c\\x84)</obsrvtNm><walobsrvtcode>8000094</walobsrvtcode></item></items></body></response>'\n",
            "<?xml version=\"1.0\" encoding=\"UTF-8\" standalone=\"yes\"?><html><body><response><header><resultcode>00</resultcode><resultmsg>NORMAL SERVICE.</resultmsg></header><items><item><obsrvtnm>공주시(평소리)</obsrvtnm><walobsrvtcode>3012630</walobsrvtcode></item><item><obsrvtnm>금산군(적벽교)</obsrvtnm><walobsrvtcode>3004620</walobsrvtcode></item><item><obsrvtnm>나성간이</obsrvtnm><walobsrvtcode>9000241</walobsrvtcode></item><item><obsrvtnm>대청댐방수로</obsrvtnm><walobsrvtcode>3008690</walobsrvtcode></item><item><obsrvtnm>두평</obsrvtnm><walobsrvtcode>9000242</walobsrvtcode></item><item><obsrvtnm>영동군(율리)</obsrvtnm><walobsrvtcode>3005680</walobsrvtcode></item><item><obsrvtnm>영동군(호탄리)</obsrvtnm><walobsrvtcode>3004650</walobsrvtcode></item><item><obsrvtnm>옥천군(산계리)</obsrvtnm><walobsrvtcode>3007670</walobsrvtcode></item><item><obsrvtnm>옥천군(이원대교)</obsrvtnm><walobsrvtcode>3006680</walobsrvtcode></item><item><obsrvtnm>청주시(대청댐)</obsrvtnm><walobsrvtcode>3008110</walobsrvtcode></item><item><obsrvtnm>청주시(대청댐보조수위)</obsrvtnm><walobsrvtcode>8000094</walobsrvtcode></item></items></response></body></html>\n",
            "b'<?xml version=\"1.0\" encoding=\"UTF-8\" standalone=\"yes\"?><response><header><resultCode>00</resultCode><resultMsg>NORMAL SERVICE.</resultMsg></header><body><items><item><obsrvtNm>\\xeb\\x8c\\x80\\xec\\xa0\\x84\\xec\\x8b\\x9c(\\xeb\\x8c\\x80\\xec\\xb2\\xad\\xec\\xa1\\xb0\\xec\\xa0\\x95\\xec\\xa7\\x80\\xeb\\x8c\\x90)</obsrvtNm><walobsrvtcode>3008695</walobsrvtcode></item></items></body></response>'\n",
            "<?xml version=\"1.0\" encoding=\"UTF-8\" standalone=\"yes\"?><html><body><response><header><resultcode>00</resultcode><resultmsg>NORMAL SERVICE.</resultmsg></header><items><item><obsrvtnm>대전시(대청조정지댐)</obsrvtnm><walobsrvtcode>3008695</walobsrvtcode></item></items></response></body></html>\n",
            "b'<?xml version=\"1.0\" encoding=\"UTF-8\" standalone=\"yes\"?><response><header><resultCode>99</resultCode><resultMsg>LIMITED NUMBER OF SERVICE REQUESTS EXCEEDS ERROR.</resultMsg></header></response>'\n",
            "<?xml version=\"1.0\" encoding=\"UTF-8\" standalone=\"yes\"?><html><body><response><header><resultcode>99</resultcode><resultmsg>LIMITED NUMBER OF SERVICE REQUESTS EXCEEDS ERROR.</resultmsg></header></response></body></html>\n",
            "b'<?xml version=\"1.0\" encoding=\"UTF-8\" standalone=\"yes\"?><response><header><resultCode>00</resultCode><resultMsg>NORMAL SERVICE.</resultMsg></header><body><items><item><obsrvtNm>\\xeb\\xb0\\xb1\\xec\\xa0\\x9c\\xeb\\xb3\\xb4\\xec\\x83\\x81\\xeb\\xa5\\x98</obsrvtNm><walobsrvtcode>3012602</walobsrvtcode></item><item><obsrvtNm>\\xeb\\xb0\\xb1\\xec\\xa0\\x9c\\xeb\\xb3\\xb4\\xed\\x95\\x98\\xeb\\xa5\\x98</obsrvtNm><walobsrvtcode>3012677</walobsrvtcode></item></items></body></response>'\n",
            "<?xml version=\"1.0\" encoding=\"UTF-8\" standalone=\"yes\"?><html><body><response><header><resultcode>00</resultcode><resultmsg>NORMAL SERVICE.</resultmsg></header><items><item><obsrvtnm>백제보상류</obsrvtnm><walobsrvtcode>3012602</walobsrvtcode></item><item><obsrvtnm>백제보하류</obsrvtnm><walobsrvtcode>3012677</walobsrvtcode></item></items></response></body></html>\n",
            "b'<?xml version=\"1.0\" encoding=\"UTF-8\" standalone=\"yes\"?><response><header><resultCode>99</resultCode><resultMsg>LIMITED NUMBER OF SERVICE REQUESTS EXCEEDS ERROR.</resultMsg></header></response>'\n",
            "<?xml version=\"1.0\" encoding=\"UTF-8\" standalone=\"yes\"?><html><body><response><header><resultcode>99</resultcode><resultmsg>LIMITED NUMBER OF SERVICE REQUESTS EXCEEDS ERROR.</resultmsg></header></response></body></html>\n",
            "b'<?xml version=\"1.0\" encoding=\"UTF-8\" standalone=\"yes\"?><response><header><resultCode>99</resultCode><resultMsg>LIMITED NUMBER OF SERVICE REQUESTS EXCEEDS ERROR.</resultMsg></header></response>'\n",
            "<?xml version=\"1.0\" encoding=\"UTF-8\" standalone=\"yes\"?><html><body><response><header><resultcode>99</resultcode><resultmsg>LIMITED NUMBER OF SERVICE REQUESTS EXCEEDS ERROR.</resultmsg></header></response></body></html>\n",
            "b'<?xml version=\"1.0\" encoding=\"UTF-8\" standalone=\"yes\"?><response><header><resultCode>00</resultCode><resultMsg>NORMAL SERVICE.</resultMsg></header><body><items/></body></response>'\n",
            "<?xml version=\"1.0\" encoding=\"UTF-8\" standalone=\"yes\"?><html><body><response><header><resultcode>00</resultcode><resultmsg>NORMAL SERVICE.</resultmsg></header><items></items></response></body></html>\n",
            "b'<?xml version=\"1.0\" encoding=\"UTF-8\" standalone=\"yes\"?><response><header><resultCode>99</resultCode><resultMsg>LIMITED NUMBER OF SERVICE REQUESTS EXCEEDS ERROR.</resultMsg></header></response>'\n",
            "<?xml version=\"1.0\" encoding=\"UTF-8\" standalone=\"yes\"?><html><body><response><header><resultcode>99</resultcode><resultmsg>LIMITED NUMBER OF SERVICE REQUESTS EXCEEDS ERROR.</resultmsg></header></response></body></html>\n",
            "b'<?xml version=\"1.0\" encoding=\"UTF-8\" standalone=\"yes\"?><response><header><resultCode>00</resultCode><resultMsg>NORMAL SERVICE.</resultMsg></header><body><items/></body></response>'\n",
            "<?xml version=\"1.0\" encoding=\"UTF-8\" standalone=\"yes\"?><html><body><response><header><resultcode>00</resultcode><resultmsg>NORMAL SERVICE.</resultmsg></header><items></items></response></body></html>\n",
            "b'<?xml version=\"1.0\" encoding=\"UTF-8\" standalone=\"yes\"?><response><header><resultCode>99</resultCode><resultMsg>LIMITED NUMBER OF SERVICE REQUESTS EXCEEDS ERROR.</resultMsg></header></response>'\n",
            "<?xml version=\"1.0\" encoding=\"UTF-8\" standalone=\"yes\"?><html><body><response><header><resultcode>99</resultcode><resultmsg>LIMITED NUMBER OF SERVICE REQUESTS EXCEEDS ERROR.</resultmsg></header></response></body></html>\n",
            "b'<?xml version=\"1.0\" encoding=\"UTF-8\" standalone=\"yes\"?><response><header><resultCode>99</resultCode><resultMsg>LIMITED NUMBER OF SERVICE REQUESTS EXCEEDS ERROR.</resultMsg></header></response>'\n",
            "<?xml version=\"1.0\" encoding=\"UTF-8\" standalone=\"yes\"?><html><body><response><header><resultcode>99</resultcode><resultmsg>LIMITED NUMBER OF SERVICE REQUESTS EXCEEDS ERROR.</resultmsg></header></response></body></html>\n",
            "b'<?xml version=\"1.0\" encoding=\"UTF-8\" standalone=\"yes\"?><response><header><resultCode>99</resultCode><resultMsg>LIMITED NUMBER OF SERVICE REQUESTS EXCEEDS ERROR.</resultMsg></header></response>'\n",
            "<?xml version=\"1.0\" encoding=\"UTF-8\" standalone=\"yes\"?><html><body><response><header><resultcode>99</resultcode><resultmsg>LIMITED NUMBER OF SERVICE REQUESTS EXCEEDS ERROR.</resultmsg></header></response></body></html>\n",
            "b'<?xml version=\"1.0\" encoding=\"UTF-8\" standalone=\"yes\"?><response><header><resultCode>99</resultCode><resultMsg>LIMITED NUMBER OF SERVICE REQUESTS EXCEEDS ERROR.</resultMsg></header></response>'\n",
            "<?xml version=\"1.0\" encoding=\"UTF-8\" standalone=\"yes\"?><html><body><response><header><resultcode>99</resultcode><resultmsg>LIMITED NUMBER OF SERVICE REQUESTS EXCEEDS ERROR.</resultmsg></header></response></body></html>\n",
            "b'<?xml version=\"1.0\" encoding=\"UTF-8\" standalone=\"yes\"?><response><header><resultCode>00</resultCode><resultMsg>NORMAL SERVICE.</resultMsg></header><body><items><item><obsrvtNm>\\xec\\x8a\\xb9\\xec\\xb4\\x8c\\xeb\\xb3\\xb4\\xec\\x83\\x81\\xeb\\xa5\\x98</obsrvtNm><walobsrvtcode>5004601</walobsrvtcode></item><item><obsrvtNm>\\xec\\x8a\\xb9\\xec\\xb4\\x8c\\xeb\\xb3\\xb4\\xed\\x95\\x98\\xeb\\xa5\\x98</obsrvtNm><walobsrvtcode>5004660</walobsrvtcode></item></items></body></response>'\n",
            "<?xml version=\"1.0\" encoding=\"UTF-8\" standalone=\"yes\"?><html><body><response><header><resultcode>00</resultcode><resultmsg>NORMAL SERVICE.</resultmsg></header><items><item><obsrvtnm>승촌보상류</obsrvtnm><walobsrvtcode>5004601</walobsrvtcode></item><item><obsrvtnm>승촌보하류</obsrvtnm><walobsrvtcode>5004660</walobsrvtcode></item></items></response></body></html>\n",
            "b'<?xml version=\"1.0\" encoding=\"UTF-8\" standalone=\"yes\"?><response><header><resultCode>99</resultCode><resultMsg>LIMITED NUMBER OF SERVICE REQUESTS EXCEEDS ERROR.</resultMsg></header></response>'\n",
            "<?xml version=\"1.0\" encoding=\"UTF-8\" standalone=\"yes\"?><html><body><response><header><resultcode>99</resultcode><resultmsg>LIMITED NUMBER OF SERVICE REQUESTS EXCEEDS ERROR.</resultmsg></header></response></body></html>\n",
            "b'<?xml version=\"1.0\" encoding=\"UTF-8\" standalone=\"yes\"?><response><header><resultCode>00</resultCode><resultMsg>NORMAL SERVICE.</resultMsg></header><body><items><item><obsrvtNm>\\xea\\xb3\\xa0\\xed\\x98\\x84</obsrvtNm><walobsrvtcode>9000255</walobsrvtcode></item><item><obsrvtNm>\\xeb\\x8f\\x84\\xec\\x82\\xb0</obsrvtNm><walobsrvtcode>2001660</walobsrvtcode></item><item><obsrvtNm>\\xeb\\xac\\xb4\\xea\\xb3\\x84</obsrvtNm><walobsrvtcode>9000194</walobsrvtcode></item><item><obsrvtNm>\\xeb\\xb3\\xb4\\xed\\x98\\x84</obsrvtNm><walobsrvtcode>9000193</walobsrvtcode></item><item><obsrvtNm>\\xeb\\xb4\\x89\\xed\\x99\\x94\\xea\\xb5\\xb0(\\xec\\x96\\x91\\xec\\x82\\xbc\\xea\\xb5\\x90)</obsrvtNm><walobsrvtcode>2001667</walobsrvtcode></item><item><obsrvtNm>\\xeb\\xb4\\x89\\xed\\x99\\x94\\xea\\xb5\\xb0(\\xec\\x9e\\x84\\xea\\xb8\\xb0\\xeb\\xa6\\xac)</obsrvtNm><walobsrvtcode>2001630</walobsrvtcode></item><item><obsrvtNm>\\xec\\x83\\x81\\xec\\xa3\\xbc\\xec\\x8b\\x9c(\\xec\\x83\\x81\\xec\\x9a\\xb0\\xea\\xb5\\x90)</obsrvtNm><walobsrvtcode>9000196</walobsrvtcode></item><item><obsrvtNm>\\xec\\x95\\x88\\xeb\\x8f\\x99 \\xec\\x88\\x98\\xec\\x9c\\x84\\xea\\xb0\\x90\\xec\\xa7\\x80</obsrvtNm><walobsrvtcode>9900009</walobsrvtcode></item><item><obsrvtNm>\\xec\\x95\\x88\\xeb\\x8f\\x99\\xeb\\x8c\\x90\\xeb\\xb3\\xb4\\xec\\xa1\\xb0\\xec\\x88\\x98\\xec\\x9c\\x84</obsrvtNm><walobsrvtcode>8000112</walobsrvtcode></item><item><obsrvtNm>\\xec\\x95\\x88\\xeb\\x8f\\x99\\xec\\x8b\\x9c(\\xec\\x95\\x88\\xeb\\x8f\\x99\\xeb\\x8c\\x80\\xea\\xb5\\x90)</obsrvtNm><walobsrvtcode>2003610</walobsrvtcode></item><item><obsrvtNm>\\xec\\x95\\x88\\xeb\\x8f\\x99\\xec\\x8b\\x9c(\\xec\\x95\\x88\\xeb\\x8f\\x99\\xeb\\x8c\\x90)</obsrvtNm><walobsrvtcode>2001110</walobsrvtcode></item><item><obsrvtNm>\\xec\\x95\\x88\\xeb\\x8f\\x99\\xec\\x8b\\x9c(\\xec\\x95\\x88\\xeb\\x8f\\x99\\xeb\\x8c\\x90\\xeb\\xb0\\xa9\\xec\\x88\\x98\\xeb\\xa1\\x9c)</obsrvtNm><walobsrvtcode>2001692</walobsrvtcode></item><item><obsrvtNm>\\xed\\x8f\\xac\\xed\\x95\\xad\\xec\\x8b\\x9c(\\xec\\x83\\x81\\xec\\x82\\xac4\\xea\\xb5\\x90)</obsrvtNm><walobsrvtcode>9000195</walobsrvtcode></item></items></body></response>'\n",
            "<?xml version=\"1.0\" encoding=\"UTF-8\" standalone=\"yes\"?><html><body><response><header><resultcode>00</resultcode><resultmsg>NORMAL SERVICE.</resultmsg></header><items><item><obsrvtnm>고현</obsrvtnm><walobsrvtcode>9000255</walobsrvtcode></item><item><obsrvtnm>도산</obsrvtnm><walobsrvtcode>2001660</walobsrvtcode></item><item><obsrvtnm>무계</obsrvtnm><walobsrvtcode>9000194</walobsrvtcode></item><item><obsrvtnm>보현</obsrvtnm><walobsrvtcode>9000193</walobsrvtcode></item><item><obsrvtnm>봉화군(양삼교)</obsrvtnm><walobsrvtcode>2001667</walobsrvtcode></item><item><obsrvtnm>봉화군(임기리)</obsrvtnm><walobsrvtcode>2001630</walobsrvtcode></item><item><obsrvtnm>상주시(상우교)</obsrvtnm><walobsrvtcode>9000196</walobsrvtcode></item><item><obsrvtnm>안동 수위감지</obsrvtnm><walobsrvtcode>9900009</walobsrvtcode></item><item><obsrvtnm>안동댐보조수위</obsrvtnm><walobsrvtcode>8000112</walobsrvtcode></item><item><obsrvtnm>안동시(안동대교)</obsrvtnm><walobsrvtcode>2003610</walobsrvtcode></item><item><obsrvtnm>안동시(안동댐)</obsrvtnm><walobsrvtcode>2001110</walobsrvtcode></item><item><obsrvtnm>안동시(안동댐방수로)</obsrvtnm><walobsrvtcode>2001692</walobsrvtcode></item><item><obsrvtnm>포항시(상사4교)</obsrvtnm><walobsrvtcode>9000195</walobsrvtcode></item></items></response></body></html>\n",
            "b'<?xml version=\"1.0\" encoding=\"UTF-8\" standalone=\"yes\"?><response><header><resultCode>99</resultCode><resultMsg>LIMITED NUMBER OF SERVICE REQUESTS EXCEEDS ERROR.</resultMsg></header></response>'\n",
            "<?xml version=\"1.0\" encoding=\"UTF-8\" standalone=\"yes\"?><html><body><response><header><resultcode>99</resultcode><resultmsg>LIMITED NUMBER OF SERVICE REQUESTS EXCEEDS ERROR.</resultmsg></header></response></body></html>\n",
            "b'<?xml version=\"1.0\" encoding=\"UTF-8\" standalone=\"yes\"?><response><header><resultCode>00</resultCode><resultMsg>NORMAL SERVICE.</resultMsg></header><body><items><item><obsrvtNm>\\xec\\x97\\xac\\xec\\xa3\\xbc\\xeb\\xb3\\xb4\\xec\\x83\\x81\\xeb\\xa5\\x98</obsrvtNm><walobsrvtcode>1007602</walobsrvtcode></item><item><obsrvtNm>\\xec\\x97\\xac\\xec\\xa3\\xbc\\xeb\\xb3\\xb4\\xed\\x95\\x98\\xeb\\xa5\\x98</obsrvtNm><walobsrvtcode>1005688</walobsrvtcode></item></items></body></response>'\n",
            "<?xml version=\"1.0\" encoding=\"UTF-8\" standalone=\"yes\"?><html><body><response><header><resultcode>00</resultcode><resultmsg>NORMAL SERVICE.</resultmsg></header><items><item><obsrvtnm>여주보상류</obsrvtnm><walobsrvtcode>1007602</walobsrvtcode></item><item><obsrvtnm>여주보하류</obsrvtnm><walobsrvtcode>1005688</walobsrvtcode></item></items></response></body></html>\n",
            "b'<?xml version=\"1.0\" encoding=\"UTF-8\" standalone=\"yes\"?><response><header><resultCode>00</resultCode><resultMsg>NORMAL SERVICE.</resultMsg></header><body><items><item><obsrvtNm>\\xea\\xb1\\xb0\\xec\\xa0\\x9c\\xec\\x8b\\x9c(\\xec\\xa3\\xbd\\xec\\xa0\\x84\\xea\\xb5\\x90)</obsrvtNm><walobsrvtcode>9000257</walobsrvtcode></item></items></body></response>'\n",
            "<?xml version=\"1.0\" encoding=\"UTF-8\" standalone=\"yes\"?><html><body><response><header><resultcode>00</resultcode><resultmsg>NORMAL SERVICE.</resultmsg></header><items><item><obsrvtnm>거제시(죽전교)</obsrvtnm><walobsrvtcode>9000257</walobsrvtcode></item></items></response></body></html>\n",
            "b'<?xml version=\"1.0\" encoding=\"UTF-8\" standalone=\"yes\"?><response><header><resultCode>00</resultCode><resultMsg>NORMAL SERVICE.</resultMsg></header><body><items><item><obsrvtNm>\\xec\\xa7\\x80\\xeb\\x8f\\x99\\xea\\xb5\\x90</obsrvtNm><walobsrvtcode>9000243</walobsrvtcode></item><item><obsrvtNm>\\xed\\x8f\\xac\\xed\\x95\\xad\\xec\\x8b\\x9c(\\xeb\\x85\\xbc\\xea\\xb3\\xa8\\xea\\xb5\\x90)</obsrvtNm><walobsrvtcode>2012631</walobsrvtcode></item></items></body></response>'\n",
            "<?xml version=\"1.0\" encoding=\"UTF-8\" standalone=\"yes\"?><html><body><response><header><resultcode>00</resultcode><resultmsg>NORMAL SERVICE.</resultmsg></header><items><item><obsrvtnm>지동교</obsrvtnm><walobsrvtcode>9000243</walobsrvtcode></item><item><obsrvtnm>포항시(논골교)</obsrvtnm><walobsrvtcode>2012631</walobsrvtcode></item></items></response></body></html>\n",
            "b'<?xml version=\"1.0\" encoding=\"UTF-8\" standalone=\"yes\"?><response><header><resultCode>00</resultCode><resultMsg>NORMAL SERVICE.</resultMsg></header><body><items><item><obsrvtNm>\\xeb\\x8c\\x80\\xec\\x95\\xbc\\xea\\xb5\\x90</obsrvtNm><walobsrvtcode>8000120</walobsrvtcode></item><item><obsrvtNm>\\xeb\\x8f\\x99\\xec\\xa0\\x95\\xea\\xb5\\x90</obsrvtNm><walobsrvtcode>3001661</walobsrvtcode></item><item><obsrvtNm>\\xec\\x84\\xac\\xed\\x8b\\xb0\\xea\\xb5\\x90</obsrvtNm><walobsrvtcode>8000121</walobsrvtcode></item><item><obsrvtNm>\\xec\\x9e\\xa5\\xec\\x88\\x98\\xea\\xb5\\xb0(\\xec\\x97\\xb0\\xed\\x99\\x94\\xea\\xb5\\x90)</obsrvtNm><walobsrvtcode>3001620</walobsrvtcode></item><item><obsrvtNm>\\xec\\xa3\\xbc\\xea\\xb3\\xa0\\xea\\xb5\\x90</obsrvtNm><walobsrvtcode>3001664</walobsrvtcode></item><item><obsrvtNm>\\xec\\xa7\\x84\\xec\\x95\\x88\\xea\\xb5\\xb0(\\xec\\x84\\x9d\\xec\\xa0\\x95\\xea\\xb5\\x90)</obsrvtNm><walobsrvtcode>3001663</walobsrvtcode></item><item><obsrvtNm>\\xec\\xa7\\x84\\xec\\x95\\x88\\xea\\xb5\\xb0(\\xec\\x84\\xb1\\xec\\x82\\xb0\\xeb\\xa6\\xac)</obsrvtNm><walobsrvtcode>3001640</walobsrvtcode></item><item><obsrvtNm>\\xec\\xa7\\x84\\xec\\x95\\x88\\xea\\xb5\\xb0(\\xec\\x86\\xa1\\xeb\\x8c\\x80\\xea\\xb5\\x90)</obsrvtNm><walobsrvtcode>3001662</walobsrvtcode></item><item><obsrvtNm>\\xec\\xa7\\x84\\xec\\x95\\x88\\xea\\xb5\\xb0(\\xec\\x8b\\xa0\\xec\\x9a\\xa9\\xeb\\x8b\\xb4\\xea\\xb5\\x90)</obsrvtNm><walobsrvtcode>3002650</walobsrvtcode></item><item><obsrvtNm>\\xec\\xa7\\x84\\xec\\x95\\x88\\xea\\xb5\\xb0(\\xec\\x9a\\xa9\\xeb\\x8b\\xb4\\xeb\\x8c\\x90)</obsrvtNm><walobsrvtcode>3001660</walobsrvtcode></item><item><obsrvtNm>\\xec\\xa7\\x84\\xec\\x95\\x88\\xea\\xb5\\xb0(\\xec\\x9a\\xa9\\xeb\\x8b\\xb4\\xeb\\x8c\\x90\\xeb\\xb0\\xa9\\xec\\x88\\x98\\xeb\\xa1\\x9c)</obsrvtNm><walobsrvtcode>3002660</walobsrvtcode></item><item><obsrvtNm>\\xec\\xa7\\x84\\xec\\x95\\x88\\xea\\xb5\\xb0(\\xec\\xa3\\xbc\\xec\\xb2\\x9c\\xea\\xb5\\x90)</obsrvtNm><walobsrvtcode>3001665</walobsrvtcode></item><item><obsrvtNm>\\xec\\xa7\\x84\\xec\\x95\\x88\\xea\\xb5\\xb0(\\xed\\x95\\x98\\xed\\x96\\xa5\\xea\\xb5\\x90)</obsrvtNm><walobsrvtcode>9000274</walobsrvtcode></item></items></body></response>'\n",
            "<?xml version=\"1.0\" encoding=\"UTF-8\" standalone=\"yes\"?><html><body><response><header><resultcode>00</resultcode><resultmsg>NORMAL SERVICE.</resultmsg></header><items><item><obsrvtnm>대야교</obsrvtnm><walobsrvtcode>8000120</walobsrvtcode></item><item><obsrvtnm>동정교</obsrvtnm><walobsrvtcode>3001661</walobsrvtcode></item><item><obsrvtnm>섬티교</obsrvtnm><walobsrvtcode>8000121</walobsrvtcode></item><item><obsrvtnm>장수군(연화교)</obsrvtnm><walobsrvtcode>3001620</walobsrvtcode></item><item><obsrvtnm>주고교</obsrvtnm><walobsrvtcode>3001664</walobsrvtcode></item><item><obsrvtnm>진안군(석정교)</obsrvtnm><walobsrvtcode>3001663</walobsrvtcode></item><item><obsrvtnm>진안군(성산리)</obsrvtnm><walobsrvtcode>3001640</walobsrvtcode></item><item><obsrvtnm>진안군(송대교)</obsrvtnm><walobsrvtcode>3001662</walobsrvtcode></item><item><obsrvtnm>진안군(신용담교)</obsrvtnm><walobsrvtcode>3002650</walobsrvtcode></item><item><obsrvtnm>진안군(용담댐)</obsrvtnm><walobsrvtcode>3001660</walobsrvtcode></item><item><obsrvtnm>진안군(용담댐방수로)</obsrvtnm><walobsrvtcode>3002660</walobsrvtcode></item><item><obsrvtnm>진안군(주천교)</obsrvtnm><walobsrvtcode>3001665</walobsrvtcode></item><item><obsrvtnm>진안군(하향교)</obsrvtnm><walobsrvtcode>9000274</walobsrvtcode></item></items></response></body></html>\n",
            "b'<?xml version=\"1.0\" encoding=\"UTF-8\" standalone=\"yes\"?><response><header><resultCode>99</resultCode><resultMsg>LIMITED NUMBER OF SERVICE REQUESTS EXCEEDS ERROR.</resultMsg></header></response>'\n",
            "<?xml version=\"1.0\" encoding=\"UTF-8\" standalone=\"yes\"?><html><body><response><header><resultcode>99</resultcode><resultmsg>LIMITED NUMBER OF SERVICE REQUESTS EXCEEDS ERROR.</resultmsg></header></response></body></html>\n",
            "b'<?xml version=\"1.0\" encoding=\"UTF-8\" standalone=\"yes\"?><response><header><resultCode>99</resultCode><resultMsg>LIMITED NUMBER OF SERVICE REQUESTS EXCEEDS ERROR.</resultMsg></header></response>'\n",
            "<?xml version=\"1.0\" encoding=\"UTF-8\" standalone=\"yes\"?><html><body><response><header><resultcode>99</resultcode><resultmsg>LIMITED NUMBER OF SERVICE REQUESTS EXCEEDS ERROR.</resultmsg></header></response></body></html>\n",
            "b'<?xml version=\"1.0\" encoding=\"UTF-8\" standalone=\"yes\"?><response><header><resultCode>00</resultCode><resultMsg>NORMAL SERVICE.</resultMsg></header><body><items><item><obsrvtNm>\\xeb\\xac\\xb8\\xea\\xb2\\xbd\\xec\\x8b\\x9c(\\xeb\\xb6\\x88\\xec\\xa0\\x95\\xeb\\x8f\\x99)</obsrvtNm><walobsrvtcode>2005650</walobsrvtcode></item><item><obsrvtNm>\\xec\\x95\\x88\\xeb\\x8f\\x99\\xec\\x8b\\x9c(\\xea\\xb2\\x80\\xec\\x95\\x94\\xea\\xb5\\x90)</obsrvtNm><walobsrvtcode>2003630</walobsrvtcode></item><item><obsrvtNm>\\xec\\x95\\x88\\xeb\\x8f\\x99\\xec\\x8b\\x9c(\\xec\\x8b\\xa0\\xeb\\x8d\\x95\\xea\\xb5\\x90)</obsrvtNm><walobsrvtcode>2002686</walobsrvtcode></item><item><obsrvtNm>\\xec\\x95\\x88\\xeb\\x8f\\x99\\xec\\x8b\\x9c(\\xec\\x9e\\x84\\xed\\x95\\x98\\xeb\\x8c\\x90)</obsrvtNm><walobsrvtcode>2002670</walobsrvtcode></item><item><obsrvtNm>\\xec\\x95\\x88\\xeb\\x8f\\x99\\xec\\x8b\\x9c(\\xec\\x9e\\x84\\xed\\x95\\x98\\xeb\\x8c\\x90\\xeb\\xb0\\xa9\\xec\\x88\\x98\\xeb\\xa1\\x9c)</obsrvtNm><walobsrvtcode>2002675</walobsrvtcode></item><item><obsrvtNm>\\xec\\x95\\x88\\xeb\\x8f\\x99\\xec\\x8b\\x9c(\\xed\\x8f\\xac\\xec\\xa7\\x84\\xea\\xb5\\x90)</obsrvtNm><walobsrvtcode>2002692</walobsrvtcode></item><item><obsrvtNm>\\xec\\x98\\x81\\xeb\\x8d\\x95\\xea\\xb5\\xb0(\\xeb\\x8c\\x80\\xec\\xa7\\x80\\xeb\\xa6\\xac)</obsrvtNm><walobsrvtcode>2402620</walobsrvtcode></item><item><obsrvtNm>\\xec\\x98\\x81\\xec\\x96\\x91\\xea\\xb5\\xb0(\\xec\\x96\\x91\\xed\\x8f\\x89\\xea\\xb5\\x90)</obsrvtNm><walobsrvtcode>2002620</walobsrvtcode></item><item><obsrvtNm>\\xec\\x98\\x81\\xec\\x96\\x91\\xea\\xb5\\xb0(\\xec\\x9e\\x84\\xec\\xb2\\x9c\\xea\\xb5\\x90)</obsrvtNm><walobsrvtcode>2002645</walobsrvtcode></item><item><obsrvtNm>\\xec\\x98\\x81\\xec\\x96\\x91\\xea\\xb5\\xb0(\\xed\\x9d\\xa5\\xea\\xb5\\xac\\xeb\\xa6\\xac)</obsrvtNm><walobsrvtcode>2002640</walobsrvtcode></item><item><obsrvtNm>\\xec\\x9a\\xb8\\xec\\xa7\\x84\\xea\\xb5\\xb0(\\xea\\xb5\\xac\\xec\\x82\\xb0\\xeb\\xa6\\xac)</obsrvtNm><walobsrvtcode>2401620</walobsrvtcode></item><item><obsrvtNm>\\xec\\x9e\\x84\\xed\\x95\\x98\\xeb\\x8c\\x90\\xed\\x95\\x98\\xeb\\xa5\\x98\\xec\\x88\\x98\\xec\\x9c\\x84</obsrvtNm><walobsrvtcode>8000098</walobsrvtcode></item><item><obsrvtNm>\\xec\\xb2\\xad\\xec\\x86\\xa1\\xea\\xb5\\xb0(\\xea\\xb4\\x91\\xeb\\x8d\\x95\\xea\\xb5\\x90)</obsrvtNm><walobsrvtcode>2002630</walobsrvtcode></item><item><obsrvtNm>\\xec\\xb2\\xad\\xec\\x86\\xa1\\xea\\xb5\\xb0(\\xeb\\x8d\\x95\\xec\\xb2\\x9c\\xea\\xb5\\x90)</obsrvtNm><walobsrvtcode>2002650</walobsrvtcode></item><item><obsrvtNm>\\xec\\xb2\\xad\\xec\\x86\\xa1\\xea\\xb5\\xb0(\\xec\\x86\\xa1\\xea\\xb0\\x952\\xea\\xb5\\x90)</obsrvtNm><walobsrvtcode>2002660</walobsrvtcode></item></items></body></response>'\n",
            "<?xml version=\"1.0\" encoding=\"UTF-8\" standalone=\"yes\"?><html><body><response><header><resultcode>00</resultcode><resultmsg>NORMAL SERVICE.</resultmsg></header><items><item><obsrvtnm>문경시(불정동)</obsrvtnm><walobsrvtcode>2005650</walobsrvtcode></item><item><obsrvtnm>안동시(검암교)</obsrvtnm><walobsrvtcode>2003630</walobsrvtcode></item><item><obsrvtnm>안동시(신덕교)</obsrvtnm><walobsrvtcode>2002686</walobsrvtcode></item><item><obsrvtnm>안동시(임하댐)</obsrvtnm><walobsrvtcode>2002670</walobsrvtcode></item><item><obsrvtnm>안동시(임하댐방수로)</obsrvtnm><walobsrvtcode>2002675</walobsrvtcode></item><item><obsrvtnm>안동시(포진교)</obsrvtnm><walobsrvtcode>2002692</walobsrvtcode></item><item><obsrvtnm>영덕군(대지리)</obsrvtnm><walobsrvtcode>2402620</walobsrvtcode></item><item><obsrvtnm>영양군(양평교)</obsrvtnm><walobsrvtcode>2002620</walobsrvtcode></item><item><obsrvtnm>영양군(임천교)</obsrvtnm><walobsrvtcode>2002645</walobsrvtcode></item><item><obsrvtnm>영양군(흥구리)</obsrvtnm><walobsrvtcode>2002640</walobsrvtcode></item><item><obsrvtnm>울진군(구산리)</obsrvtnm><walobsrvtcode>2401620</walobsrvtcode></item><item><obsrvtnm>임하댐하류수위</obsrvtnm><walobsrvtcode>8000098</walobsrvtcode></item><item><obsrvtnm>청송군(광덕교)</obsrvtnm><walobsrvtcode>2002630</walobsrvtcode></item><item><obsrvtnm>청송군(덕천교)</obsrvtnm><walobsrvtcode>2002650</walobsrvtcode></item><item><obsrvtnm>청송군(송강2교)</obsrvtnm><walobsrvtcode>2002660</walobsrvtcode></item></items></response></body></html>\n",
            "b'<?xml version=\"1.0\" encoding=\"UTF-8\" standalone=\"yes\"?><response><header><resultCode>00</resultCode><resultMsg>NORMAL SERVICE.</resultMsg></header><body><items><item><obsrvtNm>\\xec\\x95\\x88\\xeb\\x8f\\x99\\xec\\x8b\\x9c(\\xec\\x9e\\x84\\xed\\x95\\x98\\xec\\xa1\\xb0\\xec\\xa0\\x95\\xec\\xa7\\x80\\xeb\\x8c\\x90)</obsrvtNm><walobsrvtcode>2001675</walobsrvtcode></item></items></body></response>'\n",
            "<?xml version=\"1.0\" encoding=\"UTF-8\" standalone=\"yes\"?><html><body><response><header><resultcode>00</resultcode><resultmsg>NORMAL SERVICE.</resultmsg></header><items><item><obsrvtnm>안동시(임하조정지댐)</obsrvtnm><walobsrvtcode>2001675</walobsrvtcode></item></items></response></body></html>\n",
            "b'<?xml version=\"1.0\" encoding=\"UTF-8\" standalone=\"yes\"?><response><header><resultCode>99</resultCode><resultMsg>LIMITED NUMBER OF SERVICE REQUESTS EXCEEDS ERROR.</resultMsg></header></response>'\n",
            "<?xml version=\"1.0\" encoding=\"UTF-8\" standalone=\"yes\"?><html><body><response><header><resultcode>99</resultcode><resultmsg>LIMITED NUMBER OF SERVICE REQUESTS EXCEEDS ERROR.</resultmsg></header></response></body></html>\n",
            "b'<?xml version=\"1.0\" encoding=\"UTF-8\" standalone=\"yes\"?><response><header><resultCode>99</resultCode><resultMsg>LIMITED NUMBER OF SERVICE REQUESTS EXCEEDS ERROR.</resultMsg></header></response>'\n",
            "<?xml version=\"1.0\" encoding=\"UTF-8\" standalone=\"yes\"?><html><body><response><header><resultcode>99</resultcode><resultmsg>LIMITED NUMBER OF SERVICE REQUESTS EXCEEDS ERROR.</resultmsg></header></response></body></html>\n",
            "b'<?xml version=\"1.0\" encoding=\"UTF-8\" standalone=\"yes\"?><response><header><resultCode>99</resultCode><resultMsg>LIMITED NUMBER OF SERVICE REQUESTS EXCEEDS ERROR.</resultMsg></header></response>'\n",
            "<?xml version=\"1.0\" encoding=\"UTF-8\" standalone=\"yes\"?><html><body><response><header><resultcode>99</resultcode><resultmsg>LIMITED NUMBER OF SERVICE REQUESTS EXCEEDS ERROR.</resultmsg></header></response></body></html>\n",
            "b'<?xml version=\"1.0\" encoding=\"UTF-8\" standalone=\"yes\"?><response><header><resultCode>00</resultCode><resultMsg>NORMAL SERVICE.</resultMsg></header><body><items/></body></response>'\n",
            "<?xml version=\"1.0\" encoding=\"UTF-8\" standalone=\"yes\"?><html><body><response><header><resultcode>00</resultcode><resultmsg>NORMAL SERVICE.</resultmsg></header><items></items></response></body></html>\n",
            "b'<?xml version=\"1.0\" encoding=\"UTF-8\" standalone=\"yes\"?><response><header><resultCode>99</resultCode><resultMsg>LIMITED NUMBER OF SERVICE REQUESTS EXCEEDS ERROR.</resultMsg></header></response>'\n",
            "<?xml version=\"1.0\" encoding=\"UTF-8\" standalone=\"yes\"?><html><body><response><header><resultcode>99</resultcode><resultmsg>LIMITED NUMBER OF SERVICE REQUESTS EXCEEDS ERROR.</resultmsg></header></response></body></html>\n",
            "b'<?xml version=\"1.0\" encoding=\"UTF-8\" standalone=\"yes\"?><response><header><resultCode>00</resultCode><resultMsg>NORMAL SERVICE.</resultMsg></header><body><items><item><obsrvtNm>\\xec\\xb0\\xbd\\xeb\\x85\\x95\\xed\\x95\\xa8\\xec\\x95\\x88\\xeb\\xb3\\xb4\\xec\\x83\\x81\\xeb\\xa5\\x98</obsrvtNm><walobsrvtcode>2017601</walobsrvtcode></item><item><obsrvtNm>\\xec\\xb0\\xbd\\xeb\\x85\\x95\\xed\\x95\\xa8\\xec\\x95\\x88\\xeb\\xb3\\xb4\\xed\\x95\\x98\\xeb\\xa5\\x98</obsrvtNm><walobsrvtcode>2020662</walobsrvtcode></item></items></body></response>'\n",
            "<?xml version=\"1.0\" encoding=\"UTF-8\" standalone=\"yes\"?><html><body><response><header><resultcode>00</resultcode><resultmsg>NORMAL SERVICE.</resultmsg></header><items><item><obsrvtnm>창녕함안보상류</obsrvtnm><walobsrvtcode>2017601</walobsrvtcode></item><item><obsrvtnm>창녕함안보하류</obsrvtnm><walobsrvtcode>2020662</walobsrvtcode></item></items></response></body></html>\n",
            "b'<?xml version=\"1.0\" encoding=\"UTF-8\" standalone=\"yes\"?><response><header><resultCode>00</resultCode><resultMsg>NORMAL SERVICE.</resultMsg></header><body><items><item><obsrvtNm>\\xea\\xb0\\x80\\xeb\\x8c\\x80\\xea\\xb5\\x90</obsrvtNm><walobsrvtcode>9000251</walobsrvtcode></item><item><obsrvtNm>\\xeb\\x8b\\xa8\\xec\\x96\\x91\\xea\\xb5\\xb0(\\xec\\x83\\x81\\xec\\xa7\\x84\\xeb\\x8c\\x80\\xea\\xb5\\x90)</obsrvtNm><walobsrvtcode>9000252</walobsrvtcode></item><item><obsrvtNm>\\xeb\\x8b\\xa8\\xec\\x96\\x91\\xea\\xb5\\xb0(\\xec\\x98\\xa4\\xec\\x82\\xac\\xeb\\xa6\\xac)</obsrvtNm><walobsrvtcode>1003630</walobsrvtcode></item><item><obsrvtNm>\\xeb\\x8b\\xa8\\xec\\x96\\x91\\xea\\xb5\\xb0(\\xec\\x9a\\xb0\\xed\\x99\\x94\\xea\\xb5\\x90)</obsrvtNm><walobsrvtcode>9000253</walobsrvtcode></item><item><obsrvtNm>\\xeb\\xac\\xb4\\xec\\x82\\xac\\xea\\xb5\\x90</obsrvtNm><walobsrvtcode>9000182</walobsrvtcode></item><item><obsrvtNm>\\xec\\x98\\x81\\xec\\x9b\\x942</obsrvtNm><walobsrvtcode>1001675</walobsrvtcode></item><item><obsrvtNm>\\xec\\x98\\x81\\xec\\x9b\\x94\\xea\\xb5\\xb0(\\xeb\\xb6\\x81\\xec\\x8c\\x8d\\xeb\\xa6\\xac)</obsrvtNm><walobsrvtcode>1002695</walobsrvtcode></item><item><obsrvtNm>\\xec\\x98\\x81\\xec\\x9b\\x94\\xea\\xb5\\xb0(\\xec\\x82\\xbc\\xec\\x98\\xa5\\xea\\xb5\\x90)</obsrvtNm><walobsrvtcode>1003626</walobsrvtcode></item><item><obsrvtNm>\\xec\\x98\\x81\\xec\\x9b\\x94\\xea\\xb5\\xb0(\\xed\\x8c\\x90\\xec\\x9a\\xb4\\xea\\xb5\\x90)</obsrvtNm><walobsrvtcode>1002655</walobsrvtcode></item><item><obsrvtNm>\\xec\\x9a\\xb0\\xec\\x95\\x88(\\xec\\xb6\\xa9\\xec\\xa3\\xbc\\xeb\\x8c\\x90)</obsrvtNm><walobsrvtcode>8000081</walobsrvtcode></item><item><obsrvtNm>\\xec\\x9b\\x94\\xec\\x95\\x85</obsrvtNm><walobsrvtcode>8000080</walobsrvtcode></item><item><obsrvtNm>\\xec\\xa0\\x9c\\xec\\xb2\\x9c\\xec\\x8b\\x9c(\\xec\\xb2\\xad\\xed\\x92\\x8d\\xea\\xb5\\x90)</obsrvtNm><walobsrvtcode>1003655</walobsrvtcode></item><item><obsrvtNm>\\xec\\xb6\\xa9\\xec\\xa3\\xbc\\xeb\\xb3\\xb4\\xec\\xa1\\xb0\\xec\\x88\\x98\\xec\\x9c\\x84</obsrvtNm><walobsrvtcode>8000119</walobsrvtcode></item><item><obsrvtNm>\\xec\\xb6\\xa9\\xec\\xa3\\xbc\\xec\\x8b\\x9c(\\xeb\\xaa\\x85\\xec\\x84\\x9c\\xea\\xb5\\x90)</obsrvtNm><walobsrvtcode>9000181</walobsrvtcode></item><item><obsrvtNm>\\xec\\xb6\\xa9\\xec\\xa3\\xbc\\xec\\x8b\\x9c(\\xec\\xb6\\xa9\\xec\\xa3\\xbc\\xeb\\x8c\\x90)</obsrvtNm><walobsrvtcode>1003690</walobsrvtcode></item><item><obsrvtNm>\\xec\\xb6\\xa9\\xec\\xa3\\xbc\\xec\\x8b\\x9c(\\xec\\xb6\\xa9\\xec\\xa3\\xbc\\xeb\\x8c\\x90\\xeb\\xb0\\xa9\\xec\\x88\\x98\\xeb\\xa1\\x9c)</obsrvtNm><walobsrvtcode>1003696</walobsrvtcode></item><item><obsrvtNm>\\xec\\xb6\\xa9\\xec\\xa3\\xbc\\xec\\x8b\\x9c(\\xed\\x8c\\x94\\xeb\\xb4\\x89\\xea\\xb5\\x90)</obsrvtNm><walobsrvtcode>9000273</walobsrvtcode></item><item><obsrvtNm>\\xec\\xb6\\xa9\\xec\\xa3\\xbc\\xec\\x8b\\x9c(\\xed\\x96\\xa5\\xec\\x82\\xb0\\xeb\\xa6\\xac)</obsrvtNm><walobsrvtcode>1004690</walobsrvtcode></item></items></body></response>'\n",
            "<?xml version=\"1.0\" encoding=\"UTF-8\" standalone=\"yes\"?><html><body><response><header><resultcode>00</resultcode><resultmsg>NORMAL SERVICE.</resultmsg></header><items><item><obsrvtnm>가대교</obsrvtnm><walobsrvtcode>9000251</walobsrvtcode></item><item><obsrvtnm>단양군(상진대교)</obsrvtnm><walobsrvtcode>9000252</walobsrvtcode></item><item><obsrvtnm>단양군(오사리)</obsrvtnm><walobsrvtcode>1003630</walobsrvtcode></item><item><obsrvtnm>단양군(우화교)</obsrvtnm><walobsrvtcode>9000253</walobsrvtcode></item><item><obsrvtnm>무사교</obsrvtnm><walobsrvtcode>9000182</walobsrvtcode></item><item><obsrvtnm>영월2</obsrvtnm><walobsrvtcode>1001675</walobsrvtcode></item><item><obsrvtnm>영월군(북쌍리)</obsrvtnm><walobsrvtcode>1002695</walobsrvtcode></item><item><obsrvtnm>영월군(삼옥교)</obsrvtnm><walobsrvtcode>1003626</walobsrvtcode></item><item><obsrvtnm>영월군(판운교)</obsrvtnm><walobsrvtcode>1002655</walobsrvtcode></item><item><obsrvtnm>우안(충주댐)</obsrvtnm><walobsrvtcode>8000081</walobsrvtcode></item><item><obsrvtnm>월악</obsrvtnm><walobsrvtcode>8000080</walobsrvtcode></item><item><obsrvtnm>제천시(청풍교)</obsrvtnm><walobsrvtcode>1003655</walobsrvtcode></item><item><obsrvtnm>충주보조수위</obsrvtnm><walobsrvtcode>8000119</walobsrvtcode></item><item><obsrvtnm>충주시(명서교)</obsrvtnm><walobsrvtcode>9000181</walobsrvtcode></item><item><obsrvtnm>충주시(충주댐)</obsrvtnm><walobsrvtcode>1003690</walobsrvtcode></item><item><obsrvtnm>충주시(충주댐방수로)</obsrvtnm><walobsrvtcode>1003696</walobsrvtcode></item><item><obsrvtnm>충주시(팔봉교)</obsrvtnm><walobsrvtcode>9000273</walobsrvtcode></item><item><obsrvtnm>충주시(향산리)</obsrvtnm><walobsrvtcode>1004690</walobsrvtcode></item></items></response></body></html>\n",
            "b'<?xml version=\"1.0\" encoding=\"UTF-8\" standalone=\"yes\"?><response><header><resultCode>99</resultCode><resultMsg>LIMITED NUMBER OF SERVICE REQUESTS EXCEEDS ERROR.</resultMsg></header></response>'\n",
            "<?xml version=\"1.0\" encoding=\"UTF-8\" standalone=\"yes\"?><html><body><response><header><resultcode>99</resultcode><resultmsg>LIMITED NUMBER OF SERVICE REQUESTS EXCEEDS ERROR.</resultmsg></header></response></body></html>\n",
            "b'<?xml version=\"1.0\" encoding=\"UTF-8\" standalone=\"yes\"?><response><header><resultCode>00</resultCode><resultMsg>NORMAL SERVICE.</resultMsg></header><body><items><item><obsrvtNm>\\xec\\xb9\\xa0\\xea\\xb3\\xa1\\xeb\\xb3\\xb4\\xec\\x83\\x81\\xeb\\xa5\\x98</obsrvtNm><walobsrvtcode>2011601</walobsrvtcode></item><item><obsrvtNm>\\xec\\xb9\\xa0\\xea\\xb3\\xa1\\xeb\\xb3\\xb4\\xed\\x95\\x98\\xeb\\xa5\\x98</obsrvtNm><walobsrvtcode>2009617</walobsrvtcode></item></items></body></response>'\n",
            "<?xml version=\"1.0\" encoding=\"UTF-8\" standalone=\"yes\"?><html><body><response><header><resultcode>00</resultcode><resultmsg>NORMAL SERVICE.</resultmsg></header><items><item><obsrvtnm>칠곡보상류</obsrvtnm><walobsrvtcode>2011601</walobsrvtcode></item><item><obsrvtnm>칠곡보하류</obsrvtnm><walobsrvtcode>2009617</walobsrvtcode></item></items></response></body></html>\n",
            "b'<?xml version=\"1.0\" encoding=\"UTF-8\" standalone=\"yes\"?><response><header><resultCode>00</resultCode><resultMsg>NORMAL SERVICE.</resultMsg></header><body><items/></body></response>'\n",
            "<?xml version=\"1.0\" encoding=\"UTF-8\" standalone=\"yes\"?><html><body><response><header><resultcode>00</resultcode><resultmsg>NORMAL SERVICE.</resultmsg></header><items></items></response></body></html>\n",
            "b'<?xml version=\"1.0\" encoding=\"UTF-8\" standalone=\"yes\"?><response><header><resultCode>99</resultCode><resultMsg>LIMITED NUMBER OF SERVICE REQUESTS EXCEEDS ERROR.</resultMsg></header></response>'\n",
            "<?xml version=\"1.0\" encoding=\"UTF-8\" standalone=\"yes\"?><html><body><response><header><resultcode>99</resultcode><resultmsg>LIMITED NUMBER OF SERVICE REQUESTS EXCEEDS ERROR.</resultmsg></header></response></body></html>\n",
            "b'<?xml version=\"1.0\" encoding=\"UTF-8\" standalone=\"yes\"?><response><header><resultCode>99</resultCode><resultMsg>LIMITED NUMBER OF SERVICE REQUESTS EXCEEDS ERROR.</resultMsg></header></response>'\n",
            "<?xml version=\"1.0\" encoding=\"UTF-8\" standalone=\"yes\"?><html><body><response><header><resultcode>99</resultcode><resultmsg>LIMITED NUMBER OF SERVICE REQUESTS EXCEEDS ERROR.</resultmsg></header></response></body></html>\n",
            "b'<?xml version=\"1.0\" encoding=\"UTF-8\" standalone=\"yes\"?><response><header><resultCode>00</resultCode><resultMsg>NORMAL SERVICE.</resultMsg></header><body><items><item><obsrvtNm>\\xed\\x95\\xa9\\xec\\xb2\\x9c\\xea\\xb5\\xb0(\\xed\\x95\\xa9\\xec\\xb2\\x9c\\xec\\xa1\\xb0\\xec\\xa0\\x95\\xec\\xa7\\x80\\xeb\\x8c\\x90)</obsrvtNm><walobsrvtcode>2016640</walobsrvtcode></item><item><obsrvtNm>\\xed\\x95\\xa9\\xec\\xb2\\x9c\\xea\\xb5\\xb0(\\xed\\x95\\xa9\\xec\\xb2\\x9c\\xec\\xa1\\xb0\\xec\\xa0\\x95\\xec\\xa7\\x80\\xeb\\xb0\\xa9\\xec\\x88\\x98\\xeb\\xa1\\x9c)</obsrvtNm><walobsrvtcode>8000017</walobsrvtcode></item></items></body></response>'\n",
            "<?xml version=\"1.0\" encoding=\"UTF-8\" standalone=\"yes\"?><html><body><response><header><resultcode>00</resultcode><resultmsg>NORMAL SERVICE.</resultmsg></header><items><item><obsrvtnm>합천군(합천조정지댐)</obsrvtnm><walobsrvtcode>2016640</walobsrvtcode></item><item><obsrvtnm>합천군(합천조정지방수로)</obsrvtnm><walobsrvtcode>8000017</walobsrvtcode></item></items></response></body></html>\n",
            "b'<?xml version=\"1.0\" encoding=\"UTF-8\" standalone=\"yes\"?><response><header><resultCode>00</resultCode><resultMsg>NORMAL SERVICE.</resultMsg></header><body><items><item><obsrvtNm>\\xed\\x95\\xa9\\xec\\xb2\\x9c\\xec\\xb0\\xbd\\xeb\\x85\\x95\\xeb\\xb3\\xb4\\xec\\x83\\x81\\xeb\\xa5\\x98</obsrvtNm><walobsrvtcode>2014602</walobsrvtcode></item><item><obsrvtNm>\\xed\\x95\\xa9\\xec\\xb2\\x9c\\xec\\xb0\\xbd\\xeb\\x85\\x95\\xeb\\xb3\\xb4\\xed\\x95\\x98\\xeb\\xa5\\x98</obsrvtNm><walobsrvtcode>2014663</walobsrvtcode></item></items></body></response>'\n",
            "<?xml version=\"1.0\" encoding=\"UTF-8\" standalone=\"yes\"?><html><body><response><header><resultcode>00</resultcode><resultmsg>NORMAL SERVICE.</resultmsg></header><items><item><obsrvtnm>합천창녕보상류</obsrvtnm><walobsrvtcode>2014602</walobsrvtcode></item><item><obsrvtnm>합천창녕보하류</obsrvtnm><walobsrvtcode>2014663</walobsrvtcode></item></items></response></body></html>\n",
            "b'<?xml version=\"1.0\" encoding=\"UTF-8\" standalone=\"yes\"?><response><header><resultCode>99</resultCode><resultMsg>LIMITED NUMBER OF SERVICE REQUESTS EXCEEDS ERROR.</resultMsg></header></response>'\n",
            "<?xml version=\"1.0\" encoding=\"UTF-8\" standalone=\"yes\"?><html><body><response><header><resultcode>99</resultcode><resultmsg>LIMITED NUMBER OF SERVICE REQUESTS EXCEEDS ERROR.</resultmsg></header></response></body></html>\n",
            "[[], [], [<item><obsrvtnm>강천보상류</obsrvtnm><walobsrvtcode>1007601</walobsrvtcode></item>, <item><obsrvtnm>강천보하류</obsrvtnm><walobsrvtcode>1005681</walobsrvtcode></item>], [], [<item><obsrvtnm>삼척시(갈밭교)</obsrvtnm><walobsrvtcode>9000266</walobsrvtcode></item>, <item><obsrvtnm>삼척시(광동교)</obsrvtnm><walobsrvtcode>9000264</walobsrvtcode></item>, <item><obsrvtnm>삼척시(번천교)</obsrvtnm><walobsrvtcode>9000268</walobsrvtcode></item>, <item><obsrvtnm>태백시(무사교)</obsrvtnm><walobsrvtcode>9000265</walobsrvtcode></item>], [<item><obsrvtnm>구미보상류</obsrvtnm><walobsrvtcode>2009602</walobsrvtcode></item>, <item><obsrvtnm>구미보하류</obsrvtnm><walobsrvtcode>2009615</walobsrvtcode></item>], [], [], [<item><obsrvtnm>군위군(동곡교)</obsrvtnm><walobsrvtcode>2008615</walobsrvtcode></item>, <item><obsrvtnm>군위군(화수교)</obsrvtnm><walobsrvtcode>2008620</walobsrvtcode></item>], [<item><obsrvtnm>낙단보상류</obsrvtnm><walobsrvtcode>2009601</walobsrvtcode></item>, <item><obsrvtnm>낙단보하류</obsrvtnm><walobsrvtcode>2007617</walobsrvtcode></item>], [], [], [<item><obsrvtnm>동해시(원평교)</obsrvtnm><walobsrvtcode>9000267</walobsrvtcode></item>], [], [], [<item><obsrvtnm>울산시(대암교)</obsrvtnm><walobsrvtcode>9000263</walobsrvtcode></item>], [<item><obsrvtnm>공주시(평소리)</obsrvtnm><walobsrvtcode>3012630</walobsrvtcode></item>, <item><obsrvtnm>금산군(적벽교)</obsrvtnm><walobsrvtcode>3004620</walobsrvtcode></item>, <item><obsrvtnm>나성간이</obsrvtnm><walobsrvtcode>9000241</walobsrvtcode></item>, <item><obsrvtnm>대청댐방수로</obsrvtnm><walobsrvtcode>3008690</walobsrvtcode></item>, <item><obsrvtnm>두평</obsrvtnm><walobsrvtcode>9000242</walobsrvtcode></item>, <item><obsrvtnm>영동군(율리)</obsrvtnm><walobsrvtcode>3005680</walobsrvtcode></item>, <item><obsrvtnm>영동군(호탄리)</obsrvtnm><walobsrvtcode>3004650</walobsrvtcode></item>, <item><obsrvtnm>옥천군(산계리)</obsrvtnm><walobsrvtcode>3007670</walobsrvtcode></item>, <item><obsrvtnm>옥천군(이원대교)</obsrvtnm><walobsrvtcode>3006680</walobsrvtcode></item>, <item><obsrvtnm>청주시(대청댐)</obsrvtnm><walobsrvtcode>3008110</walobsrvtcode></item>, <item><obsrvtnm>청주시(대청댐보조수위)</obsrvtnm><walobsrvtcode>8000094</walobsrvtcode></item>], [<item><obsrvtnm>대전시(대청조정지댐)</obsrvtnm><walobsrvtcode>3008695</walobsrvtcode></item>], [], [<item><obsrvtnm>백제보상류</obsrvtnm><walobsrvtcode>3012602</walobsrvtcode></item>, <item><obsrvtnm>백제보하류</obsrvtnm><walobsrvtcode>3012677</walobsrvtcode></item>], [], [], [], [], [], [], [], [], [], [<item><obsrvtnm>승촌보상류</obsrvtnm><walobsrvtcode>5004601</walobsrvtcode></item>, <item><obsrvtnm>승촌보하류</obsrvtnm><walobsrvtcode>5004660</walobsrvtcode></item>], [], [<item><obsrvtnm>고현</obsrvtnm><walobsrvtcode>9000255</walobsrvtcode></item>, <item><obsrvtnm>도산</obsrvtnm><walobsrvtcode>2001660</walobsrvtcode></item>, <item><obsrvtnm>무계</obsrvtnm><walobsrvtcode>9000194</walobsrvtcode></item>, <item><obsrvtnm>보현</obsrvtnm><walobsrvtcode>9000193</walobsrvtcode></item>, <item><obsrvtnm>봉화군(양삼교)</obsrvtnm><walobsrvtcode>2001667</walobsrvtcode></item>, <item><obsrvtnm>봉화군(임기리)</obsrvtnm><walobsrvtcode>2001630</walobsrvtcode></item>, <item><obsrvtnm>상주시(상우교)</obsrvtnm><walobsrvtcode>9000196</walobsrvtcode></item>, <item><obsrvtnm>안동 수위감지</obsrvtnm><walobsrvtcode>9900009</walobsrvtcode></item>, <item><obsrvtnm>안동댐보조수위</obsrvtnm><walobsrvtcode>8000112</walobsrvtcode></item>, <item><obsrvtnm>안동시(안동대교)</obsrvtnm><walobsrvtcode>2003610</walobsrvtcode></item>, <item><obsrvtnm>안동시(안동댐)</obsrvtnm><walobsrvtcode>2001110</walobsrvtcode></item>, <item><obsrvtnm>안동시(안동댐방수로)</obsrvtnm><walobsrvtcode>2001692</walobsrvtcode></item>, <item><obsrvtnm>포항시(상사4교)</obsrvtnm><walobsrvtcode>9000195</walobsrvtcode></item>], [], [<item><obsrvtnm>여주보상류</obsrvtnm><walobsrvtcode>1007602</walobsrvtcode></item>, <item><obsrvtnm>여주보하류</obsrvtnm><walobsrvtcode>1005688</walobsrvtcode></item>], [<item><obsrvtnm>거제시(죽전교)</obsrvtnm><walobsrvtcode>9000257</walobsrvtcode></item>], [<item><obsrvtnm>지동교</obsrvtnm><walobsrvtcode>9000243</walobsrvtcode></item>, <item><obsrvtnm>포항시(논골교)</obsrvtnm><walobsrvtcode>2012631</walobsrvtcode></item>], [<item><obsrvtnm>대야교</obsrvtnm><walobsrvtcode>8000120</walobsrvtcode></item>, <item><obsrvtnm>동정교</obsrvtnm><walobsrvtcode>3001661</walobsrvtcode></item>, <item><obsrvtnm>섬티교</obsrvtnm><walobsrvtcode>8000121</walobsrvtcode></item>, <item><obsrvtnm>장수군(연화교)</obsrvtnm><walobsrvtcode>3001620</walobsrvtcode></item>, <item><obsrvtnm>주고교</obsrvtnm><walobsrvtcode>3001664</walobsrvtcode></item>, <item><obsrvtnm>진안군(석정교)</obsrvtnm><walobsrvtcode>3001663</walobsrvtcode></item>, <item><obsrvtnm>진안군(성산리)</obsrvtnm><walobsrvtcode>3001640</walobsrvtcode></item>, <item><obsrvtnm>진안군(송대교)</obsrvtnm><walobsrvtcode>3001662</walobsrvtcode></item>, <item><obsrvtnm>진안군(신용담교)</obsrvtnm><walobsrvtcode>3002650</walobsrvtcode></item>, <item><obsrvtnm>진안군(용담댐)</obsrvtnm><walobsrvtcode>3001660</walobsrvtcode></item>, <item><obsrvtnm>진안군(용담댐방수로)</obsrvtnm><walobsrvtcode>3002660</walobsrvtcode></item>, <item><obsrvtnm>진안군(주천교)</obsrvtnm><walobsrvtcode>3001665</walobsrvtcode></item>, <item><obsrvtnm>진안군(하향교)</obsrvtnm><walobsrvtcode>9000274</walobsrvtcode></item>], [], [], [<item><obsrvtnm>문경시(불정동)</obsrvtnm><walobsrvtcode>2005650</walobsrvtcode></item>, <item><obsrvtnm>안동시(검암교)</obsrvtnm><walobsrvtcode>2003630</walobsrvtcode></item>, <item><obsrvtnm>안동시(신덕교)</obsrvtnm><walobsrvtcode>2002686</walobsrvtcode></item>, <item><obsrvtnm>안동시(임하댐)</obsrvtnm><walobsrvtcode>2002670</walobsrvtcode></item>, <item><obsrvtnm>안동시(임하댐방수로)</obsrvtnm><walobsrvtcode>2002675</walobsrvtcode></item>, <item><obsrvtnm>안동시(포진교)</obsrvtnm><walobsrvtcode>2002692</walobsrvtcode></item>, <item><obsrvtnm>영덕군(대지리)</obsrvtnm><walobsrvtcode>2402620</walobsrvtcode></item>, <item><obsrvtnm>영양군(양평교)</obsrvtnm><walobsrvtcode>2002620</walobsrvtcode></item>, <item><obsrvtnm>영양군(임천교)</obsrvtnm><walobsrvtcode>2002645</walobsrvtcode></item>, <item><obsrvtnm>영양군(흥구리)</obsrvtnm><walobsrvtcode>2002640</walobsrvtcode></item>, <item><obsrvtnm>울진군(구산리)</obsrvtnm><walobsrvtcode>2401620</walobsrvtcode></item>, <item><obsrvtnm>임하댐하류수위</obsrvtnm><walobsrvtcode>8000098</walobsrvtcode></item>, <item><obsrvtnm>청송군(광덕교)</obsrvtnm><walobsrvtcode>2002630</walobsrvtcode></item>, <item><obsrvtnm>청송군(덕천교)</obsrvtnm><walobsrvtcode>2002650</walobsrvtcode></item>, <item><obsrvtnm>청송군(송강2교)</obsrvtnm><walobsrvtcode>2002660</walobsrvtcode></item>], [<item><obsrvtnm>안동시(임하조정지댐)</obsrvtnm><walobsrvtcode>2001675</walobsrvtcode></item>], [], [], [], [], [], [<item><obsrvtnm>창녕함안보상류</obsrvtnm><walobsrvtcode>2017601</walobsrvtcode></item>, <item><obsrvtnm>창녕함안보하류</obsrvtnm><walobsrvtcode>2020662</walobsrvtcode></item>], [<item><obsrvtnm>가대교</obsrvtnm><walobsrvtcode>9000251</walobsrvtcode></item>, <item><obsrvtnm>단양군(상진대교)</obsrvtnm><walobsrvtcode>9000252</walobsrvtcode></item>, <item><obsrvtnm>단양군(오사리)</obsrvtnm><walobsrvtcode>1003630</walobsrvtcode></item>, <item><obsrvtnm>단양군(우화교)</obsrvtnm><walobsrvtcode>9000253</walobsrvtcode></item>, <item><obsrvtnm>무사교</obsrvtnm><walobsrvtcode>9000182</walobsrvtcode></item>, <item><obsrvtnm>영월2</obsrvtnm><walobsrvtcode>1001675</walobsrvtcode></item>, <item><obsrvtnm>영월군(북쌍리)</obsrvtnm><walobsrvtcode>1002695</walobsrvtcode></item>, <item><obsrvtnm>영월군(삼옥교)</obsrvtnm><walobsrvtcode>1003626</walobsrvtcode></item>, <item><obsrvtnm>영월군(판운교)</obsrvtnm><walobsrvtcode>1002655</walobsrvtcode></item>, <item><obsrvtnm>우안(충주댐)</obsrvtnm><walobsrvtcode>8000081</walobsrvtcode></item>, <item><obsrvtnm>월악</obsrvtnm><walobsrvtcode>8000080</walobsrvtcode></item>, <item><obsrvtnm>제천시(청풍교)</obsrvtnm><walobsrvtcode>1003655</walobsrvtcode></item>, <item><obsrvtnm>충주보조수위</obsrvtnm><walobsrvtcode>8000119</walobsrvtcode></item>, <item><obsrvtnm>충주시(명서교)</obsrvtnm><walobsrvtcode>9000181</walobsrvtcode></item>, <item><obsrvtnm>충주시(충주댐)</obsrvtnm><walobsrvtcode>1003690</walobsrvtcode></item>, <item><obsrvtnm>충주시(충주댐방수로)</obsrvtnm><walobsrvtcode>1003696</walobsrvtcode></item>, <item><obsrvtnm>충주시(팔봉교)</obsrvtnm><walobsrvtcode>9000273</walobsrvtcode></item>, <item><obsrvtnm>충주시(향산리)</obsrvtnm><walobsrvtcode>1004690</walobsrvtcode></item>], [], [<item><obsrvtnm>칠곡보상류</obsrvtnm><walobsrvtcode>2011601</walobsrvtcode></item>, <item><obsrvtnm>칠곡보하류</obsrvtnm><walobsrvtcode>2009617</walobsrvtcode></item>], [], [], [], [<item><obsrvtnm>합천군(합천조정지댐)</obsrvtnm><walobsrvtcode>2016640</walobsrvtcode></item>, <item><obsrvtnm>합천군(합천조정지방수로)</obsrvtnm><walobsrvtcode>8000017</walobsrvtcode></item>], [<item><obsrvtnm>합천창녕보상류</obsrvtnm><walobsrvtcode>2014602</walobsrvtcode></item>, <item><obsrvtnm>합천창녕보하류</obsrvtnm><walobsrvtcode>2014663</walobsrvtcode></item>], []]\n"
          ]
        }
      ]
    },
    {
      "cell_type": "code",
      "metadata": {
        "id": "t_wpF0OIodCJ"
      },
      "source": [
        "\n",
        "filePath = '/content/drive/MyDrive/water_resource_csv/xmlrows.xml'\n",
        "\n",
        "\n",
        "with open(filePath, 'wb') as lf:\n",
        "    pickle.dump(xmlrows, lf)\n",
        "\n",
        "\n",
        "with open(filePath, 'rb') as lf:\n",
        "    readList = pickle.load(lf)\n"
      ],
      "execution_count": 23,
      "outputs": []
    },
    {
      "cell_type": "code",
      "metadata": {
        "id": "Af6iBH4Yohx4"
      },
      "source": [
        "rowList = []\n",
        "nameList = []\n",
        "columnList = []\n",
        "xmlrowsLen = len(xmlrows)\n",
        "target = 0\n",
        "for i in range(0, xmlrowsLen):\n",
        "    \n",
        "   \n",
        "    if len(xmlrows[i]) == 0:\n",
        "       target = target + 1\n",
        "      \n",
        "    else:\n",
        "        break #반복문 종료\n",
        "columns = xmlrows[target][0].find_all()\n",
        "columnsLen = len(columns)\n",
        "for i in range(0, columnsLen):\n",
        "    nameList.append(columns[i].name)\n",
        "nameList = [\"Damcode\"] + nameList\n"
      ],
      "execution_count": 24,
      "outputs": []
    },
    {
      "cell_type": "code",
      "metadata": {
        "colab": {
          "base_uri": "https://localhost:8080/"
        },
        "id": "FNJR1gazojWa",
        "outputId": "0a297a38-a37e-4e58-a207-a7f11ce4544a"
      },
      "source": [
        "xmlrows[0]"
      ],
      "execution_count": 25,
      "outputs": [
        {
          "output_type": "execute_result",
          "data": {
            "text/plain": [
              "[]"
            ]
          },
          "metadata": {},
          "execution_count": 25
        }
      ]
    },
    {
      "cell_type": "code",
      "metadata": {
        "id": "UgDNOm7Kolrh"
      },
      "source": [
        "total = []\n",
        "damcodeLen = len(damcode)\n",
        "\n",
        "\n",
        "def el_code(a): \n",
        "    columnList = []\n",
        "    eachrows = xmlrows[a]\n",
        "    eachrowslen = len(eachrows)\n",
        "    for i in range(0, eachrowslen):\n",
        "        columns = eachrows[i].find_all()\n",
        "        columnsLen = len(columns)\n",
        "        for j in range(0, columnsLen):\n",
        "            eachColumn = columns[j].text \n",
        "            columnList.append(eachColumn)\n",
        "        columnList = [damcode[a]] + columnList\n",
        "        rowList.append(columnList)\n",
        "        columnList = []\n",
        "    return rowList\n",
        "\n",
        "\n",
        "\n",
        "for a in range(0, damcodeLen):\n",
        "    rowList=el_code(a)\n",
        "    total.append(rowList)\n",
        "\n",
        "result = pd.DataFrame(total[0], columns=nameList)\n",
        "\n",
        "   "
      ],
      "execution_count": 26,
      "outputs": []
    },
    {
      "cell_type": "code",
      "metadata": {
        "id": "ZOru4vFCong5"
      },
      "source": [
        "result.to_csv(\"/content/drive/MyDrive/water_resource_csv/walcode.csv\",encoding=\"utf-8-sig\")"
      ],
      "execution_count": 27,
      "outputs": []
    },
    {
      "cell_type": "code",
      "metadata": {
        "id": "YYq1xtrwopMh"
      },
      "source": [
        "result"
      ],
      "execution_count": null,
      "outputs": []
    }
  ]
}