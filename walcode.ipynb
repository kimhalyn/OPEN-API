{
  "nbformat": 4,
  "nbformat_minor": 0,
  "metadata": {
    "colab": {
      "name": "walcode.ipynb",
      "provenance": [],
      "collapsed_sections": [],
      "mount_file_id": "1jgdORkTEvQSe0xqKCXIZjHTPS7s4CnyM",
      "authorship_tag": "ABX9TyOushyp+1+ri5ictObZOXaZ",
      "include_colab_link": true
    },
    "kernelspec": {
      "name": "python3",
      "display_name": "Python 3"
    },
    "language_info": {
      "name": "python"
    }
  },
  "cells": [
    {
      "cell_type": "markdown",
      "metadata": {
        "id": "view-in-github",
        "colab_type": "text"
      },
      "source": [
        "<a href=\"https://colab.research.google.com/github/kimhalyn/OPEN-API/blob/main/walcode.ipynb\" target=\"_parent\"><img src=\"https://colab.research.google.com/assets/colab-badge.svg\" alt=\"Open In Colab\"/></a>"
      ]
    },
    {
      "cell_type": "code",
      "metadata": {
        "colab": {
          "base_uri": "https://localhost:8080/"
        },
        "id": "AOjHZTTeoGwb",
        "outputId": "f6ac03a9-3ff3-4183-dd51-11e21f30843d"
      },
      "source": [
        "# 라이브러리\n",
        "# colab에 xmltodict 라이브러리가 기본 설치되지 않으므로 별도 설치(외부 라이브러리)\n",
        "!pip install xmltodict \n",
        "from urllib.request import urlopen, Request\n",
        "from urllib.parse import urlencode, unquote, quote_plus\n",
        "from bs4 import BeautifulSoup\n",
        "import pandas as pd\n",
        "import requests, xmltodict, json\n",
        "from xml.etree.ElementTree import Element, SubElement, ElementTree\n",
        "import xml.etree.ElementTree as ET\n",
        "import pickle\n",
        "import numpy as np"
      ],
      "execution_count": 1,
      "outputs": [
        {
          "output_type": "stream",
          "name": "stdout",
          "text": [
            "Collecting xmltodict\n",
            "  Downloading xmltodict-0.12.0-py2.py3-none-any.whl (9.2 kB)\n",
            "Installing collected packages: xmltodict\n",
            "Successfully installed xmltodict-0.12.0\n"
          ]
        }
      ]
    },
    {
      "cell_type": "code",
      "metadata": {
        "colab": {
          "base_uri": "https://localhost:8080/"
        },
        "id": "Ic1MXA0oobda",
        "outputId": "0e13944b-2425-44dd-b6b7-b4ecfc7f72d1"
      },
      "source": [
        "from google.colab import drive\n",
        "drive.mount('/content/drive')"
      ],
      "execution_count": 2,
      "outputs": [
        {
          "output_type": "stream",
          "name": "stdout",
          "text": [
            "Mounted at /content/drive\n"
          ]
        }
      ]
    },
    {
      "cell_type": "code",
      "metadata": {
        "colab": {
          "base_uri": "https://localhost:8080/"
        },
        "id": "G4BF3JXrowHR",
        "outputId": "1a338a89-3e02-4354-dd9a-5d89891b9369"
      },
      "source": [
        "\n",
        "import requests, bs4\n",
        "import pandas as pd\n",
        "from lxml import html\n",
        "from urllib.request import Request, urlopen\n",
        "from urllib.parse import urlencode, quote_plus, unquote\n",
        "from time import sleep\n",
        "import csv\n",
        "\n",
        "url = 'http://opendata.kwater.or.kr/openapi-data/service/pubd/dam/excllncobsrvt/wal/list' #!!확인\n",
        "key = 'tMF2MGGUmsNNPf15Nr91+UA4YVQiWXVjLS7R0odxGSR0yfNjcHFkdRpCT6hXbILlBP1T+TnDJYz1kkDjiaIiQg==' #!!확인\n",
        " \n",
        "api_key = requests.utils.unquote(key) #디코딩\n",
        "\n",
        "# 댐코드 불러오기\n",
        "data = pd.read_csv('/content/drive/MyDrive/water_resource_csv/damCode.csv') #!!확인\n",
        "\n",
        "# 필요한 코드 조회\n",
        "damcode = data.iloc[:, 1] #!!열 확인\n",
        "xmlrows = []\n",
        "for code in damcode:\n",
        "\n",
        "  Params = '?' + urlencode({quote_plus('ServiceKey') : api_key,\n",
        "                                quote_plus('damcode') : code})  \n",
        "#  print(Params)\n",
        "\n",
        "  res = requests.get(url + Params).text.encode('utf-8') # 요청에 대한 응답내용(.encode빼기도 함)\n",
        "  sleep(0.5)\n",
        "  print(res) \n",
        "  \n",
        "  xmlobj = bs4.BeautifulSoup(res, 'lxml') #lxml 파서(구문분석)  'lxml-xml'\n",
        "  print(xmlobj)\n",
        "  \n",
        "  #item 태그 분리\n",
        "  rows = xmlobj.findAll('item') # 매치되는 문자열을 리스트로 리턴\n",
        "  xmlrows.append(rows)\n",
        "  \n",
        "print (xmlrows)"
      ],
      "execution_count": 12,
      "outputs": [
        {
          "output_type": "stream",
          "name": "stdout",
          "text": [
            "b'<?xml version=\"1.0\" encoding=\"UTF-8\" standalone=\"yes\"?><response><header><resultCode>00</resultCode><resultMsg>NORMAL SERVICE.</resultMsg></header><body><items/></body></response>'\n",
            "<?xml version=\"1.0\" encoding=\"UTF-8\" standalone=\"yes\"?><html><body><response><header><resultcode>00</resultcode><resultmsg>NORMAL SERVICE.</resultmsg></header><items></items></response></body></html>\n",
            "b'<?xml version=\"1.0\" encoding=\"UTF-8\" standalone=\"yes\"?><response><header><resultCode>00</resultCode><resultMsg>NORMAL SERVICE.</resultMsg></header><body><items><item><obsrvtNm>\\xea\\xb0\\x95\\xec\\xa0\\x95\\xea\\xb3\\xa0\\xeb\\xa0\\xb9\\xeb\\xb3\\xb4\\xec\\x83\\x81\\xeb\\xa5\\x98</obsrvtNm><walobsrvtcode>2011602</walobsrvtcode></item><item><obsrvtNm>\\xea\\xb0\\x95\\xec\\xa0\\x95\\xea\\xb3\\xa0\\xeb\\xa0\\xb9\\xeb\\xb3\\xb4\\xed\\x95\\x98\\xeb\\xa5\\x98</obsrvtNm><walobsrvtcode>2011655</walobsrvtcode></item></items></body></response>'\n",
            "<?xml version=\"1.0\" encoding=\"UTF-8\" standalone=\"yes\"?><html><body><response><header><resultcode>00</resultcode><resultmsg>NORMAL SERVICE.</resultmsg></header><items><item><obsrvtnm>강정고령보상류</obsrvtnm><walobsrvtcode>2011602</walobsrvtcode></item><item><obsrvtnm>강정고령보하류</obsrvtnm><walobsrvtcode>2011655</walobsrvtcode></item></items></response></body></html>\n",
            "b'<?xml version=\"1.0\" encoding=\"UTF-8\" standalone=\"yes\"?><response><header><resultCode>99</resultCode><resultMsg>LIMITED NUMBER OF SERVICE REQUESTS EXCEEDS ERROR.</resultMsg></header></response>'\n",
            "<?xml version=\"1.0\" encoding=\"UTF-8\" standalone=\"yes\"?><html><body><response><header><resultcode>99</resultcode><resultmsg>LIMITED NUMBER OF SERVICE REQUESTS EXCEEDS ERROR.</resultmsg></header></response></body></html>\n",
            "b'<?xml version=\"1.0\" encoding=\"UTF-8\" standalone=\"yes\"?><response><header><resultCode>00</resultCode><resultMsg>NORMAL SERVICE.</resultMsg></header><body><items><item><obsrvtNm>\\xea\\xb3\\xb5\\xec\\xa3\\xbc\\xeb\\xb3\\xb4\\xec\\x83\\x81\\xeb\\xa5\\x98</obsrvtNm><walobsrvtcode>3012601</walobsrvtcode></item><item><obsrvtNm>\\xea\\xb3\\xb5\\xec\\xa3\\xbc\\xeb\\xb3\\xb4\\xed\\x95\\x98\\xeb\\xa5\\x98</obsrvtNm><walobsrvtcode>3012621</walobsrvtcode></item></items></body></response>'\n",
            "<?xml version=\"1.0\" encoding=\"UTF-8\" standalone=\"yes\"?><html><body><response><header><resultcode>00</resultcode><resultmsg>NORMAL SERVICE.</resultmsg></header><items><item><obsrvtnm>공주보상류</obsrvtnm><walobsrvtcode>3012601</walobsrvtcode></item><item><obsrvtnm>공주보하류</obsrvtnm><walobsrvtcode>3012621</walobsrvtcode></item></items></response></body></html>\n",
            "b'<?xml version=\"1.0\" encoding=\"UTF-8\" standalone=\"yes\"?><response><header><resultCode>00</resultCode><resultMsg>NORMAL SERVICE.</resultMsg></header><body><items><item><obsrvtNm>\\xec\\x82\\xbc\\xec\\xb2\\x99\\xec\\x8b\\x9c(\\xea\\xb0\\x88\\xeb\\xb0\\xad\\xea\\xb5\\x90)</obsrvtNm><walobsrvtcode>9000266</walobsrvtcode></item><item><obsrvtNm>\\xec\\x82\\xbc\\xec\\xb2\\x99\\xec\\x8b\\x9c(\\xea\\xb4\\x91\\xeb\\x8f\\x99\\xea\\xb5\\x90)</obsrvtNm><walobsrvtcode>9000264</walobsrvtcode></item><item><obsrvtNm>\\xec\\x82\\xbc\\xec\\xb2\\x99\\xec\\x8b\\x9c(\\xeb\\xb2\\x88\\xec\\xb2\\x9c\\xea\\xb5\\x90)</obsrvtNm><walobsrvtcode>9000268</walobsrvtcode></item><item><obsrvtNm>\\xed\\x83\\x9c\\xeb\\xb0\\xb1\\xec\\x8b\\x9c(\\xeb\\xac\\xb4\\xec\\x82\\xac\\xea\\xb5\\x90)</obsrvtNm><walobsrvtcode>9000265</walobsrvtcode></item></items></body></response>'\n",
            "<?xml version=\"1.0\" encoding=\"UTF-8\" standalone=\"yes\"?><html><body><response><header><resultcode>00</resultcode><resultmsg>NORMAL SERVICE.</resultmsg></header><items><item><obsrvtnm>삼척시(갈밭교)</obsrvtnm><walobsrvtcode>9000266</walobsrvtcode></item><item><obsrvtnm>삼척시(광동교)</obsrvtnm><walobsrvtcode>9000264</walobsrvtcode></item><item><obsrvtnm>삼척시(번천교)</obsrvtnm><walobsrvtcode>9000268</walobsrvtcode></item><item><obsrvtnm>태백시(무사교)</obsrvtnm><walobsrvtcode>9000265</walobsrvtcode></item></items></response></body></html>\n",
            "b'<?xml version=\"1.0\" encoding=\"UTF-8\" standalone=\"yes\"?><response><header><resultCode>99</resultCode><resultMsg>LIMITED NUMBER OF SERVICE REQUESTS EXCEEDS ERROR.</resultMsg></header></response>'\n",
            "<?xml version=\"1.0\" encoding=\"UTF-8\" standalone=\"yes\"?><html><body><response><header><resultcode>99</resultcode><resultmsg>LIMITED NUMBER OF SERVICE REQUESTS EXCEEDS ERROR.</resultmsg></header></response></body></html>\n",
            "b'<?xml version=\"1.0\" encoding=\"UTF-8\" standalone=\"yes\"?><response><header><resultCode>00</resultCode><resultMsg>NORMAL SERVICE.</resultMsg></header><body><items><item><obsrvtNm>\\xea\\xb1\\xb0\\xec\\xa0\\x9c\\xec\\x8b\\x9c(\\xea\\xb5\\xac\\xec\\xb2\\x9c\\xea\\xb5\\x90)</obsrvtNm><walobsrvtcode>9000256</walobsrvtcode></item></items></body></response>'\n",
            "<?xml version=\"1.0\" encoding=\"UTF-8\" standalone=\"yes\"?><html><body><response><header><resultcode>00</resultcode><resultmsg>NORMAL SERVICE.</resultmsg></header><items><item><obsrvtnm>거제시(구천교)</obsrvtnm><walobsrvtcode>9000256</walobsrvtcode></item></items></response></body></html>\n",
            "b'<?xml version=\"1.0\" encoding=\"UTF-8\" standalone=\"yes\"?><response><header><resultCode>99</resultCode><resultMsg>LIMITED NUMBER OF SERVICE REQUESTS EXCEEDS ERROR.</resultMsg></header></response>'\n",
            "<?xml version=\"1.0\" encoding=\"UTF-8\" standalone=\"yes\"?><html><body><response><header><resultcode>99</resultcode><resultmsg>LIMITED NUMBER OF SERVICE REQUESTS EXCEEDS ERROR.</resultmsg></header></response></body></html>\n",
            "b'<?xml version=\"1.0\" encoding=\"UTF-8\" standalone=\"yes\"?><response><header><resultCode>99</resultCode><resultMsg>LIMITED NUMBER OF SERVICE REQUESTS EXCEEDS ERROR.</resultMsg></header></response>'\n",
            "<?xml version=\"1.0\" encoding=\"UTF-8\" standalone=\"yes\"?><html><body><response><header><resultcode>99</resultcode><resultmsg>LIMITED NUMBER OF SERVICE REQUESTS EXCEEDS ERROR.</resultmsg></header></response></body></html>\n",
            "b'<?xml version=\"1.0\" encoding=\"UTF-8\" standalone=\"yes\"?><response><header><resultCode>99</resultCode><resultMsg>LIMITED NUMBER OF SERVICE REQUESTS EXCEEDS ERROR.</resultMsg></header></response>'\n",
            "<?xml version=\"1.0\" encoding=\"UTF-8\" standalone=\"yes\"?><html><body><response><header><resultcode>99</resultcode><resultmsg>LIMITED NUMBER OF SERVICE REQUESTS EXCEEDS ERROR.</resultmsg></header></response></body></html>\n",
            "b'<?xml version=\"1.0\" encoding=\"UTF-8\" standalone=\"yes\"?><response><header><resultCode>00</resultCode><resultMsg>NORMAL SERVICE.</resultMsg></header><body><items><item><obsrvtNm>\\xea\\xb5\\xac\\xed\\x8f\\xac(\\xeb\\xb6\\x80\\xec\\x82\\xb0)</obsrvtNm><walobsrvtcode>8000099</walobsrvtcode></item><item><obsrvtNm>\\xeb\\x82\\x99\\xeb\\x8f\\x99\\xea\\xb0\\x95\\xed\\x95\\x98\\xea\\xb5\\xbf\\xeb\\x91\\x91\\xec\\x9a\\xb0\\xec\\x95\\x88\\xec\\x83\\x81\\xeb\\xa5\\x98(\\xeb\\xb6\\x80\\xec\\x82\\xb0)</obsrvtNm><walobsrvtcode>2022706</walobsrvtcode></item><item><obsrvtNm>\\xeb\\x82\\x99\\xeb\\x8f\\x99\\xea\\xb0\\x95\\xed\\x95\\x98\\xea\\xb5\\xbf\\xeb\\x91\\x91\\xec\\x9a\\xb0\\xec\\x95\\x88\\xed\\x95\\x98\\xeb\\xa5\\x98(\\xeb\\xb6\\x80\\xec\\x82\\xb0)</obsrvtNm><walobsrvtcode>2022710</walobsrvtcode></item><item><obsrvtNm>\\xeb\\x82\\x99\\xeb\\x8f\\x99\\xea\\xb0\\x95\\xed\\x95\\x98\\xea\\xb5\\xbf\\xeb\\x91\\x91\\xec\\xa2\\x8c\\xec\\x95\\x88\\xea\\xb0\\x91\\xeb\\xac\\xb8(\\xea\\xb0\\x91\\xec\\x8b\\xa4)</obsrvtNm><walobsrvtcode>2022698</walobsrvtcode></item><item><obsrvtNm>\\xeb\\x82\\x99\\xeb\\x8f\\x99\\xea\\xb0\\x95\\xed\\x95\\x98\\xea\\xb5\\xbf\\xeb\\x91\\x91\\xec\\xa2\\x8c\\xec\\x95\\x88\\xea\\xb0\\x91\\xeb\\xac\\xb8(\\xec\\x83\\x81)</obsrvtNm><walobsrvtcode>2022694</walobsrvtcode></item><item><obsrvtNm>\\xeb\\x82\\x99\\xeb\\x8f\\x99\\xea\\xb0\\x95\\xed\\x95\\x98\\xea\\xb5\\xbf\\xeb\\x91\\x91\\xec\\xa2\\x8c\\xec\\x95\\x88\\xea\\xb0\\x91\\xeb\\xac\\xb8(\\xed\\x95\\x98)</obsrvtNm><walobsrvtcode>2022702</walobsrvtcode></item><item><obsrvtNm>\\xeb\\x82\\x99\\xeb\\x8f\\x99\\xea\\xb0\\x95\\xed\\x95\\x98\\xea\\xb5\\xbf\\xeb\\x91\\x91\\xec\\xa6\\x9d\\xec\\x84\\xa4(\\xeb\\x82\\xb4)</obsrvtNm><walobsrvtcode>2022692</walobsrvtcode></item><item><obsrvtNm>\\xeb\\x82\\x99\\xeb\\x8f\\x99\\xea\\xb0\\x95\\xed\\x95\\x98\\xea\\xb5\\xbf\\xeb\\x91\\x91\\xec\\xa6\\x9d\\xec\\x84\\xa4(\\xec\\x99\\xb8)</obsrvtNm><walobsrvtcode>2022693</walobsrvtcode></item><item><obsrvtNm>\\xeb\\x82\\x99\\xeb\\x8f\\x99\\xea\\xb0\\x95\\xed\\x95\\x98\\xea\\xb5\\xbf\\xeb\\x91\\x91\\xec\\xa6\\x9d\\xec\\x84\\xa4\\xea\\xb0\\x91\\xeb\\xac\\xb8(\\xea\\xb0\\x91\\xec\\x8b\\xa4)</obsrvtNm><walobsrvtcode>2022700</walobsrvtcode></item><item><obsrvtNm>\\xeb\\x82\\x99\\xeb\\x8f\\x99\\xea\\xb0\\x95\\xed\\x95\\x98\\xea\\xb5\\xbf\\xeb\\x91\\x91\\xec\\xa6\\x9d\\xec\\x84\\xa4\\xea\\xb0\\x91\\xeb\\xac\\xb8(\\xec\\x83\\x81)</obsrvtNm><walobsrvtcode>2022696</walobsrvtcode></item><item><obsrvtNm>\\xeb\\x82\\x99\\xeb\\x8f\\x99\\xea\\xb0\\x95\\xed\\x95\\x98\\xea\\xb5\\xbf\\xeb\\x91\\x91\\xec\\xa6\\x9d\\xec\\x84\\xa4\\xea\\xb0\\x91\\xeb\\xac\\xb8(\\xed\\x95\\x98)</obsrvtNm><walobsrvtcode>2022704</walobsrvtcode></item><item><obsrvtNm>\\xeb\\xb6\\x80\\xec\\x82\\xb0\\xec\\x8b\\x9c(\\xeb\\x82\\x99\\xeb\\x8f\\x99\\xea\\xb0\\x95\\xed\\x95\\x98\\xea\\xb5\\xac\\xec\\x96\\xb8(\\xeb\\x82\\xb4))</obsrvtNm><walobsrvtcode>8000033</walobsrvtcode></item><item><obsrvtNm>\\xeb\\xb6\\x80\\xec\\x82\\xb0\\xec\\x8b\\x9c(\\xeb\\x82\\x99\\xeb\\x8f\\x99\\xea\\xb0\\x95\\xed\\x95\\x98\\xea\\xb5\\xac\\xec\\x96\\xb8(\\xec\\x99\\xb8))</obsrvtNm><walobsrvtcode>2022690</walobsrvtcode></item><item><obsrvtNm>\\xec\\x82\\xbc\\xeb\\x9e\\x91\\xec\\xa7\\x84(\\xeb\\xb6\\x80\\xec\\x82\\xb0)</obsrvtNm><walobsrvtcode>8000100</walobsrvtcode></item><item><obsrvtNm>\\xec\\xa7\\x84\\xeb\\x8f\\x99(\\xeb\\xb6\\x80\\xec\\x82\\xb0)</obsrvtNm><walobsrvtcode>8000101</walobsrvtcode></item></items></body></response>'\n",
            "<?xml version=\"1.0\" encoding=\"UTF-8\" standalone=\"yes\"?><html><body><response><header><resultcode>00</resultcode><resultmsg>NORMAL SERVICE.</resultmsg></header><items><item><obsrvtnm>구포(부산)</obsrvtnm><walobsrvtcode>8000099</walobsrvtcode></item><item><obsrvtnm>낙동강하굿둑우안상류(부산)</obsrvtnm><walobsrvtcode>2022706</walobsrvtcode></item><item><obsrvtnm>낙동강하굿둑우안하류(부산)</obsrvtnm><walobsrvtcode>2022710</walobsrvtcode></item><item><obsrvtnm>낙동강하굿둑좌안갑문(갑실)</obsrvtnm><walobsrvtcode>2022698</walobsrvtcode></item><item><obsrvtnm>낙동강하굿둑좌안갑문(상)</obsrvtnm><walobsrvtcode>2022694</walobsrvtcode></item><item><obsrvtnm>낙동강하굿둑좌안갑문(하)</obsrvtnm><walobsrvtcode>2022702</walobsrvtcode></item><item><obsrvtnm>낙동강하굿둑증설(내)</obsrvtnm><walobsrvtcode>2022692</walobsrvtcode></item><item><obsrvtnm>낙동강하굿둑증설(외)</obsrvtnm><walobsrvtcode>2022693</walobsrvtcode></item><item><obsrvtnm>낙동강하굿둑증설갑문(갑실)</obsrvtnm><walobsrvtcode>2022700</walobsrvtcode></item><item><obsrvtnm>낙동강하굿둑증설갑문(상)</obsrvtnm><walobsrvtcode>2022696</walobsrvtcode></item><item><obsrvtnm>낙동강하굿둑증설갑문(하)</obsrvtnm><walobsrvtcode>2022704</walobsrvtcode></item><item><obsrvtnm>부산시(낙동강하구언(내))</obsrvtnm><walobsrvtcode>8000033</walobsrvtcode></item><item><obsrvtnm>부산시(낙동강하구언(외))</obsrvtnm><walobsrvtcode>2022690</walobsrvtcode></item><item><obsrvtnm>삼랑진(부산)</obsrvtnm><walobsrvtcode>8000100</walobsrvtcode></item><item><obsrvtnm>진동(부산)</obsrvtnm><walobsrvtcode>8000101</walobsrvtcode></item></items></response></body></html>\n",
            "b'<?xml version=\"1.0\" encoding=\"UTF-8\" standalone=\"yes\"?><response><header><resultCode>00</resultCode><resultMsg>NORMAL SERVICE.</resultMsg></header><body><items><item><obsrvtNm>\\xeb\\x82\\xa8\\xea\\xb0\\x95\\xeb\\x8c\\x90</obsrvtNm><walobsrvtcode>2020698</walobsrvtcode></item><item><obsrvtNm>\\xec\\x82\\xac\\xec\\xb2\\x9c\\xec\\x8b\\x9c(\\xea\\xb2\\x80\\xec\\xa0\\x95\\xeb\\xa6\\xac)</obsrvtNm><walobsrvtcode>2018687</walobsrvtcode></item><item><obsrvtNm>\\xec\\x82\\xb0\\xec\\xb2\\xad\\xea\\xb5\\xb0(\\xea\\xb2\\xbd\\xed\\x98\\xb8\\xea\\xb5\\x90)</obsrvtNm><walobsrvtcode>2018645</walobsrvtcode></item><item><obsrvtNm>\\xec\\x82\\xb0\\xec\\xb2\\xad\\xea\\xb5\\xb0(\\xec\\x88\\x98\\xec\\x82\\xb0\\xea\\xb5\\x90)</obsrvtNm><walobsrvtcode>2018646</walobsrvtcode></item><item><obsrvtNm>\\xec\\x82\\xb0\\xec\\xb2\\xad\\xea\\xb5\\xb0(\\xec\\xb0\\xbd\\xec\\xb4\\x8c\\xeb\\xa6\\xac)</obsrvtNm><walobsrvtcode>8000019</walobsrvtcode></item><item><obsrvtNm>\\xec\\x82\\xb0\\xec\\xb2\\xad\\xea\\xb5\\xb0(\\xed\\x95\\x98\\xec\\xa0\\x95\\xeb\\xa6\\xac)</obsrvtNm><walobsrvtcode>2018650</walobsrvtcode></item><item><obsrvtNm>\\xec\\xa7\\x84\\xec\\xa3\\xbc\\xec\\x8b\\x9c(\\xeb\\x82\\xa8\\xea\\xb0\\x95\\xeb\\x8c\\x90\\xeb\\xb0\\xa9\\xec\\x88\\x98\\xeb\\xa1\\x9c)</obsrvtNm><walobsrvtcode>8000018</walobsrvtcode></item><item><obsrvtNm>\\xec\\xa7\\x84\\xec\\xa3\\xbc\\xec\\x8b\\x9c(\\xeb\\x82\\xb4\\xed\\x8f\\x89\\xeb\\xa6\\xac)</obsrvtNm><walobsrvtcode>2018690</walobsrvtcode></item><item><obsrvtNm>\\xec\\xa7\\x84\\xec\\xa3\\xbc\\xec\\x8b\\x9c(\\xec\\x9e\\xa5\\xeb\\x8c\\x80\\xeb\\x8f\\x99)</obsrvtNm><walobsrvtcode>2019615</walobsrvtcode></item><item><obsrvtNm>\\xec\\xa7\\x84\\xec\\xa3\\xbc\\xec\\x8b\\x9c(\\xed\\x8c\\x90\\xeb\\xac\\xb8\\xeb\\x8f\\x99)</obsrvtNm><walobsrvtcode>2018695</walobsrvtcode></item><item><obsrvtNm>\\xed\\x95\\x98\\xeb\\x8f\\x99\\xea\\xb5\\xb0(\\xeb\\x8c\\x80\\xea\\xb3\\xa1\\xeb\\xa6\\xac)</obsrvtNm><walobsrvtcode>2018685</walobsrvtcode></item><item><obsrvtNm>\\xed\\x95\\xa8\\xec\\x96\\x91\\xea\\xb5\\xb0(\\xea\\xb8\\x88\\xec\\xb2\\x9c\\xeb\\xa6\\xac)</obsrvtNm><walobsrvtcode>2018608</walobsrvtcode></item><item><obsrvtNm>\\xed\\x95\\xa8\\xec\\x96\\x91\\xea\\xb5\\xb0(\\xec\\x9a\\xa9\\xed\\x8f\\x89\\xeb\\xa6\\xac)</obsrvtNm><walobsrvtcode>2018620</walobsrvtcode></item><item><obsrvtNm>\\xed\\x95\\xa8\\xec\\x96\\x91\\xea\\xb5\\xb0(\\xec\\x9d\\x98\\xed\\x83\\x84\\xeb\\xa6\\xac)</obsrvtNm><walobsrvtcode>2018630</walobsrvtcode></item><item><obsrvtNm>\\xed\\x95\\xa8\\xec\\x96\\x91\\xea\\xb5\\xb0(\\xed\\x99\\x94\\xec\\xb4\\x8c\\xeb\\xa6\\xac)</obsrvtNm><walobsrvtcode>2018640</walobsrvtcode></item><item><obsrvtNm>\\xed\\x95\\xa9\\xec\\xb2\\x9c\\xea\\xb5\\xb0(\\xec\\x86\\x8c\\xec\\x98\\xa4\\xeb\\xa6\\xac)</obsrvtNm><walobsrvtcode>2018647</walobsrvtcode></item></items></body></response>'\n",
            "<?xml version=\"1.0\" encoding=\"UTF-8\" standalone=\"yes\"?><html><body><response><header><resultcode>00</resultcode><resultmsg>NORMAL SERVICE.</resultmsg></header><items><item><obsrvtnm>남강댐</obsrvtnm><walobsrvtcode>2020698</walobsrvtcode></item><item><obsrvtnm>사천시(검정리)</obsrvtnm><walobsrvtcode>2018687</walobsrvtcode></item><item><obsrvtnm>산청군(경호교)</obsrvtnm><walobsrvtcode>2018645</walobsrvtcode></item><item><obsrvtnm>산청군(수산교)</obsrvtnm><walobsrvtcode>2018646</walobsrvtcode></item><item><obsrvtnm>산청군(창촌리)</obsrvtnm><walobsrvtcode>8000019</walobsrvtcode></item><item><obsrvtnm>산청군(하정리)</obsrvtnm><walobsrvtcode>2018650</walobsrvtcode></item><item><obsrvtnm>진주시(남강댐방수로)</obsrvtnm><walobsrvtcode>8000018</walobsrvtcode></item><item><obsrvtnm>진주시(내평리)</obsrvtnm><walobsrvtcode>2018690</walobsrvtcode></item><item><obsrvtnm>진주시(장대동)</obsrvtnm><walobsrvtcode>2019615</walobsrvtcode></item><item><obsrvtnm>진주시(판문동)</obsrvtnm><walobsrvtcode>2018695</walobsrvtcode></item><item><obsrvtnm>하동군(대곡리)</obsrvtnm><walobsrvtcode>2018685</walobsrvtcode></item><item><obsrvtnm>함양군(금천리)</obsrvtnm><walobsrvtcode>2018608</walobsrvtcode></item><item><obsrvtnm>함양군(용평리)</obsrvtnm><walobsrvtcode>2018620</walobsrvtcode></item><item><obsrvtnm>함양군(의탄리)</obsrvtnm><walobsrvtcode>2018630</walobsrvtcode></item><item><obsrvtnm>함양군(화촌리)</obsrvtnm><walobsrvtcode>2018640</walobsrvtcode></item><item><obsrvtnm>합천군(소오리)</obsrvtnm><walobsrvtcode>2018647</walobsrvtcode></item></items></response></body></html>\n",
            "b'<?xml version=\"1.0\" encoding=\"UTF-8\" standalone=\"yes\"?><response><header><resultCode>00</resultCode><resultMsg>NORMAL SERVICE.</resultMsg></header><body><items><item><obsrvtNm>\\xeb\\x8f\\x99\\xed\\x95\\xb4\\xec\\x8b\\x9c(\\xec\\x9b\\x90\\xed\\x8f\\x89\\xea\\xb5\\x90)</obsrvtNm><walobsrvtcode>9000267</walobsrvtcode></item></items></body></response>'\n",
            "<?xml version=\"1.0\" encoding=\"UTF-8\" standalone=\"yes\"?><html><body><response><header><resultcode>00</resultcode><resultmsg>NORMAL SERVICE.</resultmsg></header><items><item><obsrvtnm>동해시(원평교)</obsrvtnm><walobsrvtcode>9000267</walobsrvtcode></item></items></response></body></html>\n",
            "b'<?xml version=\"1.0\" encoding=\"UTF-8\" standalone=\"yes\"?><response><header><resultCode>99</resultCode><resultMsg>LIMITED NUMBER OF SERVICE REQUESTS EXCEEDS ERROR.</resultMsg></header></response>'\n",
            "<?xml version=\"1.0\" encoding=\"UTF-8\" standalone=\"yes\"?><html><body><response><header><resultcode>99</resultcode><resultmsg>LIMITED NUMBER OF SERVICE REQUESTS EXCEEDS ERROR.</resultmsg></header></response></body></html>\n",
            "b'<?xml version=\"1.0\" encoding=\"UTF-8\" standalone=\"yes\"?><response><header><resultCode>99</resultCode><resultMsg>LIMITED NUMBER OF SERVICE REQUESTS EXCEEDS ERROR.</resultMsg></header></response>'\n",
            "<?xml version=\"1.0\" encoding=\"UTF-8\" standalone=\"yes\"?><html><body><response><header><resultcode>99</resultcode><resultmsg>LIMITED NUMBER OF SERVICE REQUESTS EXCEEDS ERROR.</resultmsg></header></response></body></html>\n",
            "b'<?xml version=\"1.0\" encoding=\"UTF-8\" standalone=\"yes\"?><response><header><resultCode>00</resultCode><resultMsg>NORMAL SERVICE.</resultMsg></header><body><items><item><obsrvtNm>\\xec\\x9a\\xb8\\xec\\x82\\xb0\\xec\\x8b\\x9c(\\xeb\\x8c\\x80\\xec\\x95\\x94\\xea\\xb5\\x90)</obsrvtNm><walobsrvtcode>9000263</walobsrvtcode></item></items></body></response>'\n",
            "<?xml version=\"1.0\" encoding=\"UTF-8\" standalone=\"yes\"?><html><body><response><header><resultcode>00</resultcode><resultmsg>NORMAL SERVICE.</resultmsg></header><items><item><obsrvtnm>울산시(대암교)</obsrvtnm><walobsrvtcode>9000263</walobsrvtcode></item></items></response></body></html>\n",
            "b'<?xml version=\"1.0\" encoding=\"UTF-8\" standalone=\"yes\"?><response><header><resultCode>99</resultCode><resultMsg>LIMITED NUMBER OF SERVICE REQUESTS EXCEEDS ERROR.</resultMsg></header></response>'\n",
            "<?xml version=\"1.0\" encoding=\"UTF-8\" standalone=\"yes\"?><html><body><response><header><resultcode>99</resultcode><resultmsg>LIMITED NUMBER OF SERVICE REQUESTS EXCEEDS ERROR.</resultmsg></header></response></body></html>\n",
            "b'<?xml version=\"1.0\" encoding=\"UTF-8\" standalone=\"yes\"?><response><header><resultCode>00</resultCode><resultMsg>NORMAL SERVICE.</resultMsg></header><body><items><item><obsrvtNm>\\xeb\\x8c\\x80\\xec\\xa0\\x84\\xec\\x8b\\x9c(\\xeb\\x8c\\x80\\xec\\xb2\\xad\\xec\\xa1\\xb0\\xec\\xa0\\x95\\xec\\xa7\\x80\\xeb\\x8c\\x90)</obsrvtNm><walobsrvtcode>3008695</walobsrvtcode></item></items></body></response>'\n",
            "<?xml version=\"1.0\" encoding=\"UTF-8\" standalone=\"yes\"?><html><body><response><header><resultcode>00</resultcode><resultmsg>NORMAL SERVICE.</resultmsg></header><items><item><obsrvtnm>대전시(대청조정지댐)</obsrvtnm><walobsrvtcode>3008695</walobsrvtcode></item></items></response></body></html>\n",
            "b'<?xml version=\"1.0\" encoding=\"UTF-8\" standalone=\"yes\"?><response><header><resultCode>00</resultCode><resultMsg>NORMAL SERVICE.</resultMsg></header><body><items><item><obsrvtNm>\\xeb\\xb0\\x80\\xec\\x96\\x91 \\xec\\x88\\x98\\xec\\x9c\\x84\\xea\\xb0\\x90\\xec\\xa7\\x80</obsrvtNm><walobsrvtcode>9900007</walobsrvtcode></item><item><obsrvtNm>\\xeb\\xb0\\x80\\xec\\x96\\x91\\xec\\x8b\\x9c(\\xeb\\xb0\\x80\\xec\\x96\\x91\\xeb\\x8c\\x90)</obsrvtNm><walobsrvtcode>2021630</walobsrvtcode></item><item><obsrvtNm>\\xec\\x96\\x91\\xec\\x82\\xb0\\xec\\x8b\\x9c(\\xeb\\x8c\\x80\\xeb\\xa6\\xac)</obsrvtNm><walobsrvtcode>2021620</walobsrvtcode></item></items></body></response>'\n",
            "<?xml version=\"1.0\" encoding=\"UTF-8\" standalone=\"yes\"?><html><body><response><header><resultcode>00</resultcode><resultmsg>NORMAL SERVICE.</resultmsg></header><items><item><obsrvtnm>밀양 수위감지</obsrvtnm><walobsrvtcode>9900007</walobsrvtcode></item><item><obsrvtnm>밀양시(밀양댐)</obsrvtnm><walobsrvtcode>2021630</walobsrvtcode></item><item><obsrvtnm>양산시(대리)</obsrvtnm><walobsrvtcode>2021620</walobsrvtcode></item></items></response></body></html>\n",
            "b'<?xml version=\"1.0\" encoding=\"UTF-8\" standalone=\"yes\"?><response><header><resultCode>99</resultCode><resultMsg>LIMITED NUMBER OF SERVICE REQUESTS EXCEEDS ERROR.</resultMsg></header></response>'\n",
            "<?xml version=\"1.0\" encoding=\"UTF-8\" standalone=\"yes\"?><html><body><response><header><resultcode>99</resultcode><resultmsg>LIMITED NUMBER OF SERVICE REQUESTS EXCEEDS ERROR.</resultmsg></header></response></body></html>\n",
            "b'<?xml version=\"1.0\" encoding=\"UTF-8\" standalone=\"yes\"?><response><header><resultCode>00</resultCode><resultMsg>NORMAL SERVICE.</resultMsg></header><body><items><item><obsrvtNm>\\xeb\\x8c\\x80\\xec\\xb0\\xbd\\xea\\xb5\\x90</obsrvtNm><walobsrvtcode>8000084</walobsrvtcode></item><item><obsrvtNm>\\xeb\\xb3\\xb4\\xeb\\xa0\\xb9 \\xec\\x88\\x98\\xec\\x9c\\x84\\xea\\xb0\\x90\\xec\\xa7\\x80</obsrvtNm><walobsrvtcode>9900004</walobsrvtcode></item><item><obsrvtNm>\\xeb\\xb3\\xb4\\xeb\\xa0\\xb9\\xec\\x8b\\x9c(\\xeb\\xb3\\xb4\\xeb\\xa0\\xb9\\xeb\\x8c\\x90)</obsrvtNm><walobsrvtcode>3203110</walobsrvtcode></item><item><obsrvtNm>\\xeb\\xb3\\xb4\\xeb\\xa0\\xb9\\xec\\x8b\\x9c(\\xeb\\xb3\\xb4\\xeb\\xa0\\xb9\\xeb\\x8c\\x90\\xeb\\xb0\\xa9\\xec\\x88\\x98\\xeb\\xa1\\x9c)</obsrvtNm><walobsrvtcode>8000083</walobsrvtcode></item><item><obsrvtNm>\\xeb\\xb6\\x80\\xec\\x82\\xac\\xeb\\xb0\\xa9\\xec\\xa1\\xb0\\xec\\xa0\\x9c \\xeb\\x82\\xb4\\xec\\x88\\x98\\xec\\x9c\\x84</obsrvtNm><walobsrvtcode>9000258</walobsrvtcode></item><item><obsrvtNm>\\xeb\\xb6\\x80\\xec\\x82\\xac\\xeb\\xb0\\xa9\\xec\\xa1\\xb0\\xec\\xa0\\x9c \\xec\\x99\\xb8\\xec\\x88\\x98\\xec\\x9c\\x84</obsrvtNm><walobsrvtcode>9000259</walobsrvtcode></item><item><obsrvtNm>\\xec\\x9b\\x85\\xec\\xb2\\x9c(\\xeb\\xb3\\xb4\\xeb\\xa0\\xb9\\xeb\\x8c\\x90)</obsrvtNm><walobsrvtcode>3203638</walobsrvtcode></item></items></body></response>'\n",
            "<?xml version=\"1.0\" encoding=\"UTF-8\" standalone=\"yes\"?><html><body><response><header><resultcode>00</resultcode><resultmsg>NORMAL SERVICE.</resultmsg></header><items><item><obsrvtnm>대창교</obsrvtnm><walobsrvtcode>8000084</walobsrvtcode></item><item><obsrvtnm>보령 수위감지</obsrvtnm><walobsrvtcode>9900004</walobsrvtcode></item><item><obsrvtnm>보령시(보령댐)</obsrvtnm><walobsrvtcode>3203110</walobsrvtcode></item><item><obsrvtnm>보령시(보령댐방수로)</obsrvtnm><walobsrvtcode>8000083</walobsrvtcode></item><item><obsrvtnm>부사방조제 내수위</obsrvtnm><walobsrvtcode>9000258</walobsrvtcode></item><item><obsrvtnm>부사방조제 외수위</obsrvtnm><walobsrvtcode>9000259</walobsrvtcode></item><item><obsrvtnm>웅천(보령댐)</obsrvtnm><walobsrvtcode>3203638</walobsrvtcode></item></items></response></body></html>\n",
            "b'<?xml version=\"1.0\" encoding=\"UTF-8\" standalone=\"yes\"?><response><header><resultCode>99</resultCode><resultMsg>LIMITED NUMBER OF SERVICE REQUESTS EXCEEDS ERROR.</resultMsg></header></response>'\n",
            "<?xml version=\"1.0\" encoding=\"UTF-8\" standalone=\"yes\"?><html><body><response><header><resultcode>99</resultcode><resultmsg>LIMITED NUMBER OF SERVICE REQUESTS EXCEEDS ERROR.</resultmsg></header></response></body></html>\n",
            "b'<?xml version=\"1.0\" encoding=\"UTF-8\" standalone=\"yes\"?><response><header><resultCode>99</resultCode><resultMsg>LIMITED NUMBER OF SERVICE REQUESTS EXCEEDS ERROR.</resultMsg></header></response>'\n",
            "<?xml version=\"1.0\" encoding=\"UTF-8\" standalone=\"yes\"?><html><body><response><header><resultcode>99</resultcode><resultmsg>LIMITED NUMBER OF SERVICE REQUESTS EXCEEDS ERROR.</resultmsg></header></response></body></html>\n",
            "b'<?xml version=\"1.0\" encoding=\"UTF-8\" standalone=\"yes\"?><response><header><resultCode>99</resultCode><resultMsg>LIMITED NUMBER OF SERVICE REQUESTS EXCEEDS ERROR.</resultMsg></header></response>'\n",
            "<?xml version=\"1.0\" encoding=\"UTF-8\" standalone=\"yes\"?><html><body><response><header><resultcode>99</resultcode><resultmsg>LIMITED NUMBER OF SERVICE REQUESTS EXCEEDS ERROR.</resultmsg></header></response></body></html>\n",
            "b'<?xml version=\"1.0\" encoding=\"UTF-8\" standalone=\"yes\"?><response><header><resultCode>00</resultCode><resultMsg>NORMAL SERVICE.</resultMsg></header><body><items/></body></response>'\n",
            "<?xml version=\"1.0\" encoding=\"UTF-8\" standalone=\"yes\"?><html><body><response><header><resultcode>00</resultcode><resultmsg>NORMAL SERVICE.</resultmsg></header><items></items></response></body></html>\n",
            "b'<?xml version=\"1.0\" encoding=\"UTF-8\" standalone=\"yes\"?><response><header><resultCode>00</resultCode><resultMsg>NORMAL SERVICE.</resultMsg></header><body><items><item><obsrvtNm>\\xeb\\x8d\\x95\\xec\\xb9\\x98</obsrvtNm><walobsrvtcode>8000122</walobsrvtcode></item><item><obsrvtNm>\\xec\\x84\\xac\\xec\\xa7\\x84\\xea\\xb0\\x95\\xeb\\x8c\\x90\\xeb\\xb3\\xb4\\xec\\xa1\\xb0\\xec\\x88\\x98\\xec\\x9c\\x84</obsrvtNm><walobsrvtcode>8000097</walobsrvtcode></item><item><obsrvtNm>\\xec\\x88\\x9c\\xec\\xb0\\xbd\\xea\\xb5\\xb0(\\xec\\x9a\\xb4\\xec\\x95\\x94\\xea\\xb5\\x90)</obsrvtNm><walobsrvtcode>4001664</walobsrvtcode></item><item><obsrvtNm>\\xec\\x8c\\x8d\\xec\\xb9\\x98</obsrvtNm><walobsrvtcode>4001660</walobsrvtcode></item><item><obsrvtNm>\\xec\\x9e\\x84\\xec\\x8b\\xa4\\xea\\xb5\\xb0(\\xec\\x84\\xac\\xec\\xa7\\x84\\xea\\xb0\\x95\\xeb\\x8c\\x90)</obsrvtNm><walobsrvtcode>4002695</walobsrvtcode></item><item><obsrvtNm>\\xec\\x9e\\x84\\xec\\x8b\\xa4\\xea\\xb5\\xb0(\\xed\\x98\\xb8\\xec\\x95\\x94\\xea\\xb5\\x90)</obsrvtNm><walobsrvtcode>4001620</walobsrvtcode></item><item><obsrvtNm>\\xec\\x9e\\x84\\xec\\x8b\\xa4\\xea\\xb5\\xb0(\\xed\\x9a\\x8c\\xeb\\xac\\xb8\\xeb\\xa6\\xac)</obsrvtNm><walobsrvtcode>4002610</walobsrvtcode></item><item><obsrvtNm>\\xec\\xa0\\x95\\xec\\x9d\\x8d\\xec\\x8b\\x9c(\\xec\\xa2\\x85\\xec\\x82\\xb0\\xeb\\xa6\\xac)</obsrvtNm><walobsrvtcode>8000085</walobsrvtcode></item><item><obsrvtNm>\\xec\\xb9\\xa0\\xeb\\xb3\\xb4</obsrvtNm><walobsrvtcode>3302680</walobsrvtcode></item></items></body></response>'\n",
            "<?xml version=\"1.0\" encoding=\"UTF-8\" standalone=\"yes\"?><html><body><response><header><resultcode>00</resultcode><resultmsg>NORMAL SERVICE.</resultmsg></header><items><item><obsrvtnm>덕치</obsrvtnm><walobsrvtcode>8000122</walobsrvtcode></item><item><obsrvtnm>섬진강댐보조수위</obsrvtnm><walobsrvtcode>8000097</walobsrvtcode></item><item><obsrvtnm>순창군(운암교)</obsrvtnm><walobsrvtcode>4001664</walobsrvtcode></item><item><obsrvtnm>쌍치</obsrvtnm><walobsrvtcode>4001660</walobsrvtcode></item><item><obsrvtnm>임실군(섬진강댐)</obsrvtnm><walobsrvtcode>4002695</walobsrvtcode></item><item><obsrvtnm>임실군(호암교)</obsrvtnm><walobsrvtcode>4001620</walobsrvtcode></item><item><obsrvtnm>임실군(회문리)</obsrvtnm><walobsrvtcode>4002610</walobsrvtcode></item><item><obsrvtnm>정읍시(종산리)</obsrvtnm><walobsrvtcode>8000085</walobsrvtcode></item><item><obsrvtnm>칠보</obsrvtnm><walobsrvtcode>3302680</walobsrvtcode></item></items></response></body></html>\n",
            "b'<?xml version=\"1.0\" encoding=\"UTF-8\" standalone=\"yes\"?><response><header><resultCode>00</resultCode><resultMsg>NORMAL SERVICE.</resultMsg></header><body><items><item><obsrvtNm>\\xec\\x84\\xb8\\xec\\xa2\\x85\\xeb\\xb3\\xb4\\xec\\x83\\x81\\xeb\\xa5\\x98</obsrvtNm><walobsrvtcode>3010601</walobsrvtcode></item><item><obsrvtNm>\\xec\\x84\\xb8\\xec\\xa2\\x85\\xeb\\xb3\\xb4\\xed\\x95\\x98\\xeb\\xa5\\x98</obsrvtNm><walobsrvtcode>3012607</walobsrvtcode></item></items></body></response>'\n",
            "<?xml version=\"1.0\" encoding=\"UTF-8\" standalone=\"yes\"?><html><body><response><header><resultcode>00</resultcode><resultmsg>NORMAL SERVICE.</resultmsg></header><items><item><obsrvtnm>세종보상류</obsrvtnm><walobsrvtcode>3010601</walobsrvtcode></item><item><obsrvtnm>세종보하류</obsrvtnm><walobsrvtcode>3012607</walobsrvtcode></item></items></response></body></html>\n",
            "b'<?xml version=\"1.0\" encoding=\"UTF-8\" standalone=\"yes\"?><response><header><resultCode>99</resultCode><resultMsg>LIMITED NUMBER OF SERVICE REQUESTS EXCEEDS ERROR.</resultMsg></header></response>'\n",
            "<?xml version=\"1.0\" encoding=\"UTF-8\" standalone=\"yes\"?><html><body><response><header><resultcode>99</resultcode><resultmsg>LIMITED NUMBER OF SERVICE REQUESTS EXCEEDS ERROR.</resultmsg></header></response></body></html>\n",
            "b'<?xml version=\"1.0\" encoding=\"UTF-8\" standalone=\"yes\"?><response><header><resultCode>99</resultCode><resultMsg>LIMITED NUMBER OF SERVICE REQUESTS EXCEEDS ERROR.</resultMsg></header></response>'\n",
            "<?xml version=\"1.0\" encoding=\"UTF-8\" standalone=\"yes\"?><html><body><response><header><resultcode>99</resultcode><resultmsg>LIMITED NUMBER OF SERVICE REQUESTS EXCEEDS ERROR.</resultmsg></header></response></body></html>\n",
            "b'<?xml version=\"1.0\" encoding=\"UTF-8\" standalone=\"yes\"?><response><header><resultCode>99</resultCode><resultMsg>LIMITED NUMBER OF SERVICE REQUESTS EXCEEDS ERROR.</resultMsg></header></response>'\n",
            "<?xml version=\"1.0\" encoding=\"UTF-8\" standalone=\"yes\"?><html><body><response><header><resultcode>99</resultcode><resultmsg>LIMITED NUMBER OF SERVICE REQUESTS EXCEEDS ERROR.</resultmsg></header></response></body></html>\n",
            "b'<?xml version=\"1.0\" encoding=\"UTF-8\" standalone=\"yes\"?><response><header><resultCode>00</resultCode><resultMsg>NORMAL SERVICE.</resultMsg></header><body><items/></body></response>'\n",
            "<?xml version=\"1.0\" encoding=\"UTF-8\" standalone=\"yes\"?><html><body><response><header><resultcode>00</resultcode><resultmsg>NORMAL SERVICE.</resultmsg></header><items></items></response></body></html>\n",
            "b'<?xml version=\"1.0\" encoding=\"UTF-8\" standalone=\"yes\"?><response><header><resultCode>00</resultCode><resultMsg>NORMAL SERVICE.</resultMsg></header><body><items><item><obsrvtNm>\\xea\\xb3\\xa0\\xed\\x98\\x84</obsrvtNm><walobsrvtcode>9000255</walobsrvtcode></item><item><obsrvtNm>\\xeb\\x8f\\x84\\xec\\x82\\xb0</obsrvtNm><walobsrvtcode>2001660</walobsrvtcode></item><item><obsrvtNm>\\xeb\\xac\\xb4\\xea\\xb3\\x84</obsrvtNm><walobsrvtcode>9000194</walobsrvtcode></item><item><obsrvtNm>\\xeb\\xb3\\xb4\\xed\\x98\\x84</obsrvtNm><walobsrvtcode>9000193</walobsrvtcode></item><item><obsrvtNm>\\xeb\\xb4\\x89\\xed\\x99\\x94\\xea\\xb5\\xb0(\\xec\\x96\\x91\\xec\\x82\\xbc\\xea\\xb5\\x90)</obsrvtNm><walobsrvtcode>2001667</walobsrvtcode></item><item><obsrvtNm>\\xeb\\xb4\\x89\\xed\\x99\\x94\\xea\\xb5\\xb0(\\xec\\x9e\\x84\\xea\\xb8\\xb0\\xeb\\xa6\\xac)</obsrvtNm><walobsrvtcode>2001630</walobsrvtcode></item><item><obsrvtNm>\\xec\\x83\\x81\\xec\\xa3\\xbc\\xec\\x8b\\x9c(\\xec\\x83\\x81\\xec\\x9a\\xb0\\xea\\xb5\\x90)</obsrvtNm><walobsrvtcode>9000196</walobsrvtcode></item><item><obsrvtNm>\\xec\\x95\\x88\\xeb\\x8f\\x99 \\xec\\x88\\x98\\xec\\x9c\\x84\\xea\\xb0\\x90\\xec\\xa7\\x80</obsrvtNm><walobsrvtcode>9900009</walobsrvtcode></item><item><obsrvtNm>\\xec\\x95\\x88\\xeb\\x8f\\x99\\xeb\\x8c\\x90\\xeb\\xb3\\xb4\\xec\\xa1\\xb0\\xec\\x88\\x98\\xec\\x9c\\x84</obsrvtNm><walobsrvtcode>8000112</walobsrvtcode></item><item><obsrvtNm>\\xec\\x95\\x88\\xeb\\x8f\\x99\\xec\\x8b\\x9c(\\xec\\x95\\x88\\xeb\\x8f\\x99\\xeb\\x8c\\x80\\xea\\xb5\\x90)</obsrvtNm><walobsrvtcode>2003610</walobsrvtcode></item><item><obsrvtNm>\\xec\\x95\\x88\\xeb\\x8f\\x99\\xec\\x8b\\x9c(\\xec\\x95\\x88\\xeb\\x8f\\x99\\xeb\\x8c\\x90)</obsrvtNm><walobsrvtcode>2001110</walobsrvtcode></item><item><obsrvtNm>\\xec\\x95\\x88\\xeb\\x8f\\x99\\xec\\x8b\\x9c(\\xec\\x95\\x88\\xeb\\x8f\\x99\\xeb\\x8c\\x90\\xeb\\xb0\\xa9\\xec\\x88\\x98\\xeb\\xa1\\x9c)</obsrvtNm><walobsrvtcode>2001692</walobsrvtcode></item><item><obsrvtNm>\\xed\\x8f\\xac\\xed\\x95\\xad\\xec\\x8b\\x9c(\\xec\\x83\\x81\\xec\\x82\\xac4\\xea\\xb5\\x90)</obsrvtNm><walobsrvtcode>9000195</walobsrvtcode></item></items></body></response>'\n",
            "<?xml version=\"1.0\" encoding=\"UTF-8\" standalone=\"yes\"?><html><body><response><header><resultcode>00</resultcode><resultmsg>NORMAL SERVICE.</resultmsg></header><items><item><obsrvtnm>고현</obsrvtnm><walobsrvtcode>9000255</walobsrvtcode></item><item><obsrvtnm>도산</obsrvtnm><walobsrvtcode>2001660</walobsrvtcode></item><item><obsrvtnm>무계</obsrvtnm><walobsrvtcode>9000194</walobsrvtcode></item><item><obsrvtnm>보현</obsrvtnm><walobsrvtcode>9000193</walobsrvtcode></item><item><obsrvtnm>봉화군(양삼교)</obsrvtnm><walobsrvtcode>2001667</walobsrvtcode></item><item><obsrvtnm>봉화군(임기리)</obsrvtnm><walobsrvtcode>2001630</walobsrvtcode></item><item><obsrvtnm>상주시(상우교)</obsrvtnm><walobsrvtcode>9000196</walobsrvtcode></item><item><obsrvtnm>안동 수위감지</obsrvtnm><walobsrvtcode>9900009</walobsrvtcode></item><item><obsrvtnm>안동댐보조수위</obsrvtnm><walobsrvtcode>8000112</walobsrvtcode></item><item><obsrvtnm>안동시(안동대교)</obsrvtnm><walobsrvtcode>2003610</walobsrvtcode></item><item><obsrvtnm>안동시(안동댐)</obsrvtnm><walobsrvtcode>2001110</walobsrvtcode></item><item><obsrvtnm>안동시(안동댐방수로)</obsrvtnm><walobsrvtcode>2001692</walobsrvtcode></item><item><obsrvtnm>포항시(상사4교)</obsrvtnm><walobsrvtcode>9000195</walobsrvtcode></item></items></response></body></html>\n",
            "b'<?xml version=\"1.0\" encoding=\"UTF-8\" standalone=\"yes\"?><response><header><resultCode>00</resultCode><resultMsg>NORMAL SERVICE.</resultMsg></header><body><items><item><obsrvtNm>\\xec\\x95\\x88\\xeb\\x8f\\x99\\xec\\x8b\\x9c(\\xec\\x95\\x88\\xeb\\x8f\\x99\\xec\\xa1\\xb0\\xec\\xa0\\x95\\xec\\xa7\\x80\\xeb\\x8c\\x90)</obsrvtNm><walobsrvtcode>2001695</walobsrvtcode></item></items></body></response>'\n",
            "<?xml version=\"1.0\" encoding=\"UTF-8\" standalone=\"yes\"?><html><body><response><header><resultcode>00</resultcode><resultmsg>NORMAL SERVICE.</resultmsg></header><items><item><obsrvtnm>안동시(안동조정지댐)</obsrvtnm><walobsrvtcode>2001695</walobsrvtcode></item></items></response></body></html>\n",
            "b'<?xml version=\"1.0\" encoding=\"UTF-8\" standalone=\"yes\"?><response><header><resultCode>00</resultCode><resultMsg>NORMAL SERVICE.</resultMsg></header><body><items><item><obsrvtNm>\\xec\\x97\\xac\\xec\\xa3\\xbc\\xeb\\xb3\\xb4\\xec\\x83\\x81\\xeb\\xa5\\x98</obsrvtNm><walobsrvtcode>1007602</walobsrvtcode></item><item><obsrvtNm>\\xec\\x97\\xac\\xec\\xa3\\xbc\\xeb\\xb3\\xb4\\xed\\x95\\x98\\xeb\\xa5\\x98</obsrvtNm><walobsrvtcode>1005688</walobsrvtcode></item></items></body></response>'\n",
            "<?xml version=\"1.0\" encoding=\"UTF-8\" standalone=\"yes\"?><html><body><response><header><resultcode>00</resultcode><resultmsg>NORMAL SERVICE.</resultmsg></header><items><item><obsrvtnm>여주보상류</obsrvtnm><walobsrvtcode>1007602</walobsrvtcode></item><item><obsrvtnm>여주보하류</obsrvtnm><walobsrvtcode>1005688</walobsrvtcode></item></items></response></body></html>\n",
            "b'<?xml version=\"1.0\" encoding=\"UTF-8\" standalone=\"yes\"?><response><header><resultCode>99</resultCode><resultMsg>LIMITED NUMBER OF SERVICE REQUESTS EXCEEDS ERROR.</resultMsg></header></response>'\n",
            "<?xml version=\"1.0\" encoding=\"UTF-8\" standalone=\"yes\"?><html><body><response><header><resultcode>99</resultcode><resultmsg>LIMITED NUMBER OF SERVICE REQUESTS EXCEEDS ERROR.</resultmsg></header></response></body></html>\n",
            "b'<?xml version=\"1.0\" encoding=\"UTF-8\" standalone=\"yes\"?><response><header><resultCode>00</resultCode><resultMsg>NORMAL SERVICE.</resultMsg></header><body><items><item><obsrvtNm>\\xec\\xa7\\x80\\xeb\\x8f\\x99\\xea\\xb5\\x90</obsrvtNm><walobsrvtcode>9000243</walobsrvtcode></item><item><obsrvtNm>\\xed\\x8f\\xac\\xed\\x95\\xad\\xec\\x8b\\x9c(\\xeb\\x85\\xbc\\xea\\xb3\\xa8\\xea\\xb5\\x90)</obsrvtNm><walobsrvtcode>2012631</walobsrvtcode></item></items></body></response>'\n",
            "<?xml version=\"1.0\" encoding=\"UTF-8\" standalone=\"yes\"?><html><body><response><header><resultcode>00</resultcode><resultmsg>NORMAL SERVICE.</resultmsg></header><items><item><obsrvtnm>지동교</obsrvtnm><walobsrvtcode>9000243</walobsrvtcode></item><item><obsrvtnm>포항시(논골교)</obsrvtnm><walobsrvtcode>2012631</walobsrvtcode></item></items></response></body></html>\n",
            "b'<?xml version=\"1.0\" encoding=\"UTF-8\" standalone=\"yes\"?><response><header><resultCode>99</resultCode><resultMsg>LIMITED NUMBER OF SERVICE REQUESTS EXCEEDS ERROR.</resultMsg></header></response>'\n",
            "<?xml version=\"1.0\" encoding=\"UTF-8\" standalone=\"yes\"?><html><body><response><header><resultcode>99</resultcode><resultmsg>LIMITED NUMBER OF SERVICE REQUESTS EXCEEDS ERROR.</resultmsg></header></response></body></html>\n",
            "b'<?xml version=\"1.0\" encoding=\"UTF-8\" standalone=\"yes\"?><response><header><resultCode>00</resultCode><resultMsg>NORMAL SERVICE.</resultMsg></header><body><items><item><obsrvtNm>\\xea\\xb2\\xbd\\xec\\xa3\\xbc\\xec\\x8b\\x9c(\\xeb\\xa7\\xa4\\xea\\xb3\\xa1\\xea\\xb5\\x90)</obsrvtNm><walobsrvtcode>9000262</walobsrvtcode></item><item><obsrvtNm>\\xeb\\xa7\\xa4\\xec\\xa0\\x84\\xea\\xb5\\x90(\\xea\\xb0\\x84\\xec\\x9d\\xb4)</obsrvtNm><walobsrvtcode>9000261</walobsrvtcode></item><item><obsrvtNm>\\xec\\xb2\\xad\\xeb\\x8f\\x84\\xea\\xb5\\xb0(\\xeb\\x8b\\xb9\\xed\\x98\\xb8\\xeb\\xa6\\xac)</obsrvtNm><walobsrvtcode>2021666</walobsrvtcode></item><item><obsrvtNm>\\xec\\xb2\\xad\\xeb\\x8f\\x84\\xea\\xb5\\xb0(\\xec\\x8b\\xa0\\xec\\x9b\\x90\\xea\\xb5\\x90)</obsrvtNm><walobsrvtcode>9000260</walobsrvtcode></item><item><obsrvtNm>\\xec\\xb2\\xad\\xeb\\x8f\\x84\\xea\\xb5\\xb0(\\xec\\x9e\\x84\\xeb\\x8b\\xb9\\xeb\\xa6\\xac)</obsrvtNm><walobsrvtcode>2021671</walobsrvtcode></item></items></body></response>'\n",
            "<?xml version=\"1.0\" encoding=\"UTF-8\" standalone=\"yes\"?><html><body><response><header><resultcode>00</resultcode><resultmsg>NORMAL SERVICE.</resultmsg></header><items><item><obsrvtnm>경주시(매곡교)</obsrvtnm><walobsrvtcode>9000262</walobsrvtcode></item><item><obsrvtnm>매전교(간이)</obsrvtnm><walobsrvtcode>9000261</walobsrvtcode></item><item><obsrvtnm>청도군(당호리)</obsrvtnm><walobsrvtcode>2021666</walobsrvtcode></item><item><obsrvtnm>청도군(신원교)</obsrvtnm><walobsrvtcode>9000260</walobsrvtcode></item><item><obsrvtnm>청도군(임당리)</obsrvtnm><walobsrvtcode>2021671</walobsrvtcode></item></items></response></body></html>\n",
            "b'<?xml version=\"1.0\" encoding=\"UTF-8\" standalone=\"yes\"?><response><header><resultCode>99</resultCode><resultMsg>LIMITED NUMBER OF SERVICE REQUESTS EXCEEDS ERROR.</resultMsg></header></response>'\n",
            "<?xml version=\"1.0\" encoding=\"UTF-8\" standalone=\"yes\"?><html><body><response><header><resultcode>99</resultcode><resultmsg>LIMITED NUMBER OF SERVICE REQUESTS EXCEEDS ERROR.</resultmsg></header></response></body></html>\n",
            "b'<?xml version=\"1.0\" encoding=\"UTF-8\" standalone=\"yes\"?><response><header><resultCode>99</resultCode><resultMsg>LIMITED NUMBER OF SERVICE REQUESTS EXCEEDS ERROR.</resultMsg></header></response>'\n",
            "<?xml version=\"1.0\" encoding=\"UTF-8\" standalone=\"yes\"?><html><body><response><header><resultcode>99</resultcode><resultmsg>LIMITED NUMBER OF SERVICE REQUESTS EXCEEDS ERROR.</resultmsg></header></response></body></html>\n",
            "b'<?xml version=\"1.0\" encoding=\"UTF-8\" standalone=\"yes\"?><response><header><resultCode>00</resultCode><resultMsg>NORMAL SERVICE.</resultMsg></header><body><items><item><obsrvtNm>\\xec\\x95\\x88\\xeb\\x8f\\x99\\xec\\x8b\\x9c(\\xec\\x9e\\x84\\xed\\x95\\x98\\xec\\xa1\\xb0\\xec\\xa0\\x95\\xec\\xa7\\x80\\xeb\\x8c\\x90)</obsrvtNm><walobsrvtcode>2001675</walobsrvtcode></item></items></body></response>'\n",
            "<?xml version=\"1.0\" encoding=\"UTF-8\" standalone=\"yes\"?><html><body><response><header><resultcode>00</resultcode><resultmsg>NORMAL SERVICE.</resultmsg></header><items><item><obsrvtnm>안동시(임하조정지댐)</obsrvtnm><walobsrvtcode>2001675</walobsrvtcode></item></items></response></body></html>\n",
            "b'<?xml version=\"1.0\" encoding=\"UTF-8\" standalone=\"yes\"?><response><header><resultCode>99</resultCode><resultMsg>LIMITED NUMBER OF SERVICE REQUESTS EXCEEDS ERROR.</resultMsg></header></response>'\n",
            "<?xml version=\"1.0\" encoding=\"UTF-8\" standalone=\"yes\"?><html><body><response><header><resultcode>99</resultcode><resultmsg>LIMITED NUMBER OF SERVICE REQUESTS EXCEEDS ERROR.</resultmsg></header></response></body></html>\n",
            "b'<?xml version=\"1.0\" encoding=\"UTF-8\" standalone=\"yes\"?><response><header><resultCode>99</resultCode><resultMsg>LIMITED NUMBER OF SERVICE REQUESTS EXCEEDS ERROR.</resultMsg></header></response>'\n",
            "<?xml version=\"1.0\" encoding=\"UTF-8\" standalone=\"yes\"?><html><body><response><header><resultcode>99</resultcode><resultmsg>LIMITED NUMBER OF SERVICE REQUESTS EXCEEDS ERROR.</resultmsg></header></response></body></html>\n",
            "b'<?xml version=\"1.0\" encoding=\"UTF-8\" standalone=\"yes\"?><response><header><resultCode>99</resultCode><resultMsg>LIMITED NUMBER OF SERVICE REQUESTS EXCEEDS ERROR.</resultMsg></header></response>'\n",
            "<?xml version=\"1.0\" encoding=\"UTF-8\" standalone=\"yes\"?><html><body><response><header><resultcode>99</resultcode><resultmsg>LIMITED NUMBER OF SERVICE REQUESTS EXCEEDS ERROR.</resultmsg></header></response></body></html>\n",
            "b'<?xml version=\"1.0\" encoding=\"UTF-8\" standalone=\"yes\"?><response><header><resultCode>00</resultCode><resultMsg>NORMAL SERVICE.</resultMsg></header><body><items/></body></response>'\n",
            "<?xml version=\"1.0\" encoding=\"UTF-8\" standalone=\"yes\"?><html><body><response><header><resultcode>00</resultcode><resultmsg>NORMAL SERVICE.</resultmsg></header><items></items></response></body></html>\n",
            "b'<?xml version=\"1.0\" encoding=\"UTF-8\" standalone=\"yes\"?><response><header><resultCode>00</resultCode><resultMsg>NORMAL SERVICE.</resultMsg></header><body><items><item><obsrvtNm>\\xec\\xa3\\xbd\\xec\\x82\\xb0\\xeb\\xb3\\xb4\\xec\\x83\\x81\\xeb\\xa5\\x98</obsrvtNm><walobsrvtcode>5004602</walobsrvtcode></item><item><obsrvtNm>\\xec\\xa3\\xbd\\xec\\x82\\xb0\\xeb\\xb3\\xb4\\xed\\x95\\x98\\xeb\\xa5\\x98</obsrvtNm><walobsrvtcode>5004635</walobsrvtcode></item></items></body></response>'\n",
            "<?xml version=\"1.0\" encoding=\"UTF-8\" standalone=\"yes\"?><html><body><response><header><resultcode>00</resultcode><resultmsg>NORMAL SERVICE.</resultmsg></header><items><item><obsrvtnm>죽산보상류</obsrvtnm><walobsrvtcode>5004602</walobsrvtcode></item><item><obsrvtnm>죽산보하류</obsrvtnm><walobsrvtcode>5004635</walobsrvtcode></item></items></response></body></html>\n",
            "b'<?xml version=\"1.0\" encoding=\"UTF-8\" standalone=\"yes\"?><response><header><resultCode>99</resultCode><resultMsg>LIMITED NUMBER OF SERVICE REQUESTS EXCEEDS ERROR.</resultMsg></header></response>'\n",
            "<?xml version=\"1.0\" encoding=\"UTF-8\" standalone=\"yes\"?><html><body><response><header><resultcode>99</resultcode><resultmsg>LIMITED NUMBER OF SERVICE REQUESTS EXCEEDS ERROR.</resultmsg></header></response></body></html>\n",
            "b'<?xml version=\"1.0\" encoding=\"UTF-8\" standalone=\"yes\"?><response><header><resultCode>00</resultCode><resultMsg>NORMAL SERVICE.</resultMsg></header><body><items><item><obsrvtNm>\\xea\\xb0\\x80\\xeb\\x8c\\x80\\xea\\xb5\\x90</obsrvtNm><walobsrvtcode>9000251</walobsrvtcode></item><item><obsrvtNm>\\xeb\\x8b\\xa8\\xec\\x96\\x91\\xea\\xb5\\xb0(\\xec\\x83\\x81\\xec\\xa7\\x84\\xeb\\x8c\\x80\\xea\\xb5\\x90)</obsrvtNm><walobsrvtcode>9000252</walobsrvtcode></item><item><obsrvtNm>\\xeb\\x8b\\xa8\\xec\\x96\\x91\\xea\\xb5\\xb0(\\xec\\x98\\xa4\\xec\\x82\\xac\\xeb\\xa6\\xac)</obsrvtNm><walobsrvtcode>1003630</walobsrvtcode></item><item><obsrvtNm>\\xeb\\x8b\\xa8\\xec\\x96\\x91\\xea\\xb5\\xb0(\\xec\\x9a\\xb0\\xed\\x99\\x94\\xea\\xb5\\x90)</obsrvtNm><walobsrvtcode>9000253</walobsrvtcode></item><item><obsrvtNm>\\xeb\\xac\\xb4\\xec\\x82\\xac\\xea\\xb5\\x90</obsrvtNm><walobsrvtcode>9000182</walobsrvtcode></item><item><obsrvtNm>\\xec\\x98\\x81\\xec\\x9b\\x942</obsrvtNm><walobsrvtcode>1001675</walobsrvtcode></item><item><obsrvtNm>\\xec\\x98\\x81\\xec\\x9b\\x94\\xea\\xb5\\xb0(\\xeb\\xb6\\x81\\xec\\x8c\\x8d\\xeb\\xa6\\xac)</obsrvtNm><walobsrvtcode>1002695</walobsrvtcode></item><item><obsrvtNm>\\xec\\x98\\x81\\xec\\x9b\\x94\\xea\\xb5\\xb0(\\xec\\x82\\xbc\\xec\\x98\\xa5\\xea\\xb5\\x90)</obsrvtNm><walobsrvtcode>1003626</walobsrvtcode></item><item><obsrvtNm>\\xec\\x98\\x81\\xec\\x9b\\x94\\xea\\xb5\\xb0(\\xed\\x8c\\x90\\xec\\x9a\\xb4\\xea\\xb5\\x90)</obsrvtNm><walobsrvtcode>1002655</walobsrvtcode></item><item><obsrvtNm>\\xec\\x9a\\xb0\\xec\\x95\\x88(\\xec\\xb6\\xa9\\xec\\xa3\\xbc\\xeb\\x8c\\x90)</obsrvtNm><walobsrvtcode>8000081</walobsrvtcode></item><item><obsrvtNm>\\xec\\x9b\\x94\\xec\\x95\\x85</obsrvtNm><walobsrvtcode>8000080</walobsrvtcode></item><item><obsrvtNm>\\xec\\xa0\\x9c\\xec\\xb2\\x9c\\xec\\x8b\\x9c(\\xec\\xb2\\xad\\xed\\x92\\x8d\\xea\\xb5\\x90)</obsrvtNm><walobsrvtcode>1003655</walobsrvtcode></item><item><obsrvtNm>\\xec\\xb6\\xa9\\xec\\xa3\\xbc\\xeb\\xb3\\xb4\\xec\\xa1\\xb0\\xec\\x88\\x98\\xec\\x9c\\x84</obsrvtNm><walobsrvtcode>8000119</walobsrvtcode></item><item><obsrvtNm>\\xec\\xb6\\xa9\\xec\\xa3\\xbc\\xec\\x8b\\x9c(\\xeb\\xaa\\x85\\xec\\x84\\x9c\\xea\\xb5\\x90)</obsrvtNm><walobsrvtcode>9000181</walobsrvtcode></item><item><obsrvtNm>\\xec\\xb6\\xa9\\xec\\xa3\\xbc\\xec\\x8b\\x9c(\\xec\\xb6\\xa9\\xec\\xa3\\xbc\\xeb\\x8c\\x90)</obsrvtNm><walobsrvtcode>1003690</walobsrvtcode></item><item><obsrvtNm>\\xec\\xb6\\xa9\\xec\\xa3\\xbc\\xec\\x8b\\x9c(\\xec\\xb6\\xa9\\xec\\xa3\\xbc\\xeb\\x8c\\x90\\xeb\\xb0\\xa9\\xec\\x88\\x98\\xeb\\xa1\\x9c)</obsrvtNm><walobsrvtcode>1003696</walobsrvtcode></item><item><obsrvtNm>\\xec\\xb6\\xa9\\xec\\xa3\\xbc\\xec\\x8b\\x9c(\\xed\\x8c\\x94\\xeb\\xb4\\x89\\xea\\xb5\\x90)</obsrvtNm><walobsrvtcode>9000273</walobsrvtcode></item><item><obsrvtNm>\\xec\\xb6\\xa9\\xec\\xa3\\xbc\\xec\\x8b\\x9c(\\xed\\x96\\xa5\\xec\\x82\\xb0\\xeb\\xa6\\xac)</obsrvtNm><walobsrvtcode>1004690</walobsrvtcode></item></items></body></response>'\n",
            "<?xml version=\"1.0\" encoding=\"UTF-8\" standalone=\"yes\"?><html><body><response><header><resultcode>00</resultcode><resultmsg>NORMAL SERVICE.</resultmsg></header><items><item><obsrvtnm>가대교</obsrvtnm><walobsrvtcode>9000251</walobsrvtcode></item><item><obsrvtnm>단양군(상진대교)</obsrvtnm><walobsrvtcode>9000252</walobsrvtcode></item><item><obsrvtnm>단양군(오사리)</obsrvtnm><walobsrvtcode>1003630</walobsrvtcode></item><item><obsrvtnm>단양군(우화교)</obsrvtnm><walobsrvtcode>9000253</walobsrvtcode></item><item><obsrvtnm>무사교</obsrvtnm><walobsrvtcode>9000182</walobsrvtcode></item><item><obsrvtnm>영월2</obsrvtnm><walobsrvtcode>1001675</walobsrvtcode></item><item><obsrvtnm>영월군(북쌍리)</obsrvtnm><walobsrvtcode>1002695</walobsrvtcode></item><item><obsrvtnm>영월군(삼옥교)</obsrvtnm><walobsrvtcode>1003626</walobsrvtcode></item><item><obsrvtnm>영월군(판운교)</obsrvtnm><walobsrvtcode>1002655</walobsrvtcode></item><item><obsrvtnm>우안(충주댐)</obsrvtnm><walobsrvtcode>8000081</walobsrvtcode></item><item><obsrvtnm>월악</obsrvtnm><walobsrvtcode>8000080</walobsrvtcode></item><item><obsrvtnm>제천시(청풍교)</obsrvtnm><walobsrvtcode>1003655</walobsrvtcode></item><item><obsrvtnm>충주보조수위</obsrvtnm><walobsrvtcode>8000119</walobsrvtcode></item><item><obsrvtnm>충주시(명서교)</obsrvtnm><walobsrvtcode>9000181</walobsrvtcode></item><item><obsrvtnm>충주시(충주댐)</obsrvtnm><walobsrvtcode>1003690</walobsrvtcode></item><item><obsrvtnm>충주시(충주댐방수로)</obsrvtnm><walobsrvtcode>1003696</walobsrvtcode></item><item><obsrvtnm>충주시(팔봉교)</obsrvtnm><walobsrvtcode>9000273</walobsrvtcode></item><item><obsrvtnm>충주시(향산리)</obsrvtnm><walobsrvtcode>1004690</walobsrvtcode></item></items></response></body></html>\n",
            "b'<!DOCTYPE HTML PUBLIC \"-//IETF//DTD HTML 2.0//EN\">\\r\\n<HTML>\\r\\n\\t<HEAD>\\r\\n\\t\\t<TITLE>500 Internal Server Error</TITLE>\\r\\n<!--style> <H1 {font-family:Courier,Tahoma,Arial,sans-serif;color:white;background-color:#525D76;font-size:22px;} H2 {font-family:Courier,Tahoma,Arial,sans-serif;color:white;background-color:#525D76;font-size:16px;} H3 {font-family:Courier,Tahoma,Arial,sans-serif;color:white;background-color:#525D76;font-size:14px;} BODY {font-family:Courier,Tahoma,Arial,sans-serif;color:black;background-color:white;} B {font-family:Courier,Tahoma,Arial,sans-serif;color:white;background-color:#525D76;} P {font-family:Courier,Tahoma,Arial,sans-serif;background:white;color:black;font-size:12px;}A {color : black;}A.name {color : black;}HR {color : #525D76;}></style-->\\r\\n\\t</HEAD>\\r\\n\\t<BODY>\\r\\n\\t\\t<hr align=\"center\" noShade>\\r\\n\\t\\t<br>\\r\\n\\t\\t<TABLE cellSpacing=\"5\" cellPadding=\"5\" width=\"100%\" bgColor=\"#ffffff\" border=\"0\">\\r\\n\\t\\t\\t<TR>\\r\\n\\t\\t\\t\\t<TD bgColor=\"#b2b2b2\">\\r\\n\\t\\t\\t\\t\\t<STRONG><FONT size=\"5\"><FONT face=\"Courier\">&nbsp; </FONT><FONT face=\"Arial\">HTTP Status&nbsp;<FONT color=\"#6600cc\">:&nbsp;500 - 500 Internal Server Error</FONT></FONT></FONT></STRONG>\\r\\n\\t\\t\\t\\t</TD>\\r\\n\\t\\t\\t</TR>\\r\\n\\t\\t</TABLE>\\r\\n\\t\\t<br>\\r\\n\\t\\t<hr align=\"center\" noShade>\\r\\n\\t\\t<br>\\r\\n\\t\\t<TABLE cellSpacing=\"5\" cellPadding=\"5\" width=\"100%\" bgColor=\"#ffffff\" border=\"0\">\\r\\n\\t\\t\\t<TR>\\r\\n\\t\\t\\t\\t<TD vAlign=\"top\" align=\"right\" width=\"140\" bgColor=\"#e0e0e0\">\\r\\n\\t\\t\\t\\t\\t<P align=\"center\"><FONT face=\"Courier\" color=\"#0a246a\" size=\"4\"><STRONG>Description</STRONG></FONT></P>\\r\\n\\t\\t\\t\\t</TD>\\r\\n\\t\\t\\t\\t<TD bgColor=\"#f0e0e0\">\\r\\n\\t\\t\\t\\t\\t<DIV align=\"left\"><PRE><FONT face=Courier size=4>Failed to execute servlet : CXFServlet</FONT></PRE></DIV>\\r\\n\\t\\t\\t\\t</TD>\\r\\n\\t\\t\\t</TR>\\r\\n\\t\\t</TABLE>\\r\\n\\t</BODY>\\r\\n</HTML>'\n",
            "<!DOCTYPE HTML PUBLIC \"-//IETF//DTD HTML 2.0//EN\">\n",
            "<html>\n",
            "<head>\n",
            "<title>500 Internal Server Error</title>\n",
            "<!--style> <H1 {font-family:Courier,Tahoma,Arial,sans-serif;color:white;background-color:#525D76;font-size:22px;} H2 {font-family:Courier,Tahoma,Arial,sans-serif;color:white;background-color:#525D76;font-size:16px;} H3 {font-family:Courier,Tahoma,Arial,sans-serif;color:white;background-color:#525D76;font-size:14px;} BODY {font-family:Courier,Tahoma,Arial,sans-serif;color:black;background-color:white;} B {font-family:Courier,Tahoma,Arial,sans-serif;color:white;background-color:#525D76;} P {font-family:Courier,Tahoma,Arial,sans-serif;background:white;color:black;font-size:12px;}A {color : black;}A.name {color : black;}HR {color : #525D76;}></style-->\n",
            "</head>\n",
            "<body>\n",
            "<hr align=\"center\" noshade=\"\"/>\n",
            "<br/>\n",
            "<table bgcolor=\"#ffffff\" border=\"0\" cellpadding=\"5\" cellspacing=\"5\" width=\"100%\">\n",
            "<tr>\n",
            "<td bgcolor=\"#b2b2b2\">\n",
            "<strong><font size=\"5\"><font face=\"Courier\">  </font><font face=\"Arial\">HTTP Status <font color=\"#6600cc\">: 500 - 500 Internal Server Error</font></font></font></strong>\n",
            "</td>\n",
            "</tr>\n",
            "</table>\n",
            "<br/>\n",
            "<hr align=\"center\" noshade=\"\"/>\n",
            "<br/>\n",
            "<table bgcolor=\"#ffffff\" border=\"0\" cellpadding=\"5\" cellspacing=\"5\" width=\"100%\">\n",
            "<tr>\n",
            "<td align=\"right\" bgcolor=\"#e0e0e0\" valign=\"top\" width=\"140\">\n",
            "<p align=\"center\"><font color=\"#0a246a\" face=\"Courier\" size=\"4\"><strong>Description</strong></font></p>\n",
            "</td>\n",
            "<td bgcolor=\"#f0e0e0\">\n",
            "<div align=\"left\"><pre><font face=\"Courier\" size=\"4\">Failed to execute servlet : CXFServlet</font></pre></div>\n",
            "</td>\n",
            "</tr>\n",
            "</table>\n",
            "</body>\n",
            "</html>\n",
            "b'<?xml version=\"1.0\" encoding=\"UTF-8\" standalone=\"yes\"?><response><header><resultCode>99</resultCode><resultMsg>LIMITED NUMBER OF SERVICE REQUESTS EXCEEDS ERROR.</resultMsg></header></response>'\n",
            "<?xml version=\"1.0\" encoding=\"UTF-8\" standalone=\"yes\"?><html><body><response><header><resultcode>99</resultcode><resultmsg>LIMITED NUMBER OF SERVICE REQUESTS EXCEEDS ERROR.</resultmsg></header></response></body></html>\n",
            "b'<?xml version=\"1.0\" encoding=\"UTF-8\" standalone=\"yes\"?><response><header><resultCode>99</resultCode><resultMsg>LIMITED NUMBER OF SERVICE REQUESTS EXCEEDS ERROR.</resultMsg></header></response>'\n",
            "<?xml version=\"1.0\" encoding=\"UTF-8\" standalone=\"yes\"?><html><body><response><header><resultcode>99</resultcode><resultmsg>LIMITED NUMBER OF SERVICE REQUESTS EXCEEDS ERROR.</resultmsg></header></response></body></html>\n",
            "b'<?xml version=\"1.0\" encoding=\"UTF-8\" standalone=\"yes\"?><response><header><resultCode>99</resultCode><resultMsg>LIMITED NUMBER OF SERVICE REQUESTS EXCEEDS ERROR.</resultMsg></header></response>'\n",
            "<?xml version=\"1.0\" encoding=\"UTF-8\" standalone=\"yes\"?><html><body><response><header><resultcode>99</resultcode><resultmsg>LIMITED NUMBER OF SERVICE REQUESTS EXCEEDS ERROR.</resultmsg></header></response></body></html>\n",
            "b'<?xml version=\"1.0\" encoding=\"UTF-8\" standalone=\"yes\"?><response><header><resultCode>99</resultCode><resultMsg>LIMITED NUMBER OF SERVICE REQUESTS EXCEEDS ERROR.</resultMsg></header></response>'\n",
            "<?xml version=\"1.0\" encoding=\"UTF-8\" standalone=\"yes\"?><html><body><response><header><resultcode>99</resultcode><resultmsg>LIMITED NUMBER OF SERVICE REQUESTS EXCEEDS ERROR.</resultmsg></header></response></body></html>\n",
            "b'<?xml version=\"1.0\" encoding=\"UTF-8\" standalone=\"yes\"?><response><header><resultCode>99</resultCode><resultMsg>LIMITED NUMBER OF SERVICE REQUESTS EXCEEDS ERROR.</resultMsg></header></response>'\n",
            "<?xml version=\"1.0\" encoding=\"UTF-8\" standalone=\"yes\"?><html><body><response><header><resultcode>99</resultcode><resultmsg>LIMITED NUMBER OF SERVICE REQUESTS EXCEEDS ERROR.</resultmsg></header></response></body></html>\n",
            "b'<?xml version=\"1.0\" encoding=\"UTF-8\" standalone=\"yes\"?><response><header><resultCode>99</resultCode><resultMsg>LIMITED NUMBER OF SERVICE REQUESTS EXCEEDS ERROR.</resultMsg></header></response>'\n",
            "<?xml version=\"1.0\" encoding=\"UTF-8\" standalone=\"yes\"?><html><body><response><header><resultcode>99</resultcode><resultmsg>LIMITED NUMBER OF SERVICE REQUESTS EXCEEDS ERROR.</resultmsg></header></response></body></html>\n",
            "b'<?xml version=\"1.0\" encoding=\"UTF-8\" standalone=\"yes\"?><response><header><resultCode>99</resultCode><resultMsg>LIMITED NUMBER OF SERVICE REQUESTS EXCEEDS ERROR.</resultMsg></header></response>'\n",
            "<?xml version=\"1.0\" encoding=\"UTF-8\" standalone=\"yes\"?><html><body><response><header><resultcode>99</resultcode><resultmsg>LIMITED NUMBER OF SERVICE REQUESTS EXCEEDS ERROR.</resultmsg></header></response></body></html>\n",
            "[[], [<item><obsrvtnm>강정고령보상류</obsrvtnm><walobsrvtcode>2011602</walobsrvtcode></item>, <item><obsrvtnm>강정고령보하류</obsrvtnm><walobsrvtcode>2011655</walobsrvtcode></item>], [], [<item><obsrvtnm>공주보상류</obsrvtnm><walobsrvtcode>3012601</walobsrvtcode></item>, <item><obsrvtnm>공주보하류</obsrvtnm><walobsrvtcode>3012621</walobsrvtcode></item>], [<item><obsrvtnm>삼척시(갈밭교)</obsrvtnm><walobsrvtcode>9000266</walobsrvtcode></item>, <item><obsrvtnm>삼척시(광동교)</obsrvtnm><walobsrvtcode>9000264</walobsrvtcode></item>, <item><obsrvtnm>삼척시(번천교)</obsrvtnm><walobsrvtcode>9000268</walobsrvtcode></item>, <item><obsrvtnm>태백시(무사교)</obsrvtnm><walobsrvtcode>9000265</walobsrvtcode></item>], [], [<item><obsrvtnm>거제시(구천교)</obsrvtnm><walobsrvtcode>9000256</walobsrvtcode></item>], [], [], [], [<item><obsrvtnm>구포(부산)</obsrvtnm><walobsrvtcode>8000099</walobsrvtcode></item>, <item><obsrvtnm>낙동강하굿둑우안상류(부산)</obsrvtnm><walobsrvtcode>2022706</walobsrvtcode></item>, <item><obsrvtnm>낙동강하굿둑우안하류(부산)</obsrvtnm><walobsrvtcode>2022710</walobsrvtcode></item>, <item><obsrvtnm>낙동강하굿둑좌안갑문(갑실)</obsrvtnm><walobsrvtcode>2022698</walobsrvtcode></item>, <item><obsrvtnm>낙동강하굿둑좌안갑문(상)</obsrvtnm><walobsrvtcode>2022694</walobsrvtcode></item>, <item><obsrvtnm>낙동강하굿둑좌안갑문(하)</obsrvtnm><walobsrvtcode>2022702</walobsrvtcode></item>, <item><obsrvtnm>낙동강하굿둑증설(내)</obsrvtnm><walobsrvtcode>2022692</walobsrvtcode></item>, <item><obsrvtnm>낙동강하굿둑증설(외)</obsrvtnm><walobsrvtcode>2022693</walobsrvtcode></item>, <item><obsrvtnm>낙동강하굿둑증설갑문(갑실)</obsrvtnm><walobsrvtcode>2022700</walobsrvtcode></item>, <item><obsrvtnm>낙동강하굿둑증설갑문(상)</obsrvtnm><walobsrvtcode>2022696</walobsrvtcode></item>, <item><obsrvtnm>낙동강하굿둑증설갑문(하)</obsrvtnm><walobsrvtcode>2022704</walobsrvtcode></item>, <item><obsrvtnm>부산시(낙동강하구언(내))</obsrvtnm><walobsrvtcode>8000033</walobsrvtcode></item>, <item><obsrvtnm>부산시(낙동강하구언(외))</obsrvtnm><walobsrvtcode>2022690</walobsrvtcode></item>, <item><obsrvtnm>삼랑진(부산)</obsrvtnm><walobsrvtcode>8000100</walobsrvtcode></item>, <item><obsrvtnm>진동(부산)</obsrvtnm><walobsrvtcode>8000101</walobsrvtcode></item>], [<item><obsrvtnm>남강댐</obsrvtnm><walobsrvtcode>2020698</walobsrvtcode></item>, <item><obsrvtnm>사천시(검정리)</obsrvtnm><walobsrvtcode>2018687</walobsrvtcode></item>, <item><obsrvtnm>산청군(경호교)</obsrvtnm><walobsrvtcode>2018645</walobsrvtcode></item>, <item><obsrvtnm>산청군(수산교)</obsrvtnm><walobsrvtcode>2018646</walobsrvtcode></item>, <item><obsrvtnm>산청군(창촌리)</obsrvtnm><walobsrvtcode>8000019</walobsrvtcode></item>, <item><obsrvtnm>산청군(하정리)</obsrvtnm><walobsrvtcode>2018650</walobsrvtcode></item>, <item><obsrvtnm>진주시(남강댐방수로)</obsrvtnm><walobsrvtcode>8000018</walobsrvtcode></item>, <item><obsrvtnm>진주시(내평리)</obsrvtnm><walobsrvtcode>2018690</walobsrvtcode></item>, <item><obsrvtnm>진주시(장대동)</obsrvtnm><walobsrvtcode>2019615</walobsrvtcode></item>, <item><obsrvtnm>진주시(판문동)</obsrvtnm><walobsrvtcode>2018695</walobsrvtcode></item>, <item><obsrvtnm>하동군(대곡리)</obsrvtnm><walobsrvtcode>2018685</walobsrvtcode></item>, <item><obsrvtnm>함양군(금천리)</obsrvtnm><walobsrvtcode>2018608</walobsrvtcode></item>, <item><obsrvtnm>함양군(용평리)</obsrvtnm><walobsrvtcode>2018620</walobsrvtcode></item>, <item><obsrvtnm>함양군(의탄리)</obsrvtnm><walobsrvtcode>2018630</walobsrvtcode></item>, <item><obsrvtnm>함양군(화촌리)</obsrvtnm><walobsrvtcode>2018640</walobsrvtcode></item>, <item><obsrvtnm>합천군(소오리)</obsrvtnm><walobsrvtcode>2018647</walobsrvtcode></item>], [<item><obsrvtnm>동해시(원평교)</obsrvtnm><walobsrvtcode>9000267</walobsrvtcode></item>], [], [], [<item><obsrvtnm>울산시(대암교)</obsrvtnm><walobsrvtcode>9000263</walobsrvtcode></item>], [], [<item><obsrvtnm>대전시(대청조정지댐)</obsrvtnm><walobsrvtcode>3008695</walobsrvtcode></item>], [<item><obsrvtnm>밀양 수위감지</obsrvtnm><walobsrvtcode>9900007</walobsrvtcode></item>, <item><obsrvtnm>밀양시(밀양댐)</obsrvtnm><walobsrvtcode>2021630</walobsrvtcode></item>, <item><obsrvtnm>양산시(대리)</obsrvtnm><walobsrvtcode>2021620</walobsrvtcode></item>], [], [<item><obsrvtnm>대창교</obsrvtnm><walobsrvtcode>8000084</walobsrvtcode></item>, <item><obsrvtnm>보령 수위감지</obsrvtnm><walobsrvtcode>9900004</walobsrvtcode></item>, <item><obsrvtnm>보령시(보령댐)</obsrvtnm><walobsrvtcode>3203110</walobsrvtcode></item>, <item><obsrvtnm>보령시(보령댐방수로)</obsrvtnm><walobsrvtcode>8000083</walobsrvtcode></item>, <item><obsrvtnm>부사방조제 내수위</obsrvtnm><walobsrvtcode>9000258</walobsrvtcode></item>, <item><obsrvtnm>부사방조제 외수위</obsrvtnm><walobsrvtcode>9000259</walobsrvtcode></item>, <item><obsrvtnm>웅천(보령댐)</obsrvtnm><walobsrvtcode>3203638</walobsrvtcode></item>], [], [], [], [], [<item><obsrvtnm>덕치</obsrvtnm><walobsrvtcode>8000122</walobsrvtcode></item>, <item><obsrvtnm>섬진강댐보조수위</obsrvtnm><walobsrvtcode>8000097</walobsrvtcode></item>, <item><obsrvtnm>순창군(운암교)</obsrvtnm><walobsrvtcode>4001664</walobsrvtcode></item>, <item><obsrvtnm>쌍치</obsrvtnm><walobsrvtcode>4001660</walobsrvtcode></item>, <item><obsrvtnm>임실군(섬진강댐)</obsrvtnm><walobsrvtcode>4002695</walobsrvtcode></item>, <item><obsrvtnm>임실군(호암교)</obsrvtnm><walobsrvtcode>4001620</walobsrvtcode></item>, <item><obsrvtnm>임실군(회문리)</obsrvtnm><walobsrvtcode>4002610</walobsrvtcode></item>, <item><obsrvtnm>정읍시(종산리)</obsrvtnm><walobsrvtcode>8000085</walobsrvtcode></item>, <item><obsrvtnm>칠보</obsrvtnm><walobsrvtcode>3302680</walobsrvtcode></item>], [<item><obsrvtnm>세종보상류</obsrvtnm><walobsrvtcode>3010601</walobsrvtcode></item>, <item><obsrvtnm>세종보하류</obsrvtnm><walobsrvtcode>3012607</walobsrvtcode></item>], [], [], [], [], [<item><obsrvtnm>고현</obsrvtnm><walobsrvtcode>9000255</walobsrvtcode></item>, <item><obsrvtnm>도산</obsrvtnm><walobsrvtcode>2001660</walobsrvtcode></item>, <item><obsrvtnm>무계</obsrvtnm><walobsrvtcode>9000194</walobsrvtcode></item>, <item><obsrvtnm>보현</obsrvtnm><walobsrvtcode>9000193</walobsrvtcode></item>, <item><obsrvtnm>봉화군(양삼교)</obsrvtnm><walobsrvtcode>2001667</walobsrvtcode></item>, <item><obsrvtnm>봉화군(임기리)</obsrvtnm><walobsrvtcode>2001630</walobsrvtcode></item>, <item><obsrvtnm>상주시(상우교)</obsrvtnm><walobsrvtcode>9000196</walobsrvtcode></item>, <item><obsrvtnm>안동 수위감지</obsrvtnm><walobsrvtcode>9900009</walobsrvtcode></item>, <item><obsrvtnm>안동댐보조수위</obsrvtnm><walobsrvtcode>8000112</walobsrvtcode></item>, <item><obsrvtnm>안동시(안동대교)</obsrvtnm><walobsrvtcode>2003610</walobsrvtcode></item>, <item><obsrvtnm>안동시(안동댐)</obsrvtnm><walobsrvtcode>2001110</walobsrvtcode></item>, <item><obsrvtnm>안동시(안동댐방수로)</obsrvtnm><walobsrvtcode>2001692</walobsrvtcode></item>, <item><obsrvtnm>포항시(상사4교)</obsrvtnm><walobsrvtcode>9000195</walobsrvtcode></item>], [<item><obsrvtnm>안동시(안동조정지댐)</obsrvtnm><walobsrvtcode>2001695</walobsrvtcode></item>], [<item><obsrvtnm>여주보상류</obsrvtnm><walobsrvtcode>1007602</walobsrvtcode></item>, <item><obsrvtnm>여주보하류</obsrvtnm><walobsrvtcode>1005688</walobsrvtcode></item>], [], [<item><obsrvtnm>지동교</obsrvtnm><walobsrvtcode>9000243</walobsrvtcode></item>, <item><obsrvtnm>포항시(논골교)</obsrvtnm><walobsrvtcode>2012631</walobsrvtcode></item>], [], [<item><obsrvtnm>경주시(매곡교)</obsrvtnm><walobsrvtcode>9000262</walobsrvtcode></item>, <item><obsrvtnm>매전교(간이)</obsrvtnm><walobsrvtcode>9000261</walobsrvtcode></item>, <item><obsrvtnm>청도군(당호리)</obsrvtnm><walobsrvtcode>2021666</walobsrvtcode></item>, <item><obsrvtnm>청도군(신원교)</obsrvtnm><walobsrvtcode>9000260</walobsrvtcode></item>, <item><obsrvtnm>청도군(임당리)</obsrvtnm><walobsrvtcode>2021671</walobsrvtcode></item>], [], [], [<item><obsrvtnm>안동시(임하조정지댐)</obsrvtnm><walobsrvtcode>2001675</walobsrvtcode></item>], [], [], [], [], [<item><obsrvtnm>죽산보상류</obsrvtnm><walobsrvtcode>5004602</walobsrvtcode></item>, <item><obsrvtnm>죽산보하류</obsrvtnm><walobsrvtcode>5004635</walobsrvtcode></item>], [], [<item><obsrvtnm>가대교</obsrvtnm><walobsrvtcode>9000251</walobsrvtcode></item>, <item><obsrvtnm>단양군(상진대교)</obsrvtnm><walobsrvtcode>9000252</walobsrvtcode></item>, <item><obsrvtnm>단양군(오사리)</obsrvtnm><walobsrvtcode>1003630</walobsrvtcode></item>, <item><obsrvtnm>단양군(우화교)</obsrvtnm><walobsrvtcode>9000253</walobsrvtcode></item>, <item><obsrvtnm>무사교</obsrvtnm><walobsrvtcode>9000182</walobsrvtcode></item>, <item><obsrvtnm>영월2</obsrvtnm><walobsrvtcode>1001675</walobsrvtcode></item>, <item><obsrvtnm>영월군(북쌍리)</obsrvtnm><walobsrvtcode>1002695</walobsrvtcode></item>, <item><obsrvtnm>영월군(삼옥교)</obsrvtnm><walobsrvtcode>1003626</walobsrvtcode></item>, <item><obsrvtnm>영월군(판운교)</obsrvtnm><walobsrvtcode>1002655</walobsrvtcode></item>, <item><obsrvtnm>우안(충주댐)</obsrvtnm><walobsrvtcode>8000081</walobsrvtcode></item>, <item><obsrvtnm>월악</obsrvtnm><walobsrvtcode>8000080</walobsrvtcode></item>, <item><obsrvtnm>제천시(청풍교)</obsrvtnm><walobsrvtcode>1003655</walobsrvtcode></item>, <item><obsrvtnm>충주보조수위</obsrvtnm><walobsrvtcode>8000119</walobsrvtcode></item>, <item><obsrvtnm>충주시(명서교)</obsrvtnm><walobsrvtcode>9000181</walobsrvtcode></item>, <item><obsrvtnm>충주시(충주댐)</obsrvtnm><walobsrvtcode>1003690</walobsrvtcode></item>, <item><obsrvtnm>충주시(충주댐방수로)</obsrvtnm><walobsrvtcode>1003696</walobsrvtcode></item>, <item><obsrvtnm>충주시(팔봉교)</obsrvtnm><walobsrvtcode>9000273</walobsrvtcode></item>, <item><obsrvtnm>충주시(향산리)</obsrvtnm><walobsrvtcode>1004690</walobsrvtcode></item>], [], [], [], [], [], [], [], []]\n"
          ]
        }
      ]
    },
    {
      "cell_type": "code",
      "metadata": {
        "colab": {
          "base_uri": "https://localhost:8080/"
        },
        "id": "2jj4Ehm-lFqO",
        "outputId": "56a34311-17b2-4a25-dec4-0886058c3884"
      },
      "source": [
        "print(xmlrows)"
      ],
      "execution_count": 15,
      "outputs": [
        {
          "output_type": "stream",
          "name": "stdout",
          "text": [
            "[[], [<item><obsrvtnm>강정고령보상류</obsrvtnm><walobsrvtcode>2011602</walobsrvtcode></item>, <item><obsrvtnm>강정고령보하류</obsrvtnm><walobsrvtcode>2011655</walobsrvtcode></item>], [], [<item><obsrvtnm>공주보상류</obsrvtnm><walobsrvtcode>3012601</walobsrvtcode></item>, <item><obsrvtnm>공주보하류</obsrvtnm><walobsrvtcode>3012621</walobsrvtcode></item>], [<item><obsrvtnm>삼척시(갈밭교)</obsrvtnm><walobsrvtcode>9000266</walobsrvtcode></item>, <item><obsrvtnm>삼척시(광동교)</obsrvtnm><walobsrvtcode>9000264</walobsrvtcode></item>, <item><obsrvtnm>삼척시(번천교)</obsrvtnm><walobsrvtcode>9000268</walobsrvtcode></item>, <item><obsrvtnm>태백시(무사교)</obsrvtnm><walobsrvtcode>9000265</walobsrvtcode></item>], [], [<item><obsrvtnm>거제시(구천교)</obsrvtnm><walobsrvtcode>9000256</walobsrvtcode></item>], [], [], [], [<item><obsrvtnm>구포(부산)</obsrvtnm><walobsrvtcode>8000099</walobsrvtcode></item>, <item><obsrvtnm>낙동강하굿둑우안상류(부산)</obsrvtnm><walobsrvtcode>2022706</walobsrvtcode></item>, <item><obsrvtnm>낙동강하굿둑우안하류(부산)</obsrvtnm><walobsrvtcode>2022710</walobsrvtcode></item>, <item><obsrvtnm>낙동강하굿둑좌안갑문(갑실)</obsrvtnm><walobsrvtcode>2022698</walobsrvtcode></item>, <item><obsrvtnm>낙동강하굿둑좌안갑문(상)</obsrvtnm><walobsrvtcode>2022694</walobsrvtcode></item>, <item><obsrvtnm>낙동강하굿둑좌안갑문(하)</obsrvtnm><walobsrvtcode>2022702</walobsrvtcode></item>, <item><obsrvtnm>낙동강하굿둑증설(내)</obsrvtnm><walobsrvtcode>2022692</walobsrvtcode></item>, <item><obsrvtnm>낙동강하굿둑증설(외)</obsrvtnm><walobsrvtcode>2022693</walobsrvtcode></item>, <item><obsrvtnm>낙동강하굿둑증설갑문(갑실)</obsrvtnm><walobsrvtcode>2022700</walobsrvtcode></item>, <item><obsrvtnm>낙동강하굿둑증설갑문(상)</obsrvtnm><walobsrvtcode>2022696</walobsrvtcode></item>, <item><obsrvtnm>낙동강하굿둑증설갑문(하)</obsrvtnm><walobsrvtcode>2022704</walobsrvtcode></item>, <item><obsrvtnm>부산시(낙동강하구언(내))</obsrvtnm><walobsrvtcode>8000033</walobsrvtcode></item>, <item><obsrvtnm>부산시(낙동강하구언(외))</obsrvtnm><walobsrvtcode>2022690</walobsrvtcode></item>, <item><obsrvtnm>삼랑진(부산)</obsrvtnm><walobsrvtcode>8000100</walobsrvtcode></item>, <item><obsrvtnm>진동(부산)</obsrvtnm><walobsrvtcode>8000101</walobsrvtcode></item>], [<item><obsrvtnm>남강댐</obsrvtnm><walobsrvtcode>2020698</walobsrvtcode></item>, <item><obsrvtnm>사천시(검정리)</obsrvtnm><walobsrvtcode>2018687</walobsrvtcode></item>, <item><obsrvtnm>산청군(경호교)</obsrvtnm><walobsrvtcode>2018645</walobsrvtcode></item>, <item><obsrvtnm>산청군(수산교)</obsrvtnm><walobsrvtcode>2018646</walobsrvtcode></item>, <item><obsrvtnm>산청군(창촌리)</obsrvtnm><walobsrvtcode>8000019</walobsrvtcode></item>, <item><obsrvtnm>산청군(하정리)</obsrvtnm><walobsrvtcode>2018650</walobsrvtcode></item>, <item><obsrvtnm>진주시(남강댐방수로)</obsrvtnm><walobsrvtcode>8000018</walobsrvtcode></item>, <item><obsrvtnm>진주시(내평리)</obsrvtnm><walobsrvtcode>2018690</walobsrvtcode></item>, <item><obsrvtnm>진주시(장대동)</obsrvtnm><walobsrvtcode>2019615</walobsrvtcode></item>, <item><obsrvtnm>진주시(판문동)</obsrvtnm><walobsrvtcode>2018695</walobsrvtcode></item>, <item><obsrvtnm>하동군(대곡리)</obsrvtnm><walobsrvtcode>2018685</walobsrvtcode></item>, <item><obsrvtnm>함양군(금천리)</obsrvtnm><walobsrvtcode>2018608</walobsrvtcode></item>, <item><obsrvtnm>함양군(용평리)</obsrvtnm><walobsrvtcode>2018620</walobsrvtcode></item>, <item><obsrvtnm>함양군(의탄리)</obsrvtnm><walobsrvtcode>2018630</walobsrvtcode></item>, <item><obsrvtnm>함양군(화촌리)</obsrvtnm><walobsrvtcode>2018640</walobsrvtcode></item>, <item><obsrvtnm>합천군(소오리)</obsrvtnm><walobsrvtcode>2018647</walobsrvtcode></item>], [<item><obsrvtnm>동해시(원평교)</obsrvtnm><walobsrvtcode>9000267</walobsrvtcode></item>], [], [], [<item><obsrvtnm>울산시(대암교)</obsrvtnm><walobsrvtcode>9000263</walobsrvtcode></item>], [], [<item><obsrvtnm>대전시(대청조정지댐)</obsrvtnm><walobsrvtcode>3008695</walobsrvtcode></item>], [<item><obsrvtnm>밀양 수위감지</obsrvtnm><walobsrvtcode>9900007</walobsrvtcode></item>, <item><obsrvtnm>밀양시(밀양댐)</obsrvtnm><walobsrvtcode>2021630</walobsrvtcode></item>, <item><obsrvtnm>양산시(대리)</obsrvtnm><walobsrvtcode>2021620</walobsrvtcode></item>], [], [<item><obsrvtnm>대창교</obsrvtnm><walobsrvtcode>8000084</walobsrvtcode></item>, <item><obsrvtnm>보령 수위감지</obsrvtnm><walobsrvtcode>9900004</walobsrvtcode></item>, <item><obsrvtnm>보령시(보령댐)</obsrvtnm><walobsrvtcode>3203110</walobsrvtcode></item>, <item><obsrvtnm>보령시(보령댐방수로)</obsrvtnm><walobsrvtcode>8000083</walobsrvtcode></item>, <item><obsrvtnm>부사방조제 내수위</obsrvtnm><walobsrvtcode>9000258</walobsrvtcode></item>, <item><obsrvtnm>부사방조제 외수위</obsrvtnm><walobsrvtcode>9000259</walobsrvtcode></item>, <item><obsrvtnm>웅천(보령댐)</obsrvtnm><walobsrvtcode>3203638</walobsrvtcode></item>], [], [], [], [], [<item><obsrvtnm>덕치</obsrvtnm><walobsrvtcode>8000122</walobsrvtcode></item>, <item><obsrvtnm>섬진강댐보조수위</obsrvtnm><walobsrvtcode>8000097</walobsrvtcode></item>, <item><obsrvtnm>순창군(운암교)</obsrvtnm><walobsrvtcode>4001664</walobsrvtcode></item>, <item><obsrvtnm>쌍치</obsrvtnm><walobsrvtcode>4001660</walobsrvtcode></item>, <item><obsrvtnm>임실군(섬진강댐)</obsrvtnm><walobsrvtcode>4002695</walobsrvtcode></item>, <item><obsrvtnm>임실군(호암교)</obsrvtnm><walobsrvtcode>4001620</walobsrvtcode></item>, <item><obsrvtnm>임실군(회문리)</obsrvtnm><walobsrvtcode>4002610</walobsrvtcode></item>, <item><obsrvtnm>정읍시(종산리)</obsrvtnm><walobsrvtcode>8000085</walobsrvtcode></item>, <item><obsrvtnm>칠보</obsrvtnm><walobsrvtcode>3302680</walobsrvtcode></item>], [<item><obsrvtnm>세종보상류</obsrvtnm><walobsrvtcode>3010601</walobsrvtcode></item>, <item><obsrvtnm>세종보하류</obsrvtnm><walobsrvtcode>3012607</walobsrvtcode></item>], [], [], [], [], [<item><obsrvtnm>고현</obsrvtnm><walobsrvtcode>9000255</walobsrvtcode></item>, <item><obsrvtnm>도산</obsrvtnm><walobsrvtcode>2001660</walobsrvtcode></item>, <item><obsrvtnm>무계</obsrvtnm><walobsrvtcode>9000194</walobsrvtcode></item>, <item><obsrvtnm>보현</obsrvtnm><walobsrvtcode>9000193</walobsrvtcode></item>, <item><obsrvtnm>봉화군(양삼교)</obsrvtnm><walobsrvtcode>2001667</walobsrvtcode></item>, <item><obsrvtnm>봉화군(임기리)</obsrvtnm><walobsrvtcode>2001630</walobsrvtcode></item>, <item><obsrvtnm>상주시(상우교)</obsrvtnm><walobsrvtcode>9000196</walobsrvtcode></item>, <item><obsrvtnm>안동 수위감지</obsrvtnm><walobsrvtcode>9900009</walobsrvtcode></item>, <item><obsrvtnm>안동댐보조수위</obsrvtnm><walobsrvtcode>8000112</walobsrvtcode></item>, <item><obsrvtnm>안동시(안동대교)</obsrvtnm><walobsrvtcode>2003610</walobsrvtcode></item>, <item><obsrvtnm>안동시(안동댐)</obsrvtnm><walobsrvtcode>2001110</walobsrvtcode></item>, <item><obsrvtnm>안동시(안동댐방수로)</obsrvtnm><walobsrvtcode>2001692</walobsrvtcode></item>, <item><obsrvtnm>포항시(상사4교)</obsrvtnm><walobsrvtcode>9000195</walobsrvtcode></item>], [<item><obsrvtnm>안동시(안동조정지댐)</obsrvtnm><walobsrvtcode>2001695</walobsrvtcode></item>], [<item><obsrvtnm>여주보상류</obsrvtnm><walobsrvtcode>1007602</walobsrvtcode></item>, <item><obsrvtnm>여주보하류</obsrvtnm><walobsrvtcode>1005688</walobsrvtcode></item>], [], [<item><obsrvtnm>지동교</obsrvtnm><walobsrvtcode>9000243</walobsrvtcode></item>, <item><obsrvtnm>포항시(논골교)</obsrvtnm><walobsrvtcode>2012631</walobsrvtcode></item>], [], [<item><obsrvtnm>경주시(매곡교)</obsrvtnm><walobsrvtcode>9000262</walobsrvtcode></item>, <item><obsrvtnm>매전교(간이)</obsrvtnm><walobsrvtcode>9000261</walobsrvtcode></item>, <item><obsrvtnm>청도군(당호리)</obsrvtnm><walobsrvtcode>2021666</walobsrvtcode></item>, <item><obsrvtnm>청도군(신원교)</obsrvtnm><walobsrvtcode>9000260</walobsrvtcode></item>, <item><obsrvtnm>청도군(임당리)</obsrvtnm><walobsrvtcode>2021671</walobsrvtcode></item>], [], [], [<item><obsrvtnm>안동시(임하조정지댐)</obsrvtnm><walobsrvtcode>2001675</walobsrvtcode></item>], [], [], [], [], [<item><obsrvtnm>죽산보상류</obsrvtnm><walobsrvtcode>5004602</walobsrvtcode></item>, <item><obsrvtnm>죽산보하류</obsrvtnm><walobsrvtcode>5004635</walobsrvtcode></item>], [], [<item><obsrvtnm>가대교</obsrvtnm><walobsrvtcode>9000251</walobsrvtcode></item>, <item><obsrvtnm>단양군(상진대교)</obsrvtnm><walobsrvtcode>9000252</walobsrvtcode></item>, <item><obsrvtnm>단양군(오사리)</obsrvtnm><walobsrvtcode>1003630</walobsrvtcode></item>, <item><obsrvtnm>단양군(우화교)</obsrvtnm><walobsrvtcode>9000253</walobsrvtcode></item>, <item><obsrvtnm>무사교</obsrvtnm><walobsrvtcode>9000182</walobsrvtcode></item>, <item><obsrvtnm>영월2</obsrvtnm><walobsrvtcode>1001675</walobsrvtcode></item>, <item><obsrvtnm>영월군(북쌍리)</obsrvtnm><walobsrvtcode>1002695</walobsrvtcode></item>, <item><obsrvtnm>영월군(삼옥교)</obsrvtnm><walobsrvtcode>1003626</walobsrvtcode></item>, <item><obsrvtnm>영월군(판운교)</obsrvtnm><walobsrvtcode>1002655</walobsrvtcode></item>, <item><obsrvtnm>우안(충주댐)</obsrvtnm><walobsrvtcode>8000081</walobsrvtcode></item>, <item><obsrvtnm>월악</obsrvtnm><walobsrvtcode>8000080</walobsrvtcode></item>, <item><obsrvtnm>제천시(청풍교)</obsrvtnm><walobsrvtcode>1003655</walobsrvtcode></item>, <item><obsrvtnm>충주보조수위</obsrvtnm><walobsrvtcode>8000119</walobsrvtcode></item>, <item><obsrvtnm>충주시(명서교)</obsrvtnm><walobsrvtcode>9000181</walobsrvtcode></item>, <item><obsrvtnm>충주시(충주댐)</obsrvtnm><walobsrvtcode>1003690</walobsrvtcode></item>, <item><obsrvtnm>충주시(충주댐방수로)</obsrvtnm><walobsrvtcode>1003696</walobsrvtcode></item>, <item><obsrvtnm>충주시(팔봉교)</obsrvtnm><walobsrvtcode>9000273</walobsrvtcode></item>, <item><obsrvtnm>충주시(향산리)</obsrvtnm><walobsrvtcode>1004690</walobsrvtcode></item>], [], [], [], [], [], [], [], []]\n"
          ]
        }
      ]
    },
    {
      "cell_type": "code",
      "metadata": {
        "id": "t_wpF0OIodCJ"
      },
      "source": [
        "\n",
        "filePath = '/content/drive/MyDrive/water_resource_csv/xmlrows.xml'\n",
        "\n",
        "\n",
        "with open(filePath, 'wb') as lf:\n",
        "    pickle.dump(xmlrows, lf)\n",
        "\n",
        "\n",
        "with open(filePath, 'rb') as lf:\n",
        "    readList = pickle.load(lf)\n"
      ],
      "execution_count": null,
      "outputs": []
    },
    {
      "cell_type": "code",
      "metadata": {
        "id": "Af6iBH4Yohx4"
      },
      "source": [
        "rowList = []\n",
        "nameList = []\n",
        "columnList = []\n",
        "xmlrowsLen = len(xmlrows)\n",
        "target = 0\n",
        "for i in range(0, xmlrowsLen):\n",
        "    \n",
        "   \n",
        "    if len(xmlrows[i]) == 0:\n",
        "       target = target + 1\n",
        "      \n",
        "    else:\n",
        "        break #반복문 종료\n",
        "columns = xmlrows[target][0].find_all()\n",
        "columnsLen = len(columns)\n",
        "for i in range(0, columnsLen):\n",
        "    nameList.append(columns[i].name)\n",
        "nameList = [\"Damcode\"] + nameList"
      ],
      "execution_count": 13,
      "outputs": []
    },
    {
      "cell_type": "code",
      "metadata": {
        "colab": {
          "base_uri": "https://localhost:8080/"
        },
        "id": "FNJR1gazojWa",
        "outputId": "ac731c30-93d6-49c5-c1ac-558a90bc262a"
      },
      "source": [
        "xmlrows[0]"
      ],
      "execution_count": 17,
      "outputs": [
        {
          "output_type": "execute_result",
          "data": {
            "text/plain": [
              "[]"
            ]
          },
          "metadata": {},
          "execution_count": 17
        }
      ]
    },
    {
      "cell_type": "code",
      "metadata": {
        "id": "UgDNOm7Kolrh"
      },
      "source": [
        "total = []\n",
        "damcodeLen = len(damcode)\n",
        "\n",
        "\n",
        "def el_code(a): \n",
        "    columnList = []\n",
        "    eachrows = xmlrows[a]\n",
        "    eachrowslen = len(eachrows)\n",
        "    for i in range(0, eachrowslen):\n",
        "        columns = eachrows[i].find_all()\n",
        "        columnsLen = len(columns)\n",
        "        for j in range(0, columnsLen):\n",
        "            eachColumn = columns[j].text \n",
        "            columnList.append(eachColumn)\n",
        "        columnList = [damcode[a]] + columnList\n",
        "        rowList.append(columnList)\n",
        "        columnList = []\n",
        "    return rowList\n",
        "\n",
        "\n",
        "\n",
        "for a in range(0, damcodeLen):\n",
        "    rowList=el_code(a)\n",
        "    total.append(rowList)\n",
        "\n",
        "result = pd.DataFrame(total[0], columns=nameList)"
      ],
      "execution_count": 18,
      "outputs": []
    },
    {
      "cell_type": "code",
      "metadata": {
        "id": "ZOru4vFCong5"
      },
      "source": [
        "result.to_csv(\"/content/drive/MyDrive/water_resource_csv/walcode_1.csv\",encoding=\"utf-8-sig\")"
      ],
      "execution_count": 19,
      "outputs": []
    },
    {
      "cell_type": "code",
      "metadata": {
        "id": "YYq1xtrwopMh"
      },
      "source": [
        "result"
      ],
      "execution_count": null,
      "outputs": []
    }
  ]
}