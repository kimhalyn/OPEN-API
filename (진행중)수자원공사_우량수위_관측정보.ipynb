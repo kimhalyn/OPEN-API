{
  "nbformat": 4,
  "nbformat_minor": 0,
  "metadata": {
    "colab": {
      "name": "(진행중)수자원공사_우량수위 관측정보.ipynb",
      "provenance": [],
      "collapsed_sections": [],
      "mount_file_id": "1IMDUFBEXBxkyMs_DIdgBIFy8WIpPDsLJ",
      "authorship_tag": "ABX9TyNpp0cOlQ4IMCFRfJCa3f41",
      "include_colab_link": true
    },
    "kernelspec": {
      "name": "python3",
      "display_name": "Python 3"
    },
    "language_info": {
      "name": "python"
    }
  },
  "cells": [
    {
      "cell_type": "markdown",
      "metadata": {
        "id": "view-in-github",
        "colab_type": "text"
      },
      "source": [
        "<a href=\"https://colab.research.google.com/github/kimhalyn/OPEN-API/blob/main/(%EC%A7%84%ED%96%89%EC%A4%91)%EC%88%98%EC%9E%90%EC%9B%90%EA%B3%B5%EC%82%AC_%EC%9A%B0%EB%9F%89%EC%88%98%EC%9C%84_%EA%B4%80%EC%B8%A1%EC%A0%95%EB%B3%B4.ipynb\" target=\"_parent\"><img src=\"https://colab.research.google.com/assets/colab-badge.svg\" alt=\"Open In Colab\"/></a>"
      ]
    },
    {
      "cell_type": "code",
      "metadata": {
        "id": "esyWpT86ehd2"
      },
      "source": [
        "# 예시코드\n",
        "#!pip install xmltodict\n",
        "\n",
        "# URL인코딩 -> 웹페이지 주소창이나 이런곳에서 바로 사용할 경우, 웹브라우저가 자동으로 디코딩작업\n",
        "# 프로그램으로 호출 시 디코딩을 자동으로 해주지 않으므로 디코딩 값을 넣어야 함\n",
        "from urllib.request import urlopen\n",
        "from urllib.parse import urlencode, unquote, quote_plus\n",
        "from bs4 import BeautifulSoup\n",
        "import pandas as pd\n",
        "import requests, xmltodict, json\n",
        "\n",
        "url = 'http://opendata.kwater.or.kr/openapi-data/service/pubd/dam/excllncobsrvt/mntrf/list'\n",
        "key = 'jkd4PnVjssNP+g2WeRzs8lgc4SOelLsncvuMr81/9R9nSYKkiQAcb2xt8GTYgTJSQGQ4+htuRuyIXSwRXr210w==' #디코딩 사용\n",
        "Params = '?' + urlencode({ quote_plus('ServiceKey') : key ,\n",
        "                                quote_plus('sdate') : '2014-12-01',\n",
        "                                quote_plus('stime') : '08',\n",
        "                                quote_plus('edate') : '2014-12-01',\n",
        "                                quote_plus('etime') : '15',\n",
        "                                quote_plus('excll') : '1012432',\n",
        "                                quote_plus('tms') : '10',\n",
        "                                quote_plus('numOfRows') : '10',\n",
        "                                quote_plus('pageNo') : '1' })\n",
        "\n",
        "# get 방식으로 api 호출\n",
        "res = requests.get(url + Params)\n",
        "\n",
        "# json으로 변환\n",
        "dict_res = xmltodict.parse(res.content)\n",
        "json_str = json.dumps(dict_res['response']['body']['items'], ensure_ascii=False)\n",
        "json_obj = json.loads(json_str)\n",
        "\n",
        "# csv파일로 저장\n",
        "df = pd.DataFrame(json_obj['item'])\n",
        "df.to_csv('001.csv' ,encoding='utf-8-sig')"
      ],
      "execution_count": null,
      "outputs": []
    },
    {
      "cell_type": "markdown",
      "metadata": {
        "id": "CHXkwMV9hIuk"
      },
      "source": [
        "[수자원_관측정보 조회]"
      ]
    },
    {
      "cell_type": "code",
      "metadata": {
        "id": "Bn0RUXLXel3Y"
      },
      "source": [
        "# 라이브러리\n",
        "#!pip install xmltodict\n",
        "from urllib.request import urlopen\n",
        "from urllib.parse import urlencode, unquote, quote_plus\n",
        "from bs4 import BeautifulSoup\n",
        "import pandas as pd\n",
        "import requests, xmltodict, json"
      ],
      "execution_count": null,
      "outputs": []
    },
    {
      "cell_type": "code",
      "metadata": {
        "id": "ZS0ATjj8elDh"
      },
      "source": [
        "# 댐코드 조회(56개 댐코드 존재)\n",
        "url = 'http://opendata.kwater.or.kr/openapi-data/service/pubd/dam/damCode/list'\n",
        "key = 'jkd4PnVjssNP+g2WeRzs8lgc4SOelLsncvuMr81/9R9nSYKkiQAcb2xt8GTYgTJSQGQ4+htuRuyIXSwRXr210w==' #디코딩 사용\n",
        "\n",
        "Params = '?' + urlencode({ quote_plus('ServiceKey') : key})\n",
        "\n",
        "# get 방식으로 api 호출\n",
        "res = requests.get(url + Params)\n",
        "\n",
        "# json으로 변환\n",
        "dict_res = xmltodict.parse(res.content)\n",
        "json_str = json.dumps(dict_res['response']['body']['items'], ensure_ascii=False)\n",
        "json_obj = json.loads(json_str)\n",
        "\n",
        "# csv파일로 저장\n",
        "df = pd.DataFrame(json_obj['item'])\n",
        "df.to_csv('damCode.csv' ,encoding='utf-8-sig')"
      ],
      "execution_count": null,
      "outputs": []
    },
    {
      "cell_type": "code",
      "metadata": {
        "id": "534GPkuQfn1Q"
      },
      "source": [
        "# 우량 관측소 코드 조회(원본)\n",
        "url = 'http://opendata.kwater.or.kr/openapi-data/service/pubd/dam/excllncobsrvt/excll/list'\n",
        "key = 'jkd4PnVjssNP+g2WeRzs8lgc4SOelLsncvuMr81/9R9nSYKkiQAcb2xt8GTYgTJSQGQ4+htuRuyIXSwRXr210w==' #디코딩 사용\n",
        "Params = '?' + urlencode({ quote_plus('ServiceKey') : key ,\n",
        "                                quote_plus('damcode') : '' }) # 댐코드 입력\n",
        "\n",
        "# get 방식으로 api 호출\n",
        "res = requests.get(url + Params)\n",
        "\n",
        "# json으로 변환\n",
        "dict_res = xmltodict.parse(res.content)\n",
        "json_str = json.dumps(dict_res['response']['body']['items'], ensure_ascii=False)\n",
        "json_obj = json.loads(json_str)\n",
        "\n",
        "# csv파일로 저장\n",
        "df = pd.DataFrame(json_obj['item'])\n",
        "df.to_csv('excllCode.csv' ,encoding='utf-8-sig')"
      ],
      "execution_count": null,
      "outputs": []
    },
    {
      "cell_type": "code",
      "metadata": {
        "id": "0JEFpqtUhYVG"
      },
      "source": [
        "#csv 파일 열기 및 출력\n",
        "import csv\n",
        "file = open(\"./drive/MyDrive/수자원공사_csv/damCode.csv\")\n",
        "damCode = csv.reader(file)\n",
        "\n",
        "for code in damCode:\n",
        "  print(code) #code[1:3]\n",
        "file.close()"
      ],
      "execution_count": null,
      "outputs": []
    },
    {
      "cell_type": "code",
      "metadata": {
        "colab": {
          "base_uri": "https://localhost:8080/",
          "height": 136
        },
        "id": "HsO21WZHkzgd",
        "outputId": "0aee9616-a284-4e76-af6a-a6d6e9258bfb"
      },
      "source": [
        "# 판다스로 csv 파일 불러오기\n",
        "data = pd.read_csv('./drive/MyDrive/수자원공사_csv/damCode.csv')\n",
        "\n",
        "# 필요한 칼럼만 추출\n",
        "data = data.loc[:, 'damcode']\n",
        "print(data)\n",
        "\n",
        "# 반복문 적용\n",
        "for i in data:\n",
        "  print(data[i])\n",
        "  \n",
        "return(data[i])"
      ],
      "execution_count": 59,
      "outputs": [
        {
          "output_type": "error",
          "ename": "IndentationError",
          "evalue": "ignored",
          "traceback": [
            "\u001b[0;36m  File \u001b[0;32m\"<ipython-input-59-5c6b1a00c6dd>\"\u001b[0;36m, line \u001b[0;32m10\u001b[0m\n\u001b[0;31m    return(data[i])\u001b[0m\n\u001b[0m         ^\u001b[0m\n\u001b[0;31mIndentationError\u001b[0m\u001b[0;31m:\u001b[0m expected an indented block\n"
          ]
        }
      ]
    },
    {
      "cell_type": "code",
      "metadata": {
        "colab": {
          "base_uri": "https://localhost:8080/",
          "height": 226
        },
        "id": "vD7kBczag5mn",
        "outputId": "9b42c230-a778-4d89-8024-8b629cd5bda0"
      },
      "source": [
        "# 우량 관측소 코드 조회(반복문 추가 작업중)\n",
        "url = 'http://opendata.kwater.or.kr/openapi-data/service/pubd/dam/excllncobsrvt/excll/list'\n",
        "key = 'jkd4PnVjssNP+g2WeRzs8lgc4SOelLsncvuMr81/9R9nSYKkiQAcb2xt8GTYgTJSQGQ4+htuRuyIXSwRXr210w==' #디코딩 사용\n",
        "\n",
        "# 댐코드 불러오기\n",
        "damcode = pd.read_csv('./drive/MyDrive/수자원공사_csv/damCode.csv')\n",
        "\n",
        "for code in damcode:\n",
        "  print(code)\n",
        "\n",
        "\n",
        "Params = '?' + urlencode({ quote_plus('ServiceKey') : key ,\n",
        "                                quote_plus('damcode') : 'damcode' }) # 댐코드 입력\n",
        "\n",
        "# get 방식으로 api 호출\n",
        "res = requests.get(url + Params)\n",
        "\n",
        "# json으로 변환\n",
        "dict_res = xmltodict.parse(res.content)\n",
        "json_str = json.dumps(dict_res['response']['body']['items'], ensure_ascii=False)\n",
        "json_obj = json.loads(json_str)\n",
        "\n",
        "# csv파일로 저장\n",
        "df = pd.DataFrame(json_obj['item'])\n",
        "df.to_csv('excllCode.csv' ,encoding='utf-8-sig')"
      ],
      "execution_count": 40,
      "outputs": [
        {
          "output_type": "error",
          "ename": "TypeError",
          "evalue": "ignored",
          "traceback": [
            "\u001b[0;31m---------------------------------------------------------------------------\u001b[0m",
            "\u001b[0;31mTypeError\u001b[0m                                 Traceback (most recent call last)",
            "\u001b[0;32m<ipython-input-40-4e76161ebaec>\u001b[0m in \u001b[0;36m<module>\u001b[0;34m()\u001b[0m\n\u001b[1;32m     18\u001b[0m \u001b[0;34m\u001b[0m\u001b[0m\n\u001b[1;32m     19\u001b[0m \u001b[0;31m# csv파일로 저장\u001b[0m\u001b[0;34m\u001b[0m\u001b[0;34m\u001b[0m\u001b[0;34m\u001b[0m\u001b[0m\n\u001b[0;32m---> 20\u001b[0;31m \u001b[0mdf\u001b[0m \u001b[0;34m=\u001b[0m \u001b[0mpd\u001b[0m\u001b[0;34m.\u001b[0m\u001b[0mDataFrame\u001b[0m\u001b[0;34m(\u001b[0m\u001b[0mjson_obj\u001b[0m\u001b[0;34m[\u001b[0m\u001b[0;34m'item'\u001b[0m\u001b[0;34m]\u001b[0m\u001b[0;34m)\u001b[0m\u001b[0;34m\u001b[0m\u001b[0;34m\u001b[0m\u001b[0m\n\u001b[0m\u001b[1;32m     21\u001b[0m \u001b[0mdf\u001b[0m\u001b[0;34m.\u001b[0m\u001b[0mto_csv\u001b[0m\u001b[0;34m(\u001b[0m\u001b[0;34m'excllCode.csv'\u001b[0m \u001b[0;34m,\u001b[0m\u001b[0mencoding\u001b[0m\u001b[0;34m=\u001b[0m\u001b[0;34m'utf-8-sig'\u001b[0m\u001b[0;34m)\u001b[0m\u001b[0;34m\u001b[0m\u001b[0;34m\u001b[0m\u001b[0m\n",
            "\u001b[0;31mTypeError\u001b[0m: 'NoneType' object is not subscriptable"
          ]
        }
      ]
    },
    {
      "cell_type": "code",
      "metadata": {
        "id": "05EzUBKEfqAw"
      },
      "source": [
        "# 수위 관측소 코드 조회\n",
        "url = 'http://opendata.kwater.or.kr/openapi-data/service/pubd/dam/excllncobsrvt/wal/list'\n",
        "key = 'jkd4PnVjssNP+g2WeRzs8lgc4SOelLsncvuMr81/9R9nSYKkiQAcb2xt8GTYgTJSQGQ4+htuRuyIXSwRXr210w==' #디코딩 사용\n",
        "Params = '?' + urlencode({ quote_plus('ServiceKey') : key ,\n",
        "                                quote_plus('damcode') : '' }) # 댐코드 입력\n",
        "\n",
        "# get 방식으로 api 호출\n",
        "res = requests.get(url + Params)\n",
        "\n",
        "# json으로 변환\n",
        "dict_res = xmltodict.parse(res.content)\n",
        "json_str = json.dumps(dict_res['response']['body']['items'], ensure_ascii=False)\n",
        "json_obj = json.loads(json_str)\n",
        "\n",
        "# csv파일로 저장\n",
        "df = pd.DataFrame(json_obj['item'])\n",
        "df.to_csv('walCode.csv' ,encoding='utf-8-sig')"
      ],
      "execution_count": null,
      "outputs": []
    },
    {
      "cell_type": "code",
      "metadata": {
        "id": "sm_CV5-qfuaa"
      },
      "source": [
        "# (1)우량 분강우량 조회_1(10분 단위)\n",
        "url = 'http://opendata.kwater.or.kr/openapi-data/service/pubd/dam/excllncobsrvt/mntrf/list'\n",
        "key = 'jkd4PnVjssNP+g2WeRzs8lgc4SOelLsncvuMr81/9R9nSYKkiQAcb2xt8GTYgTJSQGQ4+htuRuyIXSwRXr210w==' #디코딩 사용\n",
        "Params = '?' + urlencode({ quote_plus('ServiceKey') : key ,\n",
        "                                quote_plus('sdate') : '2014-12-01',\n",
        "                                quote_plus('stime') : '08',\n",
        "                                quote_plus('edate') : '2014-12-01',\n",
        "                                quote_plus('etime') : '15',\n",
        "                                quote_plus('excll') : '1012432',\n",
        "                                quote_plus('tms') : '10',\n",
        "                                quote_plus('numOfRows') : '10',\n",
        "                                quote_plus('pageNo') : '1' })\n",
        "\n",
        "# get 방식으로 api 호출\n",
        "res = requests.get(url + Params)\n",
        "\n",
        "# json으로 변환\n",
        "dict_res = xmltodict.parse(res.content)\n",
        "json_str = json.dumps(dict_res['response']['body']['items'], ensure_ascii=False)\n",
        "json_obj = json.loads(json_str)\n",
        "\n",
        "# csv파일로 저장\n",
        "df = pd.DataFrame(json_obj['item'])\n",
        "df.to_csv('mntrf_10.csv' ,encoding='utf-8-sig')"
      ],
      "execution_count": null,
      "outputs": []
    },
    {
      "cell_type": "code",
      "metadata": {
        "id": "bV7v2WyYf6-M"
      },
      "source": [
        "# (2)우량 분강우량 조회_2(30분 단위)\n",
        "url = 'http://opendata.kwater.or.kr/openapi-data/service/pubd/dam/excllncobsrvt/mntrf/list'\n",
        "key = 'jkd4PnVjssNP+g2WeRzs8lgc4SOelLsncvuMr81/9R9nSYKkiQAcb2xt8GTYgTJSQGQ4+htuRuyIXSwRXr210w==' #디코딩 사용\n",
        "Params = '?' + urlencode({ quote_plus('ServiceKey') : key ,\n",
        "                                quote_plus('sdate') : '2014-12-01',\n",
        "                                quote_plus('stime') : '08',\n",
        "                                quote_plus('edate') : '2014-12-01',\n",
        "                                quote_plus('etime') : '15',\n",
        "                                quote_plus('excll') : '1012432',\n",
        "                                quote_plus('tms') : '30',\n",
        "                                quote_plus('numOfRows') : '10',\n",
        "                                quote_plus('pageNo') : '1' })\n",
        "\n",
        "# get 방식으로 api 호출\n",
        "res = requests.get(url + Params)\n",
        "\n",
        "# json으로 변환\n",
        "dict_res = xmltodict.parse(res.content)\n",
        "json_str = json.dumps(dict_res['response']['body']['items'], ensure_ascii=False)\n",
        "json_obj = json.loads(json_str)\n",
        "\n",
        "# csv파일로 저장\n",
        "df = pd.DataFrame(json_obj['item'])\n",
        "df.to_csv('mntrf_30.csv' ,encoding='utf-8-sig')"
      ],
      "execution_count": null,
      "outputs": []
    },
    {
      "cell_type": "code",
      "metadata": {
        "id": "w2aRydLUf6w0"
      },
      "source": [
        "# (3)우량 시강우량 조회\n",
        "url = 'http://opendata.kwater.or.kr/openapi-data/service/pubd/dam/excllncobsrvt/hourrf/list'\n",
        "key = 'jkd4PnVjssNP+g2WeRzs8lgc4SOelLsncvuMr81/9R9nSYKkiQAcb2xt8GTYgTJSQGQ4+htuRuyIXSwRXr210w==' #디코딩 사용\n",
        "Params = '?' + urlencode({ quote_plus('ServiceKey') : key ,\n",
        "                                quote_plus('sdate') : '2014-12-01',\n",
        "                                quote_plus('stime') : '08',\n",
        "                                quote_plus('edate') : '2014-12-01',\n",
        "                                quote_plus('etime') : '15',\n",
        "                                quote_plus('damcode') : '15',\n",
        "                                quote_plus('excll') : '1012432',\n",
        "                                quote_plus('numOfRows') : '10',\n",
        "                                quote_plus('pageNo') : '1' })\n",
        "\n",
        "# get 방식으로 api 호출\n",
        "res = requests.get(url + Params)\n",
        "\n",
        "# json으로 변환\n",
        "dict_res = xmltodict.parse(res.content)\n",
        "json_str = json.dumps(dict_res['response']['body']['items'], ensure_ascii=False)\n",
        "json_obj = json.loads(json_str)\n",
        "\n",
        "# csv파일로 저장\n",
        "df = pd.DataFrame(json_obj['item'])\n",
        "df.to_csv('hourrf.csv' ,encoding='utf-8-sig')"
      ],
      "execution_count": null,
      "outputs": []
    },
    {
      "cell_type": "code",
      "metadata": {
        "id": "eB39hsILgobn"
      },
      "source": [
        "## (4)수위 분강우량 조회_1(10분 단위)\n",
        "url = 'http://opendata.kwater.or.kr/openapi-data/service/pubd/dam/excllncobsrvt/mntwal/list'\n",
        "key = 'jkd4PnVjssNP+g2WeRzs8lgc4SOelLsncvuMr81/9R9nSYKkiQAcb2xt8GTYgTJSQGQ4+htuRuyIXSwRXr210w==' #디코딩 사용\n",
        "Params = '?' + urlencode({ quote_plus('ServiceKey') : key ,\n",
        "                                quote_plus('sdate') : '2014-12-01',\n",
        "                                quote_plus('stime') : '08',\n",
        "                                quote_plus('edate') : '2014-12-01',\n",
        "                                quote_plus('etime') : '15',\n",
        "                                quote_plus('damcode') : '15',\n",
        "                                quote_plus('wal') : '1012432',\n",
        "                                quote_plus('tms') : '10',\n",
        "                                quote_plus('numOfRows') : '10',\n",
        "                                quote_plus('pageNo') : '1' })\n",
        "\n",
        "# get 방식으로 api 호출\n",
        "res = requests.get(url + Params)\n",
        "\n",
        "# json으로 변환\n",
        "dict_res = xmltodict.parse(res.content)\n",
        "json_str = json.dumps(dict_res['response']['body']['items'], ensure_ascii=False)\n",
        "json_obj = json.loads(json_str)\n",
        "\n",
        "# csv파일로 저장\n",
        "df = pd.DataFrame(json_obj['item'])\n",
        "df.to_csv('mntwal_10.csv' ,encoding='utf-8-sig')"
      ],
      "execution_count": null,
      "outputs": []
    },
    {
      "cell_type": "code",
      "metadata": {
        "id": "YghGBj-pgoyI"
      },
      "source": [
        "## (5)수위 분강우량 조회_2(30분 단위)\n",
        "url = 'http://opendata.kwater.or.kr/openapi-data/service/pubd/dam/excllncobsrvt/mntwal/list'\n",
        "key = 'jkd4PnVjssNP+g2WeRzs8lgc4SOelLsncvuMr81/9R9nSYKkiQAcb2xt8GTYgTJSQGQ4+htuRuyIXSwRXr210w==' #디코딩 사용\n",
        "Params = '?' + urlencode({ quote_plus('ServiceKey') : key ,\n",
        "                                quote_plus('sdate') : '2014-12-01',\n",
        "                                quote_plus('stime') : '08',\n",
        "                                quote_plus('edate') : '2014-12-01',\n",
        "                                quote_plus('etime') : '15',\n",
        "                                quote_plus('damcode') : '15',\n",
        "                                quote_plus('wal') : '1012432',\n",
        "                                quote_plus('tms') : '10',\n",
        "                                quote_plus('numOfRows') : '10',\n",
        "                                quote_plus('pageNo') : '1' })\n",
        "\n",
        "# get 방식으로 api 호출\n",
        "res = requests.get(url + Params)\n",
        "\n",
        "# json으로 변환\n",
        "dict_res = xmltodict.parse(res.content)\n",
        "json_str = json.dumps(dict_res['response']['body']['items'], ensure_ascii=False)\n",
        "json_obj = json.loads(json_str)\n",
        "\n",
        "# csv파일로 저장\n",
        "df = pd.DataFrame(json_obj['item'])\n",
        "df.to_csv('mntwal_30.csv' ,encoding='utf-8-sig')"
      ],
      "execution_count": null,
      "outputs": []
    },
    {
      "cell_type": "code",
      "metadata": {
        "id": "QScAr9iCgpBc"
      },
      "source": [
        "## (6)수위 시강우량 조회\n",
        "url = 'http://opendata.kwater.or.kr/openapi-data/service/pubd/dam/excllncobsrvt/hourwal/list'\n",
        "key = 'jkd4PnVjssNP+g2WeRzs8lgc4SOelLsncvuMr81/9R9nSYKkiQAcb2xt8GTYgTJSQGQ4+htuRuyIXSwRXr210w==' #디코딩 사용\n",
        "Params = '?' + urlencode({ quote_plus('ServiceKey') : key ,\n",
        "                                quote_plus('sdate') : '2014-12-01',\n",
        "                                quote_plus('stime') : '08',\n",
        "                                quote_plus('edate') : '2014-12-01',\n",
        "                                quote_plus('etime') : '15',\n",
        "                                quote_plus('damcode') : '15',\n",
        "                                quote_plus('wal') : '1012432',\n",
        "                                quote_plus('numOfRows') : '10',\n",
        "                                quote_plus('pageNo') : '1' })\n",
        "\n",
        "# get 방식으로 api 호출\n",
        "res = requests.get(url + Params)\n",
        "\n",
        "# json으로 변환\n",
        "dict_res = xmltodict.parse(res.content)\n",
        "json_str = json.dumps(dict_res['response']['body']['items'], ensure_ascii=False)\n",
        "json_obj = json.loads(json_str)\n",
        "\n",
        "# csv파일로 저장\n",
        "df = pd.DataFrame(json_obj['item'])\n",
        "df.to_csv('hourwal.csv' ,encoding='utf-8-sig')"
      ],
      "execution_count": null,
      "outputs": []
    },
    {
      "cell_type": "code",
      "metadata": {
        "id": "92rQBVjigpM7"
      },
      "source": [
        ""
      ],
      "execution_count": null,
      "outputs": []
    }
  ]
}